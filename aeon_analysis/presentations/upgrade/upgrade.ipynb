{
 "cells": [
  {
   "cell_type": "code",
   "execution_count": 46,
   "id": "72b6beaa",
   "metadata": {
    "slideshow": {
     "slide_type": "skip"
    }
   },
   "outputs": [],
   "source": [
    "# Imports\n",
    "from IPython.display import Image\n",
    "from IPython.display import Video\n",
    "from pathlib import Path\n",
    "\n",
    "import pandas as pd\n",
    "import numpy as np\n",
    "import matplotlib.pyplot as plt\n",
    "import seaborn as sns\n",
    "\n",
    "import aeon.io.api as api\n",
    "from aeon.schema.dataset import exp02, exp01\n",
    "from aeon.schema import octagon\n",
    "from aeon.analysis.utils import visits, distancetravelled"
   ]
  },
  {
   "cell_type": "markdown",
   "id": "97fecea1-f4cf-4623-8f6f-5b014d25698a",
   "metadata": {
    "rise": {
     "backimage": "backimage_title.png"
    },
    "slideshow": {
     "custom_css": ".myclass p { color: blue; }",
     "slide_type": "slide"
    },
    "tags": []
   },
   "source": [
    "<span style=\"color:#0775b5\">\n",
    "\n",
    "# PROJECT AEON\n",
    "\n",
    "### A Ph. D Upgrade Presentation by Jai Bhagat\n",
    "\n",
    "</span>"
   ]
  },
  {
   "cell_type": "markdown",
   "id": "e1b5c443",
   "metadata": {
    "slideshow": {
     "slide_type": "notes"
    }
   },
   "source": [
    "The beginning of my presentation"
   ]
  },
  {
   "cell_type": "markdown",
   "id": "b2f7a531",
   "metadata": {
    "cell_style": "center",
    "slideshow": {
     "slide_type": "slide"
    }
   },
   "source": [
    "<center><img src=\"Outline.png\" width=\"1000\"/></center>"
   ]
  },
  {
   "cell_type": "markdown",
   "id": "7dae508d",
   "metadata": {
    "cell_style": "center",
    "slideshow": {
     "slide_type": "subslide"
    }
   },
   "source": [
    "<span style=\"color:#075aeb\">\n",
    "\n",
    "### Introduction\n",
    "\n",
    "</span>\n",
    "\n",
    "- Why and how should we study naturalistic, ethological behavior?\n",
    "\n",
    "<span style=\"color:#d16004\">\n",
    "\n",
    "### Methods\n",
    "\n",
    "</span>\n",
    "\n",
    "- Engineering solutions for studying this behavior.\n",
    "\n",
    "<span style=\"color:#82817a\">\n",
    "\n",
    "### Neuroscience\n",
    "\n",
    "</span>\n",
    "\n",
    "- Preliminary data from long-term single-animal, and short-term multi-animal recordings.\n",
    "\n",
    "<span style=\"color:#f0b002\">\n",
    "    \n",
    "### Future Directions\n",
    "\n",
    "</span>\n",
    "\n",
    "- Enhancing the platform and answering specific Neuroscience questions."
   ]
  },
  {
   "cell_type": "code",
   "execution_count": null,
   "id": "2ff7afb1",
   "metadata": {
    "slideshow": {
     "slide_type": "skip"
    }
   },
   "outputs": [],
   "source": []
  },
  {
   "cell_type": "markdown",
   "id": "b2540d8d",
   "metadata": {
    "cell_style": "center",
    "slideshow": {
     "slide_type": "slide"
    }
   },
   "source": [
    "<img src=\"Introduction.png\" width=\"1000\"/>"
   ]
  },
  {
   "cell_type": "markdown",
   "id": "e24ec2de",
   "metadata": {
    "cell_style": "center",
    "slideshow": {
     "slide_type": "subslide"
    }
   },
   "source": [
    "### Introduction\n",
    "  - Constraints of the classical systems neuroscience approach in studying naturalistic, ecological behavior.\n",
    "  - Aeon: an alternative model.\n",
    "  - Challenges faced in long-term, continuous recordings.\n",
    "  "
   ]
  },
  {
   "cell_type": "code",
   "execution_count": null,
   "id": "748199b3",
   "metadata": {
    "slideshow": {
     "slide_type": "skip"
    }
   },
   "outputs": [],
   "source": []
  },
  {
   "cell_type": "markdown",
   "id": "ba34388b",
   "metadata": {
    "cell_style": "split",
    "slideshow": {
     "slide_type": "slide"
    }
   },
   "source": [
    "<img src=\"ethological_behavior.png\" width=\"700\"/>"
   ]
  },
  {
   "cell_type": "markdown",
   "id": "7880e601",
   "metadata": {
    "cell_style": "split",
    "slideshow": {
     "slide_type": "fragment"
    }
   },
   "source": [
    "**Classical Systems Neuroscience**\n",
    "\n",
    "**(Trial-based Experiments)**\n",
    "<br>\n",
    "| | _Pros_ | _Cons_ |\n",
    "|-|--------|--------|\n",
    "| | Narrow-focused, controlled conditions can target a specific animal behavior. | These conditions are often unnatural and by definition cannot capture most of an animal's behavioral repertoire. |\n",
    "| | Trial repetition within and across animals increases statistical power of results. | Trial-based structure limits unsupervised methods that can find more latent and/or novel results. |\n",
    "| | Standardization of trial-based tasks can be crucial for reproducibility. | Standardizing these tasks is not always trivial, and even just the training of animals can often take weeks or months.\n",
    "|\n",
    "| | Short-term experimental designs can lead to more precise temporal study of specific neural circuits. | These designs may not adequately capture the dynamics of neural processes that unfold over longer timescales. |"
   ]
  },
  {
   "cell_type": "markdown",
   "id": "ce948969",
   "metadata": {
    "slideshow": {
     "slide_type": "notes"
    }
   },
   "source": [
    "Suppose you are a systems neuroscientist interested studying naturalistic, ecological behavior. In particular, suppose you are interested in social behaviour and continual learning, in the context of foraging. "
   ]
  },
  {
   "cell_type": "markdown",
   "id": "10608f7a",
   "metadata": {
    "cell_style": "center",
    "slideshow": {
     "slide_type": "slide"
    }
   },
   "source": [
    "**Aeon: An experimental paradigm for running long-term, continuous recordings**\n",
    "\n",
    "**of animals in naturalistic environments**\n",
    "\n",
    "Development Lifecycle: \n",
    "1) Broadly define research question(s) of interest\n",
    "2) Build general-purpose hardware and software tools to help answer these questions\n",
    "3) Iteratively refine and narrow focus as necessary\n"
   ]
  },
  {
   "cell_type": "markdown",
   "id": "4810a8ec",
   "metadata": {
    "slideshow": {
     "slide_type": "subslide"
    }
   },
   "source": [
    "<span style=\"color:#0651c9\">\n",
    "\n",
    "## Scientific Requirements\n",
    "\n",
    "</span>\n",
    "\n",
    "<img src=\"scientific_requirements.png\" width=\"800\"/>"
   ]
  },
  {
   "cell_type": "markdown",
   "id": "bf2428f6",
   "metadata": {
    "slideshow": {
     "slide_type": "subslide"
    }
   },
   "source": [
    "<span style=\"color:#0651c9\">\n",
    "\n",
    "## Technical Requirements\n",
    "\n",
    "</span>\n",
    "\n",
    "<img src=\"technical_requirements.png\" width=\"800\"/>"
   ]
  },
  {
   "cell_type": "markdown",
   "id": "77e116dc",
   "metadata": {
    "slideshow": {
     "slide_type": "subslide"
    }
   },
   "source": [
    "Main Challenges:\n",
    "1) Creating a Naturalistic Environment\n",
    "2) Stability of Experiment Control and Data Acquisition\n",
    "3) Animal Welfare\n",
    "4) Data Management\n",
    "5) Data Visualization and Analysis"
   ]
  },
  {
   "cell_type": "markdown",
   "id": "99fa9dec",
   "metadata": {
    "slideshow": {
     "slide_type": "subslide"
    }
   },
   "source": [
    "TODO Add obligatory AutoGPT video for here :)"
   ]
  },
  {
   "cell_type": "markdown",
   "id": "b958418d",
   "metadata": {
    "cell_style": "center",
    "slideshow": {
     "slide_type": "subslide"
    }
   },
   "source": [
    "## Aeon Subgroup Structure\n",
    "\n",
    "<img src=\"subgroup_structure.png\" width=\"1200\"/>"
   ]
  },
  {
   "cell_type": "markdown",
   "id": "883e7a3d",
   "metadata": {
    "slideshow": {
     "slide_type": "notes"
    }
   },
   "source": [
    "- map challenges to subgroups"
   ]
  },
  {
   "cell_type": "markdown",
   "id": "e02312bb",
   "metadata": {
    "slideshow": {
     "slide_type": "subslide"
    }
   },
   "source": [
    "TODO Add Acknowledgements slide here"
   ]
  },
  {
   "cell_type": "markdown",
   "id": "11396b62",
   "metadata": {
    "cell_style": "center",
    "slideshow": {
     "slide_type": "slide"
    }
   },
   "source": [
    "<img src=\"Methods.png\" width=\"1000\"/>"
   ]
  },
  {
   "cell_type": "markdown",
   "id": "6458c472",
   "metadata": {
    "cell_style": "center",
    "slideshow": {
     "slide_type": "subslide"
    }
   },
   "source": [
    "### Methods for Solving Challenges in Continuous, Long-term Experiments\n",
    "- Challenge 1: Creating a Modular, Naturalistic Environment\n",
    "- Challenge 2: Stability of Experiment Control and Data Acquisition\n",
    "- Challenge 3: Animal Welfare\n",
    "- Challenge 4: Data Management\n",
    "- Challenge 5: Data Visualization and Analysis "
   ]
  },
  {
   "cell_type": "code",
   "execution_count": null,
   "id": "8e22c8bc",
   "metadata": {
    "slideshow": {
     "slide_type": "skip"
    }
   },
   "outputs": [],
   "source": []
  },
  {
   "cell_type": "markdown",
   "id": "c04368ba",
   "metadata": {
    "slideshow": {
     "slide_type": "slide"
    }
   },
   "source": [
    "## Challenge 1: Creating a Modular, Naturalistic Environment\n"
   ]
  },
  {
   "cell_type": "markdown",
   "id": "860f6f03",
   "metadata": {
    "slideshow": {
     "slide_type": "subslide"
    }
   },
   "source": [
    "### Arenas\n",
    "\n",
    "- Comprised of modular, hexagonal patches\n",
    "- ~2.6 $m^2$ (180 cm diameter) \n",
    "- 37 (19 fully accessible) patches, each ~1150 $cm^2$\n",
    "- Matte acrylic flooring and semi-transparent red acrylic walls\n",
    "- Up to 6 nests enclosing the arena provide ad lib access to water and homecage materials"
   ]
  },
  {
   "cell_type": "markdown",
   "id": "e3949035",
   "metadata": {
    "cell_style": "split",
    "slideshow": {
     "slide_type": "subslide"
    }
   },
   "source": [
    "\n",
    "<img src=\"arena_modular.png\" width=\"500\"/>"
   ]
  },
  {
   "cell_type": "markdown",
   "id": "3e00392b",
   "metadata": {
    "cell_style": "split",
    "slideshow": {
     "slide_type": "fragment"
    }
   },
   "source": [
    "<img src=\"arena_whole.png\" width=\"500\"/>"
   ]
  },
  {
   "cell_type": "markdown",
   "id": "37ba3020",
   "metadata": {
    "cell_style": "center",
    "slideshow": {
     "slide_type": "fragment"
    }
   },
   "source": [
    "<center><img src=\"arena_b2.png\" width=\"500\" align=\"center\"/></center>\n",
    " "
   ]
  },
  {
   "cell_type": "markdown",
   "id": "20ac0ec5",
   "metadata": {
    "slideshow": {
     "slide_type": "notes"
    }
   },
   "source": []
  },
  {
   "cell_type": "markdown",
   "id": "5712664b",
   "metadata": {
    "slideshow": {
     "slide_type": "subslide"
    }
   },
   "source": [
    "### Patches\n",
    "- Contain a wheel and underground feeder\n",
    "- A magnet and magnetic encoder are used to measure wheel distance via changing magnetic field strength\n",
    "- Feeders contain a hopper filled with 20 $ug$ pellets \n",
    "- Feeders are controlled via a Raspberry Pi Pico serving as a HARP device, running micropython\n",
    "- Power specs: 12V?, ?A"
   ]
  },
  {
   "cell_type": "markdown",
   "id": "9f809f31",
   "metadata": {
    "cell_style": "split",
    "slideshow": {
     "slide_type": "subslide"
    }
   },
   "source": [
    "<img src=\"feeder_cartoon.png\" width=\"500\"/>"
   ]
  },
  {
   "cell_type": "markdown",
   "id": "b3f73b39",
   "metadata": {
    "cell_style": "split"
   },
   "source": [
    "<img src=\"pellet_delivery.gif\" width=\"600\"/>"
   ]
  },
  {
   "cell_type": "markdown",
   "id": "b8abe09c",
   "metadata": {
    "slideshow": {
     "slide_type": "notes"
    }
   },
   "source": []
  },
  {
   "cell_type": "markdown",
   "id": "ced3d753",
   "metadata": {
    "slideshow": {
     "slide_type": "subslide"
    }
   },
   "source": [
    "### Lighting\n",
    "- Specs of IR LEDs\n",
    "- Fully controllable room lights for simulating day/night light cycle\n",
    "- TODO: add pictures of lighting and video of light control"
   ]
  },
  {
   "cell_type": "markdown",
   "id": "80708c19",
   "metadata": {
    "slideshow": {
     "slide_type": "notes"
    }
   },
   "source": [
    "- Add pictures of lights\n",
    "- Add video of light control"
   ]
  },
  {
   "cell_type": "markdown",
   "id": "bfdabce1",
   "metadata": {
    "cell_style": "center",
    "slideshow": {
     "slide_type": "slide"
    }
   },
   "source": [
    "## Challenge 2: Stability of Experiment Control and Data Acquisition\n"
   ]
  },
  {
   "cell_type": "markdown",
   "id": "9a26b48a",
   "metadata": {
    "cell_style": "split",
    "slideshow": {
     "slide_type": "subslide"
    }
   },
   "source": [
    "- Current Arena Acquisition Devices\n",
    "    - 9 USB Blackfly S 3 Cameras (1.6 MP up to 220 FPS)\n",
    "    - 2 USB Dodotronic Ultramic UM250K Ultrasonic Microphones\n",
    "    - 3 USB Harp Expander Output Boards\n",
    "        - For recording patch data\n",
    "    - 6 USB ID-20LA 125 kHz USB RFID Readers"
   ]
  },
  {
   "cell_type": "markdown",
   "id": "68c7d666",
   "metadata": {
    "cell_style": "split"
   },
   "source": [
    "<img src=\"devices.png\" width=\"800\"/>"
   ]
  },
  {
   "cell_type": "markdown",
   "id": "77e3c1ca",
   "metadata": {
    "slideshow": {
     "slide_type": "subslide"
    }
   },
   "source": [
    "### TODO wiring diagram for B2"
   ]
  },
  {
   "cell_type": "markdown",
   "id": "854ce1fd",
   "metadata": {
    "slideshow": {
     "slide_type": "subslide"
    }
   },
   "source": [
    "### TODO Experiment Control\n",
    "\n",
    "- A focus on modularity and reusability for both hardware and software implementations: creating plug-and-play, open-source tools\n",
    "- Bonsai: Advantageous of asynchronous, reactive framework over typical state-machine, procedural frameworks\n",
    "- Design to limiting dependency blocking\n",
    "    - Limit the total number of additional physical and virtual changes necessary for any given device change\n",
    "- Device QC\n",
    "- Show Bonsai workflow snippets?\n",
    "- Discuss aeon.acquisition package?"
   ]
  },
  {
   "cell_type": "markdown",
   "id": "2fbfa4e5",
   "metadata": {
    "slideshow": {
     "slide_type": "subslide"
    }
   },
   "source": [
    "### Solving time-alignment with Harp + Bonsai\n",
    "\n",
    "<img src=\"harp.png\" width=\"800\"/>"
   ]
  },
  {
   "cell_type": "markdown",
   "id": "2e2abd9f",
   "metadata": {
    "slideshow": {
     "slide_type": "notes"
    }
   },
   "source": [
    "- Mention Harp heartbeat\n",
    "- Deviation between devices < 100 us"
   ]
  },
  {
   "cell_type": "markdown",
   "id": "7be3ed3f",
   "metadata": {
    "slideshow": {
     "slide_type": "slide"
    }
   },
   "source": [
    "## Challenge 3: Animal Welfare"
   ]
  },
  {
   "cell_type": "markdown",
   "id": "aee6b6ca",
   "metadata": {
    "slideshow": {
     "slide_type": "subslide"
    }
   },
   "source": [
    "### Alerts System\n",
    "\n",
    "- Alert notifications sent via webhooks through Microsoft Teams\n",
    "    - Animal alerts: Activity, Weight, _Online Behaviour Classification (e.g. Fighting)_ \n",
    "    - System alerts: \n",
    "        - Hardware device issues (e.g. dropped frames, non-responsive feeders) \n",
    "        - Software issues (e.g. abnormal system usage, storage capacity, lost synchronization)"
   ]
  },
  {
   "cell_type": "markdown",
   "id": "7dfddf08",
   "metadata": {
    "slideshow": {
     "slide_type": "subslide"
    }
   },
   "source": [
    "### Video Tracking\n",
    "\n",
    "- Online multianimal tracking via SLEAP in Bonsai\n",
    "- Continuous multianimal tracking pipeline\n",
    "    - TODO show schematic: Pose centroid via SLEAP in Bonsai -> Processed data into DB -> Manual curation of labels -> Retrain SLEAP network -> Automatic upload of new retrained SLEAP network in Bonsai"
   ]
  },
  {
   "cell_type": "code",
   "execution_count": 1,
   "id": "195ce769",
   "metadata": {
    "slideshow": {
     "slide_type": "fragment"
    }
   },
   "outputs": [
    {
     "data": {
      "text/html": [
       "<iframe width=\"800\" height=\"600\" src=\"https://www.youtube.com/embed/UoBI0gtFRVA?start=100\" title=\"YouTube video player\" frameborder=\"0\" allow=\"accelerometer; autoplay; clipboard-write; encrypted-media; gyroscope; picture-in-picture; web-share\" allowfullscreen></iframe>\n"
      ],
      "text/plain": [
       "<IPython.core.display.HTML object>"
      ]
     },
     "metadata": {},
     "output_type": "display_data"
    }
   ],
   "source": [
    "%%HTML\n",
    "<iframe width=\"800\" height=\"600\" src=\"https://www.youtube.com/embed/UoBI0gtFRVA?start=100\" title=\"YouTube video player\" frameborder=\"0\" allow=\"accelerometer; autoplay; clipboard-write; encrypted-media; gyroscope; picture-in-picture; web-share\" allowfullscreen></iframe>"
   ]
  },
  {
   "cell_type": "markdown",
   "id": "8986346e",
   "metadata": {
    "slideshow": {
     "slide_type": "subslide"
    }
   },
   "source": [
    "### Weight Tracking\n",
    "\n",
    "- Scale embedded in nest reliably tracks weight over weeks\n",
    "- TODO show code to generate figure for weight fluctuation over weeks with pellet deliveries + ethogram"
   ]
  },
  {
   "cell_type": "markdown",
   "id": "7c6c6d7e",
   "metadata": {
    "slideshow": {
     "slide_type": "slide"
    }
   },
   "source": [
    "## Challenge 4: Data Management"
   ]
  },
  {
   "cell_type": "markdown",
   "id": "317a133c",
   "metadata": {
    "slideshow": {
     "slide_type": "subslide"
    }
   },
   "source": [
    "<img src=\"say_big_data.jpg\" width=\"700\"/>"
   ]
  },
  {
   "cell_type": "markdown",
   "id": "911823ac",
   "metadata": {
    "slideshow": {
     "slide_type": "subslide"
    }
   },
   "source": [
    "### How much data?"
   ]
  },
  {
   "cell_type": "markdown",
   "id": "e86c5ba0",
   "metadata": {
    "slideshow": {
     "slide_type": "fragment"
    }
   },
   "source": [
    "- Given our current devices: ~700 gb / 24 hours\n",
    "- With continuous recording from 4 ephys probs: ~7 TB / 24 hours\n",
    "    - (Though we may be able to get >2x lossless compression provided by the MTSCOMP library)"
   ]
  },
  {
   "cell_type": "markdown",
   "id": "6ccce94e",
   "metadata": {
    "slideshow": {
     "slide_type": "subslide"
    }
   },
   "source": [
    "### Aeon Data Management Plan"
   ]
  },
  {
   "cell_type": "markdown",
   "id": "95b59631",
   "metadata": {
    "slideshow": {
     "slide_type": "subslide"
    }
   },
   "source": [
    "### Aeon Data Pipelines\n",
    "\n",
    "<img src=\"updated_aeon_pipelines.png\" width=\"1000\"/>"
   ]
  },
  {
   "cell_type": "markdown",
   "id": "0d6028c0",
   "metadata": {
    "slideshow": {
     "slide_type": "subslide"
    }
   },
   "source": [
    "### Ceph Data Storage"
   ]
  },
  {
   "cell_type": "markdown",
   "id": "d251afb5",
   "metadata": {},
   "source": [
    "<img src=\"data_storage.png\" width=\"800\"/>"
   ]
  },
  {
   "cell_type": "markdown",
   "id": "705a0a88",
   "metadata": {
    "slideshow": {
     "slide_type": "subslide"
    }
   },
   "source": [
    "### MySQL Relational Database "
   ]
  },
  {
   "cell_type": "code",
   "execution_count": 3,
   "id": "d0f91d2f-9cd2-4320-99eb-7af8af3fa924",
   "metadata": {
    "slideshow": {
     "slide_type": "subslide"
    }
   },
   "outputs": [
    {
     "name": "stderr",
     "output_type": "stream",
     "text": [
      "[2023-04-14 10:09:55,609][INFO]: Connecting jbhagat@aeon-db2:3306\n",
      "[2023-04-14 10:09:55,650][INFO]: Connected jbhagat@aeon-db2:3306\n"
     ]
    }
   ],
   "source": [
    "import datajoint as dj\n",
    "dj.config['database.host'] = 'aeon-db2'\n",
    "dj.config['display.limit'] = 5  # rows per displayed table\n",
    "dj.conn()\n",
    "from aeon.dj_pipeline.analysis.in_arena import *\n",
    "from aeon.dj_pipeline.acquisition import WeightMeasurement, ExperimentLog, ExperimentWeightScale, Chunk, Experiment, _device_schema_mapping\n",
    "from aeon.dj_pipeline.report import *\n",
    "from aeon.io import api as io_api\n",
    "from aeon.dj_pipeline.utils.plotting import *"
   ]
  },
  {
   "cell_type": "code",
   "execution_count": 4,
   "id": "5dfe3362",
   "metadata": {
    "slideshow": {
     "slide_type": "subslide"
    }
   },
   "outputs": [
    {
     "data": {
      "image/svg+xml": [
       "<svg xmlns=\"http://www.w3.org/2000/svg\" xmlns:xlink=\"http://www.w3.org/1999/xlink\" width=\"5099pt\" height=\"327pt\" viewBox=\"0.00 0.00 5099.00 327.00\">\n",
       "<g id=\"graph0\" class=\"graph\" transform=\"scale(1 1) rotate(0) translate(4 323)\">\n",
       "<polygon fill=\"white\" stroke=\"none\" points=\"-4,4 -4,-323 5095,-323 5095,4 -4,4\"/>\n",
       "<!-- `aeon_analysis`.`__session_time_distribution` -->\n",
       "<g id=\"node1\" class=\"node\">\n",
       "<title>`aeon_analysis`.`__session_time_distribution`</title>\n",
       "<ellipse fill=\"#ff0000\" fill-opacity=\"0.125490\" stroke=\"#ff0000\" stroke-opacity=\"0.125490\" cx=\"1063\" cy=\"-88.5\" rx=\"13\" ry=\"13\"/>\n",
       "<text text-anchor=\"middle\" x=\"1063\" y=\"-85.4\" font-family=\"arial\" font-size=\"12.00\" fill=\"#7f0000\" fill-opacity=\"0.627451\">`aeon_analysis`.`__session_time_distribution`</text>\n",
       "</g>\n",
       "<!-- `aeon_analysis`.`__session_time_distribution__food_patch` -->\n",
       "<g id=\"node10\" class=\"node\">\n",
       "<title>`aeon_analysis`.`__session_time_distribution__food_patch`</title>\n",
       "<polygon fill=\"none\" stroke=\"none\" points=\"725.5,-27 452.5,-27 452.5,-8 725.5,-8 725.5,-27\"/>\n",
       "<text text-anchor=\"middle\" x=\"589\" y=\"-15\" font-family=\"arial\" font-size=\"10.00\">`aeon_analysis`.`__session_time_distribution__food_patch`</text>\n",
       "</g>\n",
       "<!-- `aeon_analysis`.`__session_time_distribution`&#45;&gt;`aeon_analysis`.`__session_time_distribution__food_patch` -->\n",
       "<g id=\"edge1\" class=\"edge\">\n",
       "<title>`aeon_analysis`.`__session_time_distribution`-&gt;`aeon_analysis`.`__session_time_distribution__food_patch`</title>\n",
       "<path fill=\"none\" stroke=\"#000000\" stroke-width=\"0.75\" stroke-opacity=\"0.250980\" d=\"M1050.32,-85.65C993.2,-77.34 757.72,-43.06 647.02,-26.95\"/>\n",
       "</g>\n",
       "<!-- `aeon_analysis`.`__session_summary` -->\n",
       "<g id=\"node2\" class=\"node\">\n",
       "<title>`aeon_analysis`.`__session_summary`</title>\n",
       "<ellipse fill=\"#ff0000\" fill-opacity=\"0.125490\" stroke=\"#ff0000\" stroke-opacity=\"0.125490\" cx=\"2047\" cy=\"-88.5\" rx=\"13\" ry=\"13\"/>\n",
       "<text text-anchor=\"middle\" x=\"2047\" y=\"-85.4\" font-family=\"arial\" font-size=\"12.00\" fill=\"#7f0000\" fill-opacity=\"0.627451\">`aeon_analysis`.`__session_summary`</text>\n",
       "</g>\n",
       "<!-- `aeon_analysis`.`__session_summary__food_patch` -->\n",
       "<g id=\"node11\" class=\"node\">\n",
       "<title>`aeon_analysis`.`__session_summary__food_patch`</title>\n",
       "<polygon fill=\"none\" stroke=\"none\" points=\"2187,-27 1945,-27 1945,-8 2187,-8 2187,-27\"/>\n",
       "<text text-anchor=\"middle\" x=\"2066\" y=\"-15\" font-family=\"arial\" font-size=\"10.00\">`aeon_analysis`.`__session_summary__food_patch`</text>\n",
       "</g>\n",
       "<!-- `aeon_analysis`.`__session_summary`&#45;&gt;`aeon_analysis`.`__session_summary__food_patch` -->\n",
       "<g id=\"edge2\" class=\"edge\">\n",
       "<title>`aeon_analysis`.`__session_summary`-&gt;`aeon_analysis`.`__session_summary__food_patch`</title>\n",
       "<path fill=\"none\" stroke=\"#000000\" stroke-width=\"0.75\" stroke-opacity=\"0.250980\" d=\"M2050.14,-76.11C2053.97,-62.17 2060.37,-38.94 2063.75,-26.66\"/>\n",
       "</g>\n",
       "<!-- `aeon_tracking`.`__subject_distance__food_patch` -->\n",
       "<g id=\"node3\" class=\"node\">\n",
       "<title>`aeon_tracking`.`__subject_distance__food_patch`</title>\n",
       "<polygon fill=\"none\" stroke=\"none\" points=\"1191.5,-27 956.5,-27 956.5,-8 1191.5,-8 1191.5,-27\"/>\n",
       "<text text-anchor=\"middle\" x=\"1074\" y=\"-15\" font-family=\"arial\" font-size=\"10.00\">`aeon_tracking`.`__subject_distance__food_patch`</text>\n",
       "</g>\n",
       "<!-- `aeon_analysis`.`__session_reward_rate__food_patch` -->\n",
       "<g id=\"node4\" class=\"node\">\n",
       "<title>`aeon_analysis`.`__session_reward_rate__food_patch`</title>\n",
       "<polygon fill=\"none\" stroke=\"none\" points=\"1926.5,-27 1673.5,-27 1673.5,-8 1926.5,-8 1926.5,-27\"/>\n",
       "<text text-anchor=\"middle\" x=\"1800\" y=\"-15\" font-family=\"arial\" font-size=\"10.00\">`aeon_analysis`.`__session_reward_rate__food_patch`</text>\n",
       "</g>\n",
       "<!-- `aeon_analysis`.`__session_reward_rate` -->\n",
       "<g id=\"node5\" class=\"node\">\n",
       "<title>`aeon_analysis`.`__session_reward_rate`</title>\n",
       "<ellipse fill=\"#ff0000\" fill-opacity=\"0.125490\" stroke=\"#ff0000\" stroke-opacity=\"0.125490\" cx=\"1798\" cy=\"-88.5\" rx=\"13\" ry=\"13\"/>\n",
       "<text text-anchor=\"middle\" x=\"1798\" y=\"-85.4\" font-family=\"arial\" font-size=\"12.00\" fill=\"#7f0000\" fill-opacity=\"0.627451\">`aeon_analysis`.`__session_reward_rate`</text>\n",
       "</g>\n",
       "<!-- `aeon_analysis`.`__session_reward_rate`&#45;&gt;`aeon_analysis`.`__session_reward_rate__food_patch` -->\n",
       "<g id=\"edge3\" class=\"edge\">\n",
       "<title>`aeon_analysis`.`__session_reward_rate`-&gt;`aeon_analysis`.`__session_reward_rate__food_patch`</title>\n",
       "<path fill=\"none\" stroke=\"#000000\" stroke-width=\"0.75\" stroke-opacity=\"0.250980\" d=\"M1798.34,-75.8C1798.74,-61.95 1799.4,-39.25 1799.75,-26.99\"/>\n",
       "</g>\n",
       "<!-- `aeon_acquisition`.`__time_slice` -->\n",
       "<g id=\"node6\" class=\"node\">\n",
       "<title>`aeon_acquisition`.`__time_slice`</title>\n",
       "<ellipse fill=\"#ff0000\" fill-opacity=\"0.125490\" stroke=\"#ff0000\" stroke-opacity=\"0.125490\" cx=\"2438\" cy=\"-88.5\" rx=\"13\" ry=\"13\"/>\n",
       "<text text-anchor=\"start\" x=\"2349\" y=\"-86.4\" font-family=\"arial\" text-decoration=\"underline\" font-size=\"12.00\" fill=\"#7f0000\" fill-opacity=\"0.627451\">`aeon_acquisition`.`__time_slice`</text>\n",
       "</g>\n",
       "<!-- `aeon_acquisition`.`_subject_annotation` -->\n",
       "<g id=\"node7\" class=\"node\">\n",
       "<title>`aeon_acquisition`.`_subject_annotation`</title>\n",
       "<ellipse fill=\"#00007f\" fill-opacity=\"0.250980\" stroke=\"#00007f\" stroke-opacity=\"0.250980\" cx=\"3253\" cy=\"-88.5\" rx=\"146\" ry=\"17.5\"/>\n",
       "<text text-anchor=\"middle\" x=\"3253\" y=\"-85.4\" font-family=\"arial\" font-size=\"12.00\" fill=\"#00007f\" fill-opacity=\"0.627451\">`aeon_acquisition`.`_subject_annotation`</text>\n",
       "</g>\n",
       "<!-- `aeon_acquisition`.`_subject_annotation__annotation` -->\n",
       "<g id=\"node8\" class=\"node\">\n",
       "<title>`aeon_acquisition`.`_subject_annotation__annotation`</title>\n",
       "<polygon fill=\"none\" stroke=\"none\" points=\"3626.5,-27 3379.5,-27 3379.5,-8 3626.5,-8 3626.5,-27\"/>\n",
       "<text text-anchor=\"start\" x=\"3387.5\" y=\"-16\" font-family=\"arial\" text-decoration=\"underline\" font-size=\"10.00\">`aeon_acquisition`.`_subject_annotation__annotation`</text>\n",
       "</g>\n",
       "<!-- `aeon_acquisition`.`_subject_annotation`&#45;&gt;`aeon_acquisition`.`_subject_annotation__annotation` -->\n",
       "<g id=\"edge4\" class=\"edge\">\n",
       "<title>`aeon_acquisition`.`_subject_annotation`-&gt;`aeon_acquisition`.`_subject_annotation__annotation`</title>\n",
       "<path fill=\"none\" stroke=\"#000000\" stroke-width=\"0.75\" stroke-opacity=\"0.250980\" d=\"M3309.42,-71.93C3359.82,-58.02 3431.77,-38.16 3472.26,-26.98\"/>\n",
       "</g>\n",
       "<!-- `aeon_acquisition`.`__session` -->\n",
       "<g id=\"node9\" class=\"node\">\n",
       "<title>`aeon_acquisition`.`__session`</title>\n",
       "<ellipse fill=\"#ff0000\" fill-opacity=\"0.125490\" stroke=\"#ff0000\" stroke-opacity=\"0.125490\" cx=\"2438\" cy=\"-159.5\" rx=\"13\" ry=\"13\"/>\n",
       "<text text-anchor=\"start\" x=\"2355.5\" y=\"-157.4\" font-family=\"arial\" text-decoration=\"underline\" font-size=\"12.00\" fill=\"#7f0000\" fill-opacity=\"0.627451\">`aeon_acquisition`.`__session`</text>\n",
       "</g>\n",
       "<!-- `aeon_acquisition`.`__session`&#45;&gt;`aeon_analysis`.`__session_time_distribution` -->\n",
       "<g id=\"edge7\" class=\"edge\">\n",
       "<title>`aeon_acquisition`.`__session`-&gt;`aeon_analysis`.`__session_time_distribution`</title>\n",
       "<path fill=\"none\" stroke=\"#000000\" stroke-width=\"2\" stroke-opacity=\"0.250980\" d=\"M2425.75,-155.95C2406.97,-152.16 2369.87,-145.15 2338,-142 1862.27,-94.99 1740.24,-133.66 1263,-106 1192.05,-101.89 1107.17,-93.85 1075.62,-90.76\"/>\n",
       "</g>\n",
       "<!-- `aeon_acquisition`.`__session`&#45;&gt;`aeon_analysis`.`__session_summary` -->\n",
       "<g id=\"edge6\" class=\"edge\">\n",
       "<title>`aeon_acquisition`.`__session`-&gt;`aeon_analysis`.`__session_summary`</title>\n",
       "<path fill=\"none\" stroke=\"#000000\" stroke-width=\"2\" stroke-opacity=\"0.250980\" d=\"M2425.43,-156.28C2366.48,-145.88 2117.75,-101.99 2059.32,-91.67\"/>\n",
       "</g>\n",
       "<!-- `aeon_acquisition`.`__session`&#45;&gt;`aeon_analysis`.`__session_reward_rate` -->\n",
       "<g id=\"edge5\" class=\"edge\">\n",
       "<title>`aeon_acquisition`.`__session`-&gt;`aeon_analysis`.`__session_reward_rate`</title>\n",
       "<path fill=\"none\" stroke=\"#000000\" stroke-width=\"2\" stroke-opacity=\"0.250980\" d=\"M2425.73,-156.16C2406.91,-152.65 2369.77,-146 2338,-142 2155.63,-119.02 2108.74,-125.75 1926,-106 1883.45,-101.4 1833.14,-94.48 1810.34,-91.26\"/>\n",
       "</g>\n",
       "<!-- `aeon_acquisition`.`__session`&#45;&gt;`aeon_acquisition`.`__time_slice` -->\n",
       "<g id=\"edge8\" class=\"edge\">\n",
       "<title>`aeon_acquisition`.`__session`-&gt;`aeon_acquisition`.`__time_slice`</title>\n",
       "<path fill=\"none\" stroke=\"#000000\" stroke-width=\"0.75\" stroke-opacity=\"0.250980\" d=\"M2438,-146.8C2438,-134.18 2438,-114.22 2438,-101.49\"/>\n",
       "</g>\n",
       "<!-- analysis.OverlapVisit.Visit -->\n",
       "<g id=\"node12\" class=\"node\">\n",
       "<title>analysis.OverlapVisit.Visit</title>\n",
       "<g id=\"a_node12\"><a xlink:title=\"→ analysis.OverlapVisit\r",
       "→ Visit\r",
       "\">\n",
       "<polygon fill=\"none\" stroke=\"none\" points=\"793.5,-98 662.5,-98 662.5,-79 793.5,-79 793.5,-98\"/>\n",
       "<text text-anchor=\"middle\" x=\"728\" y=\"-86\" font-family=\"arial\" font-size=\"10.00\">analysis.OverlapVisit.Visit</text>\n",
       "</a>\n",
       "</g>\n",
       "</g>\n",
       "<!-- acquisition.FoodPatchWheel -->\n",
       "<g id=\"node13\" class=\"node\">\n",
       "<title>acquisition.FoodPatchWheel</title>\n",
       "<g id=\"a_node13\"><a xlink:title=\"→ Chunk\r",
       "→ acquisition.ExperimentFoodPatch\r",
       "------------------------------\r",
       "timestamps           \r",
       "angle                \r",
       "intensity            \r",
       "\">\n",
       "<ellipse fill=\"#00007f\" fill-opacity=\"0.250980\" stroke=\"#00007f\" stroke-opacity=\"0.250980\" cx=\"3028\" cy=\"-17.5\" rx=\"106\" ry=\"17.5\"/>\n",
       "<text text-anchor=\"middle\" x=\"3028\" y=\"-14.4\" font-family=\"arial\" font-size=\"12.00\" fill=\"#00007f\" fill-opacity=\"0.627451\">acquisition.FoodPatchWheel</text>\n",
       "</a>\n",
       "</g>\n",
       "</g>\n",
       "<!-- InArenaRewardRate.FoodPatch -->\n",
       "<g id=\"node14\" class=\"node\">\n",
       "<title>InArenaRewardRate.FoodPatch</title>\n",
       "<g id=\"a_node14\"><a xlink:title=\"→ InArenaRewardRate\r",
       "→ acquisition.ExperimentFoodPatch\r",
       "------------------------------\r",
       "pellet_rate          \r",
       "\">\n",
       "<polygon fill=\"none\" stroke=\"none\" points=\"2710.5,-27 2555.5,-27 2555.5,-8 2710.5,-8 2710.5,-27\"/>\n",
       "<text text-anchor=\"middle\" x=\"2633\" y=\"-15\" font-family=\"arial\" font-size=\"10.00\">InArenaRewardRate.FoodPatch</text>\n",
       "</a>\n",
       "</g>\n",
       "</g>\n",
       "<!-- VisitTimeDistribution -->\n",
       "<g id=\"node15\" class=\"node\">\n",
       "<title>VisitTimeDistribution</title>\n",
       "<g id=\"a_node15\"><a xlink:title=\"→ Visit\r",
       "visit_date           \r",
       "------------------------------\r",
       "day_duration         \r",
       "time_fraction_in_corridor \r",
       "in_corridor          \r",
       "time_fraction_in_arena \r",
       "in_arena             \r",
       "\">\n",
       "<ellipse fill=\"#ff0000\" fill-opacity=\"0.125490\" stroke=\"#ff0000\" stroke-opacity=\"0.125490\" cx=\"355\" cy=\"-88.5\" rx=\"13\" ry=\"13\"/>\n",
       "<text text-anchor=\"middle\" x=\"355\" y=\"-85.4\" font-family=\"arial\" font-size=\"12.00\" fill=\"#7f0000\" fill-opacity=\"0.627451\">VisitTimeDistribution</text>\n",
       "</a>\n",
       "</g>\n",
       "</g>\n",
       "<!-- VisitTimeDistribution.FoodPatch -->\n",
       "<g id=\"node25\" class=\"node\">\n",
       "<title>VisitTimeDistribution.FoodPatch</title>\n",
       "<g id=\"a_node25\"><a xlink:title=\"→ VisitTimeDistribution\r",
       "→ acquisition.ExperimentFoodPatch\r",
       "------------------------------\r",
       "time_fraction_in_patch \r",
       "in_patch             \r",
       "\">\n",
       "<polygon fill=\"none\" stroke=\"none\" points=\"434,-27 276,-27 276,-8 434,-8 434,-27\"/>\n",
       "<text text-anchor=\"middle\" x=\"355\" y=\"-15\" font-family=\"arial\" font-size=\"10.00\">VisitTimeDistribution.FoodPatch</text>\n",
       "</a>\n",
       "</g>\n",
       "</g>\n",
       "<!-- VisitTimeDistribution&#45;&gt;VisitTimeDistribution.FoodPatch -->\n",
       "<g id=\"edge9\" class=\"edge\">\n",
       "<title>VisitTimeDistribution-&gt;VisitTimeDistribution.FoodPatch</title>\n",
       "<path fill=\"none\" stroke=\"#000000\" stroke-width=\"0.75\" stroke-opacity=\"0.250980\" d=\"M355,-75.8C355,-61.95 355,-39.25 355,-26.99\"/>\n",
       "</g>\n",
       "<!-- Experiment.Directory -->\n",
       "<g id=\"node16\" class=\"node\">\n",
       "<title>Experiment.Directory</title>\n",
       "<g id=\"a_node16\"><a xlink:title=\"→ Experiment\r",
       "→ acquisition.DirectoryType\r",
       "------------------------------\r",
       "→ acquisition.PipelineRepository\r",
       "directory_path       \r",
       "\">\n",
       "<polygon fill=\"none\" stroke=\"none\" points=\"3838.5,-240 3729.5,-240 3729.5,-221 3838.5,-221 3838.5,-240\"/>\n",
       "<text text-anchor=\"middle\" x=\"3784\" y=\"-228\" font-family=\"arial\" font-size=\"10.00\">Experiment.Directory</text>\n",
       "</a>\n",
       "</g>\n",
       "</g>\n",
       "<!-- acquisition.Epoch.Config -->\n",
       "<g id=\"node37\" class=\"node\">\n",
       "<title>acquisition.Epoch.Config</title>\n",
       "<g id=\"a_node37\"><a xlink:title=\"→ acquisition.Epoch\r",
       "------------------------------\r",
       "bonsai_workflow      \r",
       "commit               \r",
       "source=&quot;&quot;            \r",
       "metadata             \r",
       "→ Experiment.Directory\r",
       "metadata_file_path   \r",
       "\">\n",
       "<polygon fill=\"none\" stroke=\"none\" points=\"3930.5,-169 3805.5,-169 3805.5,-150 3930.5,-150 3930.5,-169\"/>\n",
       "<text text-anchor=\"middle\" x=\"3868\" y=\"-157\" font-family=\"arial\" font-size=\"10.00\">acquisition.Epoch.Config</text>\n",
       "</a>\n",
       "</g>\n",
       "</g>\n",
       "<!-- Experiment.Directory&#45;&gt;acquisition.Epoch.Config -->\n",
       "<g id=\"edge10\" class=\"edge\">\n",
       "<title>Experiment.Directory-&gt;acquisition.Epoch.Config</title>\n",
       "<path fill=\"none\" stroke=\"#000000\" stroke-width=\"0.75\" stroke-dasharray=\"5,2\" stroke-opacity=\"0.250980\" d=\"M3794.3,-221.04C3810.51,-207.72 3841.78,-182.04 3857.88,-168.81\"/>\n",
       "</g>\n",
       "<!-- Chunk -->\n",
       "<g id=\"node44\" class=\"node\">\n",
       "<title>Chunk</title>\n",
       "<g id=\"a_node44\"><a xlink:title=\"→ Experiment\r",
       "chunk_start          \r",
       "------------------------------\r",
       "chunk_end            \r",
       "→ Experiment.Directory\r",
       "→ [nullable] acquisition.Epoch\r",
       "\">\n",
       "<polygon fill=\"#00ff00\" fill-opacity=\"0.188235\" stroke=\"#00ff00\" stroke-opacity=\"0.188235\" points=\"3597,-177 3545,-177 3545,-142 3597,-142 3597,-177\"/>\n",
       "<text text-anchor=\"start\" x=\"3553\" y=\"-157.4\" font-family=\"arial\" text-decoration=\"underline\" font-size=\"12.00\" fill=\"darkgreen\">Chunk</text>\n",
       "</a>\n",
       "</g>\n",
       "</g>\n",
       "<!-- Experiment.Directory&#45;&gt;Chunk -->\n",
       "<g id=\"edge11\" class=\"edge\">\n",
       "<title>Experiment.Directory-&gt;Chunk</title>\n",
       "<path fill=\"none\" stroke=\"#000000\" stroke-width=\"0.75\" stroke-dasharray=\"5,2\" stroke-opacity=\"0.250980\" d=\"M3757.88,-221.04C3717,-207.8 3638.34,-182.32 3597.33,-169.03\"/>\n",
       "</g>\n",
       "<!-- Chunk.File -->\n",
       "<g id=\"node56\" class=\"node\">\n",
       "<title>Chunk.File</title>\n",
       "<g id=\"a_node56\"><a xlink:title=\"→ Chunk\r",
       "file_number          \r",
       "------------------------------\r",
       "file_name            \r",
       "→ Experiment.Directory\r",
       "file_path            \r",
       "\">\n",
       "<polygon fill=\"none\" stroke=\"none\" points=\"4098,-98 4034,-98 4034,-79 4098,-79 4098,-98\"/>\n",
       "<text text-anchor=\"start\" x=\"4042\" y=\"-87\" font-family=\"arial\" text-decoration=\"underline\" font-size=\"10.00\">Chunk.File</text>\n",
       "</a>\n",
       "</g>\n",
       "</g>\n",
       "<!-- Experiment.Directory&#45;&gt;Chunk.File -->\n",
       "<g id=\"edge12\" class=\"edge\">\n",
       "<title>Experiment.Directory-&gt;Chunk.File</title>\n",
       "<path fill=\"none\" stroke=\"#000000\" stroke-width=\"0.75\" stroke-dasharray=\"5,2\" stroke-opacity=\"0.250980\" d=\"M3817.96,-221.06C3850.32,-212.33 3899.92,-197.15 3940,-177 3986.64,-153.55 4035.72,-114.72 4056.17,-97.8\"/>\n",
       "</g>\n",
       "<!-- InArenaTimeDistribution -->\n",
       "<g id=\"node17\" class=\"node\">\n",
       "<title>InArenaTimeDistribution</title>\n",
       "<g id=\"a_node17\"><a xlink:title=\"→ InArena\r",
       "------------------------------\r",
       "time_fraction_in_corridor \r",
       "in_corridor          \r",
       "time_fraction_in_arena \r",
       "in_arena             \r",
       "\">\n",
       "<ellipse fill=\"#ff0000\" fill-opacity=\"0.125490\" stroke=\"#ff0000\" stroke-opacity=\"0.125490\" cx=\"2250\" cy=\"-88.5\" rx=\"13\" ry=\"13\"/>\n",
       "<text text-anchor=\"middle\" x=\"2250\" y=\"-85.4\" font-family=\"arial\" font-size=\"12.00\" fill=\"#7f0000\" fill-opacity=\"0.627451\">InArenaTimeDistribution</text>\n",
       "</a>\n",
       "</g>\n",
       "</g>\n",
       "<!-- InArenaTimeDistribution.FoodPatch -->\n",
       "<g id=\"node51\" class=\"node\">\n",
       "<title>InArenaTimeDistribution.FoodPatch</title>\n",
       "<g id=\"a_node51\"><a xlink:title=\"→ InArenaTimeDistribution\r",
       "→ acquisition.ExperimentFoodPatch\r",
       "------------------------------\r",
       "time_fraction_in_patch \r",
       "in_patch             \r",
       "\">\n",
       "<polygon fill=\"none\" stroke=\"none\" points=\"2377,-27 2205,-27 2205,-8 2377,-8 2377,-27\"/>\n",
       "<text text-anchor=\"middle\" x=\"2291\" y=\"-15\" font-family=\"arial\" font-size=\"10.00\">InArenaTimeDistribution.FoodPatch</text>\n",
       "</a>\n",
       "</g>\n",
       "</g>\n",
       "<!-- InArenaTimeDistribution&#45;&gt;InArenaTimeDistribution.FoodPatch -->\n",
       "<g id=\"edge13\" class=\"edge\">\n",
       "<title>InArenaTimeDistribution-&gt;InArenaTimeDistribution.FoodPatch</title>\n",
       "<path fill=\"none\" stroke=\"#000000\" stroke-width=\"0.75\" stroke-opacity=\"0.250980\" d=\"M2256.05,-77.32C2264.16,-63.67 2278.4,-39.7 2285.96,-26.98\"/>\n",
       "</g>\n",
       "<!-- acquisition.SubjectEnterExit.Time -->\n",
       "<g id=\"node18\" class=\"node\">\n",
       "<title>acquisition.SubjectEnterExit.Time</title>\n",
       "<g id=\"a_node18\"><a xlink:title=\"→ acquisition.SubjectEnterExit\r",
       "→ Experiment.Subject\r",
       "enter_exit_time      \r",
       "------------------------------\r",
       "→ acquisition.EventType\r",
       "\">\n",
       "<polygon fill=\"none\" stroke=\"none\" points=\"3809,-27 3645,-27 3645,-8 3809,-8 3809,-27\"/>\n",
       "<text text-anchor=\"start\" x=\"3653\" y=\"-16\" font-family=\"arial\" text-decoration=\"underline\" font-size=\"10.00\">acquisition.SubjectEnterExit.Time</text>\n",
       "</a>\n",
       "</g>\n",
       "</g>\n",
       "<!-- ExperimentTimeDistribution -->\n",
       "<g id=\"node19\" class=\"node\">\n",
       "<title>ExperimentTimeDistribution</title>\n",
       "<g id=\"a_node19\"><a xlink:title=\"→ Experiment\r",
       "------------------------------\r",
       "in_arena_count       \r",
       "time_distribution_plotly \r",
       "\">\n",
       "<ellipse fill=\"#ff0000\" fill-opacity=\"0.125490\" stroke=\"#ff0000\" stroke-opacity=\"0.125490\" cx=\"3939\" cy=\"-230.5\" rx=\"13\" ry=\"13\"/>\n",
       "<text text-anchor=\"middle\" x=\"3939\" y=\"-227.4\" font-family=\"arial\" font-size=\"12.00\" fill=\"#7f0000\" fill-opacity=\"0.627451\">ExperimentTimeDistribution</text>\n",
       "</a>\n",
       "</g>\n",
       "</g>\n",
       "<!-- tracking.CameraTracking -->\n",
       "<g id=\"node20\" class=\"node\">\n",
       "<title>tracking.CameraTracking</title>\n",
       "<g id=\"a_node20\"><a xlink:title=\"→ Chunk\r",
       "→ acquisition.ExperimentCamera\r",
       "→ tracking.TrackingParamSet\r",
       "\">\n",
       "<ellipse fill=\"#00007f\" fill-opacity=\"0.250980\" stroke=\"#00007f\" stroke-opacity=\"0.250980\" cx=\"4559\" cy=\"-88.5\" rx=\"93.5\" ry=\"17.5\"/>\n",
       "<text text-anchor=\"middle\" x=\"4559\" y=\"-85.4\" font-family=\"arial\" font-size=\"12.00\" fill=\"#00007f\" fill-opacity=\"0.627451\">tracking.CameraTracking</text>\n",
       "</a>\n",
       "</g>\n",
       "</g>\n",
       "<!-- acquisition.ExperimentCamera -->\n",
       "<g id=\"node21\" class=\"node\">\n",
       "<title>acquisition.ExperimentCamera</title>\n",
       "<g id=\"a_node21\"><a xlink:title=\"→ Experiment\r",
       "→ lab.Camera\r",
       "camera_install_time  \r",
       "------------------------------\r",
       "camera_description   \r",
       "camera_sampling_rate \r",
       "camera_gain=null     \r",
       "camera_bin=null      \r",
       "\">\n",
       "<polygon fill=\"#00ff00\" fill-opacity=\"0.188235\" stroke=\"#00ff00\" stroke-opacity=\"0.188235\" points=\"4855.5,-177 4674.5,-177 4674.5,-142 4855.5,-142 4855.5,-177\"/>\n",
       "<text text-anchor=\"start\" x=\"4682.5\" y=\"-157.4\" font-family=\"arial\" text-decoration=\"underline\" font-size=\"12.00\" fill=\"darkgreen\">acquisition.ExperimentCamera</text>\n",
       "</a>\n",
       "</g>\n",
       "</g>\n",
       "<!-- acquisition.ExperimentCamera&#45;&gt;tracking.CameraTracking -->\n",
       "<g id=\"edge14\" class=\"edge\">\n",
       "<title>acquisition.ExperimentCamera-&gt;tracking.CameraTracking</title>\n",
       "<path fill=\"none\" stroke=\"#000000\" stroke-width=\"0.75\" stroke-opacity=\"0.250980\" d=\"M4714.34,-141.53C4680.27,-130.12 4635.79,-115.22 4603.17,-104.29\"/>\n",
       "</g>\n",
       "<!-- qc.CameraQC -->\n",
       "<g id=\"node35\" class=\"node\">\n",
       "<title>qc.CameraQC</title>\n",
       "<g id=\"a_node35\"><a xlink:title=\"→ Chunk\r",
       "→ acquisition.ExperimentCamera\r",
       "------------------------------\r",
       "drop_count=null      \r",
       "max_harp_delta       \r",
       "max_camera_delta     \r",
       "timestamps           \r",
       "time_delta           \r",
       "frame_delta          \r",
       "hw_counter_delta     \r",
       "hw_timestamp_delta   \r",
       "frame_offset         \r",
       "\">\n",
       "<ellipse fill=\"#00007f\" fill-opacity=\"0.250980\" stroke=\"#00007f\" stroke-opacity=\"0.250980\" cx=\"4389\" cy=\"-88.5\" rx=\"58.25\" ry=\"17.5\"/>\n",
       "<text text-anchor=\"middle\" x=\"4389\" y=\"-85.4\" font-family=\"arial\" font-size=\"12.00\" fill=\"#00007f\" fill-opacity=\"0.627451\">qc.CameraQC</text>\n",
       "</a>\n",
       "</g>\n",
       "</g>\n",
       "<!-- acquisition.ExperimentCamera&#45;&gt;qc.CameraQC -->\n",
       "<g id=\"edge15\" class=\"edge\">\n",
       "<title>acquisition.ExperimentCamera-&gt;qc.CameraQC</title>\n",
       "<path fill=\"none\" stroke=\"#000000\" stroke-width=\"0.75\" stroke-opacity=\"0.250980\" d=\"M4674.08,-144.85C4612.35,-135.14 4528.99,-121.17 4456,-106 4448.26,-104.39 4440.06,-102.52 4432.14,-100.62\"/>\n",
       "</g>\n",
       "<!-- acquisition.ExperimentCamera.Position -->\n",
       "<g id=\"node46\" class=\"node\">\n",
       "<title>acquisition.ExperimentCamera.Position</title>\n",
       "<g id=\"a_node46\"><a xlink:title=\"→ acquisition.ExperimentCamera\r",
       "------------------------------\r",
       "camera_position_x    \r",
       "camera_position_y    \r",
       "camera_position_z=0  \r",
       "camera_rotation_x=null \r",
       "camera_rotation_y=null \r",
       "camera_rotation_z=null \r",
       "\">\n",
       "<polygon fill=\"none\" stroke=\"none\" points=\"4859,-98 4671,-98 4671,-79 4859,-79 4859,-98\"/>\n",
       "<text text-anchor=\"middle\" x=\"4765\" y=\"-86\" font-family=\"arial\" font-size=\"10.00\">acquisition.ExperimentCamera.Position</text>\n",
       "</a>\n",
       "</g>\n",
       "</g>\n",
       "<!-- acquisition.ExperimentCamera&#45;&gt;acquisition.ExperimentCamera.Position -->\n",
       "<g id=\"edge16\" class=\"edge\">\n",
       "<title>acquisition.ExperimentCamera-&gt;acquisition.ExperimentCamera.Position</title>\n",
       "<path fill=\"none\" stroke=\"#000000\" stroke-width=\"2\" stroke-opacity=\"0.250980\" d=\"M4765,-141.8C4765,-127.92 4765,-108.75 4765,-97.89\"/>\n",
       "</g>\n",
       "<!-- acquisition.ExperimentCamera.RemovalTime -->\n",
       "<g id=\"node52\" class=\"node\">\n",
       "<title>acquisition.ExperimentCamera.RemovalTime</title>\n",
       "<g id=\"a_node52\"><a xlink:title=\"→ acquisition.ExperimentCamera\r",
       "------------------------------\r",
       "camera_remove_time   \r",
       "\">\n",
       "<polygon fill=\"none\" stroke=\"none\" points=\"5091,-98 4877,-98 4877,-79 5091,-79 5091,-98\"/>\n",
       "<text text-anchor=\"middle\" x=\"4984\" y=\"-86\" font-family=\"arial\" font-size=\"10.00\">acquisition.ExperimentCamera.RemovalTime</text>\n",
       "</a>\n",
       "</g>\n",
       "</g>\n",
       "<!-- acquisition.ExperimentCamera&#45;&gt;acquisition.ExperimentCamera.RemovalTime -->\n",
       "<g id=\"edge17\" class=\"edge\">\n",
       "<title>acquisition.ExperimentCamera-&gt;acquisition.ExperimentCamera.RemovalTime</title>\n",
       "<path fill=\"none\" stroke=\"#000000\" stroke-width=\"2\" stroke-opacity=\"0.250980\" d=\"M4818.85,-141.53C4862.8,-127.69 4923.03,-108.71 4957.29,-97.91\"/>\n",
       "</g>\n",
       "<!-- InArenaTimeSlice -->\n",
       "<g id=\"node22\" class=\"node\">\n",
       "<title>InArenaTimeSlice</title>\n",
       "<g id=\"a_node22\"><a xlink:title=\"→ InArena\r",
       "→ Chunk\r",
       "time_slice_start     \r",
       "------------------------------\r",
       "time_slice_end       \r",
       "\">\n",
       "<ellipse fill=\"#ff0000\" fill-opacity=\"0.125490\" stroke=\"#ff0000\" stroke-opacity=\"0.125490\" cx=\"2881\" cy=\"-88.5\" rx=\"13\" ry=\"13\"/>\n",
       "<text text-anchor=\"start\" x=\"2833\" y=\"-86.4\" font-family=\"arial\" text-decoration=\"underline\" font-size=\"12.00\" fill=\"#7f0000\" fill-opacity=\"0.627451\">InArenaTimeSlice</text>\n",
       "</a>\n",
       "</g>\n",
       "</g>\n",
       "<!-- VisitForagingBout -->\n",
       "<g id=\"node23\" class=\"node\">\n",
       "<title>VisitForagingBout</title>\n",
       "<g id=\"a_node23\"><a xlink:title=\"→ Visit\r",
       "→ acquisition.ExperimentFoodPatch\r",
       "bout_start           \r",
       "------------------------------\r",
       "bout_end             \r",
       "bout_duration        \r",
       "wheel_distance_travelled \r",
       "pellet_count         \r",
       "\">\n",
       "<ellipse fill=\"#ff0000\" fill-opacity=\"0.125490\" stroke=\"#ff0000\" stroke-opacity=\"0.125490\" cx=\"202\" cy=\"-17.5\" rx=\"13\" ry=\"13\"/>\n",
       "<text text-anchor=\"start\" x=\"154\" y=\"-15.4\" font-family=\"arial\" text-decoration=\"underline\" font-size=\"12.00\" fill=\"#7f0000\" fill-opacity=\"0.627451\">VisitForagingBout</text>\n",
       "</a>\n",
       "</g>\n",
       "</g>\n",
       "<!-- VisitSubjectPosition -->\n",
       "<g id=\"node24\" class=\"node\">\n",
       "<title>VisitSubjectPosition</title>\n",
       "<g id=\"a_node24\"><a xlink:title=\"→ Visit\r",
       "→ Chunk\r",
       "\">\n",
       "<ellipse fill=\"#ff0000\" fill-opacity=\"0.125490\" stroke=\"#ff0000\" stroke-opacity=\"0.125490\" cx=\"1334\" cy=\"-88.5\" rx=\"13\" ry=\"13\"/>\n",
       "<text text-anchor=\"middle\" x=\"1334\" y=\"-85.4\" font-family=\"arial\" font-size=\"12.00\" fill=\"#7f0000\" fill-opacity=\"0.627451\">VisitSubjectPosition</text>\n",
       "</a>\n",
       "</g>\n",
       "</g>\n",
       "<!-- acquisition.SubjectWeight.WeightTime -->\n",
       "<g id=\"node26\" class=\"node\">\n",
       "<title>acquisition.SubjectWeight.WeightTime</title>\n",
       "<g id=\"a_node26\"><a xlink:title=\"→ acquisition.SubjectWeight\r",
       "→ Experiment.Subject\r",
       "weight_time          \r",
       "------------------------------\r",
       "weight               \r",
       "\">\n",
       "<polygon fill=\"none\" stroke=\"none\" points=\"4011,-27 3827,-27 3827,-8 4011,-8 4011,-27\"/>\n",
       "<text text-anchor=\"start\" x=\"3835\" y=\"-16\" font-family=\"arial\" text-decoration=\"underline\" font-size=\"10.00\">acquisition.SubjectWeight.WeightTime</text>\n",
       "</a>\n",
       "</g>\n",
       "</g>\n",
       "<!-- VisitSummary.FoodPatch -->\n",
       "<g id=\"node27\" class=\"node\">\n",
       "<title>VisitSummary.FoodPatch</title>\n",
       "<g id=\"a_node27\"><a xlink:title=\"→ VisitSummary\r",
       "→ acquisition.ExperimentFoodPatch\r",
       "------------------------------\r",
       "pellet_count         \r",
       "wheel_distance_travelled \r",
       "\">\n",
       "<polygon fill=\"none\" stroke=\"none\" points=\"128,-27 0,-27 0,-8 128,-8 128,-27\"/>\n",
       "<text text-anchor=\"middle\" x=\"64\" y=\"-15\" font-family=\"arial\" font-size=\"10.00\">VisitSummary.FoodPatch</text>\n",
       "</a>\n",
       "</g>\n",
       "</g>\n",
       "<!-- InArenaSummary -->\n",
       "<g id=\"node28\" class=\"node\">\n",
       "<title>InArenaSummary</title>\n",
       "<g id=\"a_node28\"><a xlink:title=\"→ InArena\r",
       "------------------------------\r",
       "total_distance_travelled \r",
       "total_pellet_count   \r",
       "total_wheel_distance_travelled \r",
       "change_in_weight     \r",
       "\">\n",
       "<ellipse fill=\"#ff0000\" fill-opacity=\"0.125490\" stroke=\"#ff0000\" stroke-opacity=\"0.125490\" cx=\"2608\" cy=\"-88.5\" rx=\"13\" ry=\"13\"/>\n",
       "<text text-anchor=\"middle\" x=\"2608\" y=\"-85.4\" font-family=\"arial\" font-size=\"12.00\" fill=\"#7f0000\" fill-opacity=\"0.627451\">InArenaSummary</text>\n",
       "</a>\n",
       "</g>\n",
       "</g>\n",
       "<!-- InArenaSummary.FoodPatch -->\n",
       "<g id=\"node48\" class=\"node\">\n",
       "<title>InArenaSummary.FoodPatch</title>\n",
       "<g id=\"a_node48\"><a xlink:title=\"→ InArenaSummary\r",
       "→ acquisition.ExperimentFoodPatch\r",
       "------------------------------\r",
       "pellet_count         \r",
       "wheel_distance_travelled \r",
       "\">\n",
       "<polygon fill=\"none\" stroke=\"none\" points=\"2537,-27 2395,-27 2395,-8 2537,-8 2537,-27\"/>\n",
       "<text text-anchor=\"middle\" x=\"2466\" y=\"-15\" font-family=\"arial\" font-size=\"10.00\">InArenaSummary.FoodPatch</text>\n",
       "</a>\n",
       "</g>\n",
       "</g>\n",
       "<!-- InArenaSummary&#45;&gt;InArenaSummary.FoodPatch -->\n",
       "<g id=\"edge18\" class=\"edge\">\n",
       "<title>InArenaSummary-&gt;InArenaSummary.FoodPatch</title>\n",
       "<path fill=\"none\" stroke=\"#000000\" stroke-width=\"0.75\" stroke-opacity=\"0.250980\" d=\"M2596.86,-82.09C2572.14,-70.08 2512.6,-41.14 2483.12,-26.82\"/>\n",
       "</g>\n",
       "<!-- Experiment -->\n",
       "<g id=\"node29\" class=\"node\">\n",
       "<title>Experiment</title>\n",
       "<g id=\"a_node29\"><a xlink:title=\"experiment_name      \r",
       "------------------------------\r",
       "experiment_start_time \r",
       "experiment_description \r",
       "→ lab.Arena\r",
       "→ lab.Location\r",
       "experiment_type=&quot;foraging&quot; \r",
       "INDEX (experiment_type)\r",
       "\">\n",
       "<polygon fill=\"#00ff00\" fill-opacity=\"0.188235\" stroke=\"#00ff00\" stroke-opacity=\"0.188235\" points=\"3693.5,-319 3616.5,-319 3616.5,-284 3693.5,-284 3693.5,-319\"/>\n",
       "<text text-anchor=\"start\" x=\"3624.5\" y=\"-299.4\" font-family=\"arial\" text-decoration=\"underline\" font-size=\"12.00\" fill=\"darkgreen\">Experiment</text>\n",
       "</a>\n",
       "</g>\n",
       "</g>\n",
       "<!-- Experiment&#45;&gt;Experiment.Directory -->\n",
       "<g id=\"edge19\" class=\"edge\">\n",
       "<title>Experiment-&gt;Experiment.Directory</title>\n",
       "<path fill=\"none\" stroke=\"#000000\" stroke-width=\"0.75\" stroke-opacity=\"0.250980\" d=\"M3686.56,-283.62C3712.51,-269.74 3748.2,-250.65 3768.4,-239.84\"/>\n",
       "</g>\n",
       "<!-- Experiment&#45;&gt;ExperimentTimeDistribution -->\n",
       "<g id=\"edge20\" class=\"edge\">\n",
       "<title>Experiment-&gt;ExperimentTimeDistribution</title>\n",
       "<path fill=\"none\" stroke=\"#000000\" stroke-width=\"2\" stroke-opacity=\"0.250980\" d=\"M3693.89,-291.05C3759.07,-275.22 3887.1,-244.11 3926.9,-234.44\"/>\n",
       "</g>\n",
       "<!-- Experiment&#45;&gt;acquisition.ExperimentCamera -->\n",
       "<g id=\"edge21\" class=\"edge\">\n",
       "<title>Experiment-&gt;acquisition.ExperimentCamera</title>\n",
       "<path fill=\"none\" stroke=\"#000000\" stroke-width=\"0.75\" stroke-opacity=\"0.250980\" d=\"M3693.97,-297.44C3782.83,-290.31 4007.19,-271.39 4194,-248 4364.17,-226.69 4561.77,-194.81 4674.23,-175.99\"/>\n",
       "</g>\n",
       "<!-- ExperimentWeightScale -->\n",
       "<g id=\"node31\" class=\"node\">\n",
       "<title>ExperimentWeightScale</title>\n",
       "<g id=\"a_node31\"><a xlink:title=\"→ Experiment\r",
       "→ lab.WeightScale\r",
       "weight_scale_install_time \r",
       "------------------------------\r",
       "→ lab.ArenaNest\r",
       "weight_scale_description \r",
       "weight_scale_sampling_rate=null \r",
       "\">\n",
       "<polygon fill=\"#00ff00\" fill-opacity=\"0.188235\" stroke=\"#00ff00\" stroke-opacity=\"0.188235\" points=\"4185,-248 4039,-248 4039,-213 4185,-213 4185,-248\"/>\n",
       "<text text-anchor=\"start\" x=\"4047\" y=\"-228.4\" font-family=\"arial\" text-decoration=\"underline\" font-size=\"12.00\" fill=\"darkgreen\">ExperimentWeightScale</text>\n",
       "</a>\n",
       "</g>\n",
       "</g>\n",
       "<!-- Experiment&#45;&gt;ExperimentWeightScale -->\n",
       "<g id=\"edge22\" class=\"edge\">\n",
       "<title>Experiment-&gt;ExperimentWeightScale</title>\n",
       "<path fill=\"none\" stroke=\"#000000\" stroke-width=\"0.75\" stroke-opacity=\"0.250980\" d=\"M3693.99,-295.82C3762.26,-287.44 3907.84,-268.82 4030,-248 4032.86,-247.51 4035.78,-247 4038.72,-246.47\"/>\n",
       "</g>\n",
       "<!-- acquisition.ExperimentFoodPatch -->\n",
       "<g id=\"node39\" class=\"node\">\n",
       "<title>acquisition.ExperimentFoodPatch</title>\n",
       "<g id=\"a_node39\"><a xlink:title=\"→ Experiment\r",
       "→ lab.FoodPatch\r",
       "food_patch_install_time \r",
       "------------------------------\r",
       "food_patch_description \r",
       "wheel_sampling_rate  \r",
       "wheel_radius=null    \r",
       "\">\n",
       "<polygon fill=\"#00ff00\" fill-opacity=\"0.188235\" stroke=\"#00ff00\" stroke-opacity=\"0.188235\" points=\"1640.5,-106 1443.5,-106 1443.5,-71 1640.5,-71 1640.5,-106\"/>\n",
       "<text text-anchor=\"start\" x=\"1451.5\" y=\"-86.4\" font-family=\"arial\" text-decoration=\"underline\" font-size=\"12.00\" fill=\"darkgreen\">acquisition.ExperimentFoodPatch</text>\n",
       "</a>\n",
       "</g>\n",
       "</g>\n",
       "<!-- Experiment&#45;&gt;acquisition.ExperimentFoodPatch -->\n",
       "<g id=\"edge23\" class=\"edge\">\n",
       "<title>Experiment-&gt;acquisition.ExperimentFoodPatch</title>\n",
       "<path fill=\"none\" stroke=\"#000000\" stroke-width=\"0.75\" stroke-opacity=\"0.250980\" d=\"M3616.02,-299.82C3428.74,-296.13 2602.98,-274.8 1935,-177 1817.08,-159.74 1681.91,-126.65 1604.77,-106.48\"/>\n",
       "</g>\n",
       "<!-- analysis.OverlapVisit -->\n",
       "<g id=\"node40\" class=\"node\">\n",
       "<title>analysis.OverlapVisit</title>\n",
       "<g id=\"a_node40\"><a xlink:title=\"→ Experiment\r",
       "→ analysis.Place\r",
       "overlap_start        \r",
       "------------------------------\r",
       "overlap_end          \r",
       "overlap_duration     \r",
       "subject_count        \r",
       "\">\n",
       "<ellipse fill=\"#ff0000\" fill-opacity=\"0.125490\" stroke=\"#ff0000\" stroke-opacity=\"0.125490\" cx=\"728\" cy=\"-159.5\" rx=\"13\" ry=\"13\"/>\n",
       "<text text-anchor=\"start\" x=\"672\" y=\"-157.4\" font-family=\"arial\" text-decoration=\"underline\" font-size=\"12.00\" fill=\"#7f0000\" fill-opacity=\"0.627451\">analysis.OverlapVisit</text>\n",
       "</a>\n",
       "</g>\n",
       "</g>\n",
       "<!-- Experiment&#45;&gt;analysis.OverlapVisit -->\n",
       "<g id=\"edge24\" class=\"edge\">\n",
       "<title>Experiment-&gt;analysis.OverlapVisit</title>\n",
       "<path fill=\"none\" stroke=\"#000000\" stroke-width=\"0.75\" stroke-opacity=\"0.250980\" d=\"M3616.01,-300.33C3415.42,-299.29 2479.39,-292.18 1715,-248 1314.42,-224.85 824.43,-171.25 740.51,-161.9\"/>\n",
       "</g>\n",
       "<!-- acquisition.Epoch -->\n",
       "<g id=\"node43\" class=\"node\">\n",
       "<title>acquisition.Epoch</title>\n",
       "<g id=\"a_node43\"><a xlink:title=\"→ Experiment\r",
       "epoch_start          \r",
       "\">\n",
       "<polygon fill=\"#00ff00\" fill-opacity=\"0.188235\" stroke=\"#00ff00\" stroke-opacity=\"0.188235\" points=\"3711,-248 3599,-248 3599,-213 3711,-213 3711,-248\"/>\n",
       "<text text-anchor=\"start\" x=\"3607\" y=\"-228.4\" font-family=\"arial\" text-decoration=\"underline\" font-size=\"12.00\" fill=\"darkgreen\">acquisition.Epoch</text>\n",
       "</a>\n",
       "</g>\n",
       "</g>\n",
       "<!-- Experiment&#45;&gt;acquisition.Epoch -->\n",
       "<g id=\"edge25\" class=\"edge\">\n",
       "<title>Experiment-&gt;acquisition.Epoch</title>\n",
       "<path fill=\"none\" stroke=\"#000000\" stroke-width=\"0.75\" stroke-opacity=\"0.250980\" d=\"M3655,-283.8C3655,-272.95 3655,-258.87 3655,-248.05\"/>\n",
       "</g>\n",
       "<!-- Experiment&#45;&gt;Chunk -->\n",
       "<g id=\"edge26\" class=\"edge\">\n",
       "<title>Experiment-&gt;Chunk</title>\n",
       "<path fill=\"none\" stroke=\"#000000\" stroke-width=\"0.75\" stroke-opacity=\"0.250980\" d=\"M3626.2,-283.65C3613.25,-274.65 3598.91,-262.45 3590,-248 3576.46,-226.04 3572.49,-195.77 3571.37,-177.2\"/>\n",
       "</g>\n",
       "<!-- Experiment.Subject -->\n",
       "<g id=\"node49\" class=\"node\">\n",
       "<title>Experiment.Subject</title>\n",
       "<g id=\"a_node49\"><a xlink:title=\"→ Experiment\r",
       "→ `aeon_subject`.`subject`\r",
       "\">\n",
       "<polygon fill=\"none\" stroke=\"none\" points=\"3054,-240 2952,-240 2952,-221 3054,-221 3054,-240\"/>\n",
       "<text text-anchor=\"middle\" x=\"3003\" y=\"-228\" font-family=\"arial\" font-size=\"10.00\">Experiment.Subject</text>\n",
       "</a>\n",
       "</g>\n",
       "</g>\n",
       "<!-- Experiment&#45;&gt;Experiment.Subject -->\n",
       "<g id=\"edge27\" class=\"edge\">\n",
       "<title>Experiment-&gt;Experiment.Subject</title>\n",
       "<path fill=\"none\" stroke=\"#000000\" stroke-width=\"0.75\" stroke-opacity=\"0.250980\" d=\"M3616.17,-296.39C3504.04,-284.52 3179.78,-250.21 3053.85,-236.88\"/>\n",
       "</g>\n",
       "<!-- WeightMeasurement -->\n",
       "<g id=\"node30\" class=\"node\">\n",
       "<title>WeightMeasurement</title>\n",
       "<g id=\"a_node30\"><a xlink:title=\"→ Chunk\r",
       "→ ExperimentWeightScale\r",
       "------------------------------\r",
       "timestamps           \r",
       "weight               \r",
       "confidence           \r",
       "\">\n",
       "<ellipse fill=\"#00007f\" fill-opacity=\"0.250980\" stroke=\"#00007f\" stroke-opacity=\"0.250980\" cx=\"4233\" cy=\"-88.5\" rx=\"79.25\" ry=\"17.5\"/>\n",
       "<text text-anchor=\"middle\" x=\"4233\" y=\"-85.4\" font-family=\"arial\" font-size=\"12.00\" fill=\"#00007f\" fill-opacity=\"0.627451\">WeightMeasurement</text>\n",
       "</a>\n",
       "</g>\n",
       "</g>\n",
       "<!-- ExperimentWeightScale&#45;&gt;WeightMeasurement -->\n",
       "<g id=\"edge28\" class=\"edge\">\n",
       "<title>ExperimentWeightScale-&gt;WeightMeasurement</title>\n",
       "<path fill=\"none\" stroke=\"#000000\" stroke-width=\"0.75\" stroke-opacity=\"0.250980\" d=\"M4165.43,-212.62C4183.29,-204.49 4201.75,-192.96 4214,-177 4229.81,-156.41 4233.08,-125.45 4233.44,-106.41\"/>\n",
       "</g>\n",
       "<!-- ExperimentWeightScale.RemovalTime -->\n",
       "<g id=\"node47\" class=\"node\">\n",
       "<title>ExperimentWeightScale.RemovalTime</title>\n",
       "<g id=\"a_node47\"><a xlink:title=\"→ ExperimentWeightScale\r",
       "------------------------------\r",
       "weight_scale_remove_time \r",
       "\">\n",
       "<polygon fill=\"none\" stroke=\"none\" points=\"4204.5,-169 4019.5,-169 4019.5,-150 4204.5,-150 4204.5,-169\"/>\n",
       "<text text-anchor=\"middle\" x=\"4112\" y=\"-157\" font-family=\"arial\" font-size=\"10.00\">ExperimentWeightScale.RemovalTime</text>\n",
       "</a>\n",
       "</g>\n",
       "</g>\n",
       "<!-- ExperimentWeightScale&#45;&gt;ExperimentWeightScale.RemovalTime -->\n",
       "<g id=\"edge29\" class=\"edge\">\n",
       "<title>ExperimentWeightScale-&gt;ExperimentWeightScale.RemovalTime</title>\n",
       "<path fill=\"none\" stroke=\"#000000\" stroke-width=\"2\" stroke-opacity=\"0.250980\" d=\"M4112,-212.8C4112,-198.92 4112,-179.75 4112,-168.89\"/>\n",
       "</g>\n",
       "<!-- VisitSummary -->\n",
       "<g id=\"node32\" class=\"node\">\n",
       "<title>VisitSummary</title>\n",
       "<g id=\"a_node32\"><a xlink:title=\"→ Visit\r",
       "visit_date           \r",
       "------------------------------\r",
       "day_duration         \r",
       "total_distance_travelled \r",
       "total_pellet_count   \r",
       "total_wheel_distance_travelled \r",
       "\">\n",
       "<ellipse fill=\"#ff0000\" fill-opacity=\"0.125490\" stroke=\"#ff0000\" stroke-opacity=\"0.125490\" cx=\"64\" cy=\"-88.5\" rx=\"13\" ry=\"13\"/>\n",
       "<text text-anchor=\"middle\" x=\"64\" y=\"-85.4\" font-family=\"arial\" font-size=\"12.00\" fill=\"#7f0000\" fill-opacity=\"0.627451\">VisitSummary</text>\n",
       "</a>\n",
       "</g>\n",
       "</g>\n",
       "<!-- VisitSummary&#45;&gt;VisitSummary.FoodPatch -->\n",
       "<g id=\"edge30\" class=\"edge\">\n",
       "<title>VisitSummary-&gt;VisitSummary.FoodPatch</title>\n",
       "<path fill=\"none\" stroke=\"#000000\" stroke-width=\"0.75\" stroke-opacity=\"0.250980\" d=\"M64,-75.8C64,-61.95 64,-39.25 64,-26.99\"/>\n",
       "</g>\n",
       "<!-- acquisition.EpochEnd -->\n",
       "<g id=\"node33\" class=\"node\">\n",
       "<title>acquisition.EpochEnd</title>\n",
       "<g id=\"a_node33\"><a xlink:title=\"→ acquisition.Epoch\r",
       "------------------------------\r",
       "epoch_end            \r",
       "epoch_duration       \r",
       "\">\n",
       "<polygon fill=\"#00ff00\" fill-opacity=\"0.188235\" stroke=\"#00ff00\" stroke-opacity=\"0.188235\" points=\"3787,-177 3653,-177 3653,-142 3787,-142 3787,-177\"/>\n",
       "<text text-anchor=\"middle\" x=\"3720\" y=\"-156.4\" font-family=\"arial\" font-size=\"12.00\" fill=\"darkgreen\">acquisition.EpochEnd</text>\n",
       "</a>\n",
       "</g>\n",
       "</g>\n",
       "<!-- acquisition.ExperimentFoodPatch.Position -->\n",
       "<g id=\"node34\" class=\"node\">\n",
       "<title>acquisition.ExperimentFoodPatch.Position</title>\n",
       "<g id=\"a_node34\"><a xlink:title=\"→ acquisition.ExperimentFoodPatch\r",
       "------------------------------\r",
       "food_patch_position_x \r",
       "food_patch_position_y \r",
       "food_patch_position_z=0 \r",
       "\">\n",
       "<polygon fill=\"none\" stroke=\"none\" points=\"1410.5,-27 1209.5,-27 1209.5,-8 1410.5,-8 1410.5,-27\"/>\n",
       "<text text-anchor=\"middle\" x=\"1310\" y=\"-15\" font-family=\"arial\" font-size=\"10.00\">acquisition.ExperimentFoodPatch.Position</text>\n",
       "</a>\n",
       "</g>\n",
       "</g>\n",
       "<!-- acquisition.ExperimentFoodPatch.RemovalTime -->\n",
       "<g id=\"node36\" class=\"node\">\n",
       "<title>acquisition.ExperimentFoodPatch.RemovalTime</title>\n",
       "<g id=\"a_node36\"><a xlink:title=\"→ acquisition.ExperimentFoodPatch\r",
       "------------------------------\r",
       "food_patch_remove_time \r",
       "\">\n",
       "<polygon fill=\"none\" stroke=\"none\" points=\"1655.5,-27 1428.5,-27 1428.5,-8 1655.5,-8 1655.5,-27\"/>\n",
       "<text text-anchor=\"middle\" x=\"1542\" y=\"-15\" font-family=\"arial\" font-size=\"10.00\">acquisition.ExperimentFoodPatch.RemovalTime</text>\n",
       "</a>\n",
       "</g>\n",
       "</g>\n",
       "<!-- acquisition.SubjectEnterExit -->\n",
       "<g id=\"node38\" class=\"node\">\n",
       "<title>acquisition.SubjectEnterExit</title>\n",
       "<g id=\"a_node38\"><a xlink:title=\"→ Chunk\r",
       "\">\n",
       "<ellipse fill=\"#00007f\" fill-opacity=\"0.250980\" stroke=\"#00007f\" stroke-opacity=\"0.250980\" cx=\"3559\" cy=\"-88.5\" rx=\"104.25\" ry=\"17.5\"/>\n",
       "<text text-anchor=\"middle\" x=\"3559\" y=\"-85.4\" font-family=\"arial\" font-size=\"12.00\" fill=\"#00007f\" fill-opacity=\"0.627451\">acquisition.SubjectEnterExit</text>\n",
       "</a>\n",
       "</g>\n",
       "</g>\n",
       "<!-- acquisition.SubjectEnterExit&#45;&gt;acquisition.SubjectEnterExit.Time -->\n",
       "<g id=\"edge31\" class=\"edge\">\n",
       "<title>acquisition.SubjectEnterExit-&gt;acquisition.SubjectEnterExit.Time</title>\n",
       "<path fill=\"none\" stroke=\"#000000\" stroke-width=\"0.75\" stroke-opacity=\"0.250980\" d=\"M3597.12,-71.84C3631.01,-57.93 3679.26,-38.11 3706.4,-26.96\"/>\n",
       "</g>\n",
       "<!-- acquisition.ExperimentFoodPatch&#45;&gt;`aeon_tracking`.`__subject_distance__food_patch` -->\n",
       "<g id=\"edge32\" class=\"edge\">\n",
       "<title>acquisition.ExperimentFoodPatch-&gt;`aeon_tracking`.`__subject_distance__food_patch`</title>\n",
       "<path fill=\"none\" stroke=\"#000000\" stroke-width=\"0.75\" stroke-opacity=\"0.250980\" d=\"M1443.04,-72.91C1348.48,-58.97 1209.2,-38.43 1131.6,-26.99\"/>\n",
       "</g>\n",
       "<!-- acquisition.ExperimentFoodPatch&#45;&gt;`aeon_analysis`.`__session_reward_rate__food_patch` -->\n",
       "<g id=\"edge35\" class=\"edge\">\n",
       "<title>acquisition.ExperimentFoodPatch-&gt;`aeon_analysis`.`__session_reward_rate__food_patch`</title>\n",
       "<path fill=\"none\" stroke=\"#000000\" stroke-width=\"0.75\" stroke-opacity=\"0.250980\" d=\"M1605.44,-70.53C1657.22,-56.69 1728.18,-37.71 1768.54,-26.91\"/>\n",
       "</g>\n",
       "<!-- acquisition.ExperimentFoodPatch&#45;&gt;`aeon_analysis`.`__session_time_distribution__food_patch` -->\n",
       "<g id=\"edge34\" class=\"edge\">\n",
       "<title>acquisition.ExperimentFoodPatch-&gt;`aeon_analysis`.`__session_time_distribution__food_patch`</title>\n",
       "<path fill=\"none\" stroke=\"#000000\" stroke-width=\"0.75\" stroke-opacity=\"0.250980\" d=\"M1443.33,-74.91C1430.12,-73.46 1416.74,-72.1 1404,-71 1107.35,-45.31 1031.73,-59.73 735,-35 709.33,-32.86 681.18,-29.84 656.52,-26.97\"/>\n",
       "</g>\n",
       "<!-- acquisition.ExperimentFoodPatch&#45;&gt;`aeon_analysis`.`__session_summary__food_patch` -->\n",
       "<g id=\"edge33\" class=\"edge\">\n",
       "<title>acquisition.ExperimentFoodPatch-&gt;`aeon_analysis`.`__session_summary__food_patch`</title>\n",
       "<path fill=\"none\" stroke=\"#000000\" stroke-width=\"0.75\" stroke-opacity=\"0.250980\" d=\"M1640.87,-74.48C1746.75,-60.54 1911.67,-38.82 2001.81,-26.95\"/>\n",
       "</g>\n",
       "<!-- acquisition.ExperimentFoodPatch&#45;&gt;acquisition.FoodPatchWheel -->\n",
       "<g id=\"edge36\" class=\"edge\">\n",
       "<title>acquisition.ExperimentFoodPatch-&gt;acquisition.FoodPatchWheel</title>\n",
       "<path fill=\"none\" stroke=\"#000000\" stroke-width=\"0.75\" stroke-opacity=\"0.250980\" d=\"M1640.78,-73.77C1650.64,-72.7 1660.51,-71.75 1670,-71 2220.53,-27.65 2361.77,-81.96 2912,-35 2925.48,-33.85 2939.78,-32.18 2953.57,-30.35\"/>\n",
       "</g>\n",
       "<!-- acquisition.ExperimentFoodPatch&#45;&gt;InArenaRewardRate.FoodPatch -->\n",
       "<g id=\"edge37\" class=\"edge\">\n",
       "<title>acquisition.ExperimentFoodPatch-&gt;InArenaRewardRate.FoodPatch</title>\n",
       "<path fill=\"none\" stroke=\"#000000\" stroke-width=\"0.75\" stroke-opacity=\"0.250980\" d=\"M1640.79,-73.89C1650.65,-72.8 1660.51,-71.8 1670,-71 2058.27,-38.06 2158.88,-79.42 2546,-35 2562.19,-33.14 2579.89,-29.99 2595.07,-26.94\"/>\n",
       "</g>\n",
       "<!-- acquisition.ExperimentFoodPatch&#45;&gt;VisitForagingBout -->\n",
       "<g id=\"edge38\" class=\"edge\">\n",
       "<title>acquisition.ExperimentFoodPatch-&gt;VisitForagingBout</title>\n",
       "<path fill=\"none\" stroke=\"#000000\" stroke-width=\"0.75\" stroke-opacity=\"0.250980\" d=\"M1443.35,-74.64C1430.14,-73.23 1416.75,-71.96 1404,-71 899.85,-32.95 767.63,-105.61 267,-35 248.09,-32.33 226.73,-26.31 213.83,-22.33\"/>\n",
       "</g>\n",
       "<!-- acquisition.ExperimentFoodPatch&#45;&gt;VisitTimeDistribution.FoodPatch -->\n",
       "<g id=\"edge39\" class=\"edge\">\n",
       "<title>acquisition.ExperimentFoodPatch-&gt;VisitTimeDistribution.FoodPatch</title>\n",
       "<path fill=\"none\" stroke=\"#000000\" stroke-width=\"0.75\" stroke-opacity=\"0.250980\" d=\"M1443.35,-74.71C1430.13,-73.29 1416.75,-72 1404,-71 977.9,-37.6 867.76,-82.51 443,-35 426.63,-33.17 408.72,-30.02 393.37,-26.97\"/>\n",
       "</g>\n",
       "<!-- acquisition.ExperimentFoodPatch&#45;&gt;VisitSummary.FoodPatch -->\n",
       "<g id=\"edge40\" class=\"edge\">\n",
       "<title>acquisition.ExperimentFoodPatch-&gt;VisitSummary.FoodPatch</title>\n",
       "<path fill=\"none\" stroke=\"#000000\" stroke-width=\"0.75\" stroke-opacity=\"0.250980\" d=\"M1443.35,-74.61C1430.14,-73.2 1416.75,-71.94 1404,-71 842.19,-29.52 695.92,-105.43 137,-35 123.21,-33.26 108.19,-30.09 95.38,-27\"/>\n",
       "</g>\n",
       "<!-- acquisition.ExperimentFoodPatch&#45;&gt;acquisition.ExperimentFoodPatch.Position -->\n",
       "<g id=\"edge41\" class=\"edge\">\n",
       "<title>acquisition.ExperimentFoodPatch-&gt;acquisition.ExperimentFoodPatch.Position</title>\n",
       "<path fill=\"none\" stroke=\"#000000\" stroke-width=\"2\" stroke-opacity=\"0.250980\" d=\"M1484.95,-70.53C1438.39,-56.69 1374.58,-37.71 1338.29,-26.91\"/>\n",
       "</g>\n",
       "<!-- acquisition.ExperimentFoodPatch&#45;&gt;acquisition.ExperimentFoodPatch.RemovalTime -->\n",
       "<g id=\"edge42\" class=\"edge\">\n",
       "<title>acquisition.ExperimentFoodPatch-&gt;acquisition.ExperimentFoodPatch.RemovalTime</title>\n",
       "<path fill=\"none\" stroke=\"#000000\" stroke-width=\"2\" stroke-opacity=\"0.250980\" d=\"M1542,-70.8C1542,-56.92 1542,-37.75 1542,-26.89\"/>\n",
       "</g>\n",
       "<!-- acquisition.ExperimentFoodPatch.Vertex -->\n",
       "<g id=\"node45\" class=\"node\">\n",
       "<title>acquisition.ExperimentFoodPatch.Vertex</title>\n",
       "<g id=\"a_node45\"><a xlink:title=\"→ acquisition.ExperimentFoodPatch\r",
       "vertex               \r",
       "------------------------------\r",
       "vertex_x             \r",
       "vertex_y             \r",
       "vertex_z=0           \r",
       "\">\n",
       "<polygon fill=\"none\" stroke=\"none\" points=\"938,-27 744,-27 744,-8 938,-8 938,-27\"/>\n",
       "<text text-anchor=\"start\" x=\"752\" y=\"-16\" font-family=\"arial\" text-decoration=\"underline\" font-size=\"10.00\">acquisition.ExperimentFoodPatch.Vertex</text>\n",
       "</a>\n",
       "</g>\n",
       "</g>\n",
       "<!-- acquisition.ExperimentFoodPatch&#45;&gt;acquisition.ExperimentFoodPatch.Vertex -->\n",
       "<g id=\"edge43\" class=\"edge\">\n",
       "<title>acquisition.ExperimentFoodPatch-&gt;acquisition.ExperimentFoodPatch.Vertex</title>\n",
       "<path fill=\"none\" stroke=\"#000000\" stroke-width=\"0.75\" stroke-opacity=\"0.250980\" d=\"M1443.3,-75.21C1430.1,-73.71 1416.73,-72.26 1404,-71 1201.25,-50.9 1149.36,-58.69 947,-35 928.41,-32.82 908.08,-29.81 890.24,-26.96\"/>\n",
       "</g>\n",
       "<!-- acquisition.ExperimentFoodPatch&#45;&gt;InArenaSummary.FoodPatch -->\n",
       "<g id=\"edge44\" class=\"edge\">\n",
       "<title>acquisition.ExperimentFoodPatch-&gt;InArenaSummary.FoodPatch</title>\n",
       "<path fill=\"none\" stroke=\"#000000\" stroke-width=\"0.75\" stroke-opacity=\"0.250980\" d=\"M1640.8,-73.98C1650.65,-72.87 1660.52,-71.85 1670,-71 1987.36,-42.61 2069.93,-75.3 2386,-35 2400.77,-33.12 2416.88,-30 2430.75,-26.98\"/>\n",
       "</g>\n",
       "<!-- acquisition.ExperimentFoodPatch&#45;&gt;InArenaTimeDistribution.FoodPatch -->\n",
       "<g id=\"edge45\" class=\"edge\">\n",
       "<title>acquisition.ExperimentFoodPatch-&gt;InArenaTimeDistribution.FoodPatch</title>\n",
       "<path fill=\"none\" stroke=\"#000000\" stroke-width=\"0.75\" stroke-opacity=\"0.250980\" d=\"M1640.81,-74.16C1650.67,-73.01 1660.52,-71.93 1670,-71 1903.19,-48.01 1963.36,-63.09 2196,-35 2213.12,-32.93 2231.84,-29.86 2248.1,-26.92\"/>\n",
       "</g>\n",
       "<!-- acquisition.FoodPatchEvent -->\n",
       "<g id=\"node57\" class=\"node\">\n",
       "<title>acquisition.FoodPatchEvent</title>\n",
       "<g id=\"a_node57\"><a xlink:title=\"→ Chunk\r",
       "→ acquisition.ExperimentFoodPatch\r",
       "event_number         \r",
       "------------------------------\r",
       "event_time           \r",
       "→ acquisition.EventType\r",
       "\">\n",
       "<ellipse fill=\"#00007f\" fill-opacity=\"0.250980\" stroke=\"#00007f\" stroke-opacity=\"0.250980\" cx=\"3257\" cy=\"-17.5\" rx=\"104.25\" ry=\"17.5\"/>\n",
       "<text text-anchor=\"start\" x=\"3181.5\" y=\"-15.4\" font-family=\"arial\" text-decoration=\"underline\" font-size=\"12.00\" fill=\"#00007f\" fill-opacity=\"0.627451\">acquisition.FoodPatchEvent</text>\n",
       "</a>\n",
       "</g>\n",
       "</g>\n",
       "<!-- acquisition.ExperimentFoodPatch&#45;&gt;acquisition.FoodPatchEvent -->\n",
       "<g id=\"edge46\" class=\"edge\">\n",
       "<title>acquisition.ExperimentFoodPatch-&gt;acquisition.FoodPatchEvent</title>\n",
       "<path fill=\"none\" stroke=\"#000000\" stroke-width=\"0.75\" stroke-opacity=\"0.250980\" d=\"M1640.78,-73.73C1650.64,-72.67 1660.51,-71.73 1670,-71 2322.96,-21.07 2490.45,-90 3143,-35 3156.35,-33.87 3170.52,-32.21 3184.17,-30.36\"/>\n",
       "</g>\n",
       "<!-- acquisition.WheelState -->\n",
       "<g id=\"node58\" class=\"node\">\n",
       "<title>acquisition.WheelState</title>\n",
       "<g id=\"a_node58\"><a xlink:title=\"→ Chunk\r",
       "→ acquisition.ExperimentFoodPatch\r",
       "\">\n",
       "<ellipse fill=\"#00007f\" fill-opacity=\"0.250980\" stroke=\"#00007f\" stroke-opacity=\"0.250980\" cx=\"2816\" cy=\"-17.5\" rx=\"87.5\" ry=\"17.5\"/>\n",
       "<text text-anchor=\"middle\" x=\"2816\" y=\"-14.4\" font-family=\"arial\" font-size=\"12.00\" fill=\"#00007f\" fill-opacity=\"0.627451\">acquisition.WheelState</text>\n",
       "</a>\n",
       "</g>\n",
       "</g>\n",
       "<!-- acquisition.ExperimentFoodPatch&#45;&gt;acquisition.WheelState -->\n",
       "<g id=\"edge47\" class=\"edge\">\n",
       "<title>acquisition.ExperimentFoodPatch-&gt;acquisition.WheelState</title>\n",
       "<path fill=\"none\" stroke=\"#000000\" stroke-width=\"0.75\" stroke-opacity=\"0.250980\" d=\"M1640.78,-73.83C1650.64,-72.74 1660.51,-71.77 1670,-71 2134.96,-33.14 2254.9,-82.22 2719,-35 2730.47,-33.83 2742.64,-32.13 2754.33,-30.27\"/>\n",
       "</g>\n",
       "<!-- analysis.OverlapVisit&#45;&gt;analysis.OverlapVisit.Visit -->\n",
       "<g id=\"edge48\" class=\"edge\">\n",
       "<title>analysis.OverlapVisit-&gt;analysis.OverlapVisit.Visit</title>\n",
       "<path fill=\"none\" stroke=\"#000000\" stroke-width=\"0.75\" stroke-opacity=\"0.250980\" d=\"M728,-146.8C728,-132.95 728,-110.25 728,-97.99\"/>\n",
       "</g>\n",
       "<!-- SubjectWheelTravelledDistance -->\n",
       "<g id=\"node41\" class=\"node\">\n",
       "<title>SubjectWheelTravelledDistance</title>\n",
       "<g id=\"a_node41\"><a xlink:title=\"→ Experiment.Subject\r",
       "------------------------------\r",
       "in_arena_count       \r",
       "wheel_travelled_distance_plotly \r",
       "\">\n",
       "<ellipse fill=\"#ff0000\" fill-opacity=\"0.125490\" stroke=\"#ff0000\" stroke-opacity=\"0.125490\" cx=\"2038\" cy=\"-159.5\" rx=\"13\" ry=\"13\"/>\n",
       "<text text-anchor=\"middle\" x=\"2038\" y=\"-156.4\" font-family=\"arial\" font-size=\"12.00\" fill=\"#7f0000\" fill-opacity=\"0.627451\">SubjectWheelTravelledDistance</text>\n",
       "</a>\n",
       "</g>\n",
       "</g>\n",
       "<!-- acquisition.SubjectWeight -->\n",
       "<g id=\"node42\" class=\"node\">\n",
       "<title>acquisition.SubjectWeight</title>\n",
       "<g id=\"a_node42\"><a xlink:title=\"→ Chunk\r",
       "\">\n",
       "<ellipse fill=\"#00007f\" fill-opacity=\"0.250980\" stroke=\"#00007f\" stroke-opacity=\"0.250980\" cx=\"3919\" cy=\"-88.5\" rx=\"96.75\" ry=\"17.5\"/>\n",
       "<text text-anchor=\"middle\" x=\"3919\" y=\"-85.4\" font-family=\"arial\" font-size=\"12.00\" fill=\"#00007f\" fill-opacity=\"0.627451\">acquisition.SubjectWeight</text>\n",
       "</a>\n",
       "</g>\n",
       "</g>\n",
       "<!-- acquisition.SubjectWeight&#45;&gt;acquisition.SubjectWeight.WeightTime -->\n",
       "<g id=\"edge49\" class=\"edge\">\n",
       "<title>acquisition.SubjectWeight-&gt;acquisition.SubjectWeight.WeightTime</title>\n",
       "<path fill=\"none\" stroke=\"#000000\" stroke-width=\"0.75\" stroke-opacity=\"0.250980\" d=\"M3919,-70.8C3919,-56.92 3919,-37.75 3919,-26.89\"/>\n",
       "</g>\n",
       "<!-- acquisition.Epoch&#45;&gt;acquisition.EpochEnd -->\n",
       "<g id=\"edge50\" class=\"edge\">\n",
       "<title>acquisition.Epoch-&gt;acquisition.EpochEnd</title>\n",
       "<path fill=\"none\" stroke=\"#000000\" stroke-width=\"2\" stroke-opacity=\"0.250980\" d=\"M3670.73,-212.8C3680.95,-201.95 3694.22,-187.87 3704.41,-177.05\"/>\n",
       "</g>\n",
       "<!-- acquisition.Epoch&#45;&gt;acquisition.Epoch.Config -->\n",
       "<g id=\"edge51\" class=\"edge\">\n",
       "<title>acquisition.Epoch-&gt;acquisition.Epoch.Config</title>\n",
       "<path fill=\"none\" stroke=\"#000000\" stroke-width=\"2\" stroke-opacity=\"0.250980\" d=\"M3707.38,-212.53C3750.12,-198.69 3808.7,-179.71 3842.02,-168.91\"/>\n",
       "</g>\n",
       "<!-- acquisition.Epoch&#45;&gt;Chunk -->\n",
       "<g id=\"edge52\" class=\"edge\">\n",
       "<title>acquisition.Epoch-&gt;Chunk</title>\n",
       "<path fill=\"none\" stroke=\"#000000\" stroke-width=\"0.75\" stroke-dasharray=\"5,2\" stroke-opacity=\"0.250980\" d=\"M3634.67,-212.8C3621.56,-202.03 3604.57,-188.07 3591.44,-177.29\"/>\n",
       "</g>\n",
       "<!-- Chunk&#45;&gt;`aeon_acquisition`.`__time_slice` -->\n",
       "<g id=\"edge54\" class=\"edge\">\n",
       "<title>Chunk-&gt;`aeon_acquisition`.`__time_slice`</title>\n",
       "<path fill=\"none\" stroke=\"#000000\" stroke-width=\"0.75\" stroke-opacity=\"0.250980\" d=\"M3544.74,-158.16C3427.57,-156.41 2940.91,-146.93 2544,-106 2509.91,-102.49 2470.07,-95.5 2450.35,-91.85\"/>\n",
       "</g>\n",
       "<!-- Chunk&#45;&gt;`aeon_acquisition`.`_subject_annotation` -->\n",
       "<g id=\"edge53\" class=\"edge\">\n",
       "<title>Chunk-&gt;`aeon_acquisition`.`_subject_annotation`</title>\n",
       "<path fill=\"none\" stroke=\"#000000\" stroke-width=\"2\" stroke-opacity=\"0.250980\" d=\"M3544.71,-152.79C3496.27,-142.28 3391.52,-119.56 3321.64,-104.39\"/>\n",
       "</g>\n",
       "<!-- Chunk&#45;&gt;acquisition.FoodPatchWheel -->\n",
       "<g id=\"edge55\" class=\"edge\">\n",
       "<title>Chunk-&gt;acquisition.FoodPatchWheel</title>\n",
       "<path fill=\"none\" stroke=\"#000000\" stroke-width=\"0.75\" stroke-opacity=\"0.250980\" d=\"M3544.52,-158.57C3454.72,-158.35 3163.02,-153.89 3085,-106 3058.42,-89.69 3041.83,-55.8 3033.8,-35.31\"/>\n",
       "</g>\n",
       "<!-- Chunk&#45;&gt;tracking.CameraTracking -->\n",
       "<g id=\"edge56\" class=\"edge\">\n",
       "<title>Chunk-&gt;tracking.CameraTracking</title>\n",
       "<path fill=\"none\" stroke=\"#000000\" stroke-width=\"0.75\" stroke-opacity=\"0.250980\" d=\"M3597.49,-151.32C3611.26,-147.89 3628.42,-144.09 3644,-142 4002.04,-93.99 4096.62,-142.63 4456,-106 4467.98,-104.78 4480.69,-103.08 4492.93,-101.23\"/>\n",
       "</g>\n",
       "<!-- Chunk&#45;&gt;InArenaTimeSlice -->\n",
       "<g id=\"edge57\" class=\"edge\">\n",
       "<title>Chunk-&gt;InArenaTimeSlice</title>\n",
       "<path fill=\"none\" stroke=\"#000000\" stroke-width=\"0.75\" stroke-opacity=\"0.250980\" d=\"M3544.54,-157.65C3458.51,-154.59 3179.03,-142.33 2951,-106 2930.41,-102.72 2906.89,-96.7 2893.03,-92.91\"/>\n",
       "</g>\n",
       "<!-- Chunk&#45;&gt;VisitSubjectPosition -->\n",
       "<g id=\"edge58\" class=\"edge\">\n",
       "<title>Chunk-&gt;VisitSubjectPosition</title>\n",
       "<path fill=\"none\" stroke=\"#000000\" stroke-width=\"0.75\" stroke-opacity=\"0.250980\" d=\"M3544.7,-157.96C3307.57,-153.06 1544.27,-116.4 1434,-106 1402.12,-102.99 1365.02,-95.92 1346.24,-92.09\"/>\n",
       "</g>\n",
       "<!-- Chunk&#45;&gt;WeightMeasurement -->\n",
       "<g id=\"edge59\" class=\"edge\">\n",
       "<title>Chunk-&gt;WeightMeasurement</title>\n",
       "<path fill=\"none\" stroke=\"#000000\" stroke-width=\"0.75\" stroke-opacity=\"0.250980\" d=\"M3597.18,-151.62C3611.01,-148.23 3628.33,-144.37 3644,-142 3848.08,-111.17 3901.71,-127.41 4107,-106 4126.75,-103.94 4148.18,-101.29 4167.68,-98.72\"/>\n",
       "</g>\n",
       "<!-- Chunk&#45;&gt;qc.CameraQC -->\n",
       "<g id=\"edge60\" class=\"edge\">\n",
       "<title>Chunk-&gt;qc.CameraQC</title>\n",
       "<path fill=\"none\" stroke=\"#000000\" stroke-width=\"0.75\" stroke-opacity=\"0.250980\" d=\"M3597.5,-151.37C3611.27,-147.96 3628.43,-144.16 3644,-142 3942.46,-100.64 4022.87,-149.71 4321,-106 4329.41,-104.77 4338.31,-102.97 4346.8,-101.02\"/>\n",
       "</g>\n",
       "<!-- Chunk&#45;&gt;acquisition.SubjectEnterExit -->\n",
       "<g id=\"edge61\" class=\"edge\">\n",
       "<title>Chunk-&gt;acquisition.SubjectEnterExit</title>\n",
       "<path fill=\"none\" stroke=\"#000000\" stroke-width=\"2\" stroke-opacity=\"0.250980\" d=\"M3568.1,-141.8C3566.21,-130.95 3563.76,-116.87 3561.88,-106.05\"/>\n",
       "</g>\n",
       "<!-- Chunk&#45;&gt;acquisition.SubjectWeight -->\n",
       "<g id=\"edge62\" class=\"edge\">\n",
       "<title>Chunk-&gt;acquisition.SubjectWeight</title>\n",
       "<path fill=\"none\" stroke=\"#000000\" stroke-width=\"2\" stroke-opacity=\"0.250980\" d=\"M3597.39,-146.65C3601.87,-144.92 3606.52,-143.29 3611,-142 3633.38,-135.56 3764.37,-114.13 3848.15,-100.72\"/>\n",
       "</g>\n",
       "<!-- ExperimentLog -->\n",
       "<g id=\"node54\" class=\"node\">\n",
       "<title>ExperimentLog</title>\n",
       "<g id=\"a_node54\"><a xlink:title=\"→ Chunk\r",
       "\">\n",
       "<ellipse fill=\"#00007f\" fill-opacity=\"0.250980\" stroke=\"#00007f\" stroke-opacity=\"0.250980\" cx=\"3743\" cy=\"-88.5\" rx=\"61\" ry=\"17.5\"/>\n",
       "<text text-anchor=\"middle\" x=\"3743\" y=\"-85.4\" font-family=\"arial\" font-size=\"12.00\" fill=\"#00007f\" fill-opacity=\"0.627451\">ExperimentLog</text>\n",
       "</a>\n",
       "</g>\n",
       "</g>\n",
       "<!-- Chunk&#45;&gt;ExperimentLog -->\n",
       "<g id=\"edge63\" class=\"edge\">\n",
       "<title>Chunk-&gt;ExperimentLog</title>\n",
       "<path fill=\"none\" stroke=\"#000000\" stroke-width=\"2\" stroke-opacity=\"0.250980\" d=\"M3597.23,-147.62C3601.82,-145.74 3606.54,-143.81 3611,-142 3643.92,-128.67 3681.57,-113.72 3708.21,-103.2\"/>\n",
       "</g>\n",
       "<!-- Chunk&#45;&gt;Chunk.File -->\n",
       "<g id=\"edge64\" class=\"edge\">\n",
       "<title>Chunk-&gt;Chunk.File</title>\n",
       "<path fill=\"none\" stroke=\"#000000\" stroke-width=\"0.75\" stroke-opacity=\"0.250980\" d=\"M3597.3,-146.33C3601.8,-144.64 3606.47,-143.1 3611,-142 3790.45,-98.28 3845.37,-148.95 4025,-106 4032.91,-104.11 4041.3,-100.95 4048.41,-97.91\"/>\n",
       "</g>\n",
       "<!-- Chunk&#45;&gt;acquisition.FoodPatchEvent -->\n",
       "<g id=\"edge65\" class=\"edge\">\n",
       "<title>Chunk-&gt;acquisition.FoodPatchEvent</title>\n",
       "<path fill=\"none\" stroke=\"#000000\" stroke-width=\"0.75\" stroke-opacity=\"0.250980\" d=\"M3544.81,-157.59C3449.92,-154.03 3128.03,-139.55 3098,-106 3065.06,-69.2 3132.07,-44.66 3188.98,-31.16\"/>\n",
       "</g>\n",
       "<!-- Chunk&#45;&gt;acquisition.WheelState -->\n",
       "<g id=\"edge66\" class=\"edge\">\n",
       "<title>Chunk-&gt;acquisition.WheelState</title>\n",
       "<path fill=\"none\" stroke=\"#000000\" stroke-width=\"0.75\" stroke-opacity=\"0.250980\" d=\"M3544.76,-158.27C3467.54,-157.07 3234.8,-149.81 3048,-106 3009.76,-97.03 2908.13,-56.38 2852.93,-33.78\"/>\n",
       "</g>\n",
       "<!-- Experiment.Subject&#45;&gt;`aeon_acquisition`.`_subject_annotation__annotation` -->\n",
       "<g id=\"edge68\" class=\"edge\">\n",
       "<title>Experiment.Subject-&gt;`aeon_acquisition`.`_subject_annotation__annotation`</title>\n",
       "<path fill=\"none\" stroke=\"#000000\" stroke-width=\"0.75\" stroke-opacity=\"0.250980\" d=\"M3005.19,-221.14C3012.77,-194.1 3040.57,-108.62 3098,-71 3101.5,-68.71 3320,-41.26 3434.56,-26.99\"/>\n",
       "</g>\n",
       "<!-- Experiment.Subject&#45;&gt;`aeon_acquisition`.`__session` -->\n",
       "<g id=\"edge67\" class=\"edge\">\n",
       "<title>Experiment.Subject-&gt;`aeon_acquisition`.`__session`</title>\n",
       "<path fill=\"none\" stroke=\"#000000\" stroke-width=\"0.75\" stroke-opacity=\"0.250980\" d=\"M2952.36,-223.32C2828.85,-208.23 2517.35,-170.19 2450.68,-162.05\"/>\n",
       "</g>\n",
       "<!-- Experiment.Subject&#45;&gt;acquisition.SubjectEnterExit.Time -->\n",
       "<g id=\"edge69\" class=\"edge\">\n",
       "<title>Experiment.Subject-&gt;acquisition.SubjectEnterExit.Time</title>\n",
       "<path fill=\"none\" stroke=\"#000000\" stroke-width=\"0.75\" stroke-opacity=\"0.250980\" d=\"M3053.89,-221.53C3133.61,-207.43 3290.95,-173.04 3408,-106 3427.92,-94.59 3425.47,-81.29 3446,-71 3448.63,-69.68 3601.74,-41.47 3680.81,-26.96\"/>\n",
       "</g>\n",
       "<!-- Experiment.Subject&#45;&gt;acquisition.SubjectWeight.WeightTime -->\n",
       "<g id=\"edge70\" class=\"edge\">\n",
       "<title>Experiment.Subject-&gt;acquisition.SubjectWeight.WeightTime</title>\n",
       "<path fill=\"none\" stroke=\"#000000\" stroke-width=\"0.75\" stroke-opacity=\"0.250980\" d=\"M3053.99,-229.25C3180.86,-227.97 3507.58,-220.43 3606,-177 3627.01,-167.73 3622.95,-151.17 3644,-142 3738.61,-100.77 4036.91,-181.75 4107,-106 4147.71,-62 4055.94,-38.22 3986.8,-26.97\"/>\n",
       "</g>\n",
       "<!-- Experiment.Subject&#45;&gt;SubjectWheelTravelledDistance -->\n",
       "<g id=\"edge71\" class=\"edge\">\n",
       "<title>Experiment.Subject-&gt;SubjectWheelTravelledDistance</title>\n",
       "<path fill=\"none\" stroke=\"#000000\" stroke-width=\"2\" stroke-opacity=\"0.250980\" d=\"M2952.33,-228.15C2819.08,-224.22 2447.99,-210.86 2141,-177 2108.06,-173.37 2069.58,-166.5 2050.31,-162.87\"/>\n",
       "</g>\n",
       "<!-- SubjectRewardRateDifference -->\n",
       "<g id=\"node50\" class=\"node\">\n",
       "<title>SubjectRewardRateDifference</title>\n",
       "<g id=\"a_node50\"><a xlink:title=\"→ Experiment.Subject\r",
       "------------------------------\r",
       "in_arena_count       \r",
       "reward_rate_difference_plotly \r",
       "\">\n",
       "<ellipse fill=\"#ff0000\" fill-opacity=\"0.125490\" stroke=\"#ff0000\" stroke-opacity=\"0.125490\" cx=\"2240\" cy=\"-159.5\" rx=\"13\" ry=\"13\"/>\n",
       "<text text-anchor=\"middle\" x=\"2240\" y=\"-156.4\" font-family=\"arial\" font-size=\"12.00\" fill=\"#7f0000\" fill-opacity=\"0.627451\">SubjectRewardRateDifference</text>\n",
       "</a>\n",
       "</g>\n",
       "</g>\n",
       "<!-- Experiment.Subject&#45;&gt;SubjectRewardRateDifference -->\n",
       "<g id=\"edge72\" class=\"edge\">\n",
       "<title>Experiment.Subject-&gt;SubjectRewardRateDifference</title>\n",
       "<path fill=\"none\" stroke=\"#000000\" stroke-width=\"2\" stroke-opacity=\"0.250980\" d=\"M2952.38,-227.03C2841,-221.25 2566.44,-205.19 2338,-177 2307.01,-173.17 2270.85,-166.51 2252.33,-162.93\"/>\n",
       "</g>\n",
       "<!-- Visit -->\n",
       "<g id=\"node53\" class=\"node\">\n",
       "<title>Visit</title>\n",
       "<g id=\"a_node53\"><a xlink:title=\"→ Experiment.Subject\r",
       "→ analysis.Place\r",
       "visit_start          \r",
       "\">\n",
       "<polygon fill=\"#00ff00\" fill-opacity=\"0.188235\" stroke=\"#00ff00\" stroke-opacity=\"0.188235\" points=\"405.5,-177 366.5,-177 366.5,-142 405.5,-142 405.5,-177\"/>\n",
       "<text text-anchor=\"start\" x=\"374.5\" y=\"-157.4\" font-family=\"arial\" text-decoration=\"underline\" font-size=\"12.00\" fill=\"darkgreen\">Visit</text>\n",
       "</a>\n",
       "</g>\n",
       "</g>\n",
       "<!-- Experiment.Subject&#45;&gt;Visit -->\n",
       "<g id=\"edge73\" class=\"edge\">\n",
       "<title>Experiment.Subject-&gt;Visit</title>\n",
       "<path fill=\"none\" stroke=\"#000000\" stroke-width=\"0.75\" stroke-opacity=\"0.250980\" d=\"M2952.17,-229.1C2701.96,-226.96 1576.2,-215.54 655,-177 561.74,-173.1 450.47,-165.26 405.9,-161.99\"/>\n",
       "</g>\n",
       "<!-- InArena -->\n",
       "<g id=\"node55\" class=\"node\">\n",
       "<title>InArena</title>\n",
       "<g id=\"a_node55\"><a xlink:title=\"→ Experiment.Subject\r",
       "in_arena_start       \r",
       "------------------------------\r",
       "→ [nullable] acquisition.TaskProtocol\r",
       "\">\n",
       "<ellipse fill=\"#ff0000\" fill-opacity=\"0.125490\" stroke=\"#ff0000\" stroke-opacity=\"0.125490\" cx=\"2744\" cy=\"-159.5\" rx=\"13\" ry=\"13\"/>\n",
       "<text text-anchor=\"start\" x=\"2722.5\" y=\"-157.4\" font-family=\"arial\" text-decoration=\"underline\" font-size=\"12.00\" fill=\"#7f0000\" fill-opacity=\"0.627451\">InArena</text>\n",
       "</a>\n",
       "</g>\n",
       "</g>\n",
       "<!-- Experiment.Subject&#45;&gt;InArena -->\n",
       "<g id=\"edge74\" class=\"edge\">\n",
       "<title>Experiment.Subject-&gt;InArena</title>\n",
       "<path fill=\"none\" stroke=\"#000000\" stroke-width=\"0.75\" stroke-opacity=\"0.250980\" d=\"M2971.24,-221.04C2913.7,-205.71 2794.6,-173.98 2756.21,-163.75\"/>\n",
       "</g>\n",
       "<!-- Visit&#45;&gt;analysis.OverlapVisit.Visit -->\n",
       "<g id=\"edge75\" class=\"edge\">\n",
       "<title>Visit-&gt;analysis.OverlapVisit.Visit</title>\n",
       "<path fill=\"none\" stroke=\"#000000\" stroke-width=\"0.75\" stroke-opacity=\"0.250980\" d=\"M405.87,-154.49C460.11,-143.55 611.64,-112.98 685.9,-97.99\"/>\n",
       "</g>\n",
       "<!-- Visit&#45;&gt;VisitTimeDistribution -->\n",
       "<g id=\"edge76\" class=\"edge\">\n",
       "<title>Visit-&gt;VisitTimeDistribution</title>\n",
       "<path fill=\"none\" stroke=\"#000000\" stroke-width=\"0.75\" stroke-opacity=\"0.250980\" d=\"M378.5,-141.8C372.69,-128.87 364.82,-111.36 359.83,-100.25\"/>\n",
       "</g>\n",
       "<!-- Visit&#45;&gt;VisitForagingBout -->\n",
       "<g id=\"edge77\" class=\"edge\">\n",
       "<title>Visit-&gt;VisitForagingBout</title>\n",
       "<path fill=\"none\" stroke=\"#000000\" stroke-width=\"0.75\" stroke-opacity=\"0.250980\" d=\"M366.22,-150.89C344.56,-142.01 309.41,-125.98 283,-106 251.63,-82.27 222.21,-45.57 209.12,-28.22\"/>\n",
       "</g>\n",
       "<!-- Visit&#45;&gt;VisitSubjectPosition -->\n",
       "<g id=\"edge78\" class=\"edge\">\n",
       "<title>Visit-&gt;VisitSubjectPosition</title>\n",
       "<path fill=\"none\" stroke=\"#000000\" stroke-width=\"0.75\" stroke-opacity=\"0.250980\" d=\"M405.89,-157.26C527.06,-149.68 1162.05,-109.89 1203,-106 1246.59,-101.86 1298.06,-94.71 1321.38,-91.35\"/>\n",
       "</g>\n",
       "<!-- Visit&#45;&gt;VisitSummary -->\n",
       "<g id=\"edge79\" class=\"edge\">\n",
       "<title>Visit-&gt;VisitSummary</title>\n",
       "<path fill=\"none\" stroke=\"#000000\" stroke-width=\"0.75\" stroke-opacity=\"0.250980\" d=\"M366.34,-154.29C306.13,-141.38 125.34,-102.64 76.36,-92.15\"/>\n",
       "</g>\n",
       "<!-- InArena&#45;&gt;InArenaTimeDistribution -->\n",
       "<g id=\"edge80\" class=\"edge\">\n",
       "<title>InArena-&gt;InArenaTimeDistribution</title>\n",
       "<path fill=\"none\" stroke=\"#000000\" stroke-width=\"2\" stroke-opacity=\"0.250980\" d=\"M2731.48,-157.24C2681.17,-152.09 2488.9,-131.75 2332,-106 2307.07,-101.91 2278.14,-95.76 2262.18,-92.23\"/>\n",
       "</g>\n",
       "<!-- InArena&#45;&gt;InArenaTimeSlice -->\n",
       "<g id=\"edge81\" class=\"edge\">\n",
       "<title>InArena-&gt;InArenaTimeSlice</title>\n",
       "<path fill=\"none\" stroke=\"#000000\" stroke-width=\"0.75\" stroke-opacity=\"0.250980\" d=\"M2754.75,-153.09C2780.23,-140.25 2844.11,-108.08 2869.92,-95.08\"/>\n",
       "</g>\n",
       "<!-- InArena&#45;&gt;InArenaSummary -->\n",
       "<g id=\"edge82\" class=\"edge\">\n",
       "<title>InArena-&gt;InArenaSummary</title>\n",
       "<path fill=\"none\" stroke=\"#000000\" stroke-width=\"2\" stroke-opacity=\"0.250980\" d=\"M2732.87,-152.85C2707.24,-139.85 2644.31,-107.92 2618.9,-95.03\"/>\n",
       "</g>\n",
       "<!-- InArenaRewardRate -->\n",
       "<g id=\"node59\" class=\"node\">\n",
       "<title>InArenaRewardRate</title>\n",
       "<g id=\"a_node59\"><a xlink:title=\"→ InArena\r",
       "------------------------------\r",
       "pellet_rate_timestamps \r",
       "patch2_patch1_rate_diff \r",
       "\">\n",
       "<ellipse fill=\"#ff0000\" fill-opacity=\"0.125490\" stroke=\"#ff0000\" stroke-opacity=\"0.125490\" cx=\"2744\" cy=\"-88.5\" rx=\"13\" ry=\"13\"/>\n",
       "<text text-anchor=\"middle\" x=\"2744\" y=\"-85.4\" font-family=\"arial\" font-size=\"12.00\" fill=\"#7f0000\" fill-opacity=\"0.627451\">InArenaRewardRate</text>\n",
       "</a>\n",
       "</g>\n",
       "</g>\n",
       "<!-- InArena&#45;&gt;InArenaRewardRate -->\n",
       "<g id=\"edge83\" class=\"edge\">\n",
       "<title>InArena-&gt;InArenaRewardRate</title>\n",
       "<path fill=\"none\" stroke=\"#000000\" stroke-width=\"2\" stroke-opacity=\"0.250980\" d=\"M2744,-146.8C2744,-134.18 2744,-114.22 2744,-101.49\"/>\n",
       "</g>\n",
       "<!-- InArenaRewardRate&#45;&gt;InArenaRewardRate.FoodPatch -->\n",
       "<g id=\"edge84\" class=\"edge\">\n",
       "<title>InArenaRewardRate-&gt;InArenaRewardRate.FoodPatch</title>\n",
       "<path fill=\"none\" stroke=\"#000000\" stroke-width=\"0.75\" stroke-opacity=\"0.250980\" d=\"M2733.76,-81.13C2713.68,-68.65 2669.17,-40.99 2646.64,-26.98\"/>\n",
       "</g>\n",
       "</g>\n",
       "</svg>"
      ],
      "text/plain": [
       "<datajoint.diagram.Diagram at 0x7f22e424b0d0>"
      ]
     },
     "execution_count": 4,
     "metadata": {},
     "output_type": "execute_result"
    }
   ],
   "source": [
    "import warnings\n",
    "warnings.filterwarnings('ignore')\n",
    "dj.Diagram(Experiment) + 2\n",
    "#warnings.simplefilter('always')"
   ]
  },
  {
   "cell_type": "markdown",
   "id": "3eb2cc2a",
   "metadata": {
    "slideshow": {
     "slide_type": "subslide"
    }
   },
   "source": [
    "### Code Repository Structure\n",
    "\n",
    "<img src=\"code_repos_structure.png\" width=\"1400\"/>"
   ]
  },
  {
   "cell_type": "markdown",
   "id": "4e17b56d",
   "metadata": {
    "slideshow": {
     "slide_type": "subslide"
    }
   },
   "source": [
    "### Software Development Practices\n",
    "\n",
    "- Iterative Software Development Lifecycle\n",
    "- Testing via PyTest\n",
    "- CI (_maybe CD?_) via GitHub Actions\n",
    "- Online docs under construction"
   ]
  },
  {
   "cell_type": "markdown",
   "id": "c01b36e8",
   "metadata": {
    "slideshow": {
     "slide_type": "slide"
    }
   },
   "source": [
    "## Challenge 5: Data Visualization and Analysis"
   ]
  },
  {
   "cell_type": "markdown",
   "id": "5812567f",
   "metadata": {
    "slideshow": {
     "slide_type": "subslide"
    }
   },
   "source": [
    "### Low-level Python API\n",
    "\n",
    "#### Schemas"
   ]
  },
  {
   "cell_type": "code",
   "execution_count": 45,
   "id": "a3116051",
   "metadata": {
    "slideshow": {
     "slide_type": "fragment"
    }
   },
   "outputs": [],
   "source": [
    "roots = [Path(\"/ceph/aeon/aeon/data/raw/AEON3/presocial0.1\"), Path(\"/ceph/aeon/aeon/data/raw/AEON2/presocial0.1\")]\n",
    "if not np.all([path.exists() for path in roots]):\n",
    "    print(\"Cannot find root paths. Check path names or connection.\")\n",
    "subject_events = api.load(roots, exp02.ExperimentalMetadata.SubjectState)\n",
    "sessions = visits(subject_events[subject_events.id.str.startswith(\"BAA\")])\n",
    "display(sessions)"
   ]
  },
  {
   "cell_type": "code",
   "execution_count": 52,
   "id": "459ae4d6",
   "metadata": {},
   "outputs": [
    {
     "data": {
      "text/plain": [
       "[<matplotlib.lines.Line2D at 0x7fd2b12f4fa0>]"
      ]
     },
     "execution_count": 52,
     "metadata": {},
     "output_type": "execute_result"
    },
    {
     "data": {
      "image/png": "[encoded data removed]",
      "text/plain": [
       "<Figure size 640x480 with 1 Axes>"
      ]
     },
     "metadata": {},
     "output_type": "display_data"
    }
   ],
   "source": [
    "s = sessions.iloc[-1]\n",
    "root = str(roots[1])\n",
    "encoder1 = api.load(root, exp02.Patch1.Encoder, start=s.enter, end=s.exit)\n",
    "w1 = -distancetravelled(encoder1.angle)\n",
    "plt.plot(w1)"
   ]
  },
  {
   "cell_type": "markdown",
   "id": "98a6f346",
   "metadata": {
    "slideshow": {
     "slide_type": "subslide"
    }
   },
   "source": [
    "### Datajoint API"
   ]
  },
  {
   "cell_type": "code",
   "execution_count": 38,
   "id": "b3e82fff-e757-4c49-a7a8-74f8fadc8922",
   "metadata": {
    "scrolled": true,
    "slideshow": {
     "slide_type": "fragment"
    }
   },
   "outputs": [
    {
     "name": "stdout",
     "output_type": "stream",
     "text": [
      "experiment_name      : char(12)                     # e.g exp0-a\n",
      "---\n",
      "experiment_start_time : datetime(6)                  # datetime of the start of this experiment\n",
      "experiment_description : varchar(1000)                # \n",
      "arena_name           : varchar(32)                  # unique name of the arena (e.g. circular_2m)\n",
      "lab                  : varchar(24)                  # Abbreviated lab name\n",
      "location             : varchar(32)                  # \n",
      "experiment_type=\"foraging\" : varchar(32)                  # \n",
      "\n",
      "<bound method QueryExpression.head of *experiment_name    experiment_start_time     experiment_description     arena_name     lab     location     experiment_type    \n",
      "+-----------------+ +-----------------------+ +------------------------+ +------------+ +-----+ +----------+ +-----------------+\n",
      "exp0.1-r0           2021-06-03 07:00:00       experiment 0.1             circle-2m      SWC     room-0       foraging           \n",
      "exp0.2-r0           2022-02-22 09:00:00       experiment 0.2 - 24/7      circle-2m      SWC     room-0       foraging           \n",
      "social0-r1          2021-11-30 14:00:00       social experiment 0        circle-2m      SWC     room-1       social             \n",
      " (Total: 3)\n",
      ">\n",
      "# \n",
      "experiment_name      : char(12)                     # e.g exp0-a\n",
      "subject              : varchar(32)                  # \n",
      "place                : varchar(32)                  # User-friendly name of a 'place' animals can visit - e.g. nest, arena, foodpatch\n",
      "visit_start          : datetime(6)                  # \n",
      "\n",
      "<bound method QueryExpression.head of *experiment_name    *subject        *place          *visit_start                  \n",
      "+-----------------+ +-------------+ +-------------+ +----------------------------+\n",
      "exp0.1-r0           BAA-1099790     environment     2021-06-03 08:37:52.918399    \n",
      "exp0.1-r0           BAA-1099790     environment     2021-06-04 07:46:35.178850    \n",
      "exp0.1-r0           BAA-1099790     environment     2021-06-07 08:16:34.970530    \n",
      "exp0.1-r0           BAA-1099790     environment     2021-06-08 08:06:19.915390    \n",
      "exp0.1-r0           BAA-1099790     environment     2021-06-15 13:59:20.369440    \n",
      "   ...\n",
      " (Total: 334)\n",
      ">\n"
     ]
    }
   ],
   "source": [
    "# Integration with new api, handling of multi-experiment types \n",
    "# (e.g. session single-animal, continous single-animal, session multi-animal)\n",
    "\n",
    "dj.Diagram(Experiment) + 2\n",
    "print(Experiment.heading)\n",
    "print(Experiment.head)\n",
    "print(Visit.heading)\n",
    "print(Visit.head)"
   ]
  },
  {
   "cell_type": "markdown",
   "id": "038f3416",
   "metadata": {
    "slideshow": {
     "slide_type": "subslide"
    }
   },
   "source": [
    "### Web Interfaces\n",
    "\n",
    "- [Dashboard](192.168.134.1:7777)\n",
    "- [Sci-viz](https://www.swc.ucl.ac.uk/aeon/login)"
   ]
  },
  {
   "cell_type": "markdown",
   "id": "687654f0",
   "metadata": {
    "cell_style": "center",
    "slideshow": {
     "slide_type": "slide"
    }
   },
   "source": [
    "<img src=\"Neuroscience.png\" width=\"1000\"/>"
   ]
  },
  {
   "cell_type": "markdown",
   "id": "086386e2",
   "metadata": {
    "cell_style": "center",
    "slideshow": {
     "slide_type": "subslide"
    }
   },
   "source": [
    "- Preliminary Findings\n",
    "    - Long-term Individual Foraging\n",
    "    - Acute Social Foraging\n",
    "- Planned Experiments\n",
    "    - Long-term Social Foraging \n",
    "    - Continual Learning and Generalization"
   ]
  },
  {
   "cell_type": "code",
   "execution_count": null,
   "id": "cf95181a",
   "metadata": {
    "slideshow": {
     "slide_type": "skip"
    }
   },
   "outputs": [],
   "source": []
  },
  {
   "cell_type": "code",
   "execution_count": 2,
   "id": "c567244e-952d-4eec-8653-cf13a329365c",
   "metadata": {
    "scrolled": true,
    "slideshow": {
     "slide_type": "skip"
    },
    "tags": []
   },
   "outputs": [
    {
     "name": "stdout",
     "output_type": "stream",
     "text": [
      "                                        id  weight  event\n",
      "time                                                     \n",
      "2021-06-03 08:37:52.918399811  BAA-1099790    25.2  Start\n",
      "2021-06-03 13:18:41.202020168  BAA-1099790    26.9    End\n",
      "2021-06-03 13:49:49.323520184  BAA-1099794    21.9  Start\n",
      "2021-06-03 18:01:51.744060040  BAA-1099794    26.2    End\n",
      "2021-06-04 07:46:35.178850174  BAA-1099790    24.9  Start\n",
      "                               weight   event     id\n",
      "time                                                \n",
      "2022-02-17 14:07:33.641499996   200.0  Remain  Dario\n",
      "2022-02-17 14:08:09.863490105   200.0  Remain  Dario\n",
      "2022-02-17 14:09:26.629499912   200.0  Remain  Dario\n",
      "2022-02-17 14:10:20.787489891   200.0  Remain  Dario\n",
      "2022-02-17 14:16:09.889500141   200.0  Remain  Dario\n"
     ]
    }
   ],
   "source": [
    "root_exp01 = '/ceph/aeon/aeon/data/raw/AEON/experiment0.1'\n",
    "root_exp02 = '/ceph/aeon/aeon/data/raw/AEON2/experiment0.2'\n",
    "# find all \"session\" Start and End events\n",
    "exp01_events = api.load(root_exp01, exp01.SessionData)\n",
    "exp02_events = api.load(root_exp02, exp02.ExperimentalMetadata.SubjectState)\n",
    "print(exp01_events.head())\n",
    "print(exp02_events.head())"
   ]
  },
  {
   "cell_type": "markdown",
   "id": "a3b8382f",
   "metadata": {
    "cell_style": "center",
    "slideshow": {
     "slide_type": "slide"
    }
   },
   "source": [
    "<img src=\"Future_Directions.png\" width=\"1000\"/>"
   ]
  },
  {
   "cell_type": "markdown",
   "id": "65220b61",
   "metadata": {
    "cell_style": "center"
   },
   "source": [
    "### Future Directions\n",
    "  - Electrophysiology\n",
    "  - Platform Enhancements"
   ]
  },
  {
   "cell_type": "markdown",
   "id": "0b7ed059",
   "metadata": {
    "slideshow": {
     "slide_type": "slide"
    }
   },
   "source": [
    "## Electrophysiology\n",
    "\n",
    "- OpenEphys Onix Headstages for Neuropixels 2!\n",
    "- Early results from Kalman filter assisted computer vision for automatic commutation"
   ]
  },
  {
   "cell_type": "code",
   "execution_count": null,
   "id": "d9da7281-d19d-4d37-8936-725c975bf4e9",
   "metadata": {},
   "outputs": [],
   "source": [
    "exp01_sessions = exp01_events[exp01_events.id.str.startswith('BAA')]  # take only proper sessions\n",
    "if len(exp01_sessions) % 2 != 0:                                      # if number of sessions don't pair up\n",
    "    exp01_sessions = exp01_sessions.drop(exp01_sessions.index[-1])    # drop last session (might be ongoing)\n",
    "print(exp01_sessions.head())\n",
    "exp01_sessions = visits(exp01_sessions, onset='Start', offset='End')  # compute session duration\n",
    "\n",
    "\n",
    "exp02_sessions = exp02_events[exp02_events.id.str.startswith('BAA')]              \n",
    "if len(exp02_sessions) % 2 != 0:                                      \n",
    "    exp02_sessions = exp02_sessions.drop(exp02_sessions.index[-1])    \n",
    "print(exp02_sessions.head())\n",
    "exp02_sessions = visits(exp02_sessions)\n",
    "\n",
    "print(exp01_sessions.head())\n",
    "print(exp02_sessions.head())"
   ]
  },
  {
   "cell_type": "code",
   "execution_count": null,
   "id": "dc1ac985-4470-4509-ba46-b2cc0111419f",
   "metadata": {},
   "outputs": [],
   "source": [
    "pos_exp01_ses1 = api.load(root_exp01, exp01.FrameTop.Position, start=exp01_sessions.iloc[1].start, end=exp01_sessions.iloc[1].end)\n",
    "pos_exp02_visit2 = api.load(root_exp02, exp02.CameraTop.Position, start=exp02_sessions.iloc[2].enter, end=exp02_sessions.iloc[2].exit)\n",
    "\n",
    "print(pos_exp01_ses1.head())\n",
    "print(pos_exp02_visit2.head())"
   ]
  },
  {
   "cell_type": "markdown",
   "id": "b392ac4b-c7db-48db-86bd-57fbb099ed57",
   "metadata": {},
   "source": [
    "## Datajoint Updates"
   ]
  },
  {
   "cell_type": "markdown",
   "id": "db415060-214f-4521-95d5-03d41669a7ed",
   "metadata": {},
   "source": [
    "## Fall / Winter Plans"
   ]
  },
  {
   "cell_type": "markdown",
   "id": "0c9bde05-ac44-400c-9c7a-dca7efa40a43",
   "metadata": {},
   "source": [
    "- Extending analysis of multianimal experiments\n",
    "\n",
    "\t- Online multianimal tracking and pose estimation with ma-DLC and SLEAP\n",
    "\n",
    "\t- Adding 1) multianimal body part position and 2) behaviour classification data to database\n",
    "\n",
    "- Brainstorming ephys pipelines\n",
    "\n",
    "\t- Preprocessing of ephys data (e.g. spikesorting and LFP band preprocessing)\n",
    "\n",
    "\t- Structuring ephys data in the database\n",
    "\n",
    "- Adding a video streamer/viewer to web GUI\n",
    "\n",
    "- Auto-ingestion of any new device data into the database\n",
    "\n",
    "- Continuous, online device qc\n",
    "\n",
    "- Updating experiment metadata files\n",
    "\n",
    "- Datajoint + pyrat integration"
   ]
  }
 ],
 "metadata": {
  "celltoolbar": "Slideshow",
  "kernelspec": {
   "display_name": "Python 3 (ipykernel)",
   "language": "python",
   "name": "python3"
  },
  "language_info": {
   "codemirror_mode": {
    "name": "ipython",
    "version": 3
   },
   "file_extension": ".py",
   "mimetype": "text/x-python",
   "name": "python",
   "nbconvert_exporter": "python",
   "pygments_lexer": "ipython3",
   "version": "3.10.10"
  },
  "rise": {
   "backimage": "backimage.png",
   "enable_chalkboard": true,
   "progress": true,
   "scroll": true,
   "slideNumber": true,
   "slideNumberFormat": "{current} / {total}",
   "start_slideshow_at": "selected",
   "theme": "dracula",
   "transition": "concave"
  }
 },
 "nbformat": 4,
 "nbformat_minor": 5
}
