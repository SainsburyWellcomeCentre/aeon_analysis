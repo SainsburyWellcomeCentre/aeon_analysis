{
 "cells": [
  {
   "cell_type": "markdown",
   "id": "97fecea1-f4cf-4623-8f6f-5b014d25698a",
   "metadata": {},
   "source": [
    "## Data Architecture Overview"
   ]
  },
  {
   "cell_type": "markdown",
   "id": "c1b682da-6eb4-4b81-b6ea-bd3c84582139",
   "metadata": {
    "tags": []
   },
   "source": [
    "### Data Pipelines\n",
    "\n",
    "![updated_aeon_pipelines.png](updated_aeon_pipelines.png)"
   ]
  },
  {
   "cell_type": "markdown",
   "id": "96dd16bc-e004-4899-9fbe-4cc039b6c7b3",
   "metadata": {
    "jp-MarkdownHeadingCollapsed": true,
    "tags": []
   },
   "source": [
    "### Data Storage\n",
    "\n",
    "![data_storage.png](data_storage.png)"
   ]
  },
  {
   "cell_type": "markdown",
   "id": "68fdecb0-3eb9-4ed4-aedd-629f9705a8ba",
   "metadata": {
    "tags": []
   },
   "source": [
    "### Code Repo Structure\n",
    "\n",
    "\"prod\", \"main\", and feature branches\n",
    "\n",
    "![code_repos_structure.jpg](code_repos_structure.jpg)"
   ]
  },
  {
   "cell_type": "markdown",
   "id": "741c8838-6267-4514-bf20-08b8a30a1c5a",
   "metadata": {},
   "source": [
    "## 'aeon_mecha' Updates"
   ]
  },
  {
   "cell_type": "markdown",
   "id": "42b296ae-ab45-4e21-8235-b88be1ad5e08",
   "metadata": {
    "tags": []
   },
   "source": [
    "### Updated aeon_mecha repo structure\n",
    "\n",
    "![aeon_mecha_reorg.png](aeon_mecha_reorg.png)"
   ]
  },
  {
   "cell_type": "markdown",
   "id": "a8234521-f6ac-4ec1-a81b-6a15131759cc",
   "metadata": {},
   "source": [
    "### Set \"schemas\" for different experiment types\n",
    "\n",
    "Allows for general use of low-level api across various experiments\n",
    "\n",
    "![reorg_schemas.png](reorg_schemas.png)"
   ]
  },
  {
   "cell_type": "code",
   "execution_count": 1,
   "id": "38100afb-38e2-469a-b497-dd2b4dd666f6",
   "metadata": {},
   "outputs": [],
   "source": [
    "import pandas as pd\n",
    "import numpy as np\n",
    "import matplotlib.pyplot as plt\n",
    "import seaborn as sns\n",
    "\n",
    "import aeon.io.api as api\n",
    "from aeon.schema.dataset import exp02, exp01\n",
    "from aeon.analysis.utils import visits"
   ]
  },
  {
   "cell_type": "code",
   "execution_count": 10,
   "id": "c567244e-952d-4eec-8653-cf13a329365c",
   "metadata": {
    "tags": []
   },
   "outputs": [
    {
     "name": "stdout",
     "output_type": "stream",
     "text": [
      "                                        id  weight  event\n",
      "time                                                     \n",
      "2021-06-03 08:37:52.918399811  BAA-1099790    25.2  Start\n",
      "2021-06-03 13:18:41.202020168  BAA-1099790    26.9    End\n",
      "2021-06-03 13:49:49.323520184  BAA-1099794    21.9  Start\n",
      "2021-06-03 18:01:51.744060040  BAA-1099794    26.2    End\n",
      "2021-06-04 07:46:35.178850174  BAA-1099790    24.9  Start\n",
      "                               weight   event     id\n",
      "time                                                \n",
      "2022-02-17 14:07:33.641499996   200.0  Remain  Dario\n",
      "2022-02-17 14:08:09.863490105   200.0  Remain  Dario\n",
      "2022-02-17 14:09:26.629499912   200.0  Remain  Dario\n",
      "2022-02-17 14:10:20.787489891   200.0  Remain  Dario\n",
      "2022-02-17 14:16:09.889500141   200.0  Remain  Dario\n"
     ]
    }
   ],
   "source": [
    "root_exp01 = '/ceph/aeon/aeon/data/raw/AEON/experiment0.1'\n",
    "root_exp02 = '/ceph/aeon/aeon/data/raw/AEON2/experiment0.2'\n",
    "# find all \"session\" Start and End events\n",
    "exp01_events = api.load(root_exp01, exp01.SessionData)\n",
    "exp02_events = api.load(root_exp02, exp02.ExperimentalMetadata.SubjectState)\n",
    "print(exp01_events.head())\n",
    "print(exp02_events.head())"
   ]
  },
  {
   "cell_type": "code",
   "execution_count": 11,
   "id": "d9da7281-d19d-4d37-8936-725c975bf4e9",
   "metadata": {},
   "outputs": [
    {
     "name": "stdout",
     "output_type": "stream",
     "text": [
      "                                        id  weight  event\n",
      "time                                                     \n",
      "2021-06-03 08:37:52.918399811  BAA-1099790    25.2  Start\n",
      "2021-06-03 13:18:41.202020168  BAA-1099790    26.9    End\n",
      "2021-06-03 13:49:49.323520184  BAA-1099794    21.9  Start\n",
      "2021-06-03 18:01:51.744060040  BAA-1099794    26.2    End\n",
      "2021-06-04 07:46:35.178850174  BAA-1099790    24.9  Start\n",
      "                               weight   event           id\n",
      "time                                                      \n",
      "2022-02-23 14:21:25.550300121    26.4   Enter  BAA-1100700\n",
      "2022-02-23 14:32:56.998499870    26.4  Remain  BAA-1100700\n",
      "2022-02-23 17:03:02.676479816    26.4  Remain  BAA-1100700\n",
      "2022-02-23 17:18:02.294499874    26.4  Remain  BAA-1100700\n",
      "2022-02-23 17:26:35.470499992    26.4  Remain  BAA-1100700\n",
      "            id  weight_start weight_end                         start  \\\n",
      "0  BAA-1099790          25.2       26.9 2021-06-03 08:37:52.918399811   \n",
      "1  BAA-1099794          21.9       26.2 2021-06-03 13:49:49.323520184   \n",
      "2  BAA-1099790          24.9       28.7 2021-06-04 07:46:35.178850174   \n",
      "3  BAA-1099794          22.5       27.1 2021-06-04 12:51:41.763460159   \n",
      "4  BAA-1099790          24.9       28.0 2021-06-07 08:16:34.970530033   \n",
      "\n",
      "                            end                  duration  \n",
      "0 2021-06-03 13:18:41.202020168 0 days 04:40:48.283620357  \n",
      "1 2021-06-03 18:01:51.744060040 0 days 04:12:02.420539856  \n",
      "2 2021-06-04 12:36:28.512420177 0 days 04:49:53.333570003  \n",
      "3 2021-06-04 17:10:50.035099983 0 days 04:19:08.271639824  \n",
      "4 2021-06-07 12:35:53.705279827 0 days 04:19:18.734749794  \n",
      "            id  weight_enter  weight_exit                         enter  \\\n",
      "0  BAA-1100700         26.40        28.10 2022-02-23 14:21:25.550300121   \n",
      "1  BAA-1100700         25.50        28.45 2022-03-02 13:47:43.875840187   \n",
      "2  BAA-1100700         24.55        24.55 2022-03-04 14:00:01.818980217   \n",
      "3  BAA-1100700         24.55        28.27 2022-03-04 14:04:16.610499859   \n",
      "4  BAA-1100700         26.30        26.30 2022-03-15 12:40:36.282139778   \n",
      "\n",
      "                           exit                  duration  \n",
      "0 2022-02-25 16:00:50.076419830 2 days 01:39:24.526119709  \n",
      "1 2022-03-02 18:14:47.459969997 0 days 04:27:03.584129810  \n",
      "2 2022-03-04 14:00:49.259260178 0 days 00:00:47.440279961  \n",
      "3 2022-03-04 19:24:41.778140068 0 days 05:20:25.167640209  \n",
      "4 2022-03-15 15:56:55.801119804 0 days 03:16:19.518980026  \n"
     ]
    }
   ],
   "source": [
    "exp01_sessions = exp01_events[exp01_events.id.str.startswith('BAA')]  # take only proper sessions\n",
    "if len(exp01_sessions) % 2 != 0:                                      # if number of sessions don't pair up\n",
    "    exp01_sessions = exp01_sessions.drop(exp01_sessions.index[-1])    # drop last session (might be ongoing)\n",
    "print(exp01_sessions.head())\n",
    "exp01_sessions = visits(exp01_sessions, onset='Start', offset='End')  # compute session duration\n",
    "\n",
    "\n",
    "exp02_sessions = exp02_events[exp02_events.id.str.startswith('BAA')]              \n",
    "if len(exp02_sessions) % 2 != 0:                                      \n",
    "    exp02_sessions = exp02_sessions.drop(exp02_sessions.index[-1])    \n",
    "print(exp02_sessions.head())\n",
    "exp02_sessions = visits(exp02_sessions)\n",
    "\n",
    "print(exp01_sessions.head())\n",
    "print(exp02_sessions.head())"
   ]
  },
  {
   "cell_type": "code",
   "execution_count": 12,
   "id": "dc1ac985-4470-4509-ba46-b2cc0111419f",
   "metadata": {},
   "outputs": [
    {
     "name": "stdout",
     "output_type": "stream",
     "text": [
      "                                        x           y     angle      major  \\\n",
      "time                                                                         \n",
      "2021-06-03 13:49:49.331552029  321.766296  769.737549  1.053047  36.865139   \n",
      "2021-06-03 13:49:49.351520061  323.031616  772.197937  1.030587  36.683720   \n",
      "2021-06-03 13:49:49.371551991  324.259247  774.437317  1.009591  35.807312   \n",
      "2021-06-03 13:49:49.391520023  325.546692  776.410095  1.027776  35.810875   \n",
      "2021-06-03 13:49:49.411551952  327.086639  778.393127  1.048764  36.244995   \n",
      "\n",
      "                                   minor   area  id  \n",
      "time                                                 \n",
      "2021-06-03 13:49:49.331552029  13.182050  498.5 NaN  \n",
      "2021-06-03 13:49:49.351520061  13.237064  501.0 NaN  \n",
      "2021-06-03 13:49:49.371551991  13.206387  490.5 NaN  \n",
      "2021-06-03 13:49:49.391520023  12.980263  482.0 NaN  \n",
      "2021-06-03 13:49:49.411551952  13.075988  490.5 NaN  \n",
      "                                x   y  angle  major  minor  area  id\n",
      "time                                                                \n",
      "2022-03-04 14:00:01.835008144 NaN NaN    NaN    0.0    0.0   0.0 NaN\n",
      "2022-03-04 14:00:01.854976177 NaN NaN    NaN    0.0    0.0   0.0 NaN\n",
      "2022-03-04 14:00:01.875008106 NaN NaN    NaN    0.0    0.0   0.0 NaN\n",
      "2022-03-04 14:00:01.894976139 NaN NaN    NaN    0.0    0.0   0.0 NaN\n",
      "2022-03-04 14:00:01.915008068 NaN NaN    NaN    0.0    0.0   0.0 NaN\n"
     ]
    }
   ],
   "source": [
    "pos_exp01_ses1 = api.load(root_exp01, exp01.FrameTop.Position, start=exp01_sessions.iloc[1].start, end=exp01_sessions.iloc[1].end)\n",
    "pos_exp02_visit2 = api.load(root_exp02, exp02.CameraTop.Position, start=exp02_sessions.iloc[2].enter, end=exp02_sessions.iloc[2].exit)\n",
    "\n",
    "print(pos_exp01_ses1.head())\n",
    "print(pos_exp02_visit2.head())"
   ]
  },
  {
   "cell_type": "markdown",
   "id": "b392ac4b-c7db-48db-86bd-57fbb099ed57",
   "metadata": {},
   "source": [
    "## Datajoint Updates"
   ]
  },
  {
   "cell_type": "code",
   "execution_count": 4,
   "id": "d0f91d2f-9cd2-4320-99eb-7af8af3fa924",
   "metadata": {},
   "outputs": [
    {
     "name": "stderr",
     "output_type": "stream",
     "text": [
      "[2022-09-09 11:54:25,649][INFO]: Connecting jbhagat@aeon-db2:3306\n",
      "[2022-09-09 11:54:25,664][INFO]: Connected jbhagat@aeon-db2:3306\n"
     ]
    }
   ],
   "source": [
    "import datajoint as dj\n",
    "dj.config['database.host'] = 'aeon-db2'\n",
    "dj.config['display.limit'] = 5  # rows per displayed table\n",
    "dj.conn()\n",
    "from aeon.dj_pipeline.analysis.in_arena import *\n",
    "from aeon.dj_pipeline.acquisition import WeightMeasurement, ExperimentLog, ExperimentWeightScale, Chunk, Experiment, _device_schema_mapping\n",
    "from aeon.dj_pipeline.report import *\n",
    "from aeon.io import api as io_api\n",
    "from aeon.dj_pipeline.utils.plotting import *"
   ]
  },
  {
   "cell_type": "code",
   "execution_count": 21,
   "id": "b3e82fff-e757-4c49-a7a8-74f8fadc8922",
   "metadata": {},
   "outputs": [
    {
     "name": "stdout",
     "output_type": "stream",
     "text": [
      "# \n",
      "experiment_name      : char(12)                     # e.g exp0-a\n",
      "---\n",
      "experiment_start_time : datetime(6)                  # datetime of the start of this experiment\n",
      "experiment_description : varchar(1000)                # \n",
      "arena_name           : varchar(32)                  # unique name of the arena (e.g. circular_2m)\n",
      "lab                  : varchar(24)                  # Abbreviated lab name\n",
      "location             : varchar(32)                  # \n",
      "experiment_type=\"foraging\" : varchar(32)                  # \n",
      "\n",
      "<bound method QueryExpression.head of *experiment_name    experiment_start_time     experiment_description     arena_name     lab     location     experiment_type    \n",
      "+-----------------+ +-----------------------+ +------------------------+ +------------+ +-----+ +----------+ +-----------------+\n",
      "exp0.1-r0           2021-06-03 07:00:00       experiment 0.1             circle-2m      SWC     room-0       foraging           \n",
      "exp0.2-r0           2022-02-22 09:00:00       experiment 0.2 - 24/7      circle-2m      SWC     room-0       foraging           \n",
      "social0-r1          2021-11-30 14:00:00       social experiment 0        circle-2m      SWC     room-1       social             \n",
      " (Total: 3)\n",
      ">\n",
      "# \n",
      "experiment_name      : char(12)                     # e.g exp0-a\n",
      "subject              : varchar(32)                  # \n",
      "place                : varchar(32)                  # User-friendly name of a 'place' animals can visit - e.g. nest, arena, foodpatch\n",
      "visit_start          : datetime(6)                  # \n",
      "\n",
      "<bound method QueryExpression.head of *experiment_name    *subject        *place          *visit_start                  \n",
      "+-----------------+ +-------------+ +-------------+ +----------------------------+\n",
      "exp0.1-r0           BAA-1099790     environment     2021-06-03 08:37:52.918399    \n",
      "exp0.1-r0           BAA-1099790     environment     2021-06-04 07:46:35.178850    \n",
      "exp0.1-r0           BAA-1099790     environment     2021-06-07 08:16:34.970530    \n",
      "exp0.1-r0           BAA-1099790     environment     2021-06-08 08:06:19.915390    \n",
      "exp0.1-r0           BAA-1099790     environment     2021-06-15 13:59:20.369440    \n",
      "   ...\n",
      " (Total: 315)\n",
      ">\n"
     ]
    }
   ],
   "source": [
    "# Integration with new api, handling of multi-experiment types \n",
    "# (e.g. session single-animal, continous single-animal, session multi-animal)\n",
    "\n",
    "dj.Diagram(Experiment) + 2\n",
    "print(Experiment.heading)\n",
    "print(Experiment.head)\n",
    "print(Visit.heading)\n",
    "print(Visit.head)"
   ]
  },
  {
   "cell_type": "markdown",
   "id": "db415060-214f-4521-95d5-03d41669a7ed",
   "metadata": {},
   "source": [
    "## Fall / Winter Plans"
   ]
  },
  {
   "cell_type": "markdown",
   "id": "0c9bde05-ac44-400c-9c7a-dca7efa40a43",
   "metadata": {},
   "source": [
    "- Extending analysis of multianimal experiments\n",
    "\n",
    "\t- Online multianimal tracking and pose estimation with ma-DLC and SLEAP\n",
    "\n",
    "\t- Adding 1) multianimal body part position and 2) behaviour classification data to database\n",
    "\n",
    "- Brainstorming ephys pipelines\n",
    "\n",
    "\t- Preprocessing of ephys data (e.g. spikesorting and LFP band preprocessing)\n",
    "\n",
    "\t- Structuring ephys data in the database\n",
    "\n",
    "- Adding a video streamer/viewer to web GUI\n",
    "\n",
    "- Auto-ingestion of any new device data into the database\n",
    "\n",
    "- Continuous, online device qc\n",
    "\n",
    "- Updating experiment metadata files\n",
    "\n",
    "- Datajoint + pyrat integration"
   ]
  }
 ],
 "metadata": {
  "kernelspec": {
   "display_name": "Python 3 (ipykernel)",
   "language": "python",
   "name": "python3"
  },
  "language_info": {
   "codemirror_mode": {
    "name": "ipython",
    "version": 3
   },
   "file_extension": ".py",
   "mimetype": "text/x-python",
   "name": "python",
   "nbconvert_exporter": "python",
   "pygments_lexer": "ipython3",
   "version": "3.10.10"
  }
 },
 "nbformat": 4,
 "nbformat_minor": 5
}
