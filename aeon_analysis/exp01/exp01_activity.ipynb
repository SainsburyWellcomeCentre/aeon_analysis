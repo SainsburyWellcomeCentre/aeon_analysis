{
 "cells": [
  {
   "cell_type": "code",
   "execution_count": 3,
   "metadata": {},
   "outputs": [],
   "source": [
    "import pandas as pd\n",
    "import aeon.io.api as aeon\n",
    "import matplotlib.pyplot as plt\n",
    "from aeon.schema.dataset import exp01\n",
    "from aeon.analysis.utils import visits, distancetravelled\n",
    "from functools import partial"
   ]
  },
  {
   "cell_type": "code",
   "execution_count": 8,
   "metadata": {},
   "outputs": [
    {
     "data": {
      "text/plain": [
       "PosixPath('/ceph/aeon/aeon/data/raw/AEON/experiment0.1/2021-06-03T08-23-55/FrameTop/FrameTop_2021-06-03T07-00-00.csv')"
      ]
     },
     "execution_count": 8,
     "metadata": {},
     "output_type": "execute_result"
    }
   ],
   "source": [
    "root = '/ceph/aeon/aeon/data/raw/AEON/experiment0.1'\n",
    "events = aeon.load(root, exp01.SessionData)                           # load all sessions"
   ]
  },
  {
   "cell_type": "code",
   "execution_count": 15,
   "metadata": {},
   "outputs": [
    {
     "data": {
      "text/html": [
       "<div>\n",
       "<style scoped>\n",
       "    .dataframe tbody tr th:only-of-type {\n",
       "        vertical-align: middle;\n",
       "    }\n",
       "\n",
       "    .dataframe tbody tr th {\n",
       "        vertical-align: top;\n",
       "    }\n",
       "\n",
       "    .dataframe thead th {\n",
       "        text-align: right;\n",
       "    }\n",
       "</style>\n",
       "<table border=\"1\" class=\"dataframe\">\n",
       "  <thead>\n",
       "    <tr style=\"text-align: right;\">\n",
       "      <th></th>\n",
       "      <th>id</th>\n",
       "      <th>weight_start</th>\n",
       "      <th>weight_end</th>\n",
       "      <th>start</th>\n",
       "      <th>end</th>\n",
       "      <th>duration</th>\n",
       "    </tr>\n",
       "  </thead>\n",
       "  <tbody>\n",
       "    <tr>\n",
       "      <th>0</th>\n",
       "      <td>BAA-1099790</td>\n",
       "      <td>25.2</td>\n",
       "      <td>26.9</td>\n",
       "      <td>2021-06-03 08:37:52.918399811</td>\n",
       "      <td>2021-06-03 13:18:41.202020168</td>\n",
       "      <td>0 days 04:40:48.283620357</td>\n",
       "    </tr>\n",
       "    <tr>\n",
       "      <th>1</th>\n",
       "      <td>BAA-1099794</td>\n",
       "      <td>21.9</td>\n",
       "      <td>26.2</td>\n",
       "      <td>2021-06-03 13:49:49.323520184</td>\n",
       "      <td>2021-06-03 18:01:51.744060040</td>\n",
       "      <td>0 days 04:12:02.420539856</td>\n",
       "    </tr>\n",
       "    <tr>\n",
       "      <th>2</th>\n",
       "      <td>BAA-1099790</td>\n",
       "      <td>24.9</td>\n",
       "      <td>28.7</td>\n",
       "      <td>2021-06-04 07:46:35.178850174</td>\n",
       "      <td>2021-06-04 12:36:28.512420177</td>\n",
       "      <td>0 days 04:49:53.333570003</td>\n",
       "    </tr>\n",
       "    <tr>\n",
       "      <th>3</th>\n",
       "      <td>BAA-1099794</td>\n",
       "      <td>22.5</td>\n",
       "      <td>27.1</td>\n",
       "      <td>2021-06-04 12:51:41.763460159</td>\n",
       "      <td>2021-06-04 17:10:50.035099983</td>\n",
       "      <td>0 days 04:19:08.271639824</td>\n",
       "    </tr>\n",
       "    <tr>\n",
       "      <th>4</th>\n",
       "      <td>BAA-1099790</td>\n",
       "      <td>24.9</td>\n",
       "      <td>28</td>\n",
       "      <td>2021-06-07 08:16:34.970530033</td>\n",
       "      <td>2021-06-07 12:35:53.705279827</td>\n",
       "      <td>0 days 04:19:18.734749794</td>\n",
       "    </tr>\n",
       "    <tr>\n",
       "      <th>...</th>\n",
       "      <td>...</td>\n",
       "      <td>...</td>\n",
       "      <td>...</td>\n",
       "      <td>...</td>\n",
       "      <td>...</td>\n",
       "      <td>...</td>\n",
       "    </tr>\n",
       "    <tr>\n",
       "      <th>184</th>\n",
       "      <td>BAA-1099790</td>\n",
       "      <td>24.2</td>\n",
       "      <td>24</td>\n",
       "      <td>2021-12-11 08:55:23.251900196</td>\n",
       "      <td>2021-12-11 15:38:21.189949989</td>\n",
       "      <td>0 days 06:42:57.938049793</td>\n",
       "    </tr>\n",
       "    <tr>\n",
       "      <th>185</th>\n",
       "      <td>BAA-1099791</td>\n",
       "      <td>24.5</td>\n",
       "      <td>23.5</td>\n",
       "      <td>2021-12-13 07:26:42.117539883</td>\n",
       "      <td>2021-12-13 14:05:26.431550026</td>\n",
       "      <td>0 days 06:38:44.314010143</td>\n",
       "    </tr>\n",
       "    <tr>\n",
       "      <th>186</th>\n",
       "      <td>BAA-1099795</td>\n",
       "      <td>23.6</td>\n",
       "      <td>23.5</td>\n",
       "      <td>2021-12-13 14:17:51.240029812</td>\n",
       "      <td>2021-12-13 19:32:45.731100082</td>\n",
       "      <td>0 days 05:14:54.491070270</td>\n",
       "    </tr>\n",
       "    <tr>\n",
       "      <th>187</th>\n",
       "      <td>BAA-1099795</td>\n",
       "      <td>22.9</td>\n",
       "      <td>22.3</td>\n",
       "      <td>2021-12-14 08:52:24.751840115</td>\n",
       "      <td>2021-12-14 18:29:22.048580170</td>\n",
       "      <td>0 days 09:36:57.296740055</td>\n",
       "    </tr>\n",
       "    <tr>\n",
       "      <th>188</th>\n",
       "      <td>BAA-1099790</td>\n",
       "      <td>32.5</td>\n",
       "      <td>31.2</td>\n",
       "      <td>2022-01-19 14:22:19.404990196</td>\n",
       "      <td>2022-01-19 17:30:39.398590088</td>\n",
       "      <td>0 days 03:08:19.993599892</td>\n",
       "    </tr>\n",
       "  </tbody>\n",
       "</table>\n",
       "<p>189 rows × 6 columns</p>\n",
       "</div>"
      ],
      "text/plain": [
       "              id weight_start weight_end                         start  \\\n",
       "0    BAA-1099790         25.2       26.9 2021-06-03 08:37:52.918399811   \n",
       "1    BAA-1099794         21.9       26.2 2021-06-03 13:49:49.323520184   \n",
       "2    BAA-1099790         24.9       28.7 2021-06-04 07:46:35.178850174   \n",
       "3    BAA-1099794         22.5       27.1 2021-06-04 12:51:41.763460159   \n",
       "4    BAA-1099790         24.9         28 2021-06-07 08:16:34.970530033   \n",
       "..           ...          ...        ...                           ...   \n",
       "184  BAA-1099790         24.2         24 2021-12-11 08:55:23.251900196   \n",
       "185  BAA-1099791         24.5       23.5 2021-12-13 07:26:42.117539883   \n",
       "186  BAA-1099795         23.6       23.5 2021-12-13 14:17:51.240029812   \n",
       "187  BAA-1099795         22.9       22.3 2021-12-14 08:52:24.751840115   \n",
       "188  BAA-1099790         32.5       31.2 2022-01-19 14:22:19.404990196   \n",
       "\n",
       "                              end                  duration  \n",
       "0   2021-06-03 13:18:41.202020168 0 days 04:40:48.283620357  \n",
       "1   2021-06-03 18:01:51.744060040 0 days 04:12:02.420539856  \n",
       "2   2021-06-04 12:36:28.512420177 0 days 04:49:53.333570003  \n",
       "3   2021-06-04 17:10:50.035099983 0 days 04:19:08.271639824  \n",
       "4   2021-06-07 12:35:53.705279827 0 days 04:19:18.734749794  \n",
       "..                            ...                       ...  \n",
       "184 2021-12-11 15:38:21.189949989 0 days 06:42:57.938049793  \n",
       "185 2021-12-13 14:05:26.431550026 0 days 06:38:44.314010143  \n",
       "186 2021-12-13 19:32:45.731100082 0 days 05:14:54.491070270  \n",
       "187 2021-12-14 18:29:22.048580170 0 days 09:36:57.296740055  \n",
       "188 2022-01-19 17:30:39.398590088 0 days 03:08:19.993599892  \n",
       "\n",
       "[189 rows x 6 columns]"
      ]
     },
     "execution_count": 15,
     "metadata": {},
     "output_type": "execute_result"
    }
   ],
   "source": [
    "sessions = events[events.id.str.startswith('BAA')]                    # take only proper sessions\n",
    "if len(sessions) % 2 != 0:                                            # if number of sessions don't pair up\n",
    "    sessions = sessions.drop(sessions.index[-1])                      #   drop last session (might be ongoing)\n",
    "sessions = visits(sessions, onset='Start', offset='End')              # compute session duration\n",
    "sessions"
   ]
  },
  {
   "cell_type": "code",
   "execution_count": 16,
   "metadata": {},
   "outputs": [
    {
     "name": "stdout",
     "output_type": "stream",
     "text": [
      "BAA-1099790 on 2021-06-03 08:37:52.918399811...\n"
     ]
    },
    {
     "data": {
      "image/png": "[encoded data removed]",
      "text/plain": [
       "<Figure size 432x288 with 4 Axes>"
      ]
     },
     "metadata": {
      "needs_background": "light"
     },
     "output_type": "display_data"
    }
   ],
   "source": [
    "session = sessions.iloc[0]                                                    # pick a session\n",
    "print('{0} on {1}...'.format(session.id, session.start))                      # print session report\n",
    "sessiondata = partial(aeon.load, root, start=session.start, end=session.end)  # get session data loader between start and end\n",
    "\n",
    "position = sessiondata(exp01.FrameTop.Position)                               # get position data\n",
    "position = position[position.area < 2000]                                     # filter for objects of the correct size\n",
    "\n",
    "encoder1 = sessiondata(exp01.Patch1.Encoder)                                  # get encoder data for patch1\n",
    "encoder2 = sessiondata(exp01.Patch2.Encoder)                                  # get encoder data for patch2\n",
    "pellets1 = sessiondata(exp01.Patch1.DeliverPellet)                            # get pellet events for patch1\n",
    "pellets2 = sessiondata(exp01.Patch2.DeliverPellet)                            # get pellet events for patch2\n",
    "\n",
    "wheel1 = distancetravelled(encoder1.angle)                                    # compute total distance travelled on patch1 wheel\n",
    "wheel2 = distancetravelled(encoder2.angle)                                    # compute total distance travelled on patch2 wheel\n",
    "\n",
    "fig, ((ax1, ax2), (ax3, ax4)) = plt.subplots(2, 2)                            # create a figure with subplots\n",
    "ax1.plot(position.x, position.y, alpha=0.4)                                   # plot position data as a path trajectory\n",
    "forage = position.reindex(pellets1.index, method='nearest')                   # get position data when a pellet is delivered at patch1\n",
    "forage.plot.scatter('x','y',s=1,c='red',ax=ax1)                               # plot mouse positions when pellets were delivered\n",
    "\n",
    "for trial in pellets1.itertuples():                                           # for each pellet delivery\n",
    "    before = trial.Index - pd.to_timedelta(10, 's')                           # get the previous 10 seconds\n",
    "    path = position.loc[before:trial.Index]                                   # get position data in the time before pellet delivery\n",
    "    ax1.plot(path.x, path.y)                                                  # plot path traces preceding pellet delivery\n",
    "\n",
    "ax2.hist(position.area, bins=100)                                             # plot histogram of tracked object size\n",
    "\n",
    "wheel1.plot(ax=ax3)                                                           # plot distance travelled on patch1 wheel\n",
    "wheel1.plot(ax=ax4)                                                           # plot distance travelled on patch2 wheel\n",
    "ax3.set_ylabel('distance (cm)')                                               # set axis label\n",
    "ax4.set_ylabel('distance (cm)')                                               # set axis label\n",
    "fig.tight_layout()\n",
    "plt.show()"
   ]
  }
 ],
 "metadata": {
  "interpreter": {
   "hash": "68494019e05f8ded6a73b496df895ac55320030c47424d8a8d1169ba2a68c537"
  },
  "kernelspec": {
   "display_name": "Python 3.9.12 64-bit ('aeon_env')",
   "language": "python",
   "name": "python3"
  },
  "language_info": {
   "codemirror_mode": {
    "name": "ipython",
    "version": 3
   },
   "file_extension": ".py",
   "mimetype": "text/x-python",
   "name": "python",
   "nbconvert_exporter": "python",
   "pygments_lexer": "ipython3",
   "version": "3.9.12"
  },
  "orig_nbformat": 4
 },
 "nbformat": 4,
 "nbformat_minor": 2
}
