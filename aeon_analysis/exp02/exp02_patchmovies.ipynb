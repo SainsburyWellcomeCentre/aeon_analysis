{
 "cells": [
  {
   "cell_type": "code",
   "execution_count": 1,
   "metadata": {},
   "outputs": [],
   "source": [
    "import cv2\n",
    "import numpy as np\n",
    "import pandas as pd\n",
    "from aeon.analysis.movies import *\n",
    "from aeon.analysis.utils import *\n",
    "from aeon.analysis.plotting import *\n",
    "import aeon.io.api as aeon\n",
    "import aeon.io.video as video\n",
    "import matplotlib.pyplot as plt\n",
    "from aeon.schema.dataset import exp02\n",
    "from functools import partial"
   ]
  },
  {
   "cell_type": "code",
   "execution_count": 75,
   "metadata": {},
   "outputs": [],
   "source": [
    "dpi = 300\n",
    "output = 'figures'\n",
    "plt.rcParams.update({'font.size': 22})\n",
    "root = '/ceph/aeon/aeon/data/raw/AEON2/experiment0.2'\n",
    "subjectState = aeon.load(root, exp02.ExperimentalMetadata.SubjectState)         # load all sessions"
   ]
  },
  {
   "cell_type": "code",
   "execution_count": 43,
   "metadata": {},
   "outputs": [
    {
     "data": {
      "text/html": [
       "<div>\n",
       "<style scoped>\n",
       "    .dataframe tbody tr th:only-of-type {\n",
       "        vertical-align: middle;\n",
       "    }\n",
       "\n",
       "    .dataframe tbody tr th {\n",
       "        vertical-align: top;\n",
       "    }\n",
       "\n",
       "    .dataframe thead th {\n",
       "        text-align: right;\n",
       "    }\n",
       "</style>\n",
       "<table border=\"1\" class=\"dataframe\">\n",
       "  <thead>\n",
       "    <tr style=\"text-align: right;\">\n",
       "      <th></th>\n",
       "      <th>id</th>\n",
       "      <th>weight_enter</th>\n",
       "      <th>weight_exit</th>\n",
       "      <th>enter</th>\n",
       "      <th>exit</th>\n",
       "      <th>duration</th>\n",
       "    </tr>\n",
       "  </thead>\n",
       "  <tbody>\n",
       "    <tr>\n",
       "      <th>0</th>\n",
       "      <td>BAA-1100703</td>\n",
       "      <td>30.3</td>\n",
       "      <td>29.5</td>\n",
       "      <td>2022-05-25 08:59:51.050459862</td>\n",
       "      <td>2022-06-06 07:55:37.501309872</td>\n",
       "      <td>11 days 22:55:46.450850010</td>\n",
       "    </tr>\n",
       "  </tbody>\n",
       "</table>\n",
       "</div>"
      ],
      "text/plain": [
       "            id weight_enter weight_exit                         enter  \\\n",
       "0  BAA-1100703         30.3        29.5 2022-05-25 08:59:51.050459862   \n",
       "\n",
       "                           exit                   duration  \n",
       "0 2022-06-06 07:55:37.501309872 11 days 22:55:46.450850010  "
      ]
     },
     "execution_count": 43,
     "metadata": {},
     "output_type": "execute_result"
    }
   ],
   "source": [
    "prefix = 'BAA-1100703'\n",
    "events = subjectState[subjectState.id == prefix]                         # take only sessions from specific mouse\n",
    "sessions = visits(events, onset='Enter', offset='Exit')                         # compute session duration\n",
    "sessions"
   ]
  },
  {
   "cell_type": "code",
   "execution_count": 4,
   "metadata": {},
   "outputs": [],
   "source": [
    "session = sessions.iloc[0]                                                     # pick a session\n",
    "enter, exit = session.enter, session.exit                                      # get session start and end           \n",
    "prefix = '{0}_{1}'.format(session.id, enter.date())                            # format figure prefix\n",
    "sessiondata = partial(aeon.load, root, start=enter, end=exit)                  # get session data loader between start and end"
   ]
  },
  {
   "cell_type": "code",
   "execution_count": 7,
   "metadata": {},
   "outputs": [],
   "source": [
    "pellets1 = sessiondata(exp02.Patch1.DeliverPellet)                # get pellet events for patch1\n",
    "pellets2 = sessiondata(exp02.Patch2.DeliverPellet)                # get pellet events for patch2\n",
    "state1 = sessiondata(exp02.Patch1.DepletionState)                 # get patch state for patch1 between start and end\n",
    "state2 = sessiondata(exp02.Patch2.DepletionState)                 # get patch state for patch2 between start and end\n"
   ]
  },
  {
   "cell_type": "code",
   "execution_count": 28,
   "metadata": {},
   "outputs": [
    {
     "data": {
      "text/plain": [
       "<AxesSubplot:xlabel='trials', ylabel='iti (seconds)'>"
      ]
     },
     "execution_count": 28,
     "metadata": {},
     "output_type": "execute_result"
    },
    {
     "data": {
      "image/png": "[encoded data removed]",
      "text/plain": [
       "<Figure size 432x288 with 1 Axes>"
      ]
     },
     "metadata": {
      "needs_background": "light"
     },
     "output_type": "display_data"
    }
   ],
   "source": [
    "trial2 = state2.reset_index()\n",
    "trial2['iti'] = trial2.time.diff().dt.total_seconds()\n",
    "trial2.iti.plot(xlabel='trials', ylabel='iti (seconds)')"
   ]
  },
  {
   "cell_type": "code",
   "execution_count": 85,
   "metadata": {},
   "outputs": [],
   "source": [
    "tstart = trial2.iloc[179].time\n",
    "tend = trial2.iloc[181].time\n",
    "# tstart, tend = trial_0.time, trial_1 + pd.Timedelta(60, 's')\n",
    "trialdata = partial(aeon.load, root, start=tstart, end=tend)                  # get trial data loader between start and end"
   ]
  },
  {
   "cell_type": "code",
   "execution_count": 86,
   "metadata": {},
   "outputs": [],
   "source": [
    "position = trialdata(exp02.CameraTop.Position)                  # get position data\n",
    "encoder2 = trialdata(exp02.Patch2.Encoder)                      # get encoder data for patch2\n",
    "wheel2 = distancetravelled(encoder2.angle)                      # compute total distance travelled on patch2 wheel\n",
    "frames = trialdata(exp02.CameraPatch2.Video)                    # get side view for patch2"
   ]
  },
  {
   "cell_type": "code",
   "execution_count": 53,
   "metadata": {},
   "outputs": [],
   "source": [
    "# clips = triggerclip(frames, pellets2, before='5s', after='10s')\n",
    "# movie = gridmovie(clips, 640, 1800, (5, 1))\n",
    "# video.export(movie, '{0}-in_patch2.avi'.format(prefix), 60)"
   ]
  },
  {
   "cell_type": "code",
   "execution_count": 79,
   "metadata": {},
   "outputs": [],
   "source": [
    "from exp02_patchmovies import wheelmovie\n",
    "movie = wheelmovie(frames, pellets2, wheel2)\n",
    "video.export(movie, '{0}-in_patch2-single-trial.avi'.format(prefix), 60)"
   ]
  },
  {
   "cell_type": "code",
   "execution_count": 102,
   "metadata": {},
   "outputs": [],
   "source": [
    "fig = plt.figure()\n",
    "fig.set_size_inches(19.2, 14.4)\n",
    "gs = fig.add_gridspec(3, 1)\n",
    "frame_ax = fig.add_subplot(gs[0:2,0])\n",
    "wheel_ax = fig.add_subplot(gs[2, 0])\n",
    "movie = video.frames(frames)\n",
    "\n",
    "signal = wheel2 * 0.01\n",
    "motion = (signal.rolling('8ms').mean()).reindex(frames.index, method='pad')\n",
    "wheel_ax.plot((motion.index-motion.index[0]).total_seconds(), motion, 'b')\n",
    "ymin, ymax = wheel_ax.get_ylim()\n",
    "xmin, xmax = wheel_ax.get_xlim()\n",
    "\n",
    "writer = None\n",
    "for i, frame in enumerate(movie):\n",
    "    wheel_ax.clear()\n",
    "    frame_ax.clear()\n",
    "    frame_ax.imshow(frame)\n",
    "    frame_ax.set_axis_off()\n",
    "    \n",
    "    wheel_ax.plot((motion.index-motion.index[0]).total_seconds(), motion, 'b')\n",
    "    wheel_ax.vlines((motion.index[i]-motion.index[0]).total_seconds(), ymin, ymax, 'r')\n",
    "    wheel_ax.hlines(1, xmin, xmax, 'k', 'dashed')\n",
    "\n",
    "    wheel_ax.set_ylim(ymin,ymax)\n",
    "    wheel_ax.set_ylabel('distance travelled (m)')\n",
    "    wheel_ax.set_xlabel('time (s)')\n",
    "    plt.tight_layout()\n",
    "    fig.subplots_adjust(left=0.2,right=0.8)\n",
    "    \n",
    "    fig.canvas.draw()\n",
    "    w, h = fig.canvas.get_width_height()\n",
    "    img = np.frombuffer(fig.canvas.buffer_rgba(), np.uint8).reshape(h, w, -1)\n",
    "    img = cv2.cvtColor(img, cv2.cv2.COLOR_RGBA2BGR)\n",
    "\n",
    "    if writer is None:\n",
    "        fourcc = cv2.VideoWriter_fourcc('m','p','4','v')\n",
    "        writer = cv2.VideoWriter('{0}-in_patch2-single-trial.avi'.format(prefix),fourcc,60, (img.shape[1], img.shape[0]))\n",
    "    writer.write(img)\n",
    "writer.release()\n",
    "plt.close(fig)"
   ]
  }
 ],
 "metadata": {
  "kernelspec": {
   "display_name": "Python 3",
   "language": "python",
   "name": "python3"
  },
  "language_info": {
   "codemirror_mode": {
    "name": "ipython",
    "version": 3
   },
   "file_extension": ".py",
   "mimetype": "text/x-python",
   "name": "python",
   "nbconvert_exporter": "python",
   "pygments_lexer": "ipython3",
   "version": "3.9.12"
  },
  "orig_nbformat": 4,
  "vscode": {
   "interpreter": {
    "hash": "68494019e05f8ded6a73b496df895ac55320030c47424d8a8d1169ba2a68c537"
   }
  }
 },
 "nbformat": 4,
 "nbformat_minor": 2
}
