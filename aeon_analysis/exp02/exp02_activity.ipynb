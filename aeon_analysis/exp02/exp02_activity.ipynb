{
 "cells": [
  {
   "cell_type": "code",
   "execution_count": 1,
   "metadata": {},
   "outputs": [],
   "source": [
    "import pandas as pd\n",
    "import aeon.io.api as aeon\n",
    "import matplotlib.pyplot as plt\n",
    "from aeon.io.schema import exp02\n",
    "from aeon.io.utils import visits, distancetravelled"
   ]
  },
  {
   "cell_type": "code",
   "execution_count": 2,
   "metadata": {},
   "outputs": [],
   "source": [
    "root = '/ceph/aeon/test2/data/raw'\n",
    "events = aeon.load(root, exp02.ExperimentalMetadata.SubjectState)     # load all sessions"
   ]
  },
  {
   "cell_type": "code",
   "execution_count": 3,
   "metadata": {},
   "outputs": [
    {
     "data": {
      "text/html": [
       "<div>\n",
       "<style scoped>\n",
       "    .dataframe tbody tr th:only-of-type {\n",
       "        vertical-align: middle;\n",
       "    }\n",
       "\n",
       "    .dataframe tbody tr th {\n",
       "        vertical-align: top;\n",
       "    }\n",
       "\n",
       "    .dataframe thead th {\n",
       "        text-align: right;\n",
       "    }\n",
       "</style>\n",
       "<table border=\"1\" class=\"dataframe\">\n",
       "  <thead>\n",
       "    <tr style=\"text-align: right;\">\n",
       "      <th></th>\n",
       "      <th>id</th>\n",
       "      <th>weight_enter</th>\n",
       "      <th>weight_exit</th>\n",
       "      <th>enter</th>\n",
       "      <th>exit</th>\n",
       "      <th>duration</th>\n",
       "    </tr>\n",
       "  </thead>\n",
       "  <tbody>\n",
       "    <tr>\n",
       "      <th>0</th>\n",
       "      <td>BAA-1100700</td>\n",
       "      <td>27.60</td>\n",
       "      <td>28.80</td>\n",
       "      <td>2022-03-16 15:06:37.790820122</td>\n",
       "      <td>2022-03-16 16:44:50.910079956</td>\n",
       "      <td>0 days 01:38:13.119259834</td>\n",
       "    </tr>\n",
       "    <tr>\n",
       "      <th>1</th>\n",
       "      <td>BAA-1100700</td>\n",
       "      <td>25.50</td>\n",
       "      <td>28.50</td>\n",
       "      <td>2022-03-17 15:56:35.478690147</td>\n",
       "      <td>2022-03-17 17:41:48.763070107</td>\n",
       "      <td>0 days 01:45:13.284379960</td>\n",
       "    </tr>\n",
       "    <tr>\n",
       "      <th>2</th>\n",
       "      <td>BAA-1100700</td>\n",
       "      <td>24.30</td>\n",
       "      <td>26.80</td>\n",
       "      <td>2022-03-23 14:47:58.253819942</td>\n",
       "      <td>2022-03-24 14:08:54.449150085</td>\n",
       "      <td>0 days 23:20:56.195330143</td>\n",
       "    </tr>\n",
       "    <tr>\n",
       "      <th>3</th>\n",
       "      <td>BAA-1100699</td>\n",
       "      <td>26.75</td>\n",
       "      <td>26.75</td>\n",
       "      <td>2022-03-29 13:11:37.277699947</td>\n",
       "      <td>2022-03-29 14:43:29.363490105</td>\n",
       "      <td>0 days 01:31:52.085790158</td>\n",
       "    </tr>\n",
       "    <tr>\n",
       "      <th>4</th>\n",
       "      <td>BAA-1100701</td>\n",
       "      <td>27.00</td>\n",
       "      <td>26.70</td>\n",
       "      <td>2022-04-04 13:59:13.352029800</td>\n",
       "      <td>2022-04-04 15:19:41.652349949</td>\n",
       "      <td>0 days 01:20:28.300320149</td>\n",
       "    </tr>\n",
       "    <tr>\n",
       "      <th>5</th>\n",
       "      <td>BAA-1100701</td>\n",
       "      <td>26.70</td>\n",
       "      <td>30.60</td>\n",
       "      <td>2022-04-04 15:54:07.945059776</td>\n",
       "      <td>2022-04-08 16:34:36.183650017</td>\n",
       "      <td>4 days 00:40:28.238590241</td>\n",
       "    </tr>\n",
       "    <tr>\n",
       "      <th>6</th>\n",
       "      <td>BAA-1100699</td>\n",
       "      <td>29.00</td>\n",
       "      <td>28.20</td>\n",
       "      <td>2022-04-20 11:51:24.997630119</td>\n",
       "      <td>2022-04-28 10:02:56.655809879</td>\n",
       "      <td>7 days 22:11:31.658179760</td>\n",
       "    </tr>\n",
       "    <tr>\n",
       "      <th>7</th>\n",
       "      <td>BAA-1100700</td>\n",
       "      <td>29.20</td>\n",
       "      <td>33.00</td>\n",
       "      <td>2022-04-29 09:37:08.806660175</td>\n",
       "      <td>2022-04-29 09:37:50.754849911</td>\n",
       "      <td>0 days 00:00:41.948189736</td>\n",
       "    </tr>\n",
       "    <tr>\n",
       "      <th>8</th>\n",
       "      <td>BAA-1100701</td>\n",
       "      <td>33.00</td>\n",
       "      <td>29.30</td>\n",
       "      <td>2022-04-29 09:37:50.754849911</td>\n",
       "      <td>2022-04-29 12:40:39.900259972</td>\n",
       "      <td>0 days 03:02:49.145410061</td>\n",
       "    </tr>\n",
       "  </tbody>\n",
       "</table>\n",
       "</div>"
      ],
      "text/plain": [
       "            id  weight_enter  weight_exit                         enter  \\\n",
       "0  BAA-1100700         27.60        28.80 2022-03-16 15:06:37.790820122   \n",
       "1  BAA-1100700         25.50        28.50 2022-03-17 15:56:35.478690147   \n",
       "2  BAA-1100700         24.30        26.80 2022-03-23 14:47:58.253819942   \n",
       "3  BAA-1100699         26.75        26.75 2022-03-29 13:11:37.277699947   \n",
       "4  BAA-1100701         27.00        26.70 2022-04-04 13:59:13.352029800   \n",
       "5  BAA-1100701         26.70        30.60 2022-04-04 15:54:07.945059776   \n",
       "6  BAA-1100699         29.00        28.20 2022-04-20 11:51:24.997630119   \n",
       "7  BAA-1100700         29.20        33.00 2022-04-29 09:37:08.806660175   \n",
       "8  BAA-1100701         33.00        29.30 2022-04-29 09:37:50.754849911   \n",
       "\n",
       "                           exit                  duration  \n",
       "0 2022-03-16 16:44:50.910079956 0 days 01:38:13.119259834  \n",
       "1 2022-03-17 17:41:48.763070107 0 days 01:45:13.284379960  \n",
       "2 2022-03-24 14:08:54.449150085 0 days 23:20:56.195330143  \n",
       "3 2022-03-29 14:43:29.363490105 0 days 01:31:52.085790158  \n",
       "4 2022-04-04 15:19:41.652349949 0 days 01:20:28.300320149  \n",
       "5 2022-04-08 16:34:36.183650017 4 days 00:40:28.238590241  \n",
       "6 2022-04-28 10:02:56.655809879 7 days 22:11:31.658179760  \n",
       "7 2022-04-29 09:37:50.754849911 0 days 00:00:41.948189736  \n",
       "8 2022-04-29 12:40:39.900259972 0 days 03:02:49.145410061  "
      ]
     },
     "execution_count": 3,
     "metadata": {},
     "output_type": "execute_result"
    }
   ],
   "source": [
    "sessions = events[events.id.str.startswith('BAA')]                    # take only proper visits\n",
    "if len(sessions) % 2 != 0:                                            # if number of visits don't pair up\n",
    "    sessions = sessions.drop(sessions.index[-1])                      # drop last visits (might be ongoing)\n",
    "sessions = visits(sessions)                                           # compute visit duration\n",
    "sessions = sessions[sessions.duration > pd.Timedelta(0)]              # filter any visits with zero duration\n",
    "sessions"
   ]
  },
  {
   "cell_type": "code",
   "execution_count": 11,
   "metadata": {},
   "outputs": [
    {
     "name": "stdout",
     "output_type": "stream",
     "text": [
      "BAA-1100700 on 2022-03-16 15:06:37.790820122...\n"
     ]
    },
    {
     "data": {
      "image/png": "[encoded data removed]",
      "text/plain": [
       "<Figure size 432x288 with 4 Axes>"
      ]
     },
     "metadata": {
      "needs_background": "light"
     },
     "output_type": "display_data"
    }
   ],
   "source": [
    "session = sessions.iloc[0]                                                    # pick a session\n",
    "print('{0} on {1}...'.format(session.id, session.enter))                      # print session report\n",
    "start = session.enter                                                         # session start time is session index\n",
    "end = start + session.duration                                                # end time = start time + duration\n",
    "position = aeon.load(root, exp02.CameraTop.Position, start=start, end=end)     # get position data between start and end\n",
    "position = position[position.area < 2000]                                     # filter for objects of the correct size\n",
    "\n",
    "encoder1 = aeon.load(root, exp02.Patch1.Encoder, start=start, end=end)        # get encoder data for patch1 between start and end\n",
    "encoder2 = aeon.load(root, exp02.Patch2.Encoder, start=start, end=end)        # get encoder data for patch1 between start and end\n",
    "pellets1 = aeon.load(root, exp02.Patch1.DeliverPellet, start=start, end=end)  # get pellet events for patch1 between start and end\n",
    "pellets2 = aeon.load(root, exp02.Patch2.DeliverPellet, start=start, end=end)  # get pellet events for patch1 between start and end\n",
    "\n",
    "wheel1 = distancetravelled(encoder1.angle)                                    # compute total distance travelled on patch1 wheel\n",
    "wheel2 = distancetravelled(encoder2.angle)                                    # compute total distance travelled on patch2 wheel\n",
    "\n",
    "fig, ((ax1, ax2), (ax3, ax4)) = plt.subplots(2, 2)                            # create a figure with subplots\n",
    "ax1.plot(position.x, position.y, alpha=0.4)                                   # plot position data as a path trajectory\n",
    "forage = position.reindex(pellets1.index, method='nearest')                   # get position data when a pellet is delivered at patch1\n",
    "forage.plot.scatter('x','y',s=1,c='red',ax=ax1)                               # plot mouse positions when pellets were delivered\n",
    "\n",
    "for trial in pellets1.itertuples():                                           # for each pellet delivery\n",
    "    before = trial.Index - pd.to_timedelta(10, 's')                           # get the previous 10 seconds\n",
    "    path = position.loc[before:trial.Index]                                   # get position data in the time before pellet delivery\n",
    "    ax1.plot(path.x, path.y)                                                  # plot path traces preceding pellet delivery\n",
    "\n",
    "ax2.hist(position.area, bins=100)                                             # plot histogram of tracked object size\n",
    "\n",
    "wheel1.plot(ax=ax3)                                                           # plot distance travelled on patch1 wheel\n",
    "wheel1.plot(ax=ax4)                                                           # plot distance travelled on patch2 wheel\n",
    "ax3.set_ylabel('distance (cm)')                                               # set axis label\n",
    "ax4.set_ylabel('distance (cm)')                                               # set axis label\n",
    "fig.tight_layout()\n",
    "plt.show()"
   ]
  }
 ],
 "metadata": {
  "interpreter": {
   "hash": "68494019e05f8ded6a73b496df895ac55320030c47424d8a8d1169ba2a68c537"
  },
  "kernelspec": {
   "display_name": "Python 3.9.12 64-bit ('aeon_env')",
   "language": "python",
   "name": "python3"
  },
  "language_info": {
   "codemirror_mode": {
    "name": "ipython",
    "version": 3
   },
   "file_extension": ".py",
   "mimetype": "text/x-python",
   "name": "python",
   "nbconvert_exporter": "python",
   "pygments_lexer": "ipython3",
   "version": "3.9.12"
  },
  "orig_nbformat": 4
 },
 "nbformat": 4,
 "nbformat_minor": 2
}
