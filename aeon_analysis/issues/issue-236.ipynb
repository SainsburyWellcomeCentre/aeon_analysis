{
 "cells": [
  {
   "cell_type": "code",
   "execution_count": 1,
   "metadata": {},
   "outputs": [],
   "source": [
    "import pandas as pd\n",
    "import matplotlib.pyplot as plt\n",
    "from aeon.analysis.utils import visits\n",
    "import aeon.io.api as aeon\n",
    "from functools import partial"
   ]
  },
  {
   "cell_type": "code",
   "execution_count": 2,
   "metadata": {},
   "outputs": [],
   "source": [
    "from dotmap import DotMap\n",
    "import aeon.schema.core as stream\n",
    "import aeon.schema.foraging as foraging\n",
    "from aeon.io.device import Device\n",
    "import aeon.io.reader as _reader\n",
    "\n",
    "def globalTrigger(pattern):\n",
    "    \"\"\"Raw global trigger notifications reported by video controller device.\"\"\"\n",
    "    return { \"GlobalTrigger\": _reader.Harp(f\"{pattern}_32_*\", ['value']) }\n",
    "\n",
    "def heartbeat(pattern):\n",
    "    \"\"\"Heartbeat event for Harp devices.\"\"\"\n",
    "    return { \"Heartbeat\": _reader.Harp(f\"{pattern}_8_*\", ['value']) }\n",
    "\n",
    "presocial = DotMap([\n",
    "    Device(\"ClockSynchronizer\", heartbeat),\n",
    "    Device(\"Metadata\", stream.metadata),\n",
    "    Device(\"ExperimentalMetadata\", stream.environment, stream.messageLog),\n",
    "    Device(\"VideoController\", globalTrigger),\n",
    "    Device(\"CameraTop\", stream.video, stream.position, foraging.region),\n",
    "    Device(\"CameraEast\", stream.video),\n",
    "    Device(\"CameraNest\", stream.video),\n",
    "    Device(\"CameraNorth\", stream.video),\n",
    "    Device(\"CameraPatch1\", stream.video),\n",
    "    Device(\"CameraPatch2\", stream.video),\n",
    "    Device(\"CameraSouth\", stream.video),\n",
    "    Device(\"CameraWest\", stream.video),\n",
    "    Device(\"Nest\", foraging.weight),\n",
    "    Device(\"Patch1\", foraging.patch),\n",
    "    Device(\"Patch2\", foraging.patch)\n",
    "])"
   ]
  },
  {
   "attachments": {},
   "cell_type": "markdown",
   "metadata": {},
   "source": [
    "### Presocial 0.1 ([#236](https://github.com/SainsburyWellcomeCentre/aeon_experiments/issues/236))"
   ]
  },
  {
   "cell_type": "code",
   "execution_count": 3,
   "metadata": {},
   "outputs": [],
   "source": [
    "root = '/ceph/aeon/aeon/data/raw/AEON3/presocial0.1/'\n",
    "events = aeon.load(root, presocial.ExperimentalMetadata.SubjectState)                           # load all sessions"
   ]
  },
  {
   "cell_type": "code",
   "execution_count": 4,
   "metadata": {},
   "outputs": [
    {
     "data": {
      "text/html": [
       "<div>\n",
       "<style scoped>\n",
       "    .dataframe tbody tr th:only-of-type {\n",
       "        vertical-align: middle;\n",
       "    }\n",
       "\n",
       "    .dataframe tbody tr th {\n",
       "        vertical-align: top;\n",
       "    }\n",
       "\n",
       "    .dataframe thead th {\n",
       "        text-align: right;\n",
       "    }\n",
       "</style>\n",
       "<table border=\"1\" class=\"dataframe\">\n",
       "  <thead>\n",
       "    <tr style=\"text-align: right;\">\n",
       "      <th></th>\n",
       "      <th>id</th>\n",
       "      <th>weight_enter</th>\n",
       "      <th>weight_exit</th>\n",
       "      <th>enter</th>\n",
       "      <th>exit</th>\n",
       "      <th>duration</th>\n",
       "    </tr>\n",
       "  </thead>\n",
       "  <tbody>\n",
       "    <tr>\n",
       "      <th>0</th>\n",
       "      <td>BAA-1103050</td>\n",
       "      <td>23.9</td>\n",
       "      <td>23.9</td>\n",
       "      <td>2023-02-28 16:37:28.423999786</td>\n",
       "      <td>2023-02-28 19:18:06.380000114</td>\n",
       "      <td>0 days 02:40:37.956000328</td>\n",
       "    </tr>\n",
       "    <tr>\n",
       "      <th>1</th>\n",
       "      <td>BAA-1103050</td>\n",
       "      <td>23.200001</td>\n",
       "      <td>&lt;NA&gt;</td>\n",
       "      <td>2023-03-01 16:35:10.480000019</td>\n",
       "      <td>NaT</td>\n",
       "      <td>NaT</td>\n",
       "    </tr>\n",
       "    <tr>\n",
       "      <th>2</th>\n",
       "      <td>BAA-1103050</td>\n",
       "      <td>25.6</td>\n",
       "      <td>24.0</td>\n",
       "      <td>2023-03-07 08:49:39.616000175</td>\n",
       "      <td>2023-03-07 11:51:46.423999786</td>\n",
       "      <td>0 days 03:02:06.807999611</td>\n",
       "    </tr>\n",
       "    <tr>\n",
       "      <th>3</th>\n",
       "      <td>BAA-1103050</td>\n",
       "      <td>23.6</td>\n",
       "      <td>23.299999</td>\n",
       "      <td>2023-03-08 12:26:32.992000103</td>\n",
       "      <td>2023-03-08 15:45:32.464000225</td>\n",
       "      <td>0 days 03:18:59.472000122</td>\n",
       "    </tr>\n",
       "    <tr>\n",
       "      <th>4</th>\n",
       "      <td>BAA-1103050</td>\n",
       "      <td>22.6</td>\n",
       "      <td>24.299999</td>\n",
       "      <td>2023-03-09 15:31:07.239999771</td>\n",
       "      <td>2023-03-09 18:19:16.271999836</td>\n",
       "      <td>0 days 02:48:09.032000065</td>\n",
       "    </tr>\n",
       "    <tr>\n",
       "      <th>5</th>\n",
       "      <td>BAA-1103050</td>\n",
       "      <td>23.200001</td>\n",
       "      <td>23.9</td>\n",
       "      <td>2023-03-10 09:41:48.783999920</td>\n",
       "      <td>2023-03-10 12:55:18.340000153</td>\n",
       "      <td>0 days 03:13:29.556000233</td>\n",
       "    </tr>\n",
       "    <tr>\n",
       "      <th>6</th>\n",
       "      <td>BAA-1103050</td>\n",
       "      <td>23.5</td>\n",
       "      <td>24.9</td>\n",
       "      <td>2023-03-23 14:30:26.423999786</td>\n",
       "      <td>2023-03-23 17:29:17.032000065</td>\n",
       "      <td>0 days 02:58:50.608000279</td>\n",
       "    </tr>\n",
       "    <tr>\n",
       "      <th>7</th>\n",
       "      <td>BAA-1103050</td>\n",
       "      <td>23.9</td>\n",
       "      <td>25.4</td>\n",
       "      <td>2023-03-24 09:11:06.288000107</td>\n",
       "      <td>2023-03-24 10:52:57.032000065</td>\n",
       "      <td>0 days 01:41:50.743999958</td>\n",
       "    </tr>\n",
       "    <tr>\n",
       "      <th>8</th>\n",
       "      <td>BAA-1103050</td>\n",
       "      <td>22.299999</td>\n",
       "      <td>25.6</td>\n",
       "      <td>2023-03-30 11:28:04.032000065</td>\n",
       "      <td>2023-03-30 14:33:36.527999878</td>\n",
       "      <td>0 days 03:05:32.495999813</td>\n",
       "    </tr>\n",
       "    <tr>\n",
       "      <th>9</th>\n",
       "      <td>BAA-1103050</td>\n",
       "      <td>21.4</td>\n",
       "      <td>26.5</td>\n",
       "      <td>2023-03-31 11:38:54.024000168</td>\n",
       "      <td>2023-03-31 14:40:14.460000038</td>\n",
       "      <td>0 days 03:01:20.435999870</td>\n",
       "    </tr>\n",
       "    <tr>\n",
       "      <th>10</th>\n",
       "      <td>BAA-1103050</td>\n",
       "      <td>22.5</td>\n",
       "      <td>25.6</td>\n",
       "      <td>2023-04-18 13:52:06.567999840</td>\n",
       "      <td>2023-04-18 17:15:53.696000099</td>\n",
       "      <td>0 days 03:23:47.128000259</td>\n",
       "    </tr>\n",
       "    <tr>\n",
       "      <th>11</th>\n",
       "      <td>BAA-1103050</td>\n",
       "      <td>22.0</td>\n",
       "      <td>26.6</td>\n",
       "      <td>2023-04-19 13:22:28.699999809</td>\n",
       "      <td>2023-04-19 16:39:48.380000114</td>\n",
       "      <td>0 days 03:17:19.680000305</td>\n",
       "    </tr>\n",
       "    <tr>\n",
       "      <th>12</th>\n",
       "      <td>BAA-1103050</td>\n",
       "      <td>24.1</td>\n",
       "      <td>27.0</td>\n",
       "      <td>2023-06-05 14:30:00.831999779</td>\n",
       "      <td>2023-06-05 16:33:41.607999802</td>\n",
       "      <td>0 days 02:03:40.776000023</td>\n",
       "    </tr>\n",
       "    <tr>\n",
       "      <th>13</th>\n",
       "      <td>BAA-1103050</td>\n",
       "      <td>23.6</td>\n",
       "      <td>28.200001</td>\n",
       "      <td>2023-06-06 12:42:45.619999886</td>\n",
       "      <td>2023-06-06 16:18:38.000000000</td>\n",
       "      <td>0 days 03:35:52.380000114</td>\n",
       "    </tr>\n",
       "    <tr>\n",
       "      <th>14</th>\n",
       "      <td>BAA-1103050</td>\n",
       "      <td>24.1</td>\n",
       "      <td>27.9</td>\n",
       "      <td>2023-06-07 12:32:33.392000198</td>\n",
       "      <td>2023-06-07 15:56:03.815999985</td>\n",
       "      <td>0 days 03:23:30.423999787</td>\n",
       "    </tr>\n",
       "    <tr>\n",
       "      <th>15</th>\n",
       "      <td>BAA-1103050</td>\n",
       "      <td>23.9</td>\n",
       "      <td>28.299999</td>\n",
       "      <td>2023-06-08 14:05:31.619999886</td>\n",
       "      <td>2023-06-08 18:01:24.624000072</td>\n",
       "      <td>0 days 03:55:53.004000186</td>\n",
       "    </tr>\n",
       "    <tr>\n",
       "      <th>16</th>\n",
       "      <td>BAA-1103050</td>\n",
       "      <td>24.799999</td>\n",
       "      <td>27.4</td>\n",
       "      <td>2023-06-09 13:36:39.223999977</td>\n",
       "      <td>2023-06-09 17:09:45.460000038</td>\n",
       "      <td>0 days 03:33:06.236000061</td>\n",
       "    </tr>\n",
       "  </tbody>\n",
       "</table>\n",
       "</div>"
      ],
      "text/plain": [
       "             id weight_enter weight_exit                         enter  \\\n",
       "0   BAA-1103050         23.9        23.9 2023-02-28 16:37:28.423999786   \n",
       "1   BAA-1103050    23.200001        <NA> 2023-03-01 16:35:10.480000019   \n",
       "2   BAA-1103050         25.6        24.0 2023-03-07 08:49:39.616000175   \n",
       "3   BAA-1103050         23.6   23.299999 2023-03-08 12:26:32.992000103   \n",
       "4   BAA-1103050         22.6   24.299999 2023-03-09 15:31:07.239999771   \n",
       "5   BAA-1103050    23.200001        23.9 2023-03-10 09:41:48.783999920   \n",
       "6   BAA-1103050         23.5        24.9 2023-03-23 14:30:26.423999786   \n",
       "7   BAA-1103050         23.9        25.4 2023-03-24 09:11:06.288000107   \n",
       "8   BAA-1103050    22.299999        25.6 2023-03-30 11:28:04.032000065   \n",
       "9   BAA-1103050         21.4        26.5 2023-03-31 11:38:54.024000168   \n",
       "10  BAA-1103050         22.5        25.6 2023-04-18 13:52:06.567999840   \n",
       "11  BAA-1103050         22.0        26.6 2023-04-19 13:22:28.699999809   \n",
       "12  BAA-1103050         24.1        27.0 2023-06-05 14:30:00.831999779   \n",
       "13  BAA-1103050         23.6   28.200001 2023-06-06 12:42:45.619999886   \n",
       "14  BAA-1103050         24.1        27.9 2023-06-07 12:32:33.392000198   \n",
       "15  BAA-1103050         23.9   28.299999 2023-06-08 14:05:31.619999886   \n",
       "16  BAA-1103050    24.799999        27.4 2023-06-09 13:36:39.223999977   \n",
       "\n",
       "                            exit                  duration  \n",
       "0  2023-02-28 19:18:06.380000114 0 days 02:40:37.956000328  \n",
       "1                            NaT                       NaT  \n",
       "2  2023-03-07 11:51:46.423999786 0 days 03:02:06.807999611  \n",
       "3  2023-03-08 15:45:32.464000225 0 days 03:18:59.472000122  \n",
       "4  2023-03-09 18:19:16.271999836 0 days 02:48:09.032000065  \n",
       "5  2023-03-10 12:55:18.340000153 0 days 03:13:29.556000233  \n",
       "6  2023-03-23 17:29:17.032000065 0 days 02:58:50.608000279  \n",
       "7  2023-03-24 10:52:57.032000065 0 days 01:41:50.743999958  \n",
       "8  2023-03-30 14:33:36.527999878 0 days 03:05:32.495999813  \n",
       "9  2023-03-31 14:40:14.460000038 0 days 03:01:20.435999870  \n",
       "10 2023-04-18 17:15:53.696000099 0 days 03:23:47.128000259  \n",
       "11 2023-04-19 16:39:48.380000114 0 days 03:17:19.680000305  \n",
       "12 2023-06-05 16:33:41.607999802 0 days 02:03:40.776000023  \n",
       "13 2023-06-06 16:18:38.000000000 0 days 03:35:52.380000114  \n",
       "14 2023-06-07 15:56:03.815999985 0 days 03:23:30.423999787  \n",
       "15 2023-06-08 18:01:24.624000072 0 days 03:55:53.004000186  \n",
       "16 2023-06-09 17:09:45.460000038 0 days 03:33:06.236000061  "
      ]
     },
     "execution_count": 4,
     "metadata": {},
     "output_type": "execute_result"
    }
   ],
   "source": [
    "sessions = events[events.id.str.startswith('BAA-1103050')]\n",
    "if len(sessions) % 2 != 0:                                            # if number of sessions don't pair up\n",
    "    sessions = sessions.drop(sessions.index[-1])                      #   drop last session (might be ongoing)\n",
    "sessions = visits(sessions, onset='Enter', offset='Exit')              # compute session duration\n",
    "sessions"
   ]
  },
  {
   "cell_type": "code",
   "execution_count": 5,
   "metadata": {},
   "outputs": [],
   "source": [
    "tstart = sessions.iloc[12].enter\n",
    "tend = sessions.iloc[12].exit\n",
    "trialdata = partial(aeon.load, root, start=tstart, end=tend) "
   ]
  },
  {
   "cell_type": "code",
   "execution_count": 6,
   "metadata": {},
   "outputs": [],
   "source": [
    "patch1 = trialdata(presocial.Patch1.Encoder)\n",
    "patch2 = trialdata(presocial.Patch2.Encoder)\n",
    "cameraPatch1 = trialdata(presocial.CameraPatch1.Video)\n",
    "hb = trialdata(presocial.ClockSynchronizer.Heartbeat)\n",
    "video = trialdata(presocial.VideoController.GlobalTrigger)\n",
    "hb['time'] = hb.index.values\n",
    "cameraPatch1['time'] = cameraPatch1.index.values\n",
    "video['time'] = video.index.values\n",
    "patch1['time'] = patch1.index.values\n",
    "patch2['time'] = patch2.index.values"
   ]
  },
  {
   "cell_type": "code",
   "execution_count": 12,
   "metadata": {},
   "outputs": [
    {
     "data": {
      "text/plain": [
       "Timedelta('0 days 00:02:35')"
      ]
     },
     "execution_count": 12,
     "metadata": {},
     "output_type": "execute_result"
    },
    {
     "data": {
      "image/png": "[encoded data removed]",
      "text/plain": [
       "<Figure size 432x288 with 1 Axes>"
      ]
     },
     "metadata": {
      "needs_background": "light"
     },
     "output_type": "display_data"
    }
   ],
   "source": [
    "# Difference between main clock synchronizer heartbeats\n",
    "hb.time.diff().plot()\n",
    "hb.time.diff().max()"
   ]
  },
  {
   "cell_type": "code",
   "execution_count": 13,
   "metadata": {},
   "outputs": [
    {
     "data": {
      "text/plain": [
       "Timedelta('0 days 00:02:33.329984188')"
      ]
     },
     "execution_count": 13,
     "metadata": {},
     "output_type": "execute_result"
    },
    {
     "data": {
      "image/png": "[encoded data removed]",
      "text/plain": [
       "<Figure size 432x288 with 1 Axes>"
      ]
     },
     "metadata": {
      "needs_background": "light"
     },
     "output_type": "display_data"
    }
   ],
   "source": [
    "# Difference between patch1 wheel sample timestamps\n",
    "patch1.time.diff().plot()\n",
    "patch1.time.diff().max()"
   ]
  },
  {
   "cell_type": "code",
   "execution_count": 14,
   "metadata": {},
   "outputs": [
    {
     "data": {
      "text/plain": [
       "Timedelta('0 days 00:02:33.232000351')"
      ]
     },
     "execution_count": 14,
     "metadata": {},
     "output_type": "execute_result"
    },
    {
     "data": {
      "image/png": "[encoded data removed]",
      "text/plain": [
       "<Figure size 432x288 with 1 Axes>"
      ]
     },
     "metadata": {
      "needs_background": "light"
     },
     "output_type": "display_data"
    }
   ],
   "source": [
    "# Difference between patch2 wheel sample timestamps\n",
    "patch2.time.diff().plot()\n",
    "patch2.time.diff().max()"
   ]
  },
  {
   "cell_type": "code",
   "execution_count": 15,
   "metadata": {},
   "outputs": [
    {
     "data": {
      "text/plain": [
       "Timedelta('0 days 00:02:40.239999771')"
      ]
     },
     "execution_count": 15,
     "metadata": {},
     "output_type": "execute_result"
    },
    {
     "data": {
      "image/png": "[encoded data removed]",
      "text/plain": [
       "<Figure size 432x288 with 1 Axes>"
      ]
     },
     "metadata": {
      "needs_background": "light"
     },
     "output_type": "display_data"
    }
   ],
   "source": [
    "# Difference between video controller global frame trigger timestamps\n",
    "video.time.diff().plot()\n",
    "video.time.diff().max()"
   ]
  },
  {
   "cell_type": "code",
   "execution_count": 17,
   "metadata": {},
   "outputs": [
    {
     "data": {
      "text/plain": [
       "Timedelta('0 days 00:02:40.213748840')"
      ]
     },
     "execution_count": 17,
     "metadata": {},
     "output_type": "execute_result"
    },
    {
     "data": {
      "image/png": "[encoded data removed]",
      "text/plain": [
       "<Figure size 432x288 with 1 Axes>"
      ]
     },
     "metadata": {
      "needs_background": "light"
     },
     "output_type": "display_data"
    }
   ],
   "source": [
    "# Difference between individual frame hardware timestamps\n",
    "cameraPatch1.hw_timestamp.diff().plot()\n",
    "pd.Timedelta(cameraPatch1.hw_timestamp.diff().max())"
   ]
  }
 ],
 "metadata": {
  "kernelspec": {
   "display_name": "Python 3",
   "language": "python",
   "name": "python3"
  },
  "language_info": {
   "codemirror_mode": {
    "name": "ipython",
    "version": 3
   },
   "file_extension": ".py",
   "mimetype": "text/x-python",
   "name": "python",
   "nbconvert_exporter": "python",
   "pygments_lexer": "ipython3",
   "version": "3.9.12"
  },
  "orig_nbformat": 4,
  "vscode": {
   "interpreter": {
    "hash": "68494019e05f8ded6a73b496df895ac55320030c47424d8a8d1169ba2a68c537"
   }
  }
 },
 "nbformat": 4,
 "nbformat_minor": 2
}
