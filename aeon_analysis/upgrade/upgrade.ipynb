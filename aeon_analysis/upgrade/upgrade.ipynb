{
 "cells": [
  {
   "cell_type": "code",
   "execution_count": 1,
   "id": "72b6beaa",
   "metadata": {
    "rise": {
     "backimage": "ethological_behavior.png"
    },
    "slideshow": {
     "slide_type": "skip"
    }
   },
   "outputs": [
    {
     "name": "stderr",
     "output_type": "stream",
     "text": [
      "[2023-04-21 12:35:25,388][INFO]: Connecting jbhagat@aeon-db2:3306\n",
      "[2023-04-21 12:35:25,415][INFO]: Connected jbhagat@aeon-db2:3306\n"
     ]
    }
   ],
   "source": [
    "# Imports\n",
    "from IPython.display import Image\n",
    "from IPython.display import Video\n",
    "from pathlib import Path\n",
    "\n",
    "from dotmap import DotMap\n",
    "import pandas as pd\n",
    "import numpy as np\n",
    "import matplotlib.pyplot as plt\n",
    "import seaborn as sns\n",
    "\n",
    "import aeon.schema.core as stream\n",
    "from aeon.io.device import Device\n",
    "from aeon.io import api, reader\n",
    "import aeon.schema.foraging as foraging\n",
    "from aeon.schema.dataset import exp02, exp01\n",
    "from aeon.analysis.utils import visits, distancetravelled\n",
    "\n",
    "import datajoint as dj\n",
    "dj.config['database.host'] = 'aeon-db2'\n",
    "dj.config['display.limit'] = 5  # rows per displayed table\n",
    "dj.conn()\n",
    "from aeon.dj_pipeline.analysis.in_arena import *\n",
    "from aeon.dj_pipeline.acquisition import WeightMeasurement, ExperimentLog, ExperimentWeightScale, Chunk, Experiment, _device_schema_mapping\n",
    "from aeon.dj_pipeline.report import *\n",
    "from aeon.io import api as io_api\n",
    "from aeon.dj_pipeline.utils.plotting import *\n"
   ]
  },
  {
   "cell_type": "markdown",
   "id": "97fecea1-f4cf-4623-8f6f-5b014d25698a",
   "metadata": {
    "rise": {
     "backimage": "backimage_title.png"
    },
    "slideshow": {
     "custom_css": ".myclass p { color: blue; }",
     "slide_type": "slide"
    },
    "tags": []
   },
   "source": [
    "<font size=\"14\">\n",
    "\n",
    "<span style=\"color:#0775b5\">\n",
    "\n",
    "# PROJECT AEON\n",
    "\n",
    "### Jai Bhagat\n",
    "\n",
    "</span>"
   ]
  },
  {
   "cell_type": "markdown",
   "id": "e1b5c443",
   "metadata": {
    "slideshow": {
     "slide_type": "notes"
    }
   },
   "source": [
    "Ok, let's start with a quick thought experiment."
   ]
  },
  {
   "cell_type": "markdown",
   "id": "62052ad3",
   "metadata": {
    "slideshow": {
     "slide_type": "slide"
    }
   },
   "source": [
    "<center><img src=\"neuroscientists.png\" width=\"950\"/></center>"
   ]
  },
  {
   "cell_type": "markdown",
   "id": "6686c0d2",
   "metadata": {
    "slideshow": {
     "slide_type": "notes"
    }
   },
   "source": [
    "Let's all imagine we're systems neuroscientists... In particular, let's imagine that we're systems neuroscientists interested in rodent ethology..."
   ]
  },
  {
   "cell_type": "markdown",
   "id": "09690427",
   "metadata": {
    "slideshow": {
     "slide_type": "subslide"
    }
   },
   "source": [
    "<center><img src=\"mice_foraging.png\" width=\"900\"/></center>"
   ]
  },
  {
   "cell_type": "markdown",
   "id": "0d2a0196",
   "metadata": {
    "slideshow": {
     "slide_type": "notes"
    }
   },
   "source": [
    "And let's say we're primarily interested in how social influences affect behavior and learning over long timescales. Additionally, let's say we're generalists who strongly believe in open-source science, and in using best-practice design principles to drive our research. So, we realize that in studying a particular type of behavior, we can create a general platform that can be used to study a wide variety of ethological behavior."
   ]
  },
  {
   "cell_type": "markdown",
   "id": "e8d2ff62",
   "metadata": {
    "slideshow": {
     "slide_type": "subslide"
    }
   },
   "source": [
    "<center><img src=\"mouse_ethology.png\" width=\"1400\"/></center>"
   ]
  },
  {
   "cell_type": "markdown",
   "id": "71c585e5",
   "metadata": {
    "slideshow": {
     "slide_type": "notes"
    }
   },
   "source": [
    "But in order to ground ourselves somewhat, we decide to principally focus on studying foraging, as we know that this behavior is central to animal survival, and we can still study a vast repertoire of behavior (as shown here: social behavior, navigation, hunting, and escape) all in the context of foraging. \n",
    "\n",
    "An additional reason to study foraging is that patch foraging is a widely studied and long-standing problem in behavioral ecology, and has already been getting some recent attention in neuroeconomic and decision-making studies in systems neuroscience. And just as a quick background for those unfamiliar with patch foraging:  the central idea is that in an environment there are patches that may differ in terms of their available resources, and these resources can change as a function of time and other environmental conditions. And some common questions look at how subjects in such environments make estimates of which patch contains the most resources at any given time, and explore vs. exploit behavior.\n",
    "\n",
    "Ok, as most of you already know, this idea isn't just a thought experiment, this is actually a large group effort that's already taking place within the SWC, and in this talk I'm largely going to focus on the design decisions that went into creating this general platform.\n",
    "\n",
    "Let's start by considering some broad scientific and technical requirements."
   ]
  },
  {
   "cell_type": "markdown",
   "id": "bf2428f6",
   "metadata": {
    "cell_style": "split",
    "slideshow": {
     "slide_type": "slide"
    }
   },
   "source": [
    "<span style=\"color:#0651c9\">\n",
    "\n",
    "# Scientific & Technical Requirements\n",
    "<br><br>\n",
    "\n",
    "</span>\n",
    "\n",
    "<img src=\"scientific_requirements.png\" width=\"900\">\n",
    "\n",
    "<!--<img src=\"scientific_requirements.png\" width=\"700\" style=\"float: left\"/> -->"
   ]
  },
  {
   "cell_type": "markdown",
   "id": "70850c34",
   "metadata": {
    "cell_style": "split",
    "slideshow": {
     "slide_type": "fragment"
    }
   },
   "source": [
    "<br><br><br><br><br><br>\n",
    "<img src=\"technical_requirements.png\" width=\"900\">"
   ]
  },
  {
   "cell_type": "markdown",
   "id": "58cacdae",
   "metadata": {
    "slideshow": {
     "slide_type": "skip"
    }
   },
   "source": [
    "In considering how to design a platform to meet these requirements, I'll first consider a classical systems neuroscience approach, then explain why we will want to pursue an alternative approach, and finally detail how we can go about doing so.\n",
    "\n",
    "Ok, in the standard classical approach, each day for a set period of time, we present our subjects with a particular task. We try and very carefully control conditions, and we try to gather many trials of many subjects completing this task in order to try and have large statistical power for making claims about how they learned to solve this task, and the neural underpinnings of this learning.\n",
    "\n",
    "For studying ethology, this doesn't make much sense."
   ]
  },
  {
   "cell_type": "markdown",
   "id": "7880e601",
   "metadata": {
    "cell_style": "center",
    "slideshow": {
     "slide_type": "skip"
    }
   },
   "source": [
    "**Classical Systems Neuroscience**\n",
    "\n",
    "**(Trial-based Experiments)**\n",
    "<br>\n",
    "| | _Pros_ | _Cons_ |\n",
    "|-|--------|--------|\n",
    "| | Well-defined tasks can target specific behavior. | We want to study a large-range of ethological behavior. |\n",
    "| | Trial repetition increases statistical power. | Trial-based structure artificially constrains ethological behavior. |\n",
    "| | Short-term experiments with controlled conditions can be crucial for reproducibility. | Recording for a fraction of each day, we cannot study learning dynamics continuously. |"
   ]
  },
  {
   "cell_type": "markdown",
   "id": "023d40ff",
   "metadata": {
    "slideshow": {
     "slide_type": "skip"
    }
   },
   "source": [
    "- It is nice that in the classical approach, if we have a well-defined task, we can target a specific behavior, but in our case we want to provide a platform that can study a large-range of ethological behavior, and one in which we can make fine, modular adjustments for studying particular types of behavior in this realm. \n",
    "\n",
    "- It's also important to back results with statistical power, and trials can be nice for this, but trials would artifically constrain the natural behavior we are interested in studying.\n",
    "\n",
    "- Lastly, it's easier to have reproducible results with short-term, repetitive experiments, but if we record for just a fraction of each day, we cannot study learning dynamics continuously.\n",
    "\n",
    "All of these pros and cons are of course well-known by systems neuroscientists, so given the behavior we are interested in studying, we are tasked with conceiving an approach to solve these issues of the classical approach while trying to ensure that:\n",
    "\n",
    "- We can still make claims about the neural underpinnings of particular behaviors.\n",
    "\n",
    "- We have enough statistical power to make these claims.\n",
    "\n",
    "- And we can still produce experiments that are reproducible.\n",
    "\n",
    "And that brings me to the outline for this talk."
   ]
  },
  {
   "cell_type": "markdown",
   "id": "619179f8",
   "metadata": {
    "slideshow": {
     "slide_type": "notes"
    }
   },
   "source": [
    "We want our platform to be able to host ethological experiments over long, continuous time-frames, and so that necessarily means that we have robust data acquisition, data management, and experiment control across space, due to the ethological considerations, and across time, due to the continuous, long-term considerations. And since we're interested in social influences on behavior and learning, we need a platform that can handle running experiments with multiple conspecifics simultaneously.\n",
    "\n",
    "Additionally, due to our scientific principles, we want our platform to be open-source, easily generalisable in studying a variety of ethological behavior, and modular, to promote ease of experiment iterations, and for robustness over the long durations of our experiments (e.g. if a particular device breaks, we'd like quick plug-and-play solutions).\n",
    "\n",
    "Ok, so in considering how to meet these broad, general requirements, here's the outline for this talk."
   ]
  },
  {
   "cell_type": "markdown",
   "id": "4812030c",
   "metadata": {
    "slideshow": {
     "slide_type": "slide"
    }
   },
   "source": [
    "<font size=\"9\">\n",
    "\n",
    "## OUTLINE"
   ]
  },
  {
   "cell_type": "markdown",
   "id": "7dae508d",
   "metadata": {
    "cell_style": "split",
    "slideshow": {
     "slide_type": "fragment"
    }
   },
   "source": [
    "<font size=\"9\">\n",
    "\n",
    "### Engineering Focal Points\n",
    "\n",
    "1) Environment\n",
    "2) Experiment Control\n",
    "3) Data Acquisition\n",
    "4) Data Management\n",
    "5) Data Visualization\n",
    "6) Data Analysis\n",
    "7) Animal Welfare"
   ]
  },
  {
   "cell_type": "markdown",
   "id": "a23759c8",
   "metadata": {
    "cell_style": "split",
    "slideshow": {
     "slide_type": "fragment"
    }
   },
   "source": [
    "<font size=\"9\">\n",
    "\n",
    "### Future Directions\n",
    "\n",
    "1) Additional Platform Enhancements\n",
    "2) Electrophysiology\n",
    "3) Experiments"
   ]
  },
  {
   "cell_type": "markdown",
   "id": "b0b51f34",
   "metadata": {
    "slideshow": {
     "slide_type": "skip"
    }
   },
   "source": [
    "TODO Add obligatory AutoGPT video here :)\n",
    "\n",
    "Ok, so to first answer a question I'm sure some of you have in your heads right now: yes, I was curious how AutoGPT would have gone about building a platform to address these mentioned focal points given our requirements. So I did ask it: but as you can see it's solutions are not _quite_ there yet, so I'm pretty happy with the approach we took instead : )"
   ]
  },
  {
   "cell_type": "markdown",
   "id": "b08eb096",
   "metadata": {
    "slideshow": {
     "slide_type": "notes"
    }
   },
   "source": [
    "For the majority of this talk I'll discuss the general engineering focal points we addressed in creating the platform, given our requirements.\n",
    "\n",
    "I'll discuss how we designed and built the physical environment, the software design choices we made in addressing Experiment Control, how we created robust pipelines for acquiring, managing, visualizing, and analyzing a large amount of data from a number of sources, and the methods we employed to ensure continuous animal welfare. During this time I'll focus on engineering solutions rather than behavioral results, so hopefully you all think Methods are cool, and in my next talk I'll be able to focus more on Results : )\n",
    "\n",
    "Then for the last portion of the talk, I'll briefly go over some of our immediate and long-term future directions, including additional platform enhancements, incoroprating long-term Electrophysiology recordings, and upcoming planned experiments."
   ]
  },
  {
   "cell_type": "markdown",
   "id": "b958418d",
   "metadata": {
    "cell_style": "center",
    "slideshow": {
     "data-transition": "",
     "slide_type": "subslide"
    }
   },
   "source": [
    "# Aeon Subgroup Structure\n",
    "<br><br>\n",
    "<img src=\"subgroup_structure.png\" width=\"1300\"/>"
   ]
  },
  {
   "cell_type": "markdown",
   "id": "777630cc",
   "metadata": {
    "slideshow": {
     "slide_type": "notes"
    }
   },
   "source": [
    "As a group we realized early on that in order to try and efficiently find solutions to those engineering focal points, we should create subgroups that would be focused on addressing particular points. \n",
    "\n",
    "And you can think of dividing the work these subgroups do into 4 main categories: Software, Electronics, Mechatronics, Behavior. These are the four main areas we work in to find solutions to the focal points.\n",
    "\n",
    "What each subgroup currently focuses on I think is pretty self-descriptive and obvious from the figure, but I'll run through them now quickly:\n",
    "\n",
    "- Experiment Protocols discusses Experiment Design and is responsible for actually running and monitoring behavior.\n",
    "- Mechatronics is in charge of designing and building the components of the environment.\n",
    "- Experiment Control and Data Acquisition is responsible for developing the software that is used to control the environment, and is lso responsible for handling data acquistion, synchronization, and transport, and online Data Quality Control.\n",
    "- Data Architecture handles offline Data Quality Control, Data Storage in the form of raw data storage on our Ceph partition on the HPC, and processed data storage in a relational MySQL Database, and querying data from both of these stores.\n",
    "- And lastly, Data Analysis works on Computer Vision (e.g. for working with algorithms for online tracking and pose estimation) and behavioral and neural data analysis.\n",
    "\n",
    "The bidirectional arrows indicate the main intergroup communication. \n",
    "\n",
    "Discussions in Experiment Protocols inform development in every other subgroup, and current developments in these four subgroups paces the timelines created by Experiment Protocols.\n",
    "\n",
    "Mechatronics and Experiment Control & Data Acquisition are linked by Electronics: the environment design needs to consider the electronics that will be used in data acquisition. Additionally, the software that runs Experiment Control needs to be informed by the environment.\n",
    "\n",
    "Experiment Control & Data Acquisition and Data Architecture are linked by the experiment data: Data Architecture needs to know what, in what form, and in what format experiment data will be collected in, before engineering solutions for qc, storage, and querying.\n",
    "\n",
    "And lastly, Data Architecture and Data Analysis are linked by Data Querying: in order to analyze the data, Data Analysis needs to know how to get access to the data.\n",
    "\n",
    "Clearly, the requirements of this project are beyond the scope of just one or a few people. All of these groups have had contributions from at least a few different people. Personally, I've helped out with a little bit of everything, though most of my time has been spent considering data practices. So in this talk I will give an overview of the work from all subgroups in finding solutions to the engineering focal points, but I will spend a little more time discussing contributions of the EC, DA, and DA subgroups."
   ]
  },
  {
   "cell_type": "markdown",
   "id": "e02312bb",
   "metadata": {
    "slideshow": {
     "slide_type": "subslide"
    }
   },
   "source": [
    "# The Team\n",
    "\n",
    "\n",
    "<img src=\"acknowledgements.png\" width=\"1250\"/>"
   ]
  },
  {
   "cell_type": "markdown",
   "id": "717d7414",
   "metadata": {
    "slideshow": {
     "slide_type": "notes"
    }
   },
   "source": [
    "And I think now is a good time to actually mention all the many people who have made contributions to this project. I've been very fortunate to work in a group where I've never had to do anything alone, and I realize this is very much not the typical Ph. D. experience, and all I can say is I try not to take it for granted how lucky I am getting to work with so many really fun, smart and talented people.\n",
    "\n",
    "So I hope I've included everyone who has helped out, and in particular I want to mention \"Aeon-Core\": Dario, Lory, Chang Huan, Goncalo, Andre, and Bruno. They've all just contributed so much, and I think its very gratifying but also actually a little scary to think about how much less progress would have been made if just any one of them had not been involved in this project. It's really been kind of an interdependent group effort and its been a lot of fun."
   ]
  },
  {
   "cell_type": "markdown",
   "id": "6458c472",
   "metadata": {
    "cell_style": "center",
    "slideshow": {
     "slide_type": "slide"
    }
   },
   "source": [
    "<font size=\"10\">\n",
    "\n",
    "# Engineering Focal Points\n",
    "<br><br>\n",
    "\n",
    "<span style=\"color:#0775b5\"> \n",
    "\n",
    "1. Environment \n",
    "\n",
    "</span>\n",
    "\n",
    "2) Experiment Control\n",
    "3) Data Acquisition\n",
    "4) Data Management\n",
    "5) Data Visualization\n",
    "6) Data Analysis\n",
    "7) Animal Welfare"
   ]
  },
  {
   "cell_type": "markdown",
   "id": "bd56a5e5",
   "metadata": {
    "slideshow": {
     "slide_type": "notes"
    }
   },
   "source": [
    "Ok, so now let's dive into the engineering focal points, and I'll start with discussing the environment."
   ]
  },
  {
   "cell_type": "markdown",
   "id": "6d2129f5",
   "metadata": {
    "slideshow": {
     "slide_type": "subslide"
    }
   },
   "source": [
    "# Arena Design"
   ]
  },
  {
   "cell_type": "markdown",
   "id": "e3949035",
   "metadata": {
    "cell_style": "split",
    "slideshow": {
     "slide_type": "fragment"
    }
   },
   "source": [
    "\n",
    "<br><br>\n",
    "\n",
    "<img src=\"arena_modular.png\" width=\"1000\"/>"
   ]
  },
  {
   "cell_type": "markdown",
   "id": "3e00392b",
   "metadata": {
    "cell_style": "split",
    "slideshow": {
     "slide_type": "-"
    }
   },
   "source": [
    "<br><br>\n",
    "\n",
    "<img src=\"arena_whole.png\" width=\"900\"/>"
   ]
  },
  {
   "cell_type": "markdown",
   "id": "9c5b01f7",
   "metadata": {
    "slideshow": {
     "slide_type": "notes"
    }
   },
   "source": [
    "So the core component of the environment is the arena where our animals live and forage. We spent a good chunk of time thinking about modular designs that would be large enough to mimic ethological exploration, foraging, and shelter seeking of mice. We settled on a circular design in which the floor and walls are fully modular. Here you can see images from two STP files of the arena. The floor and walls are both made of acrylic, the floor white matte acrylic, the walls semi-transparent red acrylic. The floor is comprised of regular hexagonal patches: there are 19 \"full\" patches in the middle of the arena, and 37 total patches that make up the floor, including those that extrude along the outer rim. Each hexagon has a side length of 21.5cm, making its area roughly 0.12 m^2, and the total area inside the arena is about 2.6m^2. Harvest mice typically forage at a distance of around 3-5 meters from their nests, so this arena provides a nice simulation of that. The walls measure roughly 37 x 40 cm, and 5 mm thick. The arena design provides for the ability to have up to 6 nests on patches around the outer rim. A corridor of width about 5 cm leads from the nests to an entrance (or possibly multiple entrances) into the arena proper. And you can see on the right that we have currently designed for three patches to have feeders installed, though theoretically any of the 19 patches could be a food patch, and they are easily replaceable. "
   ]
  },
  {
   "cell_type": "markdown",
   "id": "9f809f31",
   "metadata": {
    "cell_style": "split",
    "slideshow": {
     "slide_type": "subslide"
    }
   },
   "source": [
    "## Food Patch and Nest Design\n",
    "\n",
    "<br><br>\n",
    "\n",
    "<img src=\"feeder_cartoon.png\" width=\"750\"/>"
   ]
  },
  {
   "cell_type": "markdown",
   "id": "461cf206",
   "metadata": {
    "cell_style": "split"
   },
   "source": [
    "<br><br><br>\n",
    "<img src=\"nest.png\" width=\"750\"/>"
   ]
  },
  {
   "cell_type": "markdown",
   "id": "dfc6d9a3",
   "metadata": {
    "slideshow": {
     "slide_type": "notes"
    }
   },
   "source": [
    "Ok, next we needed to design food and shelter resources in the environment. We spent a lot of time thinking about how best to simulate ethological foraging, and we settled on an approach that simulates natural digging / burrowing: the food patch consists of a wheel and an underground feeder: the mice have to spin the wheel a certain distance threshold, and when this threshold is reached, the pellet dispenser, or what we often refer to as \"feeder\", delivers a small food pellet into pockets on the wheel. The feeder is powered with a 24V 1A power supply, and contains a hopper basin that can be preloaded with probably nearly 10k 20 ug pellets. The feeders are controlled via a Raspberry Pi Pico that runs micropython and serves as a HARP device so that it can be easily integrated into our Bonsai workflow - but I'll discuss this in a little more detail when we get to Experiment Control. And it's not shown here, but a magnet is attached onto the wheel, and a magnetic encoder attached to the patch a couple mm away from the magnet so that we can measure wheel distance spun via changing magnetic field strength. \n",
    "\n",
    "The nest measures roughly 24 x 40 cm, and is fitted with an embedded scale at the bottom, and holes for water bottles on the side. In practice when running experiments, we fill the nest with bedding and enrichment to mimic their normal homecages."
   ]
  },
  {
   "cell_type": "markdown",
   "id": "531f9e33",
   "metadata": {
    "slideshow": {
     "slide_type": "subslide"
    }
   },
   "source": [
    "# Arenas in Action"
   ]
  },
  {
   "cell_type": "markdown",
   "id": "37ba3020",
   "metadata": {
    "cell_style": "split",
    "slideshow": {
     "slide_type": "-"
    }
   },
   "source": [
    "<br><br><br>\n",
    "\n",
    "<center><img src=\"arena_b2.png\" width=\"800\" align=\"center\"/></center>\n",
    " "
   ]
  },
  {
   "cell_type": "markdown",
   "id": "0e6657ab",
   "metadata": {
    "cell_style": "split",
    "slideshow": {
     "slide_type": "-"
    }
   },
   "source": [
    "<br><br><br><br>\n",
    "\n",
    "<video width=\"1200\" height=\"800\" src=\"mouse_b2_trimmed2.mp4\" controls> </video>"
   ]
  },
  {
   "cell_type": "markdown",
   "id": "ec531df4",
   "metadata": {
    "slideshow": {
     "slide_type": "notes"
    }
   },
   "source": [
    "And now to go from designs to reality, here is an actual image of what an arena looks like, and thanks mainly to Lory and Del we now have 2 of these virtually identical arenas in adjacent rooms in B2. Here you can see the nest, walls and patches, and in particular the food patches. And here is a short video of from a top-view camera of what it looks like when a mouse goes foraging in this arena. For this test experiment we were only using two patches, and you can see here the mouse on one particular patch going back and forth between water (which we placed in a little petry dish next to the wheel) and foraging for food."
   ]
  },
  {
   "cell_type": "markdown",
   "id": "34facbd6",
   "metadata": {
    "slideshow": {
     "slide_type": "subslide"
    }
   },
   "source": [
    "# Foraging: time-aligned 4s pre, 5s post pellet delivery\n",
    "\n",
    "<center><video width=\"1400\" height=\"1000\" src=\"time_aligned_foraging.mp4\" controls> </video></center>"
   ]
  },
  {
   "cell_type": "markdown",
   "id": "24380f15",
   "metadata": {
    "slideshow": {
     "slide_type": "notes"
    }
   },
   "source": [
    "In addition to our top view cameras, we have side view cameras placed around the arena, zoomed into the patches. And so here you can see some videos of foraging behavior from a zoomed-in side-view, where each video is time-aligned around pellet delivery: 4 seconds before, and 5 seconds after pellet delivery. \n",
    "\n",
    "One of potentially a handful of interesting things to note here is that after a pellet delivery, most tend to stay on the patch and keep spinning the wheel for the next delivery. We've noticed that they tend to forage like this - in bouts.\n",
    "\n",
    "Ah and one last thing to note about the environment is the lighting - we have full control over the room lights to simulate day/night cycles, and in the dark we light the arena with X Y Watt Infrared LED strips that have a transmission spectrum of Z."
   ]
  },
  {
   "cell_type": "markdown",
   "id": "db41a8b9",
   "metadata": {
    "slideshow": {
     "slide_type": "slide"
    }
   },
   "source": [
    "<font size=\"10\">\n",
    "\n",
    "### Engineering Focal Points\n",
    "\n",
    "1. Environment\n",
    "\n",
    "<span style=\"color:#0775b5\">\n",
    "\n",
    "2. Experiment Control\n",
    "3. Data Acquisition\n",
    "\n",
    "</span>\n",
    "\n",
    "4) Data Management\n",
    "5) Data Visualization\n",
    "6) Data Analysis\n",
    "7) Animal Welfare"
   ]
  },
  {
   "cell_type": "markdown",
   "id": "c32dd187",
   "metadata": {
    "slideshow": {
     "slide_type": "notes"
    }
   },
   "source": [
    "Ok so moving on from Enviroment design, let's address Experiment Control and Data Acquisition.\n",
    "\n",
    "Thinking back to our scientific and technical requirements, we need to use Experiment Control software that is open-source and easily generalizable. In addition, it needs to handle recording many devices at a time, and it should be easy to modify experiment logic when changing devices or changing environment conditions. A key consideration for us is limiting dependency blocking: we want to limit the total number of additional physical and virtual changes necessary whenever we change a component in our environment."
   ]
  },
  {
   "cell_type": "markdown",
   "id": "5f68aa27",
   "metadata": {
    "cell_style": "center",
    "slideshow": {
     "slide_type": "subslide"
    }
   },
   "source": [
    "<br>\n",
    "<img src=\"bonsai_logo.png\" width=\"700\"/>"
   ]
  },
  {
   "cell_type": "markdown",
   "id": "0ca40edf",
   "metadata": {
    "cell_style": "center",
    "slideshow": {
     "slide_type": "fragment"
    }
   },
   "source": [
    "<img src=\"simple_bonsai.gif\" width=\"1200\"/>"
   ]
  },
  {
   "cell_type": "markdown",
   "id": "add5e94a",
   "metadata": {
    "slideshow": {
     "slide_type": "notes"
    }
   },
   "source": [
    "Bonsai is the ideal choice for our Experiment Control Software. For anyone who's unfamiliar, Bonsai is a visual reactive programming language built on top of Microsoft's ReactiveX, that handles datastreams asynchronously and triggers events reactively, which grants us much more flexibility than if we took the classical procedural, state-machine control approach, which simply does not jive with our long-term, continuous requirements.\n",
    "\n",
    "You program in Bonsai using nodes to represent datastreams, and operations on those datastreams. In the simple example above, there are two datastreams, both timers, and we see that we can receive updates from them asynchronously, and use these updates to trigger other events: in this case a signal that accumulates value each time the timer ticks, and a signal that returns the current value of the timer mod 2."
   ]
  },
  {
   "cell_type": "markdown",
   "id": "711cc48f",
   "metadata": {
    "slideshow": {
     "slide_type": "subslide"
    }
   },
   "source": [
    "# Asynchronous, Reactive Updates in our Experiment GUI"
   ]
  },
  {
   "cell_type": "markdown",
   "id": "330d1cc2",
   "metadata": {
    "cell_style": "split",
    "slideshow": {
     "slide_type": "fragment"
    }
   },
   "source": [
    "<br><br>\n",
    "<left><img src=\"simple_bonsai.png\" width=\"1000\"/></left>"
   ]
  },
  {
   "cell_type": "markdown",
   "id": "57b9f9fb",
   "metadata": {
    "cell_style": "split",
    "slideshow": {
     "slide_type": "fragment"
    }
   },
   "source": [
    "<img src=\"exp_gui.gif\" width=\"1400\"/>"
   ]
  },
  {
   "cell_type": "markdown",
   "id": "c099f3f5",
   "metadata": {
    "cell_style": "center",
    "slideshow": {
     "slide_type": "notes"
    }
   },
   "source": [
    "Now we can extend this principle to our experiment - this is a snippet of Bonsai code taken from one of our experiment workflows. One simple thing we might want to do is asynchronously update plots while running the experiment, for example a trajectory plot, a heatmap plot, and a plot that shows the current wheel threshold until pellet delivery. And by having a distinct stream for each of these updates, that's exactly what we can do. You don't have to pay attention to the details of the Bonsai code here, but just see that the top stream updates a Trajectory plot, the middle updates a Heatmap plot, and the bottom is used to update a Patch plot.\n",
    "\n",
    "Again, note that these updates happen asynchronously and reactively, instead of procedurally, where we might check for updates one-by-one in a loop. The time cost for checking for updates in this procedural manner can grow quite high if we are recording from many devices.\n",
    "\n",
    "Since we can use Bonsai for both Experiment Control and Data Acquisition, now we just need to consider some details regarding the devices we're recording from."
   ]
  },
  {
   "cell_type": "markdown",
   "id": "9a26b48a",
   "metadata": {
    "cell_style": "split",
    "slideshow": {
     "slide_type": "subslide"
    }
   },
   "source": [
    "<font size=\"10\">\n",
    "   \n",
    "### Arena Acquisition Devices\n",
    "<br>\n",
    "\n",
    "- USB Blackfly S 3 Cameras (1.6 MP up to 220 FPS)\n",
    "- USB Dodotronic Ultramic UM250K Ultrasonic Microphones\n",
    "- USB Harp Expander Output Boards\n",
    "- USB ID-20LA 125 kHz USB RFID Readers"
   ]
  },
  {
   "cell_type": "markdown",
   "id": "68c7d666",
   "metadata": {
    "cell_style": "split"
   },
   "source": [
    "<br><br><br><br>\n",
    "<img src=\"devices.png\" width=\"700\"/>"
   ]
  },
  {
   "cell_type": "markdown",
   "id": "fd96afdf",
   "metadata": {
    "slideshow": {
     "slide_type": "notes"
    }
   },
   "source": [
    "At a minimum, we need to record video and audio of the mice and details about the patch (e.g. how much distance has been spun on the wheel, how many pellets have been delivered) so that we can update our environment via this closed-loop feedback. \n",
    "\n",
    "To do this, we're using USB Flir Blackfly S3 cameras (5 top, 1 for each nest, 1 for each patch), a minimum of 2 Dodotronic Ultrasonic Microphones, and 1 Harp Expander Output Board for each patch. Additionally, we'll place RFID readers strategically in the arena to have ground-truth tracking information that we can use to verify our video-tracking, which I'll discuss shortly.\n",
    "\n",
    "And of course to handle acquisition of so many datastreams and potentially intensive online processing (e.g. pose estimation, and in the future potentially spike-sorting), we also need to consider the specs of the acquisition computer itself."
   ]
  },
  {
   "cell_type": "markdown",
   "id": "2fc28f5e",
   "metadata": {
    "cell_style": "split",
    "slideshow": {
     "slide_type": "subslide"
    }
   },
   "source": [
    "<img src=\"pc_build.png\" width=\"900\"/>"
   ]
  },
  {
   "cell_type": "markdown",
   "id": "6b81e679",
   "metadata": {
    "cell_style": "split"
   },
   "source": [
    "<font size=\"7\">\n",
    "\n",
    "<br><br>\n",
    "    \n",
    "### Acquisition Computer Specs\n",
    "<br>\n",
    "\n",
    "\n",
    "- CPU: I9-13900k: \n",
    "    - 32 Threads, 5.8 GHz Max\n",
    "- GPU: RTX A4500: \n",
    "    - ECC, RDMA, 20 GB VRAM\n",
    "- RAM: Vengeance DDR5: \n",
    "    - ECC, 128 GB, 5600 MHz\n",
    "- SSD: Rocket: \n",
    "    - 16 TB, R/W: 3.3 / 2.9 GB/s\n",
    "- Mobo: Rog Maximus Z790 Extreme\n",
    "    - Support for CPU, GPU, RAM, SSD\n",
    "    - 10 GB ethernet port\n",
    "    - Many USB 3.* ports: 13 -A, 5 -C "
   ]
  },
  {
   "cell_type": "markdown",
   "id": "f72f706a",
   "metadata": {
    "slideshow": {
     "slide_type": "notes"
    }
   },
   "source": [
    "After a few iterations, we've currently settled on a standardized build which we've replicated for both of our arenas in B2. I won't discuss the build in too much detail, but a few of the key considerations were:\n",
    "\n",
    "- CPU: Intel i9-13900k: \n",
    "    - Needed something with a high number of cores that can reach high boost frequencies. We need this for optimizing optimizing parallelized processing of datastreams. \n",
    "- GPU: NVIDIA RTX A4500 \n",
    "    - Needed something w/ECC that could do RDMA (enables some peripherals (e.g. cameras) direct access to GPU memory for faster processing), and needed something with large amount of memory so we could potentially run multiple applications on it simultaneously (think online spike-sorting + pose estimation)\n",
    "- RAM: Corsair Vengeance DDR5: Needed ECC, a lot of it, and we need it fast.\n",
    "- Storage: Sabrent Rocket: \n",
    "    - We needed something with fast sequential and random r/w speeds, and a lot of it (over 2 days of storage if during ephys we have connectivity or HPC issues)\n",
    "- Motherboard: Asus Rog Maximus Z790 Extreme:\n",
    "    - Needed to support our CPU, GPU, RAM, Storage specs, +\n",
    "    - Network: 10 GB connection\n",
    "    - USB-A and USB-C 3.* ports: (support for 5 type C and 13 type A)"
   ]
  },
  {
   "cell_type": "markdown",
   "id": "2fbfa4e5",
   "metadata": {
    "slideshow": {
     "slide_type": "subslide"
    }
   },
   "source": [
    "# Solving time-alignment with Harp + Bonsai\n",
    "\n",
    "<br><br><br>\n",
    "<img src=\"harp.png\" width=\"1200\"/>"
   ]
  },
  {
   "cell_type": "markdown",
   "id": "2e2abd9f",
   "metadata": {
    "slideshow": {
     "slide_type": "notes"
    }
   },
   "source": [
    "Ok, so one last subfocus of the Experimental Control & Data Acquisition subgroup worth mentioning is how we've solved for time-alignment. Harp stands for: \"hardware advanced research platform\", and is a group that operates in the Chamaplimaud Center that work on GPIO devices for experimental neuroscientists. They use the name \"Harp\" also to refer to the binary protocol they use to encode and pass data and messages between Harp devices and computers. One particularly nice thing about Harp devices is that they were engineered to share a clock signal between them - there is a main harp device that carries a clock signal that gets daisy-chained to X number of other worker Harp devices. Every second, the main harp devices also sends a \"heartbeat\" pulse to all worker devices, to align their times to its time. The maximal discrepancy in clocktime we typically see between Harp devices is less than 100 us. This is super valuable. Additionally, we trigger our camera frames via a Harp camera controller, and we receive input from the wheel and send commands to the feeder via harp devices, so all devices we record from share the same clock. So using Harp, we get full device time-alignment for free."
   ]
  },
  {
   "cell_type": "markdown",
   "id": "7f9b47b8",
   "metadata": {
    "slideshow": {
     "slide_type": "slide"
    }
   },
   "source": [
    "<font size=\"10\">\n",
    "\n",
    "## Engineering Focal Points\n",
    "\n",
    "1. Environment\n",
    "2. Experiment Control\n",
    "3. Data Acquisition\n",
    "\n",
    "<span style=\"color:#0775b5\">\n",
    "\n",
    "4. Data Management\n",
    "\n",
    "</span>\n",
    "\n",
    "5) Data Visualization\n",
    "6) Data Analysis\n",
    "7) Animal Welfare"
   ]
  },
  {
   "cell_type": "markdown",
   "id": "95b59631",
   "metadata": {
    "slideshow": {
     "slide_type": "subslide"
    }
   },
   "source": [
    "# Aeon Data Pipelines\n",
    "\n",
    "<img src=\"updated_aeon_pipelines.png\" width=\"1600\"/>"
   ]
  },
  {
   "cell_type": "markdown",
   "id": "317a133c",
   "metadata": {
    "slideshow": {
     "slide_type": "subslide"
    }
   },
   "source": [
    "<img src=\"say_big_data.jpg\" width=\"1500\"/>"
   ]
  },
  {
   "cell_type": "markdown",
   "id": "911823ac",
   "metadata": {
    "slideshow": {
     "slide_type": "subslide"
    }
   },
   "source": [
    "<font size=\"10\">\n",
    "\n",
    "## Aeon Data Management Plan"
   ]
  },
  {
   "cell_type": "markdown",
   "id": "e86c5ba0",
   "metadata": {
    "slideshow": {
     "slide_type": "fragment"
    }
   },
   "source": [
    "<font size=\"10\">\n",
    "\n",
    "- **How much data?**\n",
    "    - Currently: ~700 GB / 24 hours\n",
    "    - Future: up to ~7 TB / 24 hours\n",
    "        - (But 🙏 for >2x lossless Ephys compression via MTSCOMP)\n",
    "- **Storage:** 275 TB partition on Ceph (`/ceph/aeon/aeon/`)\n",
    "- **Backup:** Ceph snapshots; tape back-up TBD\n",
    "- **Network:** Aeon VLAN\n",
    "- **Metadata:** JSON/YAML/MD format\n",
    "- **Code and Data Accessibility:**\n",
    "    - Some internally and publicly available now\n",
    "    - All publicly available later"
   ]
  },
  {
   "cell_type": "markdown",
   "id": "0b8735f4",
   "metadata": {
    "slideshow": {
     "slide_type": "notes"
    }
   },
   "source": [
    "- **How much data?**\n",
    "    - Given our current devices: ~700 GB / 24 hours\n",
    "    - With continuous recording from 4 NP2 probes: ~7 TB / 24 hours\n",
    "        - (Though possibility for >2x lossless compression via MTSCOMP library)\n",
    "- **Current storage:** 275 TB partition on Ceph (`/ceph/aeon/aeon/`)\n",
    "- **Backup:** Currently just Ceph snapshots; tape back-up TBD\n",
    "- **Metadata:** All data accompanied by relevant supporting metadata in JSON/YAML/MD format\n",
    "- **Accessibility:**\n",
    "    - Some code/data internally and publicly available via GitHub and Web dashboards\n",
    "    - All code/data made publicly available after publication via GitHub and Globus"
   ]
  },
  {
   "cell_type": "markdown",
   "id": "3eb2cc2a",
   "metadata": {
    "cell_style": "split",
    "slideshow": {
     "slide_type": "subslide"
    }
   },
   "source": [
    "<font size=\"10\">\n",
    "    \n",
    "## Code Repository Structure\n",
    "<br><br>\n",
    "<left><img src=\"code_repos_structure.png\" width=\"1000\"/></left>"
   ]
  },
  {
   "cell_type": "markdown",
   "id": "4e17b56d",
   "metadata": {
    "cell_style": "split",
    "slideshow": {
     "slide_type": "fragment"
    }
   },
   "source": [
    "<br><br><br><br><br><br><br><br><br><br><br><br><br><br><br><br>\n",
    "<br><br><br><br><br><br><br>\n",
    "\n",
    "<font size=\"12\">\n",
    "    \n",
    "- Iterative Software Development Lifecycle\n",
    "    <br>\n",
    "- Testing via PyTest and MSTest\n",
    "    <br>\n",
    "- CI (_maybe CD?_) via GitHub Actions\n",
    "    <br>\n",
    "- 🚧 Online Docs 🚧"
   ]
  },
  {
   "cell_type": "markdown",
   "id": "a45d5d1b",
   "metadata": {
    "slideshow": {
     "slide_type": "subslide"
    }
   },
   "source": [
    "### Data Storage"
   ]
  },
  {
   "cell_type": "markdown",
   "id": "5231927a",
   "metadata": {
    "cell_style": "center",
    "slideshow": {
     "slide_type": "notes"
    }
   },
   "source": [
    "And just to follow-up a little on our codebase, this is currently what it looks like: We have 5 main code repositories, all hosted within the SWC org on GitHub.  \n",
    "\n",
    "Starting from the bottom: 'aeon_mecha; is a public repo that mainly contains Python code to fetch data from ceph, query data from our database, and run offline QC on our data.\n",
    "\n",
    "'aeon_acquisition' is also a public repo that mainly contains general Bonsai building blocks to build aeon experiments: in particular, it contains nodes that represent each of the hardware devices we are using in our experiments. \n",
    "\n",
    "Then 'aeon_analyis' and 'aeon_experiments' are kind of private mirrors of 'aeon_mecha', and 'aeon_experiments', respectively. 'aeon_analysis' uses 'aeon_mecha' and contains code for analyzing experimental data, code that we release publicly upon publication. Similarly, 'aeon_experiments' uses 'aeon_acquisition' and contains Bonsai code for actually running experiments - and these workflows too will be released upon publication.\n",
    "\n",
    "These four repos all feed into the 'aeon_docs' repo, which is used to generate a github pages docs website."
   ]
  },
  {
   "cell_type": "markdown",
   "id": "0d6028c0",
   "metadata": {
    "cell_style": "split",
    "slideshow": {
     "slide_type": "-"
    }
   },
   "source": [
    "#### Ceph Data Storage\n",
    "<br>\n",
    "\n",
    "\n",
    "<left><img src=\"ceph_storage.png\" width=\"1300\" style=\"float: left\" /></left>"
   ]
  },
  {
   "cell_type": "markdown",
   "id": "705a0a88",
   "metadata": {
    "cell_style": "split",
    "slideshow": {
     "slide_type": "fragment"
    }
   },
   "source": [
    "#### DataJoint MySQL Database \n",
    "<br>\n",
    "<img src=\"dj_db.png\" width=\"1400\"/>"
   ]
  },
  {
   "cell_type": "markdown",
   "id": "e75a485d",
   "metadata": {
    "slideshow": {
     "slide_type": "notes"
    }
   },
   "source": [
    "Now I'll briefly mention how data is organized in our two main stores: our directory structure on our Ceph partition, and in tables in our Database.\n",
    "\n",
    "On Ceph, we've formalized our folder structure such that in our main Project data directory, `/ceph/aeon/aeon/data`, we have three different types of data folders: raw, qc (which stands for quality control), and processed, that have roughly parallel structures. 'Raw' is data we acquire online which we consider immutable: only the acquisition computer which acquired this data can write to this folder. We've then structured the data by experiment name, acquisition epoch (which just corresponds to the timestamp at which we started running the Bonsai experiment workflow), and device. So an easy way to read this is that experiments are made of epochs that contain data from a certain number of devices, and all epochs for a given experiment contain the same devices. By convention, if you change devices, this means you are running a new experiment. \n",
    "\n",
    "The 'qc' and 'processed' data directories contain the same logic, except 'qc' contains the output of data quality-checks in 'parquet' table-like format, and 'processed' data can be any type of data we want to save after running some processing on the raw data (e.g. think spike or behaviour-classification data)\n",
    "\n",
    "And here is a quick visual of a particular table in our database, that is largely managed by DataJoint. The top-level table in this diagram is the Experiment table, which is manually created at the start of every new experiment.\n",
    "\n",
    "Manual = green (manualy added at start of experiment)\n",
    "\n",
    "Imported = blue (automatically ingested)\n",
    "\n",
    "Computed = red (automatically re-computed whenever data ingestion occurs)"
   ]
  },
  {
   "cell_type": "markdown",
   "id": "576abeed",
   "metadata": {
    "slideshow": {
     "slide_type": "slide"
    }
   },
   "source": [
    "<font size=\"10\">\n",
    "\n",
    "## Engineering Focal Points\n",
    "\n",
    "1. Environment\n",
    "2. Experiment Control\n",
    "3. Data Acquisition\n",
    "4. Data Management\n",
    "\n",
    "<span style=\"color:#0775b5\">\n",
    "\n",
    "5) Data Visualization\n",
    "6) Data Analysis\n",
    "\n",
    "</span>\n",
    "\n",
    "7) Animal Welfare"
   ]
  },
  {
   "cell_type": "markdown",
   "id": "5812567f",
   "metadata": {
    "slideshow": {
     "slide_type": "subslide"
    }
   },
   "source": [
    "# Low-level Python API\n",
    "\n",
    "## Readers : Streams <- Devices <- Schemas"
   ]
  },
  {
   "cell_type": "code",
   "execution_count": 2,
   "id": "4e4069d1",
   "metadata": {
    "slideshow": {
     "slide_type": "fragment"
    }
   },
   "outputs": [
    {
     "data": {
      "text/plain": [
       "<aeon.io.reader.Encoder at 0x7f3f0ed1bd60>"
      ]
     },
     "execution_count": 2,
     "metadata": {},
     "output_type": "execute_result"
    }
   ],
   "source": [
    "# An example schema\n",
    "\n",
    "from aeon.io.device import Device\n",
    "import aeon.schema.core as stream\n",
    "import aeon.schema.foraging as foraging\n",
    "\n",
    "schema = DotMap(\n",
    "    [\n",
    "        Device(\"Patch1\", stream.encoder, foraging.feeder, foraging.depletionFunction),\n",
    "        Device(\"CameraTop\", stream.video, stream.position, foraging.region),\n",
    "    ]\n",
    ")\n",
    "schema.Patch1.Encoder\n"
   ]
  },
  {
   "cell_type": "code",
   "execution_count": 3,
   "id": "87ebbccc",
   "metadata": {
    "slideshow": {
     "slide_type": "fragment"
    }
   },
   "outputs": [
    {
     "name": "stdout",
     "output_type": "stream",
     "text": [
      "Exp02 devices: ['CameraTop', 'CameraEast', 'CameraNest', 'CameraNorth']\n",
      "\n",
      "Exp01 devices: ['FrameTop', 'FrameEast', 'FrameGate', 'FrameNorth']\n",
      "\n"
     ]
    }
   ],
   "source": [
    "# View some of the devices in the 'exp02' and 'exp01' schemas\n",
    "\n",
    "print(f\"Exp02 devices: {list(exp02.keys())[2:6]}\\n\")\n",
    "print(f\"Exp01 devices: {list(exp01.keys())[1:5]}\\n\")\n"
   ]
  },
  {
   "cell_type": "code",
   "execution_count": 6,
   "id": "2e12f842",
   "metadata": {
    "slideshow": {
     "slide_type": "fragment"
    }
   },
   "outputs": [
    {
     "data": {
      "text/html": [
       "<div>\n",
       "<style scoped>\n",
       "    .dataframe tbody tr th:only-of-type {\n",
       "        vertical-align: middle;\n",
       "    }\n",
       "\n",
       "    .dataframe tbody tr th {\n",
       "        vertical-align: top;\n",
       "    }\n",
       "\n",
       "    .dataframe thead th {\n",
       "        text-align: right;\n",
       "    }\n",
       "</style>\n",
       "<table border=\"1\" class=\"dataframe\">\n",
       "  <thead>\n",
       "    <tr style=\"text-align: right;\">\n",
       "      <th></th>\n",
       "      <th>x</th>\n",
       "      <th>y</th>\n",
       "      <th>angle</th>\n",
       "      <th>major</th>\n",
       "      <th>minor</th>\n",
       "      <th>area</th>\n",
       "      <th>id</th>\n",
       "    </tr>\n",
       "    <tr>\n",
       "      <th>time</th>\n",
       "      <th></th>\n",
       "      <th></th>\n",
       "      <th></th>\n",
       "      <th></th>\n",
       "      <th></th>\n",
       "      <th></th>\n",
       "      <th></th>\n",
       "    </tr>\n",
       "  </thead>\n",
       "  <tbody>\n",
       "    <tr>\n",
       "      <th>2021-10-06 08:59:59.900991917</th>\n",
       "      <td>591.324707</td>\n",
       "      <td>260.302368</td>\n",
       "      <td>1.013295</td>\n",
       "      <td>27.946606</td>\n",
       "      <td>19.449930</td>\n",
       "      <td>560.0</td>\n",
       "      <td>NaN</td>\n",
       "    </tr>\n",
       "    <tr>\n",
       "      <th>2021-10-06 08:59:59.921023846</th>\n",
       "      <td>591.377991</td>\n",
       "      <td>260.176636</td>\n",
       "      <td>1.029197</td>\n",
       "      <td>27.642103</td>\n",
       "      <td>19.596058</td>\n",
       "      <td>559.5</td>\n",
       "      <td>NaN</td>\n",
       "    </tr>\n",
       "    <tr>\n",
       "      <th>2021-10-06 08:59:59.940991879</th>\n",
       "      <td>591.129456</td>\n",
       "      <td>260.062927</td>\n",
       "      <td>1.019339</td>\n",
       "      <td>27.305264</td>\n",
       "      <td>19.682451</td>\n",
       "      <td>553.5</td>\n",
       "      <td>NaN</td>\n",
       "    </tr>\n",
       "    <tr>\n",
       "      <th>2021-10-06 08:59:59.961023808</th>\n",
       "      <td>590.856262</td>\n",
       "      <td>260.074310</td>\n",
       "      <td>0.993847</td>\n",
       "      <td>26.591646</td>\n",
       "      <td>19.888531</td>\n",
       "      <td>545.0</td>\n",
       "      <td>NaN</td>\n",
       "    </tr>\n",
       "    <tr>\n",
       "      <th>2021-10-06 08:59:59.980991840</th>\n",
       "      <td>590.703552</td>\n",
       "      <td>260.061951</td>\n",
       "      <td>0.993873</td>\n",
       "      <td>26.135967</td>\n",
       "      <td>19.946396</td>\n",
       "      <td>538.0</td>\n",
       "      <td>NaN</td>\n",
       "    </tr>\n",
       "  </tbody>\n",
       "</table>\n",
       "</div>"
      ],
      "text/plain": [
       "                                        x           y     angle      major  \\\n",
       "time                                                                         \n",
       "2021-10-06 08:59:59.900991917  591.324707  260.302368  1.013295  27.946606   \n",
       "2021-10-06 08:59:59.921023846  591.377991  260.176636  1.029197  27.642103   \n",
       "2021-10-06 08:59:59.940991879  591.129456  260.062927  1.019339  27.305264   \n",
       "2021-10-06 08:59:59.961023808  590.856262  260.074310  0.993847  26.591646   \n",
       "2021-10-06 08:59:59.980991840  590.703552  260.061951  0.993873  26.135967   \n",
       "\n",
       "                                   minor   area  id  \n",
       "time                                                 \n",
       "2021-10-06 08:59:59.900991917  19.449930  560.0 NaN  \n",
       "2021-10-06 08:59:59.921023846  19.596058  559.5 NaN  \n",
       "2021-10-06 08:59:59.940991879  19.682451  553.5 NaN  \n",
       "2021-10-06 08:59:59.961023808  19.888531  545.0 NaN  \n",
       "2021-10-06 08:59:59.980991840  19.946396  538.0 NaN  "
      ]
     },
     "metadata": {},
     "output_type": "display_data"
    },
    {
     "data": {
      "text/html": [
       "<div>\n",
       "<style scoped>\n",
       "    .dataframe tbody tr th:only-of-type {\n",
       "        vertical-align: middle;\n",
       "    }\n",
       "\n",
       "    .dataframe tbody tr th {\n",
       "        vertical-align: top;\n",
       "    }\n",
       "\n",
       "    .dataframe thead th {\n",
       "        text-align: right;\n",
       "    }\n",
       "</style>\n",
       "<table border=\"1\" class=\"dataframe\">\n",
       "  <thead>\n",
       "    <tr style=\"text-align: right;\">\n",
       "      <th></th>\n",
       "      <th>x</th>\n",
       "      <th>y</th>\n",
       "      <th>angle</th>\n",
       "      <th>major</th>\n",
       "      <th>minor</th>\n",
       "      <th>area</th>\n",
       "      <th>id</th>\n",
       "    </tr>\n",
       "    <tr>\n",
       "      <th>time</th>\n",
       "      <th></th>\n",
       "      <th></th>\n",
       "      <th></th>\n",
       "      <th></th>\n",
       "      <th></th>\n",
       "      <th></th>\n",
       "      <th></th>\n",
       "    </tr>\n",
       "  </thead>\n",
       "  <tbody>\n",
       "    <tr>\n",
       "      <th>2022-10-03 06:00:00.013088226</th>\n",
       "      <td>160.410400</td>\n",
       "      <td>552.164856</td>\n",
       "      <td>1.518157</td>\n",
       "      <td>16.847296</td>\n",
       "      <td>13.713420</td>\n",
       "      <td>186.0</td>\n",
       "      <td>0.0</td>\n",
       "    </tr>\n",
       "    <tr>\n",
       "      <th>2022-10-03 06:00:00.033055782</th>\n",
       "      <td>160.292984</td>\n",
       "      <td>552.202637</td>\n",
       "      <td>1.555706</td>\n",
       "      <td>16.881168</td>\n",
       "      <td>13.328964</td>\n",
       "      <td>190.0</td>\n",
       "      <td>0.0</td>\n",
       "    </tr>\n",
       "    <tr>\n",
       "      <th>2022-10-03 06:00:00.053088188</th>\n",
       "      <td>160.355728</td>\n",
       "      <td>552.213623</td>\n",
       "      <td>1.551487</td>\n",
       "      <td>16.962437</td>\n",
       "      <td>13.509223</td>\n",
       "      <td>193.5</td>\n",
       "      <td>0.0</td>\n",
       "    </tr>\n",
       "    <tr>\n",
       "      <th>2022-10-03 06:00:00.073056221</th>\n",
       "      <td>160.092773</td>\n",
       "      <td>552.511780</td>\n",
       "      <td>-1.541666</td>\n",
       "      <td>16.954584</td>\n",
       "      <td>12.971062</td>\n",
       "      <td>212.0</td>\n",
       "      <td>0.0</td>\n",
       "    </tr>\n",
       "    <tr>\n",
       "      <th>2022-10-03 06:00:00.093088150</th>\n",
       "      <td>160.112946</td>\n",
       "      <td>552.559204</td>\n",
       "      <td>-1.470261</td>\n",
       "      <td>16.806320</td>\n",
       "      <td>13.165533</td>\n",
       "      <td>212.5</td>\n",
       "      <td>0.0</td>\n",
       "    </tr>\n",
       "  </tbody>\n",
       "</table>\n",
       "</div>"
      ],
      "text/plain": [
       "                                        x           y     angle      major  \\\n",
       "time                                                                         \n",
       "2022-10-03 06:00:00.013088226  160.410400  552.164856  1.518157  16.847296   \n",
       "2022-10-03 06:00:00.033055782  160.292984  552.202637  1.555706  16.881168   \n",
       "2022-10-03 06:00:00.053088188  160.355728  552.213623  1.551487  16.962437   \n",
       "2022-10-03 06:00:00.073056221  160.092773  552.511780 -1.541666  16.954584   \n",
       "2022-10-03 06:00:00.093088150  160.112946  552.559204 -1.470261  16.806320   \n",
       "\n",
       "                                   minor   area   id  \n",
       "time                                                  \n",
       "2022-10-03 06:00:00.013088226  13.713420  186.0  0.0  \n",
       "2022-10-03 06:00:00.033055782  13.328964  190.0  0.0  \n",
       "2022-10-03 06:00:00.053088188  13.509223  193.5  0.0  \n",
       "2022-10-03 06:00:00.073056221  12.971062  212.0  0.0  \n",
       "2022-10-03 06:00:00.093088150  13.165533  212.5  0.0  "
      ]
     },
     "metadata": {},
     "output_type": "display_data"
    }
   ],
   "source": [
    "# Load animal position data from both schemas\n",
    "\n",
    "root_exp01 = \"/ceph/aeon/aeon/data/raw/AEON/experiment0.1/\"\n",
    "root_exp02 = \"/ceph/aeon/aeon/data/raw/AEON2/experiment0.2/\"\n",
    "exp01_pos = api.load(\n",
    "    root_exp01, \n",
    "    exp01.FrameTop.Position, \n",
    "    start=pd.Timestamp(\"2021-10-06 08:00:00\"),\n",
    "    end=pd.Timestamp(\"2021-10-06 09:00:00\")\n",
    ")\n",
    "exp02_pos = api.load(\n",
    "    root_exp02, \n",
    "    exp02.CameraTop.Position, \n",
    "    start=pd.Timestamp(\"2022-10-03 06:00:00\"),\n",
    "    end=pd.Timestamp(\"2022-10-03 07:00:00\")\n",
    ")\n",
    "display(exp01_pos.tail())\n",
    "display(exp02_pos.head())\n"
   ]
  },
  {
   "cell_type": "markdown",
   "id": "e4124dde",
   "metadata": {
    "slideshow": {
     "slide_type": "notes"
    }
   },
   "source": [
    "So when we started thinking about interfaces to access and visualize the data, we realized we wanted both high-level and low-level interfaces to the data. We started with building a low-level API to access the raw data as it is on Ceph, upon which we built high-level interfaces. Again in line with our technical requirements, some key considerations were:\n",
    "\n",
    "- reusability\n",
    "- modularity\n",
    "- generalization\n",
    "\n",
    "In particular, we wanted to ensure backwards and forwards compatibility was easy to maintain with the API, and we wanted others to be able to extend it. To make a longer story short, we realized one way to accomplish this was to introduce core concepts of \"schema\", \"devices\", and \"streams\". \"Streams\" correspond to single datastreams, single individual datafiles in Ceph. Each of these streams can be read via a Reader class that knows how to process the data in that stream (binary or text data). \"Devices\" correspond to the \"device\" folders on ceph, and can be made up of one or more streams. For example, a patch device can be made up of an encoder stream (the magnetic encoder for the wheel), a pellet delivery stream, and a patch depletion function stream. And a \"schema\" corresponds to all the devices and streams that make up a particular dataset: you can think of having a different schema for each unique experiment you conduct. And so what we really wanted to accomplish was that even if you use different devices in different experiments, i.e. had two different schemas, you could still use the same underlying code to access data from both experiments, and things would not break. "
   ]
  },
  {
   "cell_type": "markdown",
   "id": "98a6f346",
   "metadata": {
    "slideshow": {
     "slide_type": "subslide"
    }
   },
   "source": [
    "# Datajoint API"
   ]
  },
  {
   "cell_type": "code",
   "execution_count": 7,
   "id": "283d9232",
   "metadata": {
    "scrolled": false,
    "slideshow": {
     "slide_type": "fragment"
    }
   },
   "outputs": [
    {
     "data": {
      "text/html": [
       "\n",
       "    \n",
       "    <style type=\"text/css\">\n",
       "        .Table{\n",
       "            border-collapse:collapse;\n",
       "        }\n",
       "        .Table th{\n",
       "            background: #A0A0A0; color: #ffffff; padding:4px; border:#f0e0e0 1px solid;\n",
       "            font-weight: normal; font-family: monospace; font-size: 100%;\n",
       "        }\n",
       "        .Table td{\n",
       "            padding:4px; border:#f0e0e0 1px solid; font-size:100%;\n",
       "        }\n",
       "        .Table tr:nth-child(odd){\n",
       "            background: #ffffff;\n",
       "        }\n",
       "        .Table tr:nth-child(even){\n",
       "            background: #f3f1ff;\n",
       "        }\n",
       "        /* Tooltip container */\n",
       "        .djtooltip {\n",
       "        }\n",
       "        /* Tooltip text */\n",
       "        .djtooltip .djtooltiptext {\n",
       "            visibility: hidden;\n",
       "            width: 120px;\n",
       "            background-color: black;\n",
       "            color: #fff;\n",
       "            text-align: center;\n",
       "            padding: 5px 0;\n",
       "            border-radius: 6px;\n",
       "            /* Position the tooltip text - see examples below! */\n",
       "            position: absolute;\n",
       "            z-index: 1;\n",
       "        }\n",
       "        #primary {\n",
       "            font-weight: bold;\n",
       "            color: black;\n",
       "        }\n",
       "        #nonprimary {\n",
       "            font-weight: normal;\n",
       "            color: white;\n",
       "        }\n",
       "\n",
       "        /* Show the tooltip text when you mouse over the tooltip container */\n",
       "        .djtooltip:hover .djtooltiptext {\n",
       "            visibility: visible;\n",
       "        }\n",
       "    </style>\n",
       "    \n",
       "    <b></b>\n",
       "        <div style=\"max-height:1000px;max-width:1500px;overflow:auto;\">\n",
       "        <table border=\"1\" class=\"Table\">\n",
       "            <thead> <tr style=\"text-align: right;\"> <th> <div class=\"djtooltip\">\n",
       "                            <p id=\"primary\">experiment_name</p>\n",
       "                            <span class=\"djtooltiptext\">e.g exp0-a</span>\n",
       "                        </div></th><th><div class=\"djtooltip\">\n",
       "                            <p id=\"primary\">subject</p>\n",
       "                            <span class=\"djtooltiptext\"></span>\n",
       "                        </div></th><th><div class=\"djtooltip\">\n",
       "                            <p id=\"primary\">place</p>\n",
       "                            <span class=\"djtooltiptext\">User-friendly name of a 'place' animals can visit - e.g. nest, arena, foodpatch</span>\n",
       "                        </div></th><th><div class=\"djtooltip\">\n",
       "                            <p id=\"primary\">visit_start</p>\n",
       "                            <span class=\"djtooltiptext\"></span>\n",
       "                        </div></th><th><div class=\"djtooltip\">\n",
       "                            <p id=\"primary\">visit_date</p>\n",
       "                            <span class=\"djtooltiptext\"></span>\n",
       "                        </div></th><th><div class=\"djtooltip\">\n",
       "                            <p id=\"nonprimary\">day_duration</p>\n",
       "                            <span class=\"djtooltiptext\">total duration (in hours)</span>\n",
       "                        </div></th><th><div class=\"djtooltip\">\n",
       "                            <p id=\"nonprimary\">total_distance_travelled</p>\n",
       "                            <span class=\"djtooltiptext\">(m) total distance the animal travelled during this visit</span>\n",
       "                        </div></th><th><div class=\"djtooltip\">\n",
       "                            <p id=\"nonprimary\">total_pellet_count</p>\n",
       "                            <span class=\"djtooltiptext\">total pellet delivered (triggered) for all patches during this visit</span>\n",
       "                        </div></th><th><div class=\"djtooltip\">\n",
       "                            <p id=\"nonprimary\">total_wheel_distance_travelled</p>\n",
       "                            <span class=\"djtooltiptext\">total wheel travelled distance for all patches</span>\n",
       "                        </div> </th> </tr> </thead>\n",
       "            <tbody> <tr> <td>exp0.2-r0</td>\n",
       "<td>BAA-1102223</td>\n",
       "<td>environment</td>\n",
       "<td>2022-09-26 10:37:39.908189</td>\n",
       "<td>2022-09-26</td>\n",
       "<td>13.372</td>\n",
       "<td>2781.11</td>\n",
       "<td>145</td>\n",
       "<td>9667.27</td></tr><tr><td>exp0.2-r0</td>\n",
       "<td>BAA-1102223</td>\n",
       "<td>environment</td>\n",
       "<td>2022-09-26 10:37:39.908189</td>\n",
       "<td>2022-09-27</td>\n",
       "<td>24.0</td>\n",
       "<td>2890.26</td>\n",
       "<td>149</td>\n",
       "<td>14905.1</td></tr><tr><td>exp0.2-r0</td>\n",
       "<td>BAA-1102223</td>\n",
       "<td>environment</td>\n",
       "<td>2022-09-26 10:37:39.908189</td>\n",
       "<td>2022-09-28</td>\n",
       "<td>24.0</td>\n",
       "<td>2588.45</td>\n",
       "<td>138</td>\n",
       "<td>13780.7</td></tr><tr><td>exp0.2-r0</td>\n",
       "<td>BAA-1102223</td>\n",
       "<td>environment</td>\n",
       "<td>2022-09-26 10:37:39.908189</td>\n",
       "<td>2022-09-29</td>\n",
       "<td>24.0</td>\n",
       "<td>2607.73</td>\n",
       "<td>187</td>\n",
       "<td>18442.4</td></tr><tr><td>exp0.2-r0</td>\n",
       "<td>BAA-1102223</td>\n",
       "<td>environment</td>\n",
       "<td>2022-09-26 10:37:39.908189</td>\n",
       "<td>2022-09-30</td>\n",
       "<td>24.0</td>\n",
       "<td>2260.62</td>\n",
       "<td>162</td>\n",
       "<td>29183.6</td> </tr> </tbody>\n",
       "        </table>\n",
       "        <p>...</p>\n",
       "        <p>Total: 16</p></div>\n",
       "        "
      ],
      "text/plain": [
       "*experiment_name    *subject        *place          *visit_start                   *visit_date    day_duration     total_distance_travelled     total_pellet_count     total_wheel_distance_travelled\n",
       "+-----------------+ +-------------+ +-------------+ +----------------------------+ +------------+ +--------------+ +--------------------------+ +--------------------+ +----------------------------+\n",
       "exp0.2-r0           BAA-1102223     environment     2022-09-26 10:37:39.908189     2022-09-26     13.372           2781.11                      145                    9667.27                       \n",
       "exp0.2-r0           BAA-1102223     environment     2022-09-26 10:37:39.908189     2022-09-27     24.0             2890.26                      149                    14905.1                       \n",
       "exp0.2-r0           BAA-1102223     environment     2022-09-26 10:37:39.908189     2022-09-28     24.0             2588.45                      138                    13780.7                       \n",
       "exp0.2-r0           BAA-1102223     environment     2022-09-26 10:37:39.908189     2022-09-29     24.0             2607.73                      187                    18442.4                       \n",
       "exp0.2-r0           BAA-1102223     environment     2022-09-26 10:37:39.908189     2022-09-30     24.0             2260.62                      162                    29183.6                       \n",
       "   ...\n",
       " (Total: 16)"
      ]
     },
     "execution_count": 7,
     "metadata": {},
     "output_type": "execute_result"
    }
   ],
   "source": [
    "# Example: View some daily statistics\n",
    "\n",
    "analysis.VisitSummary & f\"visit_start >= '2022-09-26'\" & f\"visit_start <= '2022-10-10'\""
   ]
  },
  {
   "cell_type": "code",
   "execution_count": 8,
   "id": "3eef3588",
   "metadata": {
    "slideshow": {
     "slide_type": "fragment"
    }
   },
   "outputs": [
    {
     "data": {
      "text/html": [
       "\n",
       "    \n",
       "    <style type=\"text/css\">\n",
       "        .Table{\n",
       "            border-collapse:collapse;\n",
       "        }\n",
       "        .Table th{\n",
       "            background: #A0A0A0; color: #ffffff; padding:4px; border:#f0e0e0 1px solid;\n",
       "            font-weight: normal; font-family: monospace; font-size: 100%;\n",
       "        }\n",
       "        .Table td{\n",
       "            padding:4px; border:#f0e0e0 1px solid; font-size:100%;\n",
       "        }\n",
       "        .Table tr:nth-child(odd){\n",
       "            background: #ffffff;\n",
       "        }\n",
       "        .Table tr:nth-child(even){\n",
       "            background: #f3f1ff;\n",
       "        }\n",
       "        /* Tooltip container */\n",
       "        .djtooltip {\n",
       "        }\n",
       "        /* Tooltip text */\n",
       "        .djtooltip .djtooltiptext {\n",
       "            visibility: hidden;\n",
       "            width: 120px;\n",
       "            background-color: black;\n",
       "            color: #fff;\n",
       "            text-align: center;\n",
       "            padding: 5px 0;\n",
       "            border-radius: 6px;\n",
       "            /* Position the tooltip text - see examples below! */\n",
       "            position: absolute;\n",
       "            z-index: 1;\n",
       "        }\n",
       "        #primary {\n",
       "            font-weight: bold;\n",
       "            color: black;\n",
       "        }\n",
       "        #nonprimary {\n",
       "            font-weight: normal;\n",
       "            color: white;\n",
       "        }\n",
       "\n",
       "        /* Show the tooltip text when you mouse over the tooltip container */\n",
       "        .djtooltip:hover .djtooltiptext {\n",
       "            visibility: visible;\n",
       "        }\n",
       "    </style>\n",
       "    \n",
       "    \n",
       "        <div style=\"max-height:1000px;max-width:1500px;overflow:auto;\">\n",
       "        <table border=\"1\" class=\"Table\">\n",
       "            <thead> <tr style=\"text-align: right;\"> <th> <div class=\"djtooltip\">\n",
       "                            <p id=\"primary\">experiment_name</p>\n",
       "                            <span class=\"djtooltiptext\">e.g exp0-a</span>\n",
       "                        </div></th><th><div class=\"djtooltip\">\n",
       "                            <p id=\"primary\">subject</p>\n",
       "                            <span class=\"djtooltiptext\"></span>\n",
       "                        </div></th><th><div class=\"djtooltip\">\n",
       "                            <p id=\"nonprimary\">mean_distance</p>\n",
       "                            <span class=\"djtooltiptext\">calculated attribute</span>\n",
       "                        </div></th><th><div class=\"djtooltip\">\n",
       "                            <p id=\"nonprimary\">mean_pellet</p>\n",
       "                            <span class=\"djtooltiptext\">calculated attribute</span>\n",
       "                        </div></th><th><div class=\"djtooltip\">\n",
       "                            <p id=\"nonprimary\">mean_wheel_distance</p>\n",
       "                            <span class=\"djtooltiptext\">calculated attribute</span>\n",
       "                        </div> </th> </tr> </thead>\n",
       "            <tbody> <tr> <td>exp0.2-r0</td>\n",
       "<td>BAA-1102223</td>\n",
       "<td>2455.364158630371</td>\n",
       "<td>149.6250</td>\n",
       "<td>17797.726623535156</td></tr><tr><td>exp0.2-r0</td>\n",
       "<td>BAA-1102224</td>\n",
       "<td>2058.92586517334</td>\n",
       "<td>126.6250</td>\n",
       "<td>27526.142211914062</td> </tr> </tbody>\n",
       "        </table>\n",
       "        \n",
       "        <p>Total: 2</p></div>\n",
       "        "
      ],
      "text/plain": [
       "*experiment_name    *subject        mean_distance         mean_pellet     mean_wheel_distance    \n",
       "+-----------------+ +-------------+ +-------------------+ +-------------+ +---------------------+\n",
       "exp0.2-r0           BAA-1102223     2455.364158630371     149.6250        17797.726623535156     \n",
       "exp0.2-r0           BAA-1102224     2058.92586517334      126.6250        27526.142211914062     \n",
       " (Total: 2)"
      ]
     },
     "execution_count": 8,
     "metadata": {},
     "output_type": "execute_result"
    }
   ],
   "source": [
    "# Aggregate over subjects and get mean values\n",
    "\n",
    "subject_summary_query = Experiment.Subject.aggr(\n",
    "    analysis.VisitSummary & f\"visit_start >= '2022-09-26'\" & f\"visit_start <= '2022-10-10'\",\n",
    "    mean_distance=\"AVG(total_distance_travelled)\", \n",
    "    mean_pellet=\"AVG(total_pellet_count)\",\n",
    "    mean_wheel_distance=\"AVG(total_wheel_distance_travelled)\",\n",
    ")\n",
    "subject_summary_query"
   ]
  },
  {
   "cell_type": "code",
   "execution_count": 9,
   "id": "8ad437bd",
   "metadata": {
    "scrolled": true,
    "slideshow": {
     "slide_type": "fragment"
    }
   },
   "outputs": [
    {
     "data": {
      "image/png": "[encoded data removed]",
      "text/plain": [
       "<Figure size 1200x800 with 3 Axes>"
      ]
     },
     "metadata": {},
     "output_type": "display_data"
    }
   ],
   "source": [
    "# Fetch data back in the form of pandas DataFrame and plot it\n",
    "\n",
    "subject_summary = subject_summary_query.fetch(format='frame')\n",
    "subject_summary = subject_summary.astype(  # ensure datatype is float\n",
    "    {'mean_distance': float,\n",
    "     'mean_pellet': float, \n",
    "     'mean_wheel_distance': float\n",
    "    }\n",
    ")\n",
    "subject_summary.plot.bar(subplots=True, figsize=(12, 8), rot=45);"
   ]
  },
  {
   "cell_type": "markdown",
   "id": "038f3416",
   "metadata": {
    "slideshow": {
     "slide_type": "subslide"
    }
   },
   "source": [
    "<font size=\"12\">\n",
    "\n",
    "# Web Interfaces\n",
    "\n",
    "- [Dashboard](http://192.168.234.1:7777)\n",
    "- [Sci-viz](https://www.swc.ucl.ac.uk/aeon/login)"
   ]
  },
  {
   "cell_type": "markdown",
   "id": "cc91b9db",
   "metadata": {
    "slideshow": {
     "slide_type": "subslide"
    }
   },
   "source": [
    "# Weight & ID Tracking\n",
    "<br><br>"
   ]
  },
  {
   "cell_type": "markdown",
   "id": "8986346e",
   "metadata": {
    "cell_style": "split",
    "slideshow": {
     "slide_type": "-"
    }
   },
   "source": [
    "<left><img src=\"longterm_weight_viz.png\" width=\"1000\" /></left>"
   ]
  },
  {
   "cell_type": "markdown",
   "id": "a86b0030",
   "metadata": {
    "cell_style": "split",
    "slideshow": {
     "slide_type": "-"
    }
   },
   "source": [
    "<br><br>\n",
    "<video width=\"1200\" height=\"800\" src=\"output_video.mp4\" controls> </video>"
   ]
  },
  {
   "cell_type": "markdown",
   "id": "7dfddf08",
   "metadata": {
    "slideshow": {
     "slide_type": "notes"
    }
   },
   "source": [
    "Online, Multianimal Tracking Via SLEAP\n",
    "\n",
    "- If we train the network on individual videos of both animals, then on test sets of about 40 minutes (125000 frames), we get super-high accuracy for single-animal detection over 99%. However, this drops to around 80% accuracy in multi-animal detection and identification in multi-animal videos.\n",
    "- Additionally, without diving too much into the details, we're creating a nice way to continuously retrain this network daily, so that it can stay robust to changes in mouse visual appearance that may take place over weeks or months."
   ]
  },
  {
   "cell_type": "markdown",
   "id": "4d9a2409",
   "metadata": {
    "slideshow": {
     "slide_type": "slide"
    }
   },
   "source": [
    "<font size=\"10\">\n",
    "\n",
    "## Engineering Focal Points\n",
    "\n",
    "1. Environment\n",
    "2. Experiment Control\n",
    "3. Data Acquisition\n",
    "4. Data Management\n",
    "5. Data Visualization\n",
    "6. Data Analysis\n",
    "\n",
    "<span style=\"color:#0775b5\">\n",
    "\n",
    "7) Animal Welfare\n",
    "\n",
    "</span>"
   ]
  },
  {
   "cell_type": "markdown",
   "id": "aee6b6ca",
   "metadata": {
    "slideshow": {
     "slide_type": "subslide"
    }
   },
   "source": [
    "<font size =\"7\">\n",
    "\n",
    "## Animal Welfare\n",
    "<br>\n",
    "\n",
    "\n",
    "\n",
    "- Robust Weight Tracking\n",
    "- Robust ID Tracking\n",
    "- Status & Alert Notifications \n",
    "    - Via Webhooks via Teams\n",
    "    - Hourly status updates\n",
    "    - Animal alerts:\n",
    "        - Weight\n",
    "        - Activity\n",
    "        - _Online Behaviour Classification (e.g. Fighting)_ \n",
    "    - System alerts: \n",
    "        - Hardware device issues (e.g. dropped frames, non-responsive feeders) \n",
    "        - Software issues (e.g. abnormal system usage, storage capacity, lost synchronization)"
   ]
  },
  {
   "cell_type": "markdown",
   "id": "65220b61",
   "metadata": {
    "cell_style": "center",
    "slideshow": {
     "slide_type": "slide"
    }
   },
   "source": [
    "<font size=\"10\">\n",
    "\n",
    "## Future Directions\n",
    "\n",
    "1) Additional Platform Enhancements\n",
    "2) Electrophysiology\n",
    "3) Social, Continual Learning, Policy-switching Experiments\n"
   ]
  },
  {
   "cell_type": "markdown",
   "id": "cca26865",
   "metadata": {
    "slideshow": {
     "slide_type": "subslide"
    }
   },
   "source": [
    "<font size=\"10\">\n",
    "\n",
    "## Additional Platform Enhancements\n",
    "\n",
    "- Closed loop feedback between Bonsai and Database\n",
    "- Web Interface Video Streamer\n",
    "- Latent behavioral and neural state classification (e.g. using CEBRA)"
   ]
  },
  {
   "cell_type": "markdown",
   "id": "0b7ed059",
   "metadata": {
    "slideshow": {
     "slide_type": "subslide"
    }
   },
   "source": [
    "<font size=\"20\">\n",
    "\n",
    "## Electrophysiology\n",
    "\n",
    "OpenEphys Onix Headstages for Neuropixels 2!\n",
    "<br><br><br><br><br><br><br>\n",
    "\n",
    "<img src=\"onix.png\" width=\"1800\"/>"
   ]
  },
  {
   "cell_type": "markdown",
   "id": "a101d958",
   "metadata": {
    "slideshow": {
     "slide_type": "subslide"
    }
   },
   "source": [
    "<font size=\"10\">\n",
    "\n",
    "## Electrophysiology\n",
    "\n",
    "Auto-commutation via Kalman smoothing"
   ]
  },
  {
   "cell_type": "markdown",
   "id": "95b01cbe",
   "metadata": {
    "cell_style": "split",
    "slideshow": {
     "slide_type": "fragment"
    }
   },
   "source": [
    "<video width=\"1680\" height=\"1200\" src=\"output_video2.mp4\" controls> </video>"
   ]
  },
  {
   "cell_type": "markdown",
   "id": "7760f610",
   "metadata": {
    "cell_style": "split",
    "slideshow": {
     "slide_type": "fragment"
    }
   },
   "source": [
    "<br><br><br><br><br><br>\n",
    "<br><br><br><br><br><br>\n",
    "\n",
    "<img src=\"auto_commutator_kalman_correction.png\" width=\"1400\"/>"
   ]
  },
  {
   "cell_type": "markdown",
   "id": "880353a1",
   "metadata": {
    "slideshow": {
     "slide_type": "notes"
    }
   },
   "source": [
    "Mention continuous spike-sorting: in touch with Slack SpikeSorting Group, SpikeInterface, and Neuroinformatics"
   ]
  },
  {
   "cell_type": "markdown",
   "id": "a8a7ef4f",
   "metadata": {
    "slideshow": {
     "slide_type": "subslide"
    }
   },
   "source": [
    "<font size=\"10\">\n",
    "\n",
    "## Long-term, Social Behavior Questions\n",
    "\n",
    "In a noisy and changing environment, do mice: "
   ]
  },
  {
   "cell_type": "markdown",
   "id": "42439a93",
   "metadata": {
    "slideshow": {
     "slide_type": "fragment"
    }
   },
   "source": [
    "<font size=\"10\">\n",
    "\n",
    "1. Exhibit social behaviour?<br>\n",
    "  a. Interact more or less than expected?<br>\n",
    "  b. Exert more or less energy / power than expected?<br>"
   ]
  },
  {
   "cell_type": "markdown",
   "id": "712a4771",
   "metadata": {
    "slideshow": {
     "slide_type": "fragment"
    }
   },
   "source": [
    "<font size=\"10\">\n",
    "\n",
    "2. Establish a social hierarchy?<br>\n",
    "    a. Change ranks in the social hierarchy?<br>\n",
    "    b. Gain resources from foraging consistent with their ranking in a social hierarchy? "
   ]
  },
  {
   "cell_type": "markdown",
   "id": "2b947911",
   "metadata": {
    "slideshow": {
     "slide_type": "fragment"
    }
   },
   "source": [
    "<font size=\"10\">\n",
    "\n",
    "3. Share information that maximises their resources gained from foraging?<br>\n",
    "  a. Learn to explore until finding the best patch?"
   ]
  },
  {
   "cell_type": "markdown",
   "id": "8f3313af",
   "metadata": {
    "slideshow": {
     "slide_type": "fragment"
    }
   },
   "source": [
    "<font size=\"10\">\n",
    "\n",
    "4. Compete over resources gained from foraging?"
   ]
  },
  {
   "cell_type": "markdown",
   "id": "62841090",
   "metadata": {
    "slideshow": {
     "slide_type": "fragment"
    }
   },
   "source": [
    "<font size=\"10\">\n",
    "\n",
    "5. Learn to cooperate to maximise resources gained from foraging?"
   ]
  },
  {
   "cell_type": "markdown",
   "id": "7fe3cdd8",
   "metadata": {
    "slideshow": {
     "slide_type": "notes"
    }
   },
   "source": [
    "We have some early evidence already for 1 and 2, but for all of these questions we are particularly interested in seeing how the behavior and neural dynamics change continuously over time.\n",
    "\n",
    "Currently, we are exploring how they react to probabilistic patch replenishment. From individual sessions with constant patch replenishment functions, for the patch parameters we tested, we have roughly seen that they can dinstinguish patches that are >2x apart (e.g. after controlling for initial bias, if they get a reward for spinning a wheel on one patch at 200cm, the other patch has to be at least 400cm before we see a significant difference in patch preference). For probabilistic patches where the replenishment function is an Exponential, early results indicate a similar threshold for patch discrimination, maybe closer to 3x, but this testing is still ongoing.\n",
    "\n"
   ]
  },
  {
   "cell_type": "markdown",
   "id": "30914a76",
   "metadata": {
    "slideshow": {
     "slide_type": "subslide"
    }
   },
   "source": [
    "# Potential Implicated Brain Regions\n",
    "<br><br><br>\n",
    "<img src=\"brain_regions_social_foraging.png\" width=\"1200\" />"
   ]
  },
  {
   "cell_type": "markdown",
   "id": "c20750c0",
   "metadata": {
    "slideshow": {
     "slide_type": "notes"
    }
   },
   "source": [
    "For thinking about the potential neural bases of these behaviors, I think brain regions commonly implicated in social behavior and foraging decision-making is a good start. I'm just starting to dive into this literature, and this figure highlights some brain regions implicated in various types of social behavior, including social reward, approach/avoidance, recogntion, and memory."
   ]
  },
  {
   "cell_type": "markdown",
   "id": "a90e8c5a",
   "metadata": {
    "slideshow": {
     "slide_type": "slide"
    }
   },
   "source": [
    "<font size=\"10\">\n",
    "\n",
    "# Summary"
   ]
  },
  {
   "cell_type": "markdown",
   "id": "4af6078f",
   "metadata": {
    "cell_style": "split"
   },
   "source": [
    "<font size=\"10\">\n",
    "\n",
    "## Engineering Focal Points\n",
    "\n",
    "1) Environment\n",
    "2) Experiment Control\n",
    "3) Data Acquisition\n",
    "4) Data Management\n",
    "5) Data Visualization\n",
    "6) Data Analysis\n",
    "7) Animal Welfare"
   ]
  },
  {
   "cell_type": "markdown",
   "id": "f9f8f6b8",
   "metadata": {
    "cell_style": "split"
   },
   "source": [
    "<font size=\"10\">\n",
    "\n",
    "## Future Directions\n",
    "\n",
    "1) Additional Platform Enhancements\n",
    "2) Electrophysiology\n",
    "3) Experiments"
   ]
  }
 ],
 "metadata": {
  "celltoolbar": "Slideshow",
  "kernelspec": {
   "display_name": "Python 3 (ipykernel)",
   "language": "python",
   "name": "python3"
  },
  "language_info": {
   "codemirror_mode": {
    "name": "ipython",
    "version": 3
   },
   "file_extension": ".py",
   "mimetype": "text/x-python",
   "name": "python",
   "nbconvert_exporter": "python",
   "pygments_lexer": "ipython3",
   "version": "3.10.10"
  },
  "rise": {
   "backimage": "backimage_less2.png",
   "enable_chalkboard": true,
   "progress": true,
   "scroll": true,
   "slideNumber": true,
   "slideNumberFormat": "{current} / {total}",
   "start_slideshow_at": "selected",
   "theme": "dracula"
  }
 },
 "nbformat": 4,
 "nbformat_minor": 5
}
