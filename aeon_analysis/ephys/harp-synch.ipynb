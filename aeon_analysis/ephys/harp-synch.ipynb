{
 "cells": [
  {
   "cell_type": "code",
   "execution_count": 1,
   "metadata": {},
   "outputs": [],
   "source": [
    "import pandas as pd\n",
    "import numpy as np\n",
    "from scipy import interpolate\n",
    "from pathlib import Path\n",
    "from dotmap import DotMap\n",
    "import aeon.io.api as aeon\n",
    "import matplotlib.pyplot as plt\n",
    "from aeon.schema.streams import Device\n",
    "from aeon.schema.dataset import exp02, exp01\n",
    "from aeon.analysis.utils import visits, distancetravelled\n",
    "from aeon.io.reader import Chunk, Csv, Harp\n",
    "from aeon.schema import ephys"
   ]
  },
  {
   "cell_type": "code",
   "execution_count": 2,
   "metadata": {},
   "outputs": [],
   "source": [
    "ephys_root = Path('/ceph/aeon/aeon/data/raw/AEONX1/social-ephys0.1/')\n",
    "root = '/ceph/aeon/aeon/data/raw/AEON2/social-ephys0.1/'\n",
    "behavior_epoch = '2024-06-04T10-29-49'\n",
    "ephys_epoch = '2024-06-04T10-24-07'"
   ]
  },
  {
   "cell_type": "code",
   "execution_count": 3,
   "metadata": {},
   "outputs": [],
   "source": [
    "social_ephys = DotMap(\n",
    "    [\n",
    "        Device(\"NeuropixelsV2Beta\", ephys.NeuropixelsV2Beta, ephys.Bno055)\n",
    "    ])"
   ]
  },
  {
   "cell_type": "code",
   "execution_count": 4,
   "metadata": {},
   "outputs": [
    {
     "data": {
      "text/plain": [
       "DotMap(HarpSync=<aeon.schema.ephys.HarpSync.Reader object at 0x7f2773f47d90>, HarpSyncModel=<aeon.schema.ephys.HarpSyncModel.Reader object at 0x7f2773eca890>, Bno055Clock=<aeon.io.reader.Binary object at 0x7f28e854ae10>, _ipython_display_=DotMap(), _repr_mimebundle_=DotMap())"
      ]
     },
     "execution_count": 4,
     "metadata": {},
     "output_type": "execute_result"
    }
   ],
   "source": [
    "social_ephys.NeuropixelsV2Beta"
   ]
  },
  {
   "cell_type": "code",
   "execution_count": 12,
   "metadata": {},
   "outputs": [
    {
     "data": {
      "text/plain": [
       "datetime.datetime(2024, 6, 6, 6, 0)"
      ]
     },
     "execution_count": 12,
     "metadata": {},
     "output_type": "execute_result"
    }
   ],
   "source": [
    "from datetime import datetime\n",
    "datetime.strptime('2024-06-06T06-00-00.csv', '%Y-%m-%dT%H-%M-%S.csv')"
   ]
  },
  {
   "cell_type": "code",
   "execution_count": 5,
   "metadata": {},
   "outputs": [],
   "source": [
    "harp_sync = aeon.load(ephys_root, social_ephys.NeuropixelsV2Beta.HarpSync, epoch=ephys_epoch)\n",
    "harp_sync = harp_sync.iloc[:-2].dropna()"
   ]
  },
  {
   "cell_type": "code",
   "execution_count": 4,
   "metadata": {},
   "outputs": [
    {
     "data": {
      "text/html": [
       "<div>\n",
       "<style scoped>\n",
       "    .dataframe tbody tr th:only-of-type {\n",
       "        vertical-align: middle;\n",
       "    }\n",
       "\n",
       "    .dataframe tbody tr th {\n",
       "        vertical-align: top;\n",
       "    }\n",
       "\n",
       "    .dataframe thead th {\n",
       "        text-align: right;\n",
       "    }\n",
       "</style>\n",
       "<table border=\"1\" class=\"dataframe\">\n",
       "  <thead>\n",
       "    <tr style=\"text-align: right;\">\n",
       "      <th></th>\n",
       "      <th>clock_start</th>\n",
       "      <th>clock_end</th>\n",
       "      <th>model</th>\n",
       "      <th>r2</th>\n",
       "    </tr>\n",
       "    <tr>\n",
       "      <th>time</th>\n",
       "      <th></th>\n",
       "      <th></th>\n",
       "      <th></th>\n",
       "      <th></th>\n",
       "    </tr>\n",
       "  </thead>\n",
       "  <tbody>\n",
       "    <tr>\n",
       "      <th>2024-06-04 10:00:00</th>\n",
       "      <td>291416781</td>\n",
       "      <td>535262419234</td>\n",
       "      <td>LinearRegression()</td>\n",
       "      <td>1.0</td>\n",
       "    </tr>\n",
       "    <tr>\n",
       "      <th>2024-06-04 11:00:00</th>\n",
       "      <td>535511939105</td>\n",
       "      <td>1433534571422</td>\n",
       "      <td>LinearRegression()</td>\n",
       "      <td>1.0</td>\n",
       "    </tr>\n",
       "    <tr>\n",
       "      <th>2024-06-04 12:00:00</th>\n",
       "      <td>1433784091589</td>\n",
       "      <td>2331806599530</td>\n",
       "      <td>LinearRegression()</td>\n",
       "      <td>1.0</td>\n",
       "    </tr>\n",
       "    <tr>\n",
       "      <th>2024-06-04 13:00:00</th>\n",
       "      <td>2332056119822</td>\n",
       "      <td>3230079039651</td>\n",
       "      <td>LinearRegression()</td>\n",
       "      <td>1.0</td>\n",
       "    </tr>\n",
       "    <tr>\n",
       "      <th>2024-06-04 14:00:00</th>\n",
       "      <td>3230328559868</td>\n",
       "      <td>4128351623502</td>\n",
       "      <td>LinearRegression()</td>\n",
       "      <td>1.0</td>\n",
       "    </tr>\n",
       "    <tr>\n",
       "      <th>...</th>\n",
       "      <td>...</td>\n",
       "      <td>...</td>\n",
       "      <td>...</td>\n",
       "      <td>...</td>\n",
       "    </tr>\n",
       "    <tr>\n",
       "      <th>2024-06-10 11:00:00</th>\n",
       "      <td>129886755790227</td>\n",
       "      <td>130784779050922</td>\n",
       "      <td>LinearRegression()</td>\n",
       "      <td>1.0</td>\n",
       "    </tr>\n",
       "    <tr>\n",
       "      <th>2024-06-10 12:00:00</th>\n",
       "      <td>130785028571545</td>\n",
       "      <td>131683051723638</td>\n",
       "      <td>LinearRegression()</td>\n",
       "      <td>1.0</td>\n",
       "    </tr>\n",
       "    <tr>\n",
       "      <th>2024-06-10 13:00:00</th>\n",
       "      <td>131683301243628</td>\n",
       "      <td>132581324663296</td>\n",
       "      <td>LinearRegression()</td>\n",
       "      <td>1.0</td>\n",
       "    </tr>\n",
       "    <tr>\n",
       "      <th>2024-06-10 14:00:00</th>\n",
       "      <td>132581574183369</td>\n",
       "      <td>133231324820705</td>\n",
       "      <td>LinearRegression()</td>\n",
       "      <td>1.0</td>\n",
       "    </tr>\n",
       "    <tr>\n",
       "      <th>2039-11-09 19:00:00</th>\n",
       "      <td>110779533305975</td>\n",
       "      <td>110787008333474</td>\n",
       "      <td>LinearRegression()</td>\n",
       "      <td>1.0</td>\n",
       "    </tr>\n",
       "  </tbody>\n",
       "</table>\n",
       "<p>150 rows × 4 columns</p>\n",
       "</div>"
      ],
      "text/plain": [
       "                         clock_start        clock_end               model   r2\n",
       "time                                                                          \n",
       "2024-06-04 10:00:00        291416781     535262419234  LinearRegression()  1.0\n",
       "2024-06-04 11:00:00     535511939105    1433534571422  LinearRegression()  1.0\n",
       "2024-06-04 12:00:00    1433784091589    2331806599530  LinearRegression()  1.0\n",
       "2024-06-04 13:00:00    2332056119822    3230079039651  LinearRegression()  1.0\n",
       "2024-06-04 14:00:00    3230328559868    4128351623502  LinearRegression()  1.0\n",
       "...                              ...              ...                 ...  ...\n",
       "2024-06-10 11:00:00  129886755790227  130784779050922  LinearRegression()  1.0\n",
       "2024-06-10 12:00:00  130785028571545  131683051723638  LinearRegression()  1.0\n",
       "2024-06-10 13:00:00  131683301243628  132581324663296  LinearRegression()  1.0\n",
       "2024-06-10 14:00:00  132581574183369  133231324820705  LinearRegression()  1.0\n",
       "2039-11-09 19:00:00  110779533305975  110787008333474  LinearRegression()  1.0\n",
       "\n",
       "[150 rows x 4 columns]"
      ]
     },
     "execution_count": 4,
     "metadata": {},
     "output_type": "execute_result"
    }
   ],
   "source": [
    "sync_model = aeon.load(ephys_root, social_ephys.NeuropixelsV2Beta.HarpSyncModel, epoch=ephys_epoch)\n",
    "sync_model"
   ]
  },
  {
   "cell_type": "code",
   "execution_count": 14,
   "metadata": {},
   "outputs": [
    {
     "data": {
      "text/plain": [
       "<Axes: ylabel='Frequency'>"
      ]
     },
     "execution_count": 14,
     "metadata": {},
     "output_type": "execute_result"
    },
    {
     "data": {
      "image/png": "[encoded data removed]",
      "text/plain": [
       "<Figure size 640x480 with 1 Axes>"
      ]
     },
     "metadata": {},
     "output_type": "display_data"
    }
   ],
   "source": [
    "sync_model.r2.reset_index().r2.plot(kind='hist')"
   ]
  },
  {
   "cell_type": "code",
   "execution_count": 24,
   "metadata": {},
   "outputs": [
    {
     "data": {
      "text/plain": [
       "<Axes: xlabel='time'>"
      ]
     },
     "execution_count": 24,
     "metadata": {},
     "output_type": "execute_result"
    },
    {
     "data": {
      "image/png": "[encoded data removed]",
      "text/plain": [
       "<Figure size 640x480 with 1 Axes>"
      ]
     },
     "metadata": {},
     "output_type": "display_data"
    }
   ],
   "source": [
    "harp_sync.dropna().diff()"
   ]
  },
  {
   "cell_type": "code",
   "execution_count": 46,
   "metadata": {},
   "outputs": [
    {
     "data": {
      "text/html": [
       "<div>\n",
       "<style scoped>\n",
       "    .dataframe tbody tr th:only-of-type {\n",
       "        vertical-align: middle;\n",
       "    }\n",
       "\n",
       "    .dataframe tbody tr th {\n",
       "        vertical-align: top;\n",
       "    }\n",
       "\n",
       "    .dataframe thead th {\n",
       "        text-align: right;\n",
       "    }\n",
       "</style>\n",
       "<table border=\"1\" class=\"dataframe\">\n",
       "  <thead>\n",
       "    <tr style=\"text-align: right;\">\n",
       "      <th></th>\n",
       "      <th>clock</th>\n",
       "      <th>hub_clock</th>\n",
       "      <th>harp_time</th>\n",
       "    </tr>\n",
       "    <tr>\n",
       "      <th>time</th>\n",
       "      <th></th>\n",
       "      <th></th>\n",
       "      <th></th>\n",
       "    </tr>\n",
       "  </thead>\n",
       "  <tbody>\n",
       "    <tr>\n",
       "      <th>2024-06-09 13:43:44</th>\n",
       "      <td>110779507510624</td>\n",
       "      <td>110779507510599</td>\n",
       "      <td>3.800785e+09</td>\n",
       "    </tr>\n",
       "    <tr>\n",
       "      <th>2024-06-09 14:00:00</th>\n",
       "      <td>111023039042906</td>\n",
       "      <td>111023039042881</td>\n",
       "      <td>3.800786e+09</td>\n",
       "    </tr>\n",
       "  </tbody>\n",
       "</table>\n",
       "</div>"
      ],
      "text/plain": [
       "                               clock        hub_clock     harp_time\n",
       "time                                                               \n",
       "2024-06-09 13:43:44  110779507510624  110779507510599  3.800785e+09\n",
       "2024-06-09 14:00:00  111023039042906  111023039042881  3.800786e+09"
      ]
     },
     "execution_count": 46,
     "metadata": {},
     "output_type": "execute_result"
    }
   ],
   "source": [
    "outlier = harp_sync.clock.diff().argmax()\n",
    "harp_sync.iloc[outlier-1:outlier+1]"
   ]
  },
  {
   "cell_type": "code",
   "execution_count": 43,
   "metadata": {},
   "outputs": [
    {
     "data": {
      "text/html": [
       "<div>\n",
       "<style scoped>\n",
       "    .dataframe tbody tr th:only-of-type {\n",
       "        vertical-align: middle;\n",
       "    }\n",
       "\n",
       "    .dataframe tbody tr th {\n",
       "        vertical-align: top;\n",
       "    }\n",
       "\n",
       "    .dataframe thead th {\n",
       "        text-align: right;\n",
       "    }\n",
       "</style>\n",
       "<table border=\"1\" class=\"dataframe\">\n",
       "  <thead>\n",
       "    <tr style=\"text-align: right;\">\n",
       "      <th></th>\n",
       "      <th>clock</th>\n",
       "      <th>hub_clock</th>\n",
       "      <th>harp_time</th>\n",
       "    </tr>\n",
       "    <tr>\n",
       "      <th>time</th>\n",
       "      <th></th>\n",
       "      <th></th>\n",
       "      <th></th>\n",
       "    </tr>\n",
       "  </thead>\n",
       "  <tbody>\n",
       "    <tr>\n",
       "      <th>2024-06-09 14:00:00</th>\n",
       "      <td>111023039042906</td>\n",
       "      <td>111023039042881</td>\n",
       "      <td>3.800786e+09</td>\n",
       "    </tr>\n",
       "  </tbody>\n",
       "</table>\n",
       "</div>"
      ],
      "text/plain": [
       "                               clock        hub_clock     harp_time\n",
       "time                                                               \n",
       "2024-06-09 14:00:00  111023039042906  111023039042881  3.800786e+09"
      ]
     },
     "execution_count": 43,
     "metadata": {},
     "output_type": "execute_result"
    }
   ],
   "source": [
    "harp_sync[harp_sync.clock.diff() > 10e10]"
   ]
  },
  {
   "cell_type": "code",
   "execution_count": 28,
   "metadata": {},
   "outputs": [],
   "source": [
    "from sklearn.linear_model import LinearRegression\n",
    "\n",
    "onix_clock = harp_sync.clock.values.reshape(-1, 1)\n",
    "harp_time = harp_sync.harp_time.values.reshape(-1, 1)\n",
    "\n",
    "model = LinearRegression().fit(onix_clock, harp_time)\n",
    "r2 = model.score(onix_clock, harp_time)"
   ]
  },
  {
   "cell_type": "code",
   "execution_count": 74,
   "metadata": {},
   "outputs": [],
   "source": [
    "model_range = slice(0, 20000)\n",
    "model_v1 = LinearRegression().fit(onix_clock[model_range], harp_time[model_range])\n",
    "r2_v1 = model_v1.score(onix_clock[model_range], harp_time[model_range])"
   ]
  },
  {
   "cell_type": "code",
   "execution_count": 76,
   "metadata": {},
   "outputs": [
    {
     "data": {
      "text/plain": [
       "array([[0.00089264],\n",
       "       [0.00089216],\n",
       "       [0.00089359],\n",
       "       ...,\n",
       "       [0.00088787],\n",
       "       [0.00088882],\n",
       "       [0.0008893 ]])"
      ]
     },
     "execution_count": 76,
     "metadata": {},
     "output_type": "execute_result"
    }
   ],
   "source": [
    "predicted_time = model_v1.predict(onix_clock[model_range])\n",
    "predicted_time - harp_time[model_range]"
   ]
  },
  {
   "cell_type": "code",
   "execution_count": 73,
   "metadata": {},
   "outputs": [
    {
     "data": {
      "text/plain": [
       "array([[-1.23977661e-05],\n",
       "       [-1.23977661e-05],\n",
       "       [-1.23977661e-05],\n",
       "       ...,\n",
       "       [-6.86645508e-05],\n",
       "       [-6.81877136e-05],\n",
       "       [-6.77108765e-05]])"
      ]
     },
     "execution_count": 73,
     "metadata": {},
     "output_type": "execute_result"
    }
   ],
   "source": [
    "predicted_time - harp_time[model_range]"
   ]
  },
  {
   "cell_type": "code",
   "execution_count": 33,
   "metadata": {},
   "outputs": [
    {
     "data": {
      "text/plain": [
       "[<matplotlib.lines.Line2D at 0x7f35ac6e7f90>]"
      ]
     },
     "execution_count": 33,
     "metadata": {},
     "output_type": "execute_result"
    },
    {
     "data": {
      "image/png": "[encoded data removed]",
      "text/plain": [
       "<Figure size 640x480 with 1 Axes>"
      ]
     },
     "metadata": {},
     "output_type": "display_data"
    }
   ],
   "source": [
    "fig, ax = plt.subplots(1, 1)\n",
    "harp_sync.plot(ax=ax,x='clock', y='harp_time', kind='scatter')\n",
    "ax.plot(harp_sync.clock, model.predict(onix_clock), 'r')"
   ]
  },
  {
   "cell_type": "code",
   "execution_count": 7,
   "metadata": {},
   "outputs": [
    {
     "data": {
      "text/plain": [
       "DotMap(_ipython_display_=DotMap(), _repr_mimebundle_=DotMap(), _repr_html_=DotMap(), _repr_markdown_=DotMap(), _repr_svg_=DotMap(), _repr_png_=DotMap(), _repr_pdf_=DotMap(), _repr_jpeg_=DotMap(), _repr_latex_=DotMap(), _repr_json_=DotMap(), _repr_javascript_=DotMap())"
      ]
     },
     "execution_count": 7,
     "metadata": {},
     "output_type": "execute_result"
    }
   ],
   "source": [
    "social_ephys.NeuropixelsV2Beta.Bno055.Clock"
   ]
  },
  {
   "cell_type": "code",
   "execution_count": 5,
   "metadata": {},
   "outputs": [
    {
     "data": {
      "text/html": [
       "<div>\n",
       "<style scoped>\n",
       "    .dataframe tbody tr th:only-of-type {\n",
       "        vertical-align: middle;\n",
       "    }\n",
       "\n",
       "    .dataframe tbody tr th {\n",
       "        vertical-align: top;\n",
       "    }\n",
       "\n",
       "    .dataframe thead th {\n",
       "        text-align: right;\n",
       "    }\n",
       "</style>\n",
       "<table border=\"1\" class=\"dataframe\">\n",
       "  <thead>\n",
       "    <tr style=\"text-align: right;\">\n",
       "      <th></th>\n",
       "      <th>_typ</th>\n",
       "      <th>dtype</th>\n",
       "      <th>ndim</th>\n",
       "    </tr>\n",
       "    <tr>\n",
       "      <th>time</th>\n",
       "      <th></th>\n",
       "      <th></th>\n",
       "      <th></th>\n",
       "    </tr>\n",
       "  </thead>\n",
       "  <tbody>\n",
       "  </tbody>\n",
       "</table>\n",
       "</div>"
      ],
      "text/plain": [
       "Empty DataFrame\n",
       "Columns: [_typ, dtype, ndim]\n",
       "Index: []"
      ]
     },
     "execution_count": 5,
     "metadata": {},
     "output_type": "execute_result"
    }
   ],
   "source": [
    "aeon.load(ephys_root, social_ephys.NeuropixelsV2Beta.Bno055.Clock, epoch=ephys_epoch)"
   ]
  }
 ],
 "metadata": {
  "kernelspec": {
   "display_name": "aeon",
   "language": "python",
   "name": "python3"
  },
  "language_info": {
   "codemirror_mode": {
    "name": "ipython",
    "version": 3
   },
   "file_extension": ".py",
   "mimetype": "text/x-python",
   "name": "python",
   "nbconvert_exporter": "python",
   "pygments_lexer": "ipython3",
   "version": "3.11.7"
  }
 },
 "nbformat": 4,
 "nbformat_minor": 2
}
