{
 "cells": [
  {
   "cell_type": "code",
   "execution_count": 1,
   "id": "83e4aa5b-ca82-44c5-835d-54a5adc5046e",
   "metadata": {},
   "outputs": [],
   "source": [
    "import datajoint as dj"
   ]
  },
  {
   "cell_type": "code",
   "execution_count": 5,
   "id": "9a042541-b225-4ef6-b1a9-d601d406d523",
   "metadata": {},
   "outputs": [
    {
     "name": "stdin",
     "output_type": "stream",
     "text": [
      "Please enter DataJoint username:  jbhagat\n",
      "Please enter DataJoint password:  ········\n"
     ]
    },
    {
     "name": "stdout",
     "output_type": "stream",
     "text": [
      "Connecting jbhagat@aeon-db2:3306\n"
     ]
    },
    {
     "data": {
      "text/plain": [
       "DataJoint connection (connected) jbhagat@aeon-db2:3306"
      ]
     },
     "execution_count": 5,
     "metadata": {},
     "output_type": "execute_result"
    }
   ],
   "source": [
    "dj.config['database.host'] = 'aeon-db2'\n",
    "dj.config['display.limit'] = 20  # rows per displayed table\n",
    "dj.conn()"
   ]
  },
  {
   "cell_type": "code",
   "execution_count": 2,
   "id": "81164e9d-67a0-4d52-8d0a-d40d0ba3ee91",
   "metadata": {},
   "outputs": [],
   "source": [
    "socialexp = {'experiment_name': 'social0-r1'}"
   ]
  },
  {
   "cell_type": "code",
   "execution_count": null,
   "id": "903e2d8b-87d5-462b-9910-b2055b2b4e71",
   "metadata": {},
   "outputs": [],
   "source": []
  }
 ],
 "metadata": {
  "kernelspec": {
   "display_name": "Python 3 (ipykernel)",
   "language": "python",
   "name": "python3"
  },
  "language_info": {
   "codemirror_mode": {
    "name": "ipython",
    "version": 3
   },
   "file_extension": ".py",
   "mimetype": "text/x-python",
   "name": "python",
   "nbconvert_exporter": "python",
   "pygments_lexer": "ipython3",
   "version": "3.9.12"
  }
 },
 "nbformat": 4,
 "nbformat_minor": 5
}
