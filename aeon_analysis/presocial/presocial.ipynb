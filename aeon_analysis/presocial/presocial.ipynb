{
 "cells": [
  {
   "cell_type": "code",
   "execution_count": 137,
   "id": "6cf9675d-11d6-4f62-98c8-601d0330ce30",
   "metadata": {
    "tags": []
   },
   "outputs": [],
   "source": [
    "# Jupyter settings and Imports\n",
    "\n",
    "# %load_ext autoreload\n",
    "# %autoreload 2\n",
    "# %flow mode reactive\n",
    "\n",
    "from datetime import date\n",
    "import ipdb\n",
    "from itertools import product\n",
    "from pathlib import Path\n",
    "\n",
    "from dotmap import DotMap\n",
    "import matplotlib.pyplot as plt\n",
    "import numpy as np\n",
    "import pandas as pd\n",
    "import plotly.express as px\n",
    "import plotly.graph_objs as go\n",
    "import seaborn as sns\n",
    "\n",
    "import aeon.io.api as api\n",
    "from aeon.io import reader\n",
    "from aeon.schema.dataset import exp02, exp01\n",
    "from aeon.analysis.utils import visits, distancetravelled"
   ]
  },
  {
   "cell_type": "code",
   "execution_count": 138,
   "id": "ff5b9d03-40e8-42fb-8450-645fff39a767",
   "metadata": {},
   "outputs": [],
   "source": [
    "# Get sessions\n",
    "pd.set_option('display.max_columns', 100)\n",
    "pd.set_option('display.max_rows', 100)\n",
    "\n",
    "roots = [Path(\"/ceph/aeon/aeon/data/raw/AEON3/presocial0.1\"), Path(\"/ceph/aeon/aeon/data/raw/AEON2/presocial0.1\")]\n",
    "if not np.all([path.exists() for path in roots]):\n",
    "    print(\"Cannot find root paths. Check path names or connection.\")\n",
    "subject_events = api.load(roots, exp02.ExperimentalMetadata.SubjectState)\n",
    "sessions = visits(subject_events[subject_events.id.str.startswith(\"BAA\")])"
   ]
  },
  {
   "cell_type": "code",
   "execution_count": 139,
   "id": "baaad905-08e7-4439-bc7d-7f0ab06ee844",
   "metadata": {
    "tags": []
   },
   "outputs": [
    {
     "data": {
      "text/html": [
       "<div>\n",
       "<style scoped>\n",
       "    .dataframe tbody tr th:only-of-type {\n",
       "        vertical-align: middle;\n",
       "    }\n",
       "\n",
       "    .dataframe tbody tr th {\n",
       "        vertical-align: top;\n",
       "    }\n",
       "\n",
       "    .dataframe thead th {\n",
       "        text-align: right;\n",
       "    }\n",
       "</style>\n",
       "<table border=\"1\" class=\"dataframe\">\n",
       "  <thead>\n",
       "    <tr style=\"text-align: right;\">\n",
       "      <th></th>\n",
       "      <th>id</th>\n",
       "      <th>enter</th>\n",
       "      <th>exit</th>\n",
       "      <th>duration</th>\n",
       "      <th>weight_enter</th>\n",
       "      <th>weight_exit</th>\n",
       "    </tr>\n",
       "  </thead>\n",
       "  <tbody>\n",
       "    <tr>\n",
       "      <th>0</th>\n",
       "      <td>BAA-1103050</td>\n",
       "      <td>2023-03-10 09:41:48</td>\n",
       "      <td>2023-03-10 12:55:19</td>\n",
       "      <td>0 days 03:13:30</td>\n",
       "      <td>23.2</td>\n",
       "      <td>23.9</td>\n",
       "    </tr>\n",
       "    <tr>\n",
       "      <th>1</th>\n",
       "      <td>BAA-1103045</td>\n",
       "      <td>2023-03-10 12:12:45</td>\n",
       "      <td>2023-03-10 15:22:14</td>\n",
       "      <td>0 days 03:09:28</td>\n",
       "      <td>23.0</td>\n",
       "      <td>23.7</td>\n",
       "    </tr>\n",
       "    <tr>\n",
       "      <th>2</th>\n",
       "      <td>BAA-1103048</td>\n",
       "      <td>2023-03-10 13:08:24</td>\n",
       "      <td>2023-03-10 16:16:31</td>\n",
       "      <td>0 days 03:08:06</td>\n",
       "      <td>22.5</td>\n",
       "      <td>24.6</td>\n",
       "    </tr>\n",
       "    <tr>\n",
       "      <th>3</th>\n",
       "      <td>BAA-1103047</td>\n",
       "      <td>2023-03-10 15:27:05</td>\n",
       "      <td>2023-03-10 19:10:44</td>\n",
       "      <td>0 days 03:43:38</td>\n",
       "      <td>19.8</td>\n",
       "      <td>21.0</td>\n",
       "    </tr>\n",
       "    <tr>\n",
       "      <th>4</th>\n",
       "      <td>BAA-1103049</td>\n",
       "      <td>2023-03-10 16:22:29</td>\n",
       "      <td>2023-03-10 19:21:50</td>\n",
       "      <td>0 days 02:59:20</td>\n",
       "      <td>20.9</td>\n",
       "      <td>22.6</td>\n",
       "    </tr>\n",
       "    <tr>\n",
       "      <th>5</th>\n",
       "      <td>BAA-1103048</td>\n",
       "      <td>2023-03-15 09:26:49</td>\n",
       "      <td>2023-03-15 10:59:51</td>\n",
       "      <td>0 days 01:33:01</td>\n",
       "      <td>26.4</td>\n",
       "      <td>25.7</td>\n",
       "    </tr>\n",
       "    <tr>\n",
       "      <th>6</th>\n",
       "      <td>BAA-1103044</td>\n",
       "      <td>2023-03-17 14:44:00</td>\n",
       "      <td>2023-03-17 19:15:43</td>\n",
       "      <td>0 days 04:31:42</td>\n",
       "      <td>25.0</td>\n",
       "      <td>23.0</td>\n",
       "    </tr>\n",
       "    <tr>\n",
       "      <th>7</th>\n",
       "      <td>BAA-1103048</td>\n",
       "      <td>2023-03-23 07:56:44</td>\n",
       "      <td>2023-03-23 11:08:34</td>\n",
       "      <td>0 days 03:11:49</td>\n",
       "      <td>24.8</td>\n",
       "      <td>24.3</td>\n",
       "    </tr>\n",
       "    <tr>\n",
       "      <th>8</th>\n",
       "      <td>BAA-1103045</td>\n",
       "      <td>2023-03-23 10:16:38</td>\n",
       "      <td>2023-03-23 13:19:43</td>\n",
       "      <td>0 days 03:03:03</td>\n",
       "      <td>23.6</td>\n",
       "      <td>25.1</td>\n",
       "    </tr>\n",
       "    <tr>\n",
       "      <th>9</th>\n",
       "      <td>BAA-1103049</td>\n",
       "      <td>2023-03-23 11:15:29</td>\n",
       "      <td>2023-03-23 14:23:41</td>\n",
       "      <td>0 days 03:08:11</td>\n",
       "      <td>22.0</td>\n",
       "      <td>24.4</td>\n",
       "    </tr>\n",
       "    <tr>\n",
       "      <th>10</th>\n",
       "      <td>BAA-1103047</td>\n",
       "      <td>2023-03-23 13:29:36</td>\n",
       "      <td>2023-03-23 16:32:51</td>\n",
       "      <td>0 days 03:03:14</td>\n",
       "      <td>23.2</td>\n",
       "      <td>22.4</td>\n",
       "    </tr>\n",
       "    <tr>\n",
       "      <th>11</th>\n",
       "      <td>BAA-1103050</td>\n",
       "      <td>2023-03-23 14:30:26</td>\n",
       "      <td>2023-03-23 17:29:18</td>\n",
       "      <td>0 days 02:58:51</td>\n",
       "      <td>23.5</td>\n",
       "      <td>24.9</td>\n",
       "    </tr>\n",
       "    <tr>\n",
       "      <th>12</th>\n",
       "      <td>BAA-1103050</td>\n",
       "      <td>2023-03-24 09:11:06</td>\n",
       "      <td>2023-03-24 10:52:58</td>\n",
       "      <td>0 days 01:41:51</td>\n",
       "      <td>23.9</td>\n",
       "      <td>25.4</td>\n",
       "    </tr>\n",
       "    <tr>\n",
       "      <th>13</th>\n",
       "      <td>BAA-1103048</td>\n",
       "      <td>2023-03-24 11:02:27</td>\n",
       "      <td>2023-03-24 14:08:25</td>\n",
       "      <td>0 days 03:05:57</td>\n",
       "      <td>23.1</td>\n",
       "      <td>25.2</td>\n",
       "    </tr>\n",
       "    <tr>\n",
       "      <th>14</th>\n",
       "      <td>BAA-1103047</td>\n",
       "      <td>2023-03-24 12:08:58</td>\n",
       "      <td>2023-03-24 15:12:50</td>\n",
       "      <td>0 days 03:03:51</td>\n",
       "      <td>22.2</td>\n",
       "      <td>22.3</td>\n",
       "    </tr>\n",
       "    <tr>\n",
       "      <th>15</th>\n",
       "      <td>BAA-1103049</td>\n",
       "      <td>2023-03-24 14:22:48</td>\n",
       "      <td>2023-03-24 18:31:16</td>\n",
       "      <td>0 days 04:08:27</td>\n",
       "      <td>21.7</td>\n",
       "      <td>22.3</td>\n",
       "    </tr>\n",
       "    <tr>\n",
       "      <th>16</th>\n",
       "      <td>BAA-1103045</td>\n",
       "      <td>2023-03-24 15:19:57</td>\n",
       "      <td>2023-03-24 18:42:44</td>\n",
       "      <td>0 days 03:22:45</td>\n",
       "      <td>22.7</td>\n",
       "      <td>26.2</td>\n",
       "    </tr>\n",
       "    <tr>\n",
       "      <th>17</th>\n",
       "      <td>BAA-1103049</td>\n",
       "      <td>2023-03-30 08:02:03</td>\n",
       "      <td>2023-03-30 11:22:13</td>\n",
       "      <td>0 days 03:20:09</td>\n",
       "      <td>21.8</td>\n",
       "      <td>24.7</td>\n",
       "    </tr>\n",
       "    <tr>\n",
       "      <th>18</th>\n",
       "      <td>BAA-1103050</td>\n",
       "      <td>2023-03-30 11:28:04</td>\n",
       "      <td>2023-03-30 14:33:37</td>\n",
       "      <td>0 days 03:05:32</td>\n",
       "      <td>22.3</td>\n",
       "      <td>25.6</td>\n",
       "    </tr>\n",
       "    <tr>\n",
       "      <th>19</th>\n",
       "      <td>BAA-1103047</td>\n",
       "      <td>2023-03-30 11:46:20</td>\n",
       "      <td>2023-03-30 14:47:20</td>\n",
       "      <td>0 days 03:00:59</td>\n",
       "      <td>22.0</td>\n",
       "      <td>23.4</td>\n",
       "    </tr>\n",
       "    <tr>\n",
       "      <th>20</th>\n",
       "      <td>BAA-1103048</td>\n",
       "      <td>2023-03-30 14:39:40</td>\n",
       "      <td>2023-03-30 17:55:12</td>\n",
       "      <td>0 days 03:15:31</td>\n",
       "      <td>21.6</td>\n",
       "      <td>23.8</td>\n",
       "    </tr>\n",
       "    <tr>\n",
       "      <th>21</th>\n",
       "      <td>BAA-1103045</td>\n",
       "      <td>2023-03-30 14:53:35</td>\n",
       "      <td>2023-03-30 18:03:35</td>\n",
       "      <td>0 days 03:09:59</td>\n",
       "      <td>22.0</td>\n",
       "      <td>25.4</td>\n",
       "    </tr>\n",
       "    <tr>\n",
       "      <th>22</th>\n",
       "      <td>BAA-1103049</td>\n",
       "      <td>2023-03-31 08:29:33</td>\n",
       "      <td>2023-03-31 11:32:58</td>\n",
       "      <td>0 days 03:03:24</td>\n",
       "      <td>21.3</td>\n",
       "      <td>26.1</td>\n",
       "    </tr>\n",
       "    <tr>\n",
       "      <th>23</th>\n",
       "      <td>BAA-1103047</td>\n",
       "      <td>2023-03-31 11:05:26</td>\n",
       "      <td>2023-03-31 14:08:08</td>\n",
       "      <td>0 days 03:02:41</td>\n",
       "      <td>20.7</td>\n",
       "      <td>23.5</td>\n",
       "    </tr>\n",
       "    <tr>\n",
       "      <th>24</th>\n",
       "      <td>BAA-1103050</td>\n",
       "      <td>2023-03-31 11:38:54</td>\n",
       "      <td>2023-03-31 14:40:15</td>\n",
       "      <td>0 days 03:01:20</td>\n",
       "      <td>21.4</td>\n",
       "      <td>26.5</td>\n",
       "    </tr>\n",
       "    <tr>\n",
       "      <th>25</th>\n",
       "      <td>BAA-1103045</td>\n",
       "      <td>2023-03-31 14:09:01</td>\n",
       "      <td>2023-03-31 17:50:38</td>\n",
       "      <td>0 days 03:41:36</td>\n",
       "      <td>21.5</td>\n",
       "      <td>26.8</td>\n",
       "    </tr>\n",
       "    <tr>\n",
       "      <th>26</th>\n",
       "      <td>BAA-1103048</td>\n",
       "      <td>2023-03-31 14:47:37</td>\n",
       "      <td>2023-03-31 17:43:19</td>\n",
       "      <td>0 days 02:55:42</td>\n",
       "      <td>21.1</td>\n",
       "      <td>24.6</td>\n",
       "    </tr>\n",
       "  </tbody>\n",
       "</table>\n",
       "</div>"
      ],
      "text/plain": [
       "             id               enter                exit        duration  \\\n",
       "0   BAA-1103050 2023-03-10 09:41:48 2023-03-10 12:55:19 0 days 03:13:30   \n",
       "1   BAA-1103045 2023-03-10 12:12:45 2023-03-10 15:22:14 0 days 03:09:28   \n",
       "2   BAA-1103048 2023-03-10 13:08:24 2023-03-10 16:16:31 0 days 03:08:06   \n",
       "3   BAA-1103047 2023-03-10 15:27:05 2023-03-10 19:10:44 0 days 03:43:38   \n",
       "4   BAA-1103049 2023-03-10 16:22:29 2023-03-10 19:21:50 0 days 02:59:20   \n",
       "5   BAA-1103048 2023-03-15 09:26:49 2023-03-15 10:59:51 0 days 01:33:01   \n",
       "6   BAA-1103044 2023-03-17 14:44:00 2023-03-17 19:15:43 0 days 04:31:42   \n",
       "7   BAA-1103048 2023-03-23 07:56:44 2023-03-23 11:08:34 0 days 03:11:49   \n",
       "8   BAA-1103045 2023-03-23 10:16:38 2023-03-23 13:19:43 0 days 03:03:03   \n",
       "9   BAA-1103049 2023-03-23 11:15:29 2023-03-23 14:23:41 0 days 03:08:11   \n",
       "10  BAA-1103047 2023-03-23 13:29:36 2023-03-23 16:32:51 0 days 03:03:14   \n",
       "11  BAA-1103050 2023-03-23 14:30:26 2023-03-23 17:29:18 0 days 02:58:51   \n",
       "12  BAA-1103050 2023-03-24 09:11:06 2023-03-24 10:52:58 0 days 01:41:51   \n",
       "13  BAA-1103048 2023-03-24 11:02:27 2023-03-24 14:08:25 0 days 03:05:57   \n",
       "14  BAA-1103047 2023-03-24 12:08:58 2023-03-24 15:12:50 0 days 03:03:51   \n",
       "15  BAA-1103049 2023-03-24 14:22:48 2023-03-24 18:31:16 0 days 04:08:27   \n",
       "16  BAA-1103045 2023-03-24 15:19:57 2023-03-24 18:42:44 0 days 03:22:45   \n",
       "17  BAA-1103049 2023-03-30 08:02:03 2023-03-30 11:22:13 0 days 03:20:09   \n",
       "18  BAA-1103050 2023-03-30 11:28:04 2023-03-30 14:33:37 0 days 03:05:32   \n",
       "19  BAA-1103047 2023-03-30 11:46:20 2023-03-30 14:47:20 0 days 03:00:59   \n",
       "20  BAA-1103048 2023-03-30 14:39:40 2023-03-30 17:55:12 0 days 03:15:31   \n",
       "21  BAA-1103045 2023-03-30 14:53:35 2023-03-30 18:03:35 0 days 03:09:59   \n",
       "22  BAA-1103049 2023-03-31 08:29:33 2023-03-31 11:32:58 0 days 03:03:24   \n",
       "23  BAA-1103047 2023-03-31 11:05:26 2023-03-31 14:08:08 0 days 03:02:41   \n",
       "24  BAA-1103050 2023-03-31 11:38:54 2023-03-31 14:40:15 0 days 03:01:20   \n",
       "25  BAA-1103045 2023-03-31 14:09:01 2023-03-31 17:50:38 0 days 03:41:36   \n",
       "26  BAA-1103048 2023-03-31 14:47:37 2023-03-31 17:43:19 0 days 02:55:42   \n",
       "\n",
       "    weight_enter  weight_exit  \n",
       "0           23.2         23.9  \n",
       "1           23.0         23.7  \n",
       "2           22.5         24.6  \n",
       "3           19.8         21.0  \n",
       "4           20.9         22.6  \n",
       "5           26.4         25.7  \n",
       "6           25.0         23.0  \n",
       "7           24.8         24.3  \n",
       "8           23.6         25.1  \n",
       "9           22.0         24.4  \n",
       "10          23.2         22.4  \n",
       "11          23.5         24.9  \n",
       "12          23.9         25.4  \n",
       "13          23.1         25.2  \n",
       "14          22.2         22.3  \n",
       "15          21.7         22.3  \n",
       "16          22.7         26.2  \n",
       "17          21.8         24.7  \n",
       "18          22.3         25.6  \n",
       "19          22.0         23.4  \n",
       "20          21.6         23.8  \n",
       "21          22.0         25.4  \n",
       "22          21.3         26.1  \n",
       "23          20.7         23.5  \n",
       "24          21.4         26.5  \n",
       "25          21.5         26.8  \n",
       "26          21.1         24.6  "
      ]
     },
     "metadata": {},
     "output_type": "display_data"
    }
   ],
   "source": [
    "# Prettify sessions\n",
    "\n",
    "pd.options.mode.chained_assignment = None  # turn off \"SettingWithCopy\" warning for this cell\n",
    "\n",
    "sessions = sessions[\n",
    "    np.logical_and(\n",
    "        sessions.enter.dt.date >= date(2023, 3, 10),\n",
    "        sessions.enter.dt.date != date(2023, 3, 29)\n",
    "    )\n",
    "]\n",
    "sessions.loc[:, (\"weight_enter\")] = sessions[\"weight_enter\"].astype(float).round(1)\n",
    "sessions.loc[:, (\"weight_exit\")] = sessions[\"weight_exit\"].astype(float).round(1)\n",
    "sessions.loc[:, (\"enter\")] = sessions[\"enter\"].dt.floor(\"1s\")\n",
    "sessions.loc[:, (\"exit\")] = sessions[\"exit\"].dt.ceil(\"1s\")\n",
    "sessions.loc[:, (\"duration\")] = sessions[\"duration\"].round(\"1s\")\n",
    "sessions = sessions[[\"id\", \"enter\", \"exit\", \"duration\", \"weight_enter\", \"weight_exit\"]]\n",
    "sessions = sessions.sort_values(by=\"enter\")\n",
    "sessions = sessions.reset_index()\n",
    "sessions = sessions.drop(columns=[\"index\"])\n",
    "pd.options.mode.chained_assignment = \"warn\"\n",
    "display(sessions)"
   ]
  },
  {
   "cell_type": "code",
   "execution_count": null,
   "id": "554c47f6-5626-4de9-9c57-197ff17f380a",
   "metadata": {
    "tags": []
   },
   "outputs": [],
   "source": [
    "# Get bad sessions basedmin Get 'DispenserBroken' and 'Annotation' messages\n",
    "message_log_aeon3 = api.load(str(roots[0]), exp02.ExperimentalMetadata.MessageLog)\n",
    "print(f\"Aeon3 messages:\\n\")\n",
    "display(message_log_aeon3[np.logical_or(message_log_aeon3.type == \"DispenserBroken\", message_log_aeon3.type == \"Annotation\")])\n",
    "print(f\"\\n\\n\")\n",
    "message_log_aeon2 = api.load(str(roots[0]), exp02.ExperimentalMetadata.MessageLog)\n",
    "print(f\"Aeon2 messages:\\n\")\n",
    "display(message_log_aeon2[np.logical_or(message_log_aeon2.type == \"DispenserBroken\", message_log_aeon2.type == \"Annotation\")])"
   ]
  },
  {
   "cell_type": "code",
   "execution_count": 140,
   "id": "0bbaf3f3-6f50-427f-98a7-34e7dca34cb5",
   "metadata": {
    "tags": []
   },
   "outputs": [],
   "source": [
    "# Based on above, manually decide which are bad sessions, and drop these from `sessions`\n",
    "\n",
    "bad_sessions = DotMap()\n",
    "# Bad sessions reasons:\n",
    "# 0: bugs in workflow\n",
    "# 1: rfid session\n",
    "# 2: stayed on only one patch since session start\n",
    "# 3: poop stuck on wheel made it hard to turn\n",
    "bad_sessions.ids = (\n",
    "    \"BAA-1103048\", \n",
    "    \"BAA-1103044\",\n",
    "    \"BAA-1103050\",\n",
    "    \"BAA-1103048\",\n",
    ")\n",
    "bad_sessions.dates = (\n",
    "    date(2023, 3, 15),  # bugs in workflow\n",
    "    date(2023, 3, 17),  # rfid session\n",
    "    date(2023, 3, 24),  # only stayed on one patch from beginning\n",
    "    date(2023, 3, 24),  # poop stuck on wheel\n",
    ")\n",
    "\n",
    "for i in range(len(bad_sessions.ids)):\n",
    "    i_bad_sesh = np.where(np.logical_and(\n",
    "        sessions.id == bad_sessions.ids[i], sessions.enter.dt.date == bad_sessions.dates[i]))[0]\n",
    "    sessions.drop(index=sessions.iloc[i_bad_sesh].index, inplace=True)\n",
    "sessions = sessions.sort_values(by=\"enter\")\n",
    "sessions = sessions.reset_index()\n",
    "sessions = sessions.drop(columns=[\"index\"])"
   ]
  },
  {
   "cell_type": "code",
   "execution_count": 141,
   "id": "3090e4bb-845a-41a6-bb4c-63d9bc0af5e8",
   "metadata": {
    "tags": []
   },
   "outputs": [
    {
     "data": {
      "text/html": [
       "<div>\n",
       "<style scoped>\n",
       "    .dataframe tbody tr th:only-of-type {\n",
       "        vertical-align: middle;\n",
       "    }\n",
       "\n",
       "    .dataframe tbody tr th {\n",
       "        vertical-align: top;\n",
       "    }\n",
       "\n",
       "    .dataframe thead th {\n",
       "        text-align: right;\n",
       "    }\n",
       "</style>\n",
       "<table border=\"1\" class=\"dataframe\">\n",
       "  <thead>\n",
       "    <tr style=\"text-align: right;\">\n",
       "      <th></th>\n",
       "      <th>id</th>\n",
       "      <th>enter</th>\n",
       "      <th>exit</th>\n",
       "      <th>duration</th>\n",
       "      <th>weight_enter</th>\n",
       "      <th>weight_exit</th>\n",
       "      <th>post_thresh_dur</th>\n",
       "      <th>post_thresh_both_p_sampled_dur</th>\n",
       "      <th>pre_sampling_both_p_dur</th>\n",
       "      <th>easy_patch</th>\n",
       "      <th>hard_patch</th>\n",
       "      <th>post_easy_rate</th>\n",
       "      <th>post_hard_rate</th>\n",
       "      <th>pre_easy_n_pel</th>\n",
       "      <th>pre_hard_n_pel</th>\n",
       "      <th>post_easy_n_pel</th>\n",
       "      <th>post_hard_n_pel</th>\n",
       "      <th>pre_easy_wheel_dist</th>\n",
       "      <th>pre_hard_wheel_dist</th>\n",
       "      <th>post_easy_wheel_dist</th>\n",
       "      <th>post_hard_wheel_dist</th>\n",
       "      <th>pre_easy_pref</th>\n",
       "      <th>post_easy_pref</th>\n",
       "      <th>pre_hard_pref</th>\n",
       "      <th>post_hard_pref</th>\n",
       "      <th>post_pre_easy_pref</th>\n",
       "      <th>post_easy_pel_thresh</th>\n",
       "      <th>post_easy_pel_thresh_idx</th>\n",
       "      <th>post_hard_pel_thresh</th>\n",
       "      <th>post_hard_pel_thresh_idx</th>\n",
       "      <th>init_pref_by_pel_ct</th>\n",
       "      <th>epoch_thresh_change_idx</th>\n",
       "      <th>easy_pref_epoch_cum</th>\n",
       "      <th>easy_pref_epoch</th>\n",
       "    </tr>\n",
       "  </thead>\n",
       "  <tbody>\n",
       "    <tr>\n",
       "      <th>0</th>\n",
       "      <td>BAA-1103050</td>\n",
       "      <td>2023-03-10 09:41:48</td>\n",
       "      <td>2023-03-10 12:55:19</td>\n",
       "      <td>0 days 03:13:30</td>\n",
       "      <td>23.2</td>\n",
       "      <td>23.9</td>\n",
       "      <td>NaN</td>\n",
       "      <td>NaN</td>\n",
       "      <td>NaN</td>\n",
       "      <td>NaN</td>\n",
       "      <td>NaN</td>\n",
       "      <td>NaN</td>\n",
       "      <td>NaN</td>\n",
       "      <td>NaN</td>\n",
       "      <td>NaN</td>\n",
       "      <td>NaN</td>\n",
       "      <td>NaN</td>\n",
       "      <td>NaN</td>\n",
       "      <td>NaN</td>\n",
       "      <td>NaN</td>\n",
       "      <td>NaN</td>\n",
       "      <td>NaN</td>\n",
       "      <td>NaN</td>\n",
       "      <td>NaN</td>\n",
       "      <td>NaN</td>\n",
       "      <td>NaN</td>\n",
       "      <td>NaN</td>\n",
       "      <td>NaN</td>\n",
       "      <td>NaN</td>\n",
       "      <td>NaN</td>\n",
       "      <td>NaN</td>\n",
       "      <td>NaN</td>\n",
       "      <td>NaN</td>\n",
       "      <td>NaN</td>\n",
       "    </tr>\n",
       "    <tr>\n",
       "      <th>1</th>\n",
       "      <td>BAA-1103045</td>\n",
       "      <td>2023-03-10 12:12:45</td>\n",
       "      <td>2023-03-10 15:22:14</td>\n",
       "      <td>0 days 03:09:28</td>\n",
       "      <td>23.0</td>\n",
       "      <td>23.7</td>\n",
       "      <td>NaN</td>\n",
       "      <td>NaN</td>\n",
       "      <td>NaN</td>\n",
       "      <td>NaN</td>\n",
       "      <td>NaN</td>\n",
       "      <td>NaN</td>\n",
       "      <td>NaN</td>\n",
       "      <td>NaN</td>\n",
       "      <td>NaN</td>\n",
       "      <td>NaN</td>\n",
       "      <td>NaN</td>\n",
       "      <td>NaN</td>\n",
       "      <td>NaN</td>\n",
       "      <td>NaN</td>\n",
       "      <td>NaN</td>\n",
       "      <td>NaN</td>\n",
       "      <td>NaN</td>\n",
       "      <td>NaN</td>\n",
       "      <td>NaN</td>\n",
       "      <td>NaN</td>\n",
       "      <td>NaN</td>\n",
       "      <td>NaN</td>\n",
       "      <td>NaN</td>\n",
       "      <td>NaN</td>\n",
       "      <td>NaN</td>\n",
       "      <td>NaN</td>\n",
       "      <td>NaN</td>\n",
       "      <td>NaN</td>\n",
       "    </tr>\n",
       "    <tr>\n",
       "      <th>2</th>\n",
       "      <td>BAA-1103048</td>\n",
       "      <td>2023-03-10 13:08:24</td>\n",
       "      <td>2023-03-10 16:16:31</td>\n",
       "      <td>0 days 03:08:06</td>\n",
       "      <td>22.5</td>\n",
       "      <td>24.6</td>\n",
       "      <td>NaN</td>\n",
       "      <td>NaN</td>\n",
       "      <td>NaN</td>\n",
       "      <td>NaN</td>\n",
       "      <td>NaN</td>\n",
       "      <td>NaN</td>\n",
       "      <td>NaN</td>\n",
       "      <td>NaN</td>\n",
       "      <td>NaN</td>\n",
       "      <td>NaN</td>\n",
       "      <td>NaN</td>\n",
       "      <td>NaN</td>\n",
       "      <td>NaN</td>\n",
       "      <td>NaN</td>\n",
       "      <td>NaN</td>\n",
       "      <td>NaN</td>\n",
       "      <td>NaN</td>\n",
       "      <td>NaN</td>\n",
       "      <td>NaN</td>\n",
       "      <td>NaN</td>\n",
       "      <td>NaN</td>\n",
       "      <td>NaN</td>\n",
       "      <td>NaN</td>\n",
       "      <td>NaN</td>\n",
       "      <td>NaN</td>\n",
       "      <td>NaN</td>\n",
       "      <td>NaN</td>\n",
       "      <td>NaN</td>\n",
       "    </tr>\n",
       "    <tr>\n",
       "      <th>3</th>\n",
       "      <td>BAA-1103047</td>\n",
       "      <td>2023-03-10 15:27:05</td>\n",
       "      <td>2023-03-10 19:10:44</td>\n",
       "      <td>0 days 03:43:38</td>\n",
       "      <td>19.8</td>\n",
       "      <td>21.0</td>\n",
       "      <td>NaN</td>\n",
       "      <td>NaN</td>\n",
       "      <td>NaN</td>\n",
       "      <td>NaN</td>\n",
       "      <td>NaN</td>\n",
       "      <td>NaN</td>\n",
       "      <td>NaN</td>\n",
       "      <td>NaN</td>\n",
       "      <td>NaN</td>\n",
       "      <td>NaN</td>\n",
       "      <td>NaN</td>\n",
       "      <td>NaN</td>\n",
       "      <td>NaN</td>\n",
       "      <td>NaN</td>\n",
       "      <td>NaN</td>\n",
       "      <td>NaN</td>\n",
       "      <td>NaN</td>\n",
       "      <td>NaN</td>\n",
       "      <td>NaN</td>\n",
       "      <td>NaN</td>\n",
       "      <td>NaN</td>\n",
       "      <td>NaN</td>\n",
       "      <td>NaN</td>\n",
       "      <td>NaN</td>\n",
       "      <td>NaN</td>\n",
       "      <td>NaN</td>\n",
       "      <td>NaN</td>\n",
       "      <td>NaN</td>\n",
       "    </tr>\n",
       "    <tr>\n",
       "      <th>4</th>\n",
       "      <td>BAA-1103049</td>\n",
       "      <td>2023-03-10 16:22:29</td>\n",
       "      <td>2023-03-10 19:21:50</td>\n",
       "      <td>0 days 02:59:20</td>\n",
       "      <td>20.9</td>\n",
       "      <td>22.6</td>\n",
       "      <td>NaN</td>\n",
       "      <td>NaN</td>\n",
       "      <td>NaN</td>\n",
       "      <td>NaN</td>\n",
       "      <td>NaN</td>\n",
       "      <td>NaN</td>\n",
       "      <td>NaN</td>\n",
       "      <td>NaN</td>\n",
       "      <td>NaN</td>\n",
       "      <td>NaN</td>\n",
       "      <td>NaN</td>\n",
       "      <td>NaN</td>\n",
       "      <td>NaN</td>\n",
       "      <td>NaN</td>\n",
       "      <td>NaN</td>\n",
       "      <td>NaN</td>\n",
       "      <td>NaN</td>\n",
       "      <td>NaN</td>\n",
       "      <td>NaN</td>\n",
       "      <td>NaN</td>\n",
       "      <td>NaN</td>\n",
       "      <td>NaN</td>\n",
       "      <td>NaN</td>\n",
       "      <td>NaN</td>\n",
       "      <td>NaN</td>\n",
       "      <td>NaN</td>\n",
       "      <td>NaN</td>\n",
       "      <td>NaN</td>\n",
       "    </tr>\n",
       "    <tr>\n",
       "      <th>5</th>\n",
       "      <td>BAA-1103048</td>\n",
       "      <td>2023-03-23 07:56:44</td>\n",
       "      <td>2023-03-23 11:08:34</td>\n",
       "      <td>0 days 03:11:49</td>\n",
       "      <td>24.8</td>\n",
       "      <td>24.3</td>\n",
       "      <td>NaN</td>\n",
       "      <td>NaN</td>\n",
       "      <td>NaN</td>\n",
       "      <td>NaN</td>\n",
       "      <td>NaN</td>\n",
       "      <td>NaN</td>\n",
       "      <td>NaN</td>\n",
       "      <td>NaN</td>\n",
       "      <td>NaN</td>\n",
       "      <td>NaN</td>\n",
       "      <td>NaN</td>\n",
       "      <td>NaN</td>\n",
       "      <td>NaN</td>\n",
       "      <td>NaN</td>\n",
       "      <td>NaN</td>\n",
       "      <td>NaN</td>\n",
       "      <td>NaN</td>\n",
       "      <td>NaN</td>\n",
       "      <td>NaN</td>\n",
       "      <td>NaN</td>\n",
       "      <td>NaN</td>\n",
       "      <td>NaN</td>\n",
       "      <td>NaN</td>\n",
       "      <td>NaN</td>\n",
       "      <td>NaN</td>\n",
       "      <td>NaN</td>\n",
       "      <td>NaN</td>\n",
       "      <td>NaN</td>\n",
       "    </tr>\n",
       "    <tr>\n",
       "      <th>6</th>\n",
       "      <td>BAA-1103045</td>\n",
       "      <td>2023-03-23 10:16:38</td>\n",
       "      <td>2023-03-23 13:19:43</td>\n",
       "      <td>0 days 03:03:03</td>\n",
       "      <td>23.6</td>\n",
       "      <td>25.1</td>\n",
       "      <td>NaN</td>\n",
       "      <td>NaN</td>\n",
       "      <td>NaN</td>\n",
       "      <td>NaN</td>\n",
       "      <td>NaN</td>\n",
       "      <td>NaN</td>\n",
       "      <td>NaN</td>\n",
       "      <td>NaN</td>\n",
       "      <td>NaN</td>\n",
       "      <td>NaN</td>\n",
       "      <td>NaN</td>\n",
       "      <td>NaN</td>\n",
       "      <td>NaN</td>\n",
       "      <td>NaN</td>\n",
       "      <td>NaN</td>\n",
       "      <td>NaN</td>\n",
       "      <td>NaN</td>\n",
       "      <td>NaN</td>\n",
       "      <td>NaN</td>\n",
       "      <td>NaN</td>\n",
       "      <td>NaN</td>\n",
       "      <td>NaN</td>\n",
       "      <td>NaN</td>\n",
       "      <td>NaN</td>\n",
       "      <td>NaN</td>\n",
       "      <td>NaN</td>\n",
       "      <td>NaN</td>\n",
       "      <td>NaN</td>\n",
       "    </tr>\n",
       "    <tr>\n",
       "      <th>7</th>\n",
       "      <td>BAA-1103049</td>\n",
       "      <td>2023-03-23 11:15:29</td>\n",
       "      <td>2023-03-23 14:23:41</td>\n",
       "      <td>0 days 03:08:11</td>\n",
       "      <td>22.0</td>\n",
       "      <td>24.4</td>\n",
       "      <td>NaN</td>\n",
       "      <td>NaN</td>\n",
       "      <td>NaN</td>\n",
       "      <td>NaN</td>\n",
       "      <td>NaN</td>\n",
       "      <td>NaN</td>\n",
       "      <td>NaN</td>\n",
       "      <td>NaN</td>\n",
       "      <td>NaN</td>\n",
       "      <td>NaN</td>\n",
       "      <td>NaN</td>\n",
       "      <td>NaN</td>\n",
       "      <td>NaN</td>\n",
       "      <td>NaN</td>\n",
       "      <td>NaN</td>\n",
       "      <td>NaN</td>\n",
       "      <td>NaN</td>\n",
       "      <td>NaN</td>\n",
       "      <td>NaN</td>\n",
       "      <td>NaN</td>\n",
       "      <td>NaN</td>\n",
       "      <td>NaN</td>\n",
       "      <td>NaN</td>\n",
       "      <td>NaN</td>\n",
       "      <td>NaN</td>\n",
       "      <td>NaN</td>\n",
       "      <td>NaN</td>\n",
       "      <td>NaN</td>\n",
       "    </tr>\n",
       "    <tr>\n",
       "      <th>8</th>\n",
       "      <td>BAA-1103047</td>\n",
       "      <td>2023-03-23 13:29:36</td>\n",
       "      <td>2023-03-23 16:32:51</td>\n",
       "      <td>0 days 03:03:14</td>\n",
       "      <td>23.2</td>\n",
       "      <td>22.4</td>\n",
       "      <td>NaN</td>\n",
       "      <td>NaN</td>\n",
       "      <td>NaN</td>\n",
       "      <td>NaN</td>\n",
       "      <td>NaN</td>\n",
       "      <td>NaN</td>\n",
       "      <td>NaN</td>\n",
       "      <td>NaN</td>\n",
       "      <td>NaN</td>\n",
       "      <td>NaN</td>\n",
       "      <td>NaN</td>\n",
       "      <td>NaN</td>\n",
       "      <td>NaN</td>\n",
       "      <td>NaN</td>\n",
       "      <td>NaN</td>\n",
       "      <td>NaN</td>\n",
       "      <td>NaN</td>\n",
       "      <td>NaN</td>\n",
       "      <td>NaN</td>\n",
       "      <td>NaN</td>\n",
       "      <td>NaN</td>\n",
       "      <td>NaN</td>\n",
       "      <td>NaN</td>\n",
       "      <td>NaN</td>\n",
       "      <td>NaN</td>\n",
       "      <td>NaN</td>\n",
       "      <td>NaN</td>\n",
       "      <td>NaN</td>\n",
       "    </tr>\n",
       "    <tr>\n",
       "      <th>9</th>\n",
       "      <td>BAA-1103050</td>\n",
       "      <td>2023-03-23 14:30:26</td>\n",
       "      <td>2023-03-23 17:29:18</td>\n",
       "      <td>0 days 02:58:51</td>\n",
       "      <td>23.5</td>\n",
       "      <td>24.9</td>\n",
       "      <td>NaN</td>\n",
       "      <td>NaN</td>\n",
       "      <td>NaN</td>\n",
       "      <td>NaN</td>\n",
       "      <td>NaN</td>\n",
       "      <td>NaN</td>\n",
       "      <td>NaN</td>\n",
       "      <td>NaN</td>\n",
       "      <td>NaN</td>\n",
       "      <td>NaN</td>\n",
       "      <td>NaN</td>\n",
       "      <td>NaN</td>\n",
       "      <td>NaN</td>\n",
       "      <td>NaN</td>\n",
       "      <td>NaN</td>\n",
       "      <td>NaN</td>\n",
       "      <td>NaN</td>\n",
       "      <td>NaN</td>\n",
       "      <td>NaN</td>\n",
       "      <td>NaN</td>\n",
       "      <td>NaN</td>\n",
       "      <td>NaN</td>\n",
       "      <td>NaN</td>\n",
       "      <td>NaN</td>\n",
       "      <td>NaN</td>\n",
       "      <td>NaN</td>\n",
       "      <td>NaN</td>\n",
       "      <td>NaN</td>\n",
       "    </tr>\n",
       "    <tr>\n",
       "      <th>10</th>\n",
       "      <td>BAA-1103047</td>\n",
       "      <td>2023-03-24 12:08:58</td>\n",
       "      <td>2023-03-24 15:12:50</td>\n",
       "      <td>0 days 03:03:51</td>\n",
       "      <td>22.2</td>\n",
       "      <td>22.3</td>\n",
       "      <td>NaN</td>\n",
       "      <td>NaN</td>\n",
       "      <td>NaN</td>\n",
       "      <td>NaN</td>\n",
       "      <td>NaN</td>\n",
       "      <td>NaN</td>\n",
       "      <td>NaN</td>\n",
       "      <td>NaN</td>\n",
       "      <td>NaN</td>\n",
       "      <td>NaN</td>\n",
       "      <td>NaN</td>\n",
       "      <td>NaN</td>\n",
       "      <td>NaN</td>\n",
       "      <td>NaN</td>\n",
       "      <td>NaN</td>\n",
       "      <td>NaN</td>\n",
       "      <td>NaN</td>\n",
       "      <td>NaN</td>\n",
       "      <td>NaN</td>\n",
       "      <td>NaN</td>\n",
       "      <td>NaN</td>\n",
       "      <td>NaN</td>\n",
       "      <td>NaN</td>\n",
       "      <td>NaN</td>\n",
       "      <td>NaN</td>\n",
       "      <td>NaN</td>\n",
       "      <td>NaN</td>\n",
       "      <td>NaN</td>\n",
       "    </tr>\n",
       "    <tr>\n",
       "      <th>11</th>\n",
       "      <td>BAA-1103049</td>\n",
       "      <td>2023-03-24 14:22:48</td>\n",
       "      <td>2023-03-24 18:31:16</td>\n",
       "      <td>0 days 04:08:27</td>\n",
       "      <td>21.7</td>\n",
       "      <td>22.3</td>\n",
       "      <td>NaN</td>\n",
       "      <td>NaN</td>\n",
       "      <td>NaN</td>\n",
       "      <td>NaN</td>\n",
       "      <td>NaN</td>\n",
       "      <td>NaN</td>\n",
       "      <td>NaN</td>\n",
       "      <td>NaN</td>\n",
       "      <td>NaN</td>\n",
       "      <td>NaN</td>\n",
       "      <td>NaN</td>\n",
       "      <td>NaN</td>\n",
       "      <td>NaN</td>\n",
       "      <td>NaN</td>\n",
       "      <td>NaN</td>\n",
       "      <td>NaN</td>\n",
       "      <td>NaN</td>\n",
       "      <td>NaN</td>\n",
       "      <td>NaN</td>\n",
       "      <td>NaN</td>\n",
       "      <td>NaN</td>\n",
       "      <td>NaN</td>\n",
       "      <td>NaN</td>\n",
       "      <td>NaN</td>\n",
       "      <td>NaN</td>\n",
       "      <td>NaN</td>\n",
       "      <td>NaN</td>\n",
       "      <td>NaN</td>\n",
       "    </tr>\n",
       "    <tr>\n",
       "      <th>12</th>\n",
       "      <td>BAA-1103045</td>\n",
       "      <td>2023-03-24 15:19:57</td>\n",
       "      <td>2023-03-24 18:42:44</td>\n",
       "      <td>0 days 03:22:45</td>\n",
       "      <td>22.7</td>\n",
       "      <td>26.2</td>\n",
       "      <td>NaN</td>\n",
       "      <td>NaN</td>\n",
       "      <td>NaN</td>\n",
       "      <td>NaN</td>\n",
       "      <td>NaN</td>\n",
       "      <td>NaN</td>\n",
       "      <td>NaN</td>\n",
       "      <td>NaN</td>\n",
       "      <td>NaN</td>\n",
       "      <td>NaN</td>\n",
       "      <td>NaN</td>\n",
       "      <td>NaN</td>\n",
       "      <td>NaN</td>\n",
       "      <td>NaN</td>\n",
       "      <td>NaN</td>\n",
       "      <td>NaN</td>\n",
       "      <td>NaN</td>\n",
       "      <td>NaN</td>\n",
       "      <td>NaN</td>\n",
       "      <td>NaN</td>\n",
       "      <td>NaN</td>\n",
       "      <td>NaN</td>\n",
       "      <td>NaN</td>\n",
       "      <td>NaN</td>\n",
       "      <td>NaN</td>\n",
       "      <td>NaN</td>\n",
       "      <td>NaN</td>\n",
       "      <td>NaN</td>\n",
       "    </tr>\n",
       "    <tr>\n",
       "      <th>13</th>\n",
       "      <td>BAA-1103049</td>\n",
       "      <td>2023-03-30 08:02:03</td>\n",
       "      <td>2023-03-30 11:22:13</td>\n",
       "      <td>0 days 03:20:09</td>\n",
       "      <td>21.8</td>\n",
       "      <td>24.7</td>\n",
       "      <td>NaN</td>\n",
       "      <td>NaN</td>\n",
       "      <td>NaN</td>\n",
       "      <td>NaN</td>\n",
       "      <td>NaN</td>\n",
       "      <td>NaN</td>\n",
       "      <td>NaN</td>\n",
       "      <td>NaN</td>\n",
       "      <td>NaN</td>\n",
       "      <td>NaN</td>\n",
       "      <td>NaN</td>\n",
       "      <td>NaN</td>\n",
       "      <td>NaN</td>\n",
       "      <td>NaN</td>\n",
       "      <td>NaN</td>\n",
       "      <td>NaN</td>\n",
       "      <td>NaN</td>\n",
       "      <td>NaN</td>\n",
       "      <td>NaN</td>\n",
       "      <td>NaN</td>\n",
       "      <td>NaN</td>\n",
       "      <td>NaN</td>\n",
       "      <td>NaN</td>\n",
       "      <td>NaN</td>\n",
       "      <td>NaN</td>\n",
       "      <td>NaN</td>\n",
       "      <td>NaN</td>\n",
       "      <td>NaN</td>\n",
       "    </tr>\n",
       "    <tr>\n",
       "      <th>14</th>\n",
       "      <td>BAA-1103050</td>\n",
       "      <td>2023-03-30 11:28:04</td>\n",
       "      <td>2023-03-30 14:33:37</td>\n",
       "      <td>0 days 03:05:32</td>\n",
       "      <td>22.3</td>\n",
       "      <td>25.6</td>\n",
       "      <td>NaN</td>\n",
       "      <td>NaN</td>\n",
       "      <td>NaN</td>\n",
       "      <td>NaN</td>\n",
       "      <td>NaN</td>\n",
       "      <td>NaN</td>\n",
       "      <td>NaN</td>\n",
       "      <td>NaN</td>\n",
       "      <td>NaN</td>\n",
       "      <td>NaN</td>\n",
       "      <td>NaN</td>\n",
       "      <td>NaN</td>\n",
       "      <td>NaN</td>\n",
       "      <td>NaN</td>\n",
       "      <td>NaN</td>\n",
       "      <td>NaN</td>\n",
       "      <td>NaN</td>\n",
       "      <td>NaN</td>\n",
       "      <td>NaN</td>\n",
       "      <td>NaN</td>\n",
       "      <td>NaN</td>\n",
       "      <td>NaN</td>\n",
       "      <td>NaN</td>\n",
       "      <td>NaN</td>\n",
       "      <td>NaN</td>\n",
       "      <td>NaN</td>\n",
       "      <td>NaN</td>\n",
       "      <td>NaN</td>\n",
       "    </tr>\n",
       "    <tr>\n",
       "      <th>15</th>\n",
       "      <td>BAA-1103047</td>\n",
       "      <td>2023-03-30 11:46:20</td>\n",
       "      <td>2023-03-30 14:47:20</td>\n",
       "      <td>0 days 03:00:59</td>\n",
       "      <td>22.0</td>\n",
       "      <td>23.4</td>\n",
       "      <td>NaN</td>\n",
       "      <td>NaN</td>\n",
       "      <td>NaN</td>\n",
       "      <td>NaN</td>\n",
       "      <td>NaN</td>\n",
       "      <td>NaN</td>\n",
       "      <td>NaN</td>\n",
       "      <td>NaN</td>\n",
       "      <td>NaN</td>\n",
       "      <td>NaN</td>\n",
       "      <td>NaN</td>\n",
       "      <td>NaN</td>\n",
       "      <td>NaN</td>\n",
       "      <td>NaN</td>\n",
       "      <td>NaN</td>\n",
       "      <td>NaN</td>\n",
       "      <td>NaN</td>\n",
       "      <td>NaN</td>\n",
       "      <td>NaN</td>\n",
       "      <td>NaN</td>\n",
       "      <td>NaN</td>\n",
       "      <td>NaN</td>\n",
       "      <td>NaN</td>\n",
       "      <td>NaN</td>\n",
       "      <td>NaN</td>\n",
       "      <td>NaN</td>\n",
       "      <td>NaN</td>\n",
       "      <td>NaN</td>\n",
       "    </tr>\n",
       "    <tr>\n",
       "      <th>16</th>\n",
       "      <td>BAA-1103048</td>\n",
       "      <td>2023-03-30 14:39:40</td>\n",
       "      <td>2023-03-30 17:55:12</td>\n",
       "      <td>0 days 03:15:31</td>\n",
       "      <td>21.6</td>\n",
       "      <td>23.8</td>\n",
       "      <td>NaN</td>\n",
       "      <td>NaN</td>\n",
       "      <td>NaN</td>\n",
       "      <td>NaN</td>\n",
       "      <td>NaN</td>\n",
       "      <td>NaN</td>\n",
       "      <td>NaN</td>\n",
       "      <td>NaN</td>\n",
       "      <td>NaN</td>\n",
       "      <td>NaN</td>\n",
       "      <td>NaN</td>\n",
       "      <td>NaN</td>\n",
       "      <td>NaN</td>\n",
       "      <td>NaN</td>\n",
       "      <td>NaN</td>\n",
       "      <td>NaN</td>\n",
       "      <td>NaN</td>\n",
       "      <td>NaN</td>\n",
       "      <td>NaN</td>\n",
       "      <td>NaN</td>\n",
       "      <td>NaN</td>\n",
       "      <td>NaN</td>\n",
       "      <td>NaN</td>\n",
       "      <td>NaN</td>\n",
       "      <td>NaN</td>\n",
       "      <td>NaN</td>\n",
       "      <td>NaN</td>\n",
       "      <td>NaN</td>\n",
       "    </tr>\n",
       "    <tr>\n",
       "      <th>17</th>\n",
       "      <td>BAA-1103045</td>\n",
       "      <td>2023-03-30 14:53:35</td>\n",
       "      <td>2023-03-30 18:03:35</td>\n",
       "      <td>0 days 03:09:59</td>\n",
       "      <td>22.0</td>\n",
       "      <td>25.4</td>\n",
       "      <td>NaN</td>\n",
       "      <td>NaN</td>\n",
       "      <td>NaN</td>\n",
       "      <td>NaN</td>\n",
       "      <td>NaN</td>\n",
       "      <td>NaN</td>\n",
       "      <td>NaN</td>\n",
       "      <td>NaN</td>\n",
       "      <td>NaN</td>\n",
       "      <td>NaN</td>\n",
       "      <td>NaN</td>\n",
       "      <td>NaN</td>\n",
       "      <td>NaN</td>\n",
       "      <td>NaN</td>\n",
       "      <td>NaN</td>\n",
       "      <td>NaN</td>\n",
       "      <td>NaN</td>\n",
       "      <td>NaN</td>\n",
       "      <td>NaN</td>\n",
       "      <td>NaN</td>\n",
       "      <td>NaN</td>\n",
       "      <td>NaN</td>\n",
       "      <td>NaN</td>\n",
       "      <td>NaN</td>\n",
       "      <td>NaN</td>\n",
       "      <td>NaN</td>\n",
       "      <td>NaN</td>\n",
       "      <td>NaN</td>\n",
       "    </tr>\n",
       "    <tr>\n",
       "      <th>18</th>\n",
       "      <td>BAA-1103049</td>\n",
       "      <td>2023-03-31 08:29:33</td>\n",
       "      <td>2023-03-31 11:32:58</td>\n",
       "      <td>0 days 03:03:24</td>\n",
       "      <td>21.3</td>\n",
       "      <td>26.1</td>\n",
       "      <td>NaN</td>\n",
       "      <td>NaN</td>\n",
       "      <td>NaN</td>\n",
       "      <td>NaN</td>\n",
       "      <td>NaN</td>\n",
       "      <td>NaN</td>\n",
       "      <td>NaN</td>\n",
       "      <td>NaN</td>\n",
       "      <td>NaN</td>\n",
       "      <td>NaN</td>\n",
       "      <td>NaN</td>\n",
       "      <td>NaN</td>\n",
       "      <td>NaN</td>\n",
       "      <td>NaN</td>\n",
       "      <td>NaN</td>\n",
       "      <td>NaN</td>\n",
       "      <td>NaN</td>\n",
       "      <td>NaN</td>\n",
       "      <td>NaN</td>\n",
       "      <td>NaN</td>\n",
       "      <td>NaN</td>\n",
       "      <td>NaN</td>\n",
       "      <td>NaN</td>\n",
       "      <td>NaN</td>\n",
       "      <td>NaN</td>\n",
       "      <td>NaN</td>\n",
       "      <td>NaN</td>\n",
       "      <td>NaN</td>\n",
       "    </tr>\n",
       "    <tr>\n",
       "      <th>19</th>\n",
       "      <td>BAA-1103047</td>\n",
       "      <td>2023-03-31 11:05:26</td>\n",
       "      <td>2023-03-31 14:08:08</td>\n",
       "      <td>0 days 03:02:41</td>\n",
       "      <td>20.7</td>\n",
       "      <td>23.5</td>\n",
       "      <td>NaN</td>\n",
       "      <td>NaN</td>\n",
       "      <td>NaN</td>\n",
       "      <td>NaN</td>\n",
       "      <td>NaN</td>\n",
       "      <td>NaN</td>\n",
       "      <td>NaN</td>\n",
       "      <td>NaN</td>\n",
       "      <td>NaN</td>\n",
       "      <td>NaN</td>\n",
       "      <td>NaN</td>\n",
       "      <td>NaN</td>\n",
       "      <td>NaN</td>\n",
       "      <td>NaN</td>\n",
       "      <td>NaN</td>\n",
       "      <td>NaN</td>\n",
       "      <td>NaN</td>\n",
       "      <td>NaN</td>\n",
       "      <td>NaN</td>\n",
       "      <td>NaN</td>\n",
       "      <td>NaN</td>\n",
       "      <td>NaN</td>\n",
       "      <td>NaN</td>\n",
       "      <td>NaN</td>\n",
       "      <td>NaN</td>\n",
       "      <td>NaN</td>\n",
       "      <td>NaN</td>\n",
       "      <td>NaN</td>\n",
       "    </tr>\n",
       "    <tr>\n",
       "      <th>20</th>\n",
       "      <td>BAA-1103050</td>\n",
       "      <td>2023-03-31 11:38:54</td>\n",
       "      <td>2023-03-31 14:40:15</td>\n",
       "      <td>0 days 03:01:20</td>\n",
       "      <td>21.4</td>\n",
       "      <td>26.5</td>\n",
       "      <td>NaN</td>\n",
       "      <td>NaN</td>\n",
       "      <td>NaN</td>\n",
       "      <td>NaN</td>\n",
       "      <td>NaN</td>\n",
       "      <td>NaN</td>\n",
       "      <td>NaN</td>\n",
       "      <td>NaN</td>\n",
       "      <td>NaN</td>\n",
       "      <td>NaN</td>\n",
       "      <td>NaN</td>\n",
       "      <td>NaN</td>\n",
       "      <td>NaN</td>\n",
       "      <td>NaN</td>\n",
       "      <td>NaN</td>\n",
       "      <td>NaN</td>\n",
       "      <td>NaN</td>\n",
       "      <td>NaN</td>\n",
       "      <td>NaN</td>\n",
       "      <td>NaN</td>\n",
       "      <td>NaN</td>\n",
       "      <td>NaN</td>\n",
       "      <td>NaN</td>\n",
       "      <td>NaN</td>\n",
       "      <td>NaN</td>\n",
       "      <td>NaN</td>\n",
       "      <td>NaN</td>\n",
       "      <td>NaN</td>\n",
       "    </tr>\n",
       "    <tr>\n",
       "      <th>21</th>\n",
       "      <td>BAA-1103045</td>\n",
       "      <td>2023-03-31 14:09:01</td>\n",
       "      <td>2023-03-31 17:50:38</td>\n",
       "      <td>0 days 03:41:36</td>\n",
       "      <td>21.5</td>\n",
       "      <td>26.8</td>\n",
       "      <td>NaN</td>\n",
       "      <td>NaN</td>\n",
       "      <td>NaN</td>\n",
       "      <td>NaN</td>\n",
       "      <td>NaN</td>\n",
       "      <td>NaN</td>\n",
       "      <td>NaN</td>\n",
       "      <td>NaN</td>\n",
       "      <td>NaN</td>\n",
       "      <td>NaN</td>\n",
       "      <td>NaN</td>\n",
       "      <td>NaN</td>\n",
       "      <td>NaN</td>\n",
       "      <td>NaN</td>\n",
       "      <td>NaN</td>\n",
       "      <td>NaN</td>\n",
       "      <td>NaN</td>\n",
       "      <td>NaN</td>\n",
       "      <td>NaN</td>\n",
       "      <td>NaN</td>\n",
       "      <td>NaN</td>\n",
       "      <td>NaN</td>\n",
       "      <td>NaN</td>\n",
       "      <td>NaN</td>\n",
       "      <td>NaN</td>\n",
       "      <td>NaN</td>\n",
       "      <td>NaN</td>\n",
       "      <td>NaN</td>\n",
       "    </tr>\n",
       "    <tr>\n",
       "      <th>22</th>\n",
       "      <td>BAA-1103048</td>\n",
       "      <td>2023-03-31 14:47:37</td>\n",
       "      <td>2023-03-31 17:43:19</td>\n",
       "      <td>0 days 02:55:42</td>\n",
       "      <td>21.1</td>\n",
       "      <td>24.6</td>\n",
       "      <td>NaN</td>\n",
       "      <td>NaN</td>\n",
       "      <td>NaN</td>\n",
       "      <td>NaN</td>\n",
       "      <td>NaN</td>\n",
       "      <td>NaN</td>\n",
       "      <td>NaN</td>\n",
       "      <td>NaN</td>\n",
       "      <td>NaN</td>\n",
       "      <td>NaN</td>\n",
       "      <td>NaN</td>\n",
       "      <td>NaN</td>\n",
       "      <td>NaN</td>\n",
       "      <td>NaN</td>\n",
       "      <td>NaN</td>\n",
       "      <td>NaN</td>\n",
       "      <td>NaN</td>\n",
       "      <td>NaN</td>\n",
       "      <td>NaN</td>\n",
       "      <td>NaN</td>\n",
       "      <td>NaN</td>\n",
       "      <td>NaN</td>\n",
       "      <td>NaN</td>\n",
       "      <td>NaN</td>\n",
       "      <td>NaN</td>\n",
       "      <td>NaN</td>\n",
       "      <td>NaN</td>\n",
       "      <td>NaN</td>\n",
       "    </tr>\n",
       "  </tbody>\n",
       "</table>\n",
       "</div>"
      ],
      "text/plain": [
       "             id               enter                exit        duration  \\\n",
       "0   BAA-1103050 2023-03-10 09:41:48 2023-03-10 12:55:19 0 days 03:13:30   \n",
       "1   BAA-1103045 2023-03-10 12:12:45 2023-03-10 15:22:14 0 days 03:09:28   \n",
       "2   BAA-1103048 2023-03-10 13:08:24 2023-03-10 16:16:31 0 days 03:08:06   \n",
       "3   BAA-1103047 2023-03-10 15:27:05 2023-03-10 19:10:44 0 days 03:43:38   \n",
       "4   BAA-1103049 2023-03-10 16:22:29 2023-03-10 19:21:50 0 days 02:59:20   \n",
       "5   BAA-1103048 2023-03-23 07:56:44 2023-03-23 11:08:34 0 days 03:11:49   \n",
       "6   BAA-1103045 2023-03-23 10:16:38 2023-03-23 13:19:43 0 days 03:03:03   \n",
       "7   BAA-1103049 2023-03-23 11:15:29 2023-03-23 14:23:41 0 days 03:08:11   \n",
       "8   BAA-1103047 2023-03-23 13:29:36 2023-03-23 16:32:51 0 days 03:03:14   \n",
       "9   BAA-1103050 2023-03-23 14:30:26 2023-03-23 17:29:18 0 days 02:58:51   \n",
       "10  BAA-1103047 2023-03-24 12:08:58 2023-03-24 15:12:50 0 days 03:03:51   \n",
       "11  BAA-1103049 2023-03-24 14:22:48 2023-03-24 18:31:16 0 days 04:08:27   \n",
       "12  BAA-1103045 2023-03-24 15:19:57 2023-03-24 18:42:44 0 days 03:22:45   \n",
       "13  BAA-1103049 2023-03-30 08:02:03 2023-03-30 11:22:13 0 days 03:20:09   \n",
       "14  BAA-1103050 2023-03-30 11:28:04 2023-03-30 14:33:37 0 days 03:05:32   \n",
       "15  BAA-1103047 2023-03-30 11:46:20 2023-03-30 14:47:20 0 days 03:00:59   \n",
       "16  BAA-1103048 2023-03-30 14:39:40 2023-03-30 17:55:12 0 days 03:15:31   \n",
       "17  BAA-1103045 2023-03-30 14:53:35 2023-03-30 18:03:35 0 days 03:09:59   \n",
       "18  BAA-1103049 2023-03-31 08:29:33 2023-03-31 11:32:58 0 days 03:03:24   \n",
       "19  BAA-1103047 2023-03-31 11:05:26 2023-03-31 14:08:08 0 days 03:02:41   \n",
       "20  BAA-1103050 2023-03-31 11:38:54 2023-03-31 14:40:15 0 days 03:01:20   \n",
       "21  BAA-1103045 2023-03-31 14:09:01 2023-03-31 17:50:38 0 days 03:41:36   \n",
       "22  BAA-1103048 2023-03-31 14:47:37 2023-03-31 17:43:19 0 days 02:55:42   \n",
       "\n",
       "    weight_enter  weight_exit  post_thresh_dur  \\\n",
       "0           23.2         23.9              NaN   \n",
       "1           23.0         23.7              NaN   \n",
       "2           22.5         24.6              NaN   \n",
       "3           19.8         21.0              NaN   \n",
       "4           20.9         22.6              NaN   \n",
       "5           24.8         24.3              NaN   \n",
       "6           23.6         25.1              NaN   \n",
       "7           22.0         24.4              NaN   \n",
       "8           23.2         22.4              NaN   \n",
       "9           23.5         24.9              NaN   \n",
       "10          22.2         22.3              NaN   \n",
       "11          21.7         22.3              NaN   \n",
       "12          22.7         26.2              NaN   \n",
       "13          21.8         24.7              NaN   \n",
       "14          22.3         25.6              NaN   \n",
       "15          22.0         23.4              NaN   \n",
       "16          21.6         23.8              NaN   \n",
       "17          22.0         25.4              NaN   \n",
       "18          21.3         26.1              NaN   \n",
       "19          20.7         23.5              NaN   \n",
       "20          21.4         26.5              NaN   \n",
       "21          21.5         26.8              NaN   \n",
       "22          21.1         24.6              NaN   \n",
       "\n",
       "    post_thresh_both_p_sampled_dur  pre_sampling_both_p_dur  easy_patch  \\\n",
       "0                              NaN                      NaN         NaN   \n",
       "1                              NaN                      NaN         NaN   \n",
       "2                              NaN                      NaN         NaN   \n",
       "3                              NaN                      NaN         NaN   \n",
       "4                              NaN                      NaN         NaN   \n",
       "5                              NaN                      NaN         NaN   \n",
       "6                              NaN                      NaN         NaN   \n",
       "7                              NaN                      NaN         NaN   \n",
       "8                              NaN                      NaN         NaN   \n",
       "9                              NaN                      NaN         NaN   \n",
       "10                             NaN                      NaN         NaN   \n",
       "11                             NaN                      NaN         NaN   \n",
       "12                             NaN                      NaN         NaN   \n",
       "13                             NaN                      NaN         NaN   \n",
       "14                             NaN                      NaN         NaN   \n",
       "15                             NaN                      NaN         NaN   \n",
       "16                             NaN                      NaN         NaN   \n",
       "17                             NaN                      NaN         NaN   \n",
       "18                             NaN                      NaN         NaN   \n",
       "19                             NaN                      NaN         NaN   \n",
       "20                             NaN                      NaN         NaN   \n",
       "21                             NaN                      NaN         NaN   \n",
       "22                             NaN                      NaN         NaN   \n",
       "\n",
       "    hard_patch  post_easy_rate  post_hard_rate  pre_easy_n_pel  \\\n",
       "0          NaN             NaN             NaN             NaN   \n",
       "1          NaN             NaN             NaN             NaN   \n",
       "2          NaN             NaN             NaN             NaN   \n",
       "3          NaN             NaN             NaN             NaN   \n",
       "4          NaN             NaN             NaN             NaN   \n",
       "5          NaN             NaN             NaN             NaN   \n",
       "6          NaN             NaN             NaN             NaN   \n",
       "7          NaN             NaN             NaN             NaN   \n",
       "8          NaN             NaN             NaN             NaN   \n",
       "9          NaN             NaN             NaN             NaN   \n",
       "10         NaN             NaN             NaN             NaN   \n",
       "11         NaN             NaN             NaN             NaN   \n",
       "12         NaN             NaN             NaN             NaN   \n",
       "13         NaN             NaN             NaN             NaN   \n",
       "14         NaN             NaN             NaN             NaN   \n",
       "15         NaN             NaN             NaN             NaN   \n",
       "16         NaN             NaN             NaN             NaN   \n",
       "17         NaN             NaN             NaN             NaN   \n",
       "18         NaN             NaN             NaN             NaN   \n",
       "19         NaN             NaN             NaN             NaN   \n",
       "20         NaN             NaN             NaN             NaN   \n",
       "21         NaN             NaN             NaN             NaN   \n",
       "22         NaN             NaN             NaN             NaN   \n",
       "\n",
       "    pre_hard_n_pel  post_easy_n_pel  post_hard_n_pel  pre_easy_wheel_dist  \\\n",
       "0              NaN              NaN              NaN                  NaN   \n",
       "1              NaN              NaN              NaN                  NaN   \n",
       "2              NaN              NaN              NaN                  NaN   \n",
       "3              NaN              NaN              NaN                  NaN   \n",
       "4              NaN              NaN              NaN                  NaN   \n",
       "5              NaN              NaN              NaN                  NaN   \n",
       "6              NaN              NaN              NaN                  NaN   \n",
       "7              NaN              NaN              NaN                  NaN   \n",
       "8              NaN              NaN              NaN                  NaN   \n",
       "9              NaN              NaN              NaN                  NaN   \n",
       "10             NaN              NaN              NaN                  NaN   \n",
       "11             NaN              NaN              NaN                  NaN   \n",
       "12             NaN              NaN              NaN                  NaN   \n",
       "13             NaN              NaN              NaN                  NaN   \n",
       "14             NaN              NaN              NaN                  NaN   \n",
       "15             NaN              NaN              NaN                  NaN   \n",
       "16             NaN              NaN              NaN                  NaN   \n",
       "17             NaN              NaN              NaN                  NaN   \n",
       "18             NaN              NaN              NaN                  NaN   \n",
       "19             NaN              NaN              NaN                  NaN   \n",
       "20             NaN              NaN              NaN                  NaN   \n",
       "21             NaN              NaN              NaN                  NaN   \n",
       "22             NaN              NaN              NaN                  NaN   \n",
       "\n",
       "    pre_hard_wheel_dist  post_easy_wheel_dist  post_hard_wheel_dist  \\\n",
       "0                   NaN                   NaN                   NaN   \n",
       "1                   NaN                   NaN                   NaN   \n",
       "2                   NaN                   NaN                   NaN   \n",
       "3                   NaN                   NaN                   NaN   \n",
       "4                   NaN                   NaN                   NaN   \n",
       "5                   NaN                   NaN                   NaN   \n",
       "6                   NaN                   NaN                   NaN   \n",
       "7                   NaN                   NaN                   NaN   \n",
       "8                   NaN                   NaN                   NaN   \n",
       "9                   NaN                   NaN                   NaN   \n",
       "10                  NaN                   NaN                   NaN   \n",
       "11                  NaN                   NaN                   NaN   \n",
       "12                  NaN                   NaN                   NaN   \n",
       "13                  NaN                   NaN                   NaN   \n",
       "14                  NaN                   NaN                   NaN   \n",
       "15                  NaN                   NaN                   NaN   \n",
       "16                  NaN                   NaN                   NaN   \n",
       "17                  NaN                   NaN                   NaN   \n",
       "18                  NaN                   NaN                   NaN   \n",
       "19                  NaN                   NaN                   NaN   \n",
       "20                  NaN                   NaN                   NaN   \n",
       "21                  NaN                   NaN                   NaN   \n",
       "22                  NaN                   NaN                   NaN   \n",
       "\n",
       "    pre_easy_pref  post_easy_pref  pre_hard_pref  post_hard_pref  \\\n",
       "0             NaN             NaN            NaN             NaN   \n",
       "1             NaN             NaN            NaN             NaN   \n",
       "2             NaN             NaN            NaN             NaN   \n",
       "3             NaN             NaN            NaN             NaN   \n",
       "4             NaN             NaN            NaN             NaN   \n",
       "5             NaN             NaN            NaN             NaN   \n",
       "6             NaN             NaN            NaN             NaN   \n",
       "7             NaN             NaN            NaN             NaN   \n",
       "8             NaN             NaN            NaN             NaN   \n",
       "9             NaN             NaN            NaN             NaN   \n",
       "10            NaN             NaN            NaN             NaN   \n",
       "11            NaN             NaN            NaN             NaN   \n",
       "12            NaN             NaN            NaN             NaN   \n",
       "13            NaN             NaN            NaN             NaN   \n",
       "14            NaN             NaN            NaN             NaN   \n",
       "15            NaN             NaN            NaN             NaN   \n",
       "16            NaN             NaN            NaN             NaN   \n",
       "17            NaN             NaN            NaN             NaN   \n",
       "18            NaN             NaN            NaN             NaN   \n",
       "19            NaN             NaN            NaN             NaN   \n",
       "20            NaN             NaN            NaN             NaN   \n",
       "21            NaN             NaN            NaN             NaN   \n",
       "22            NaN             NaN            NaN             NaN   \n",
       "\n",
       "    post_pre_easy_pref post_easy_pel_thresh post_easy_pel_thresh_idx  \\\n",
       "0                  NaN                  NaN                      NaN   \n",
       "1                  NaN                  NaN                      NaN   \n",
       "2                  NaN                  NaN                      NaN   \n",
       "3                  NaN                  NaN                      NaN   \n",
       "4                  NaN                  NaN                      NaN   \n",
       "5                  NaN                  NaN                      NaN   \n",
       "6                  NaN                  NaN                      NaN   \n",
       "7                  NaN                  NaN                      NaN   \n",
       "8                  NaN                  NaN                      NaN   \n",
       "9                  NaN                  NaN                      NaN   \n",
       "10                 NaN                  NaN                      NaN   \n",
       "11                 NaN                  NaN                      NaN   \n",
       "12                 NaN                  NaN                      NaN   \n",
       "13                 NaN                  NaN                      NaN   \n",
       "14                 NaN                  NaN                      NaN   \n",
       "15                 NaN                  NaN                      NaN   \n",
       "16                 NaN                  NaN                      NaN   \n",
       "17                 NaN                  NaN                      NaN   \n",
       "18                 NaN                  NaN                      NaN   \n",
       "19                 NaN                  NaN                      NaN   \n",
       "20                 NaN                  NaN                      NaN   \n",
       "21                 NaN                  NaN                      NaN   \n",
       "22                 NaN                  NaN                      NaN   \n",
       "\n",
       "   post_hard_pel_thresh post_hard_pel_thresh_idx init_pref_by_pel_ct  \\\n",
       "0                   NaN                      NaN                 NaN   \n",
       "1                   NaN                      NaN                 NaN   \n",
       "2                   NaN                      NaN                 NaN   \n",
       "3                   NaN                      NaN                 NaN   \n",
       "4                   NaN                      NaN                 NaN   \n",
       "5                   NaN                      NaN                 NaN   \n",
       "6                   NaN                      NaN                 NaN   \n",
       "7                   NaN                      NaN                 NaN   \n",
       "8                   NaN                      NaN                 NaN   \n",
       "9                   NaN                      NaN                 NaN   \n",
       "10                  NaN                      NaN                 NaN   \n",
       "11                  NaN                      NaN                 NaN   \n",
       "12                  NaN                      NaN                 NaN   \n",
       "13                  NaN                      NaN                 NaN   \n",
       "14                  NaN                      NaN                 NaN   \n",
       "15                  NaN                      NaN                 NaN   \n",
       "16                  NaN                      NaN                 NaN   \n",
       "17                  NaN                      NaN                 NaN   \n",
       "18                  NaN                      NaN                 NaN   \n",
       "19                  NaN                      NaN                 NaN   \n",
       "20                  NaN                      NaN                 NaN   \n",
       "21                  NaN                      NaN                 NaN   \n",
       "22                  NaN                      NaN                 NaN   \n",
       "\n",
       "    epoch_thresh_change_idx easy_pref_epoch_cum easy_pref_epoch  \n",
       "0                       NaN                 NaN             NaN  \n",
       "1                       NaN                 NaN             NaN  \n",
       "2                       NaN                 NaN             NaN  \n",
       "3                       NaN                 NaN             NaN  \n",
       "4                       NaN                 NaN             NaN  \n",
       "5                       NaN                 NaN             NaN  \n",
       "6                       NaN                 NaN             NaN  \n",
       "7                       NaN                 NaN             NaN  \n",
       "8                       NaN                 NaN             NaN  \n",
       "9                       NaN                 NaN             NaN  \n",
       "10                      NaN                 NaN             NaN  \n",
       "11                      NaN                 NaN             NaN  \n",
       "12                      NaN                 NaN             NaN  \n",
       "13                      NaN                 NaN             NaN  \n",
       "14                      NaN                 NaN             NaN  \n",
       "15                      NaN                 NaN             NaN  \n",
       "16                      NaN                 NaN             NaN  \n",
       "17                      NaN                 NaN             NaN  \n",
       "18                      NaN                 NaN             NaN  \n",
       "19                      NaN                 NaN             NaN  \n",
       "20                      NaN                 NaN             NaN  \n",
       "21                      NaN                 NaN             NaN  \n",
       "22                      NaN                 NaN             NaN  "
      ]
     },
     "metadata": {},
     "output_type": "display_data"
    }
   ],
   "source": [
    "# Declare some set-up variables to help with analysis\n",
    "\n",
    "# Specify which animals in which room\n",
    "in_b2_210 = (\"48\", \"49\", \"50\")\n",
    "in_465 = (\"45\", \"47\")\n",
    "\n",
    "# Columns to add to table\n",
    "new_cols = (\n",
    "    \"post_thresh_dur\", \"post_thresh_both_p_sampled_dur\",\n",
    "    \"pre_sampling_both_p_dur\", \"easy_patch\", \"hard_patch\", \n",
    "    \"post_easy_rate\", \"post_hard_rate\", \"pre_easy_n_pel\", \"pre_hard_n_pel\", \n",
    "    \"post_easy_n_pel\", \"post_hard_n_pel\", \"pre_easy_wheel_dist\", \"pre_hard_wheel_dist\",\n",
    "    \"post_easy_wheel_dist\", \"post_hard_wheel_dist\", \"pre_easy_pref\", \"post_easy_pref\",\n",
    "    \"pre_hard_pref\", \"post_hard_pref\", \"post_pre_easy_pref\", \"post_easy_pel_thresh\", \n",
    "    \"post_easy_pel_thresh_idx\", \"post_hard_pel_thresh\", \"post_hard_pel_thresh_idx\", \n",
    "    \"init_pref_by_pel_ct\", \"epoch_thresh_change_idx\", \"easy_pref_epoch_cum\", \"easy_pref_epoch\"\n",
    ")\n",
    "for col in new_cols:\n",
    "    sessions[col] = np.nan\n",
    "sessions[\"post_easy_pel_thresh\"] = sessions[\"post_easy_pel_thresh\"].astype(object)\n",
    "sessions[\"post_hard_pel_thresh\"] = sessions[\"post_hard_pel_thresh\"].astype(object)\n",
    "sessions[\"post_easy_pel_thresh_idx\"] = sessions[\"post_easy_pel_thresh_idx\"].astype(object)\n",
    "sessions[\"post_hard_pel_thresh_idx\"] = sessions[\"post_hard_pel_thresh_idx\"].astype(object)\n",
    "sessions[\"init_pref_by_pel_ct\"] = sessions[\"init_pref_by_pel_ct\"].astype(object)\n",
    "sessions[\"easy_pref_epoch_cum\"] = sessions[\"easy_pref_epoch_cum\"].astype(object)\n",
    "sessions[\"easy_pref_epoch\"] = sessions[\"easy_pref_epoch\"].astype(object)\n",
    "display(sessions)"
   ]
  },
  {
   "cell_type": "code",
   "execution_count": 142,
   "id": "50b13fbe-4f2a-4e45-800f-fbda6d959a26",
   "metadata": {
    "tags": []
   },
   "outputs": [
    {
     "name": "stderr",
     "output_type": "stream",
     "text": [
      "exception occurred\n",
      "Traceback (most recent call last):\n",
      "  File \"/nfs/nhome/live/jbhagat/mambaforge/envs/aeon/lib/python3.9/site-packages/ipyflow/kernel/kernel.py\", line 348, in _pyc_execute_impl\n",
      "    self.after_execute(cell_content)\n",
      "  File \"/nfs/nhome/live/jbhagat/mambaforge/envs/aeon/lib/python3.9/site-packages/ipyflow/kernel/kernel.py\", line 580, in after_execute\n",
      "    flow_.gc()\n",
      "  File \"/nfs/nhome/live/jbhagat/mambaforge/envs/aeon/lib/python3.9/site-packages/ipyflow/flow.py\", line 749, in gc\n",
      "    if sym.is_anonymous or sym.is_new_garbage():\n",
      "  File \"/nfs/nhome/live/jbhagat/mambaforge/envs/aeon/lib/python3.9/site-packages/ipyflow/data_model/data_symbol.py\", line 392, in is_anonymous\n",
      "    if ns is not None and ns.is_anonymous:\n",
      "  File \"/nfs/nhome/live/jbhagat/mambaforge/envs/aeon/lib/python3.9/site-packages/ipyflow/data_model/namespace.py\", line 120, in is_anonymous\n",
      "    if containing_ns is not None and containing_ns.is_anonymous:\n",
      "  File \"/nfs/nhome/live/jbhagat/mambaforge/envs/aeon/lib/python3.9/site-packages/ipyflow/data_model/namespace.py\", line 120, in is_anonymous\n",
      "    if containing_ns is not None and containing_ns.is_anonymous:\n",
      "  File \"/nfs/nhome/live/jbhagat/mambaforge/envs/aeon/lib/python3.9/site-packages/ipyflow/data_model/namespace.py\", line 120, in is_anonymous\n",
      "    if containing_ns is not None and containing_ns.is_anonymous:\n",
      "  [Previous line repeated 2970 more times]\n",
      "  File \"/nfs/nhome/live/jbhagat/mambaforge/envs/aeon/lib/python3.9/site-packages/ipyflow/data_model/namespace.py\", line 119, in is_anonymous\n",
      "    containing_ns = self.namespace_parent_scope\n",
      "  File \"/nfs/nhome/live/jbhagat/mambaforge/envs/aeon/lib/python3.9/site-packages/ipyflow/data_model/namespace.py\", line 342, in namespace_parent_scope\n",
      "    if self.parent_scope is not None and isinstance(self.parent_scope, Namespace):\n",
      "RecursionError: maximum recursion depth exceeded while calling a Python object\n"
     ]
    }
   ],
   "source": [
    "for s in sessions.itertuples():\n",
    "    root = str(roots[0]) if np.any([s.id.endswith(sid) for sid in in_b2_210]) else str(roots[1])  # get root for current session\n",
    "    harp_reader = reader.Harp(pattern=\"Patch1_35\", columns=[\"TriggerPellet\"])\n",
    "    new_pellet_trig_bitmask = api.load(root, harp_reader, start=s.enter, end=s.exit).iloc[0, 0]\n",
    "    new_pellet_trig_reader_p1 = reader.BitmaskEvent(\"Patch1_35\", new_pellet_trig_bitmask, \"TriggerPellet\")\n",
    "    new_pellet_trig_reader_p2 = reader.BitmaskEvent(\"Patch2_35\", new_pellet_trig_bitmask, \"TriggerPellet\")\n",
    "    p1 = api.load(root, new_pellet_trig_reader_p1, start=s.enter, end=s.exit)\n",
    "    p2 = api.load(root, new_pellet_trig_reader_p2, start=s.enter, end=s.exit)\n",
    "    pstate1 = api.load(root, exp02.Patch1.DepletionState, start=s.enter, end=s.exit)\n",
    "    pstate2 = api.load(root, exp02.Patch2.DepletionState, start=s.enter, end=s.exit)\n",
    "    encoder1 = api.load(root, exp02.Patch1.Encoder, start=s.enter, end=s.exit)\n",
    "    w1 = -distancetravelled(encoder1.angle)\n",
    "    encoder2 = api.load(root, exp02.Patch2.Encoder, start=s.enter, end=s.exit)\n",
    "    w2 = -distancetravelled(encoder2.angle)\n",
    "    # PelletTrig cleaning: remove repeated deliveries (events <1.5 s apart) and manual deliveries (201)\n",
    "    p1 = p1.drop(p1.index[np.where(np.diff(p1.index).astype(\"float64\") < 1.5e9)[0]])\n",
    "    p2 = p2.drop(p2.index[np.where(np.diff(p2.index).astype(\"float64\") < 1.5e9)[0]])\n",
    "    harp_reader = reader.Harp(pattern=\"Patch1_201\", columns=[\"ExperimenterDeliveries\"])\n",
    "    user_p1 = api.load(root, harp_reader, start=s.enter, end=s.exit)\n",
    "    harp_reader = reader.Harp(pattern=\"Patch2_201\", columns=[\"ExperimenterDeliveries\"])\n",
    "    user_p2 = api.load(root, harp_reader, start=s.enter, end=s.exit)\n",
    "    if not user_p1.empty:\n",
    "        user_p1_idxs = np.abs(np.subtract.outer(user_p1.index, p1.index)).argmin(axis=1)\n",
    "        p1.drop(p1.index[user_p1_idxs])\n",
    "    if not user_p2.empty:\n",
    "        user_p2_idxs = np.abs(np.subtract.outer(user_p2.index, p2.index)).argmin(axis=1)\n",
    "        p2.drop(p2.index[user_p2_idxs])\n",
    "    both_pellet_data = pd.concat([p1, p2]).sort_index()\n",
    "    # PatchState cleaning: remove NaNs; remove updates <1.5s apart (bug updates)\n",
    "    pstate1.dropna(inplace=True)\n",
    "    good_indxs = np.concatenate((np.diff(pstate1.index).astype(\"float64\") > 1.5e9, [True]))\n",
    "    pstate1 = pstate1[good_indxs]\n",
    "    pstate2.dropna(inplace=True)\n",
    "    good_indxs = np.concatenate((np.diff(pstate2.index).astype(\"float64\") > 1.5e9, [True]))\n",
    "    pstate2 = pstate2[good_indxs]\n",
    "    # Clean known issues in particular sessions\n",
    "    if s.enter == pd.Timestamp(\"2023-03-24 14:22:48\"):  # last threshold update of 75 for some reason\n",
    "        pstate1 = pstate1.drop(pstate1.index[-1])\n",
    "        pstate2 = pstate2.drop(pstate2.index[-1])\n",
    "    if s.enter == pd.Timestamp(\"2023-03-10 13:08:24\"):  # TriggerPellet at very end of session for some reason\n",
    "        p2 = p2.drop(p2.index[-1])\n",
    "       \n",
    "    # Check lengths of PelletTrigger and PatchState events\n",
    "    if ((len(pstate1) - len(p1)) not in (1, 2)) or ((len(pstate2) - len(p2)) not in (1, 2)):\n",
    "        raise Exception(\n",
    "            f\"PelletTrigger-PatchState mismatch: \\n\"\n",
    "            f\"len(p1) = {len(p1)} \\n\"\n",
    "            f\"len(p2) = {len(p2)} \\n\"\n",
    "            f\"len(pstate1) = {len(pstate1)} \\n\"\n",
    "            f\"len(pstate2) = {len(pstate2)} \\n\"\n",
    "        )\n",
    "    both_state_data = pd.concat([pstate1, pstate2]).sort_index()\n",
    "    wboth = w1 + w2\n",
    "    # Find threshold-change ts\n",
    "    thresh_change_idx = np.where(np.abs(np.diff(both_state_data.threshold)) > 1)[0][0] + 1\n",
    "    safe_change_ts = change_ts = both_state_data.index[thresh_change_idx]\n",
    "    sessions.loc[s.Index, \"post_thresh_dur\"] = post_thresh_dur = (s.exit - change_ts).round(\"1s\")\n",
    "    # if (len(p2[p2.index > change_ts]) > 0) and (len(p1[p1.index > change_ts]) > 0):\n",
    "    #     safe_change_ts = pd.Series((p1[p1.index > change_ts].index[0], p2[p2.index > change_ts].index[0])).max()\n",
    "    #     sessions.loc[s.Index, \"post_thresh_both_p_sampled_dur\"] = post_thresh_both_p_sampled_dur = (s.exit - safe_change_ts).round(\"1s\")\n",
    "    # else:\n",
    "    #     safe_change_ts = change_ts\n",
    "    # Find both-patches-sampled ts\n",
    "    both_patches_sampled_ts = pd.Series((p1.index[0], p2.index[0])).max()\n",
    "    sessions.loc[s.Index, \"pre_sampling_both_p_dur\"] = pre_sampling_b_patches_dur = (both_patches_sampled_ts - s.enter).round(\"1s\")\n",
    "    if (np.any(p1.index > safe_change_ts) and np.any(p2.index > safe_change_ts)):\n",
    "        both_patches_sampled_ts_post = (\n",
    "            pd.Series((p1.index[p1.index > safe_change_ts][0], \n",
    "                       p2.index[p2.index > safe_change_ts][0])).max()\n",
    "        )\n",
    "        sessions.loc[s.Index, \"post_thresh_both_p_sampled_dur\"] = (\n",
    "            (both_patches_sampled_ts_post - safe_change_ts).round(\"1s\")\n",
    "        )\n",
    "    sessions.loc[s.Index, \"hard_patch\"] = hard_patch = 1 if (pstate1[\"delta\"][-1] < pstate2[\"delta\"][-1]) else 2\n",
    "    sessions.loc[s.Index, \"easy_patch\"] = easy_patch = 1 if (hard_patch == 2) else 2\n",
    "    sessions.loc[s.Index, \"post_hard_rate\"] = post_hard_rate = pstate1[\"delta\"][-1] if (hard_patch == 1) else pstate2[\"delta\"][-1]\n",
    "    sessions.loc[s.Index, \"post_easy_rate\"] = post_easy_rate = pstate1[\"delta\"][-1] if (hard_patch == 2) else pstate2[\"delta\"][-1]\n",
    "    whard = w1 if (hard_patch == 1) else w2\n",
    "    weasy = w1 if (easy_patch == 1) else w2\n",
    "    p1_pre_n_pel = len(p1[p1.index <= (safe_change_ts + pd.Timedelta(\"1s\"))])  # ensure we don't count last pellet in pre as first pellet in post\n",
    "    p1_post_n_pel = len(p1[p1.index > (safe_change_ts + pd.Timedelta(\"1s\"))])\n",
    "    p2_pre_n_pel = len(p2[p2.index <= (safe_change_ts + pd.Timedelta(\"1s\"))])\n",
    "    p2_post_n_pel = len(p2[p2.index > (safe_change_ts + pd.Timedelta(\"1s\"))])\n",
    "    sessions.loc[s.Index, \"pre_easy_n_pel\"] = pre_easy_n_pel = p1_pre_n_pel if (easy_patch == 1) else p2_pre_n_pel\n",
    "    sessions.loc[s.Index, \"pre_hard_n_pel\"] = pre_hard_n_pel = p1_pre_n_pel if (hard_patch == 1) else p2_pre_n_pel\n",
    "    p1_pre_wheel_dist = w1[w1.index > safe_change_ts][0] - w1[0]\n",
    "    p2_pre_wheel_dist = w2[w2.index > safe_change_ts][0] - w2[0]\n",
    "    sessions.loc[s.Index, \"pre_easy_wheel_dist\"] = pre_easy_wheel_dist = p1_pre_wheel_dist if (easy_patch == 1) else p2_pre_wheel_dist\n",
    "    sessions.loc[s.Index, \"pre_hard_wheel_dist\"] = pre_hard_wheel_dist = p1_pre_wheel_dist if (hard_patch == 1) else p2_pre_wheel_dist\n",
    "    sessions.loc[s.Index, \"post_easy_n_pel\"] = post_easy_n_pel = p1_post_n_pel if (easy_patch == 1) else p2_post_n_pel\n",
    "    sessions.loc[s.Index, \"post_hard_n_pel\"] = post_hard_n_pel = p1_post_n_pel if (hard_patch == 1) else p2_post_n_pel\n",
    "    p1_post_wheel_dist = w1[-1] - p1_pre_wheel_dist\n",
    "    p2_post_wheel_dist = w2[-1] - p2_pre_wheel_dist\n",
    "    sessions.loc[s.Index, \"post_easy_wheel_dist\"] = post_easy_wheel_dist = p1_post_wheel_dist if (easy_patch == 1) else p2_post_wheel_dist\n",
    "    sessions.loc[s.Index, \"post_hard_wheel_dist\"] = post_hard_wheel_dist = p1_post_wheel_dist if (hard_patch == 1) else p2_post_wheel_dist\n",
    "    sessions.loc[s.Index, \"pre_easy_pref\"] = pre_easy_pref = pre_easy_wheel_dist / (pre_easy_wheel_dist + pre_hard_wheel_dist)\n",
    "    sessions.loc[s.Index, \"post_easy_pref\"] = post_easy_pref = post_easy_wheel_dist / (post_easy_wheel_dist + post_hard_wheel_dist)\n",
    "    sessions.loc[s.Index, \"pre_hard_pref\"] = post_hard_pref = 1 - pre_easy_pref\n",
    "    sessions.loc[s.Index, \"post_hard_pref\"] = post_hard_pref = 1 - post_easy_pref\n",
    "    sessions.loc[s.Index, \"post_pre_easy_pref\"] = post_pre_easy_pref = post_easy_pref / pre_easy_pref\n",
    "    # Find each pstate update prior to each pellet threshold crossing\n",
    "    p1_post_pel_thresh = pstate1[pstate1.index >= safe_change_ts].threshold[:-1]\n",
    "    #p1_post_pel_thresh = np.nan if p1_post_pel_thresh.empty else p1_post_pel_thresh\n",
    "    p2_post_pel_thresh = pstate2[pstate2.index >= safe_change_ts].threshold[:-1]\n",
    "    #p2_post_pel_thresh = np.nan if p2_post_pel_thresh.empty else p2_post_pel_thresh\n",
    "    post_easy_pel_thresh = p1_post_pel_thresh if (easy_patch == 1) else p2_post_pel_thresh\n",
    "    post_hard_pel_thresh = p1_post_pel_thresh if (hard_patch == 1) else p2_post_pel_thresh\n",
    "    sessions.at[s.Index, \"post_easy_pel_thresh\"] = post_easy_pel_thresh.values.round(3)\n",
    "    sessions.at[s.Index, \"post_hard_pel_thresh\"] = post_hard_pel_thresh.values.round(3)\n",
    "    sessions.at[s.Index, \"post_easy_pel_thresh_idx\"] = np.array(post_easy_pel_thresh.index.round(\"1s\"))\n",
    "    sessions.at[s.Index, \"post_hard_pel_thresh_idx\"] = np.array(post_hard_pel_thresh.index.round(\"1s\"))\n",
    "    whard = w1 if (hard_patch == 1) else w2\n",
    "    weasy = w1 if (easy_patch == 1) else w2\n",
    "    init_pref_by_pel_ct = np.ones((10,)) * np.nan\n",
    "    for i, pel_ct in enumerate(range(8,18)):\n",
    "        cur_pel_ct_ts = both_pellet_data.index[pel_ct]\n",
    "        if cur_pel_ct_ts > (safe_change_ts + pd.Timedelta(\"1s\")):\n",
    "            break\n",
    "        cur_whard_dist = whard[whard.index > cur_pel_ct_ts][0] - whard[0]\n",
    "        cur_weasy_dist = weasy[weasy.index > cur_pel_ct_ts][0] - weasy[0] \n",
    "        init_pref_by_pel_ct[i] = cur_whard_dist / (cur_whard_dist + cur_weasy_dist)\n",
    "    sessions.at[s.Index, \"init_pref_by_pel_ct\"] = init_pref_by_pel_ct\n",
    "    wboth = w1 + w2\n",
    "    wboth_quantized = np.linspace(0, wboth[-1], 11)\n",
    "    easy_pref_epoch_cum = np.zeros((10,))\n",
    "    easy_pref_epoch = np.zeros((10,))\n",
    "    epoch_thresh_change_idx = 0\n",
    "    epoch_ts_pre = wboth.index[0]\n",
    "    for i in range(1, 10):\n",
    "        epoch_ts_post = wboth[wboth > wboth_quantized[i]].index[0] - pd.Timedelta(\"1s\")\n",
    "        if (epoch_ts_post > safe_change_ts) and not epoch_thresh_change_idx:\n",
    "            epoch_thresh_change_idx = i\n",
    "        weasy_post = weasy[weasy.index > epoch_ts_post][0]\n",
    "        whard_post = whard[whard.index > epoch_ts_post][0]\n",
    "        weasy_pre = weasy[weasy.index > epoch_ts_pre][0]\n",
    "        whard_pre = whard[whard.index > epoch_ts_pre][0]\n",
    "        weasy_diff = weasy_post - weasy_pre\n",
    "        whard_diff = whard_post - whard_pre\n",
    "        easy_pref_epoch_cum[i] = weasy_post / (weasy_post + whard_post)\n",
    "        easy_pref_epoch[i] = weasy_diff / (weasy_diff + whard_diff)\n",
    "        epoch_ts_pre = epoch_ts_post\n",
    "    sessions.at[s.Index, \"easy_pref_epoch_cum\"] = easy_pref_epoch_cum\n",
    "    sessions.at[s.Index, \"easy_pref_epoch\"] = easy_pref_epoch\n",
    "    sessions.loc[s.Index, \"epoch_thresh_change_idx\"] = epoch_thresh_change_idx"
   ]
  },
  {
   "cell_type": "code",
   "execution_count": 143,
   "id": "793196a3-7426-4cf4-b364-f1b6948d193d",
   "metadata": {},
   "outputs": [
    {
     "data": {
      "text/html": [
       "<div>\n",
       "<style scoped>\n",
       "    .dataframe tbody tr th:only-of-type {\n",
       "        vertical-align: middle;\n",
       "    }\n",
       "\n",
       "    .dataframe tbody tr th {\n",
       "        vertical-align: top;\n",
       "    }\n",
       "\n",
       "    .dataframe thead th {\n",
       "        text-align: right;\n",
       "    }\n",
       "</style>\n",
       "<table border=\"1\" class=\"dataframe\">\n",
       "  <thead>\n",
       "    <tr style=\"text-align: right;\">\n",
       "      <th></th>\n",
       "      <th>id</th>\n",
       "      <th>enter</th>\n",
       "      <th>exit</th>\n",
       "      <th>duration</th>\n",
       "      <th>weight_enter</th>\n",
       "      <th>weight_exit</th>\n",
       "      <th>post_thresh_dur</th>\n",
       "      <th>post_thresh_both_p_sampled_dur</th>\n",
       "      <th>pre_sampling_both_p_dur</th>\n",
       "      <th>easy_patch</th>\n",
       "      <th>hard_patch</th>\n",
       "      <th>post_easy_rate</th>\n",
       "      <th>post_hard_rate</th>\n",
       "      <th>pre_easy_n_pel</th>\n",
       "      <th>pre_hard_n_pel</th>\n",
       "      <th>post_easy_n_pel</th>\n",
       "      <th>post_hard_n_pel</th>\n",
       "      <th>pre_easy_wheel_dist</th>\n",
       "      <th>pre_hard_wheel_dist</th>\n",
       "      <th>post_easy_wheel_dist</th>\n",
       "      <th>post_hard_wheel_dist</th>\n",
       "      <th>pre_easy_pref</th>\n",
       "      <th>post_easy_pref</th>\n",
       "      <th>pre_hard_pref</th>\n",
       "      <th>post_hard_pref</th>\n",
       "      <th>post_pre_easy_pref</th>\n",
       "      <th>post_easy_pel_thresh</th>\n",
       "      <th>post_easy_pel_thresh_idx</th>\n",
       "      <th>post_hard_pel_thresh</th>\n",
       "      <th>post_hard_pel_thresh_idx</th>\n",
       "      <th>init_pref_by_pel_ct</th>\n",
       "      <th>epoch_thresh_change_idx</th>\n",
       "      <th>easy_pref_epoch_cum</th>\n",
       "      <th>easy_pref_epoch</th>\n",
       "    </tr>\n",
       "  </thead>\n",
       "  <tbody>\n",
       "    <tr>\n",
       "      <th>0</th>\n",
       "      <td>BAA-1103050</td>\n",
       "      <td>2023-03-10 09:41:48</td>\n",
       "      <td>2023-03-10 12:55:19</td>\n",
       "      <td>0 days 03:13:30</td>\n",
       "      <td>23.2</td>\n",
       "      <td>23.9</td>\n",
       "      <td>0 days 02:22:53</td>\n",
       "      <td>0 days 00:12:53</td>\n",
       "      <td>0 days 00:17:40</td>\n",
       "      <td>2.0</td>\n",
       "      <td>1.0</td>\n",
       "      <td>0.01</td>\n",
       "      <td>0.0025</td>\n",
       "      <td>1.0</td>\n",
       "      <td>17.0</td>\n",
       "      <td>21.0</td>\n",
       "      <td>18.0</td>\n",
       "      <td>89.731081</td>\n",
       "      <td>1275.490836</td>\n",
       "      <td>3207.803306</td>\n",
       "      <td>8580.920440</td>\n",
       "      <td>0.065726</td>\n",
       "      <td>0.272108</td>\n",
       "      <td>0.934274</td>\n",
       "      <td>0.727892</td>\n",
       "      <td>4.140009</td>\n",
       "      <td>[121.823, 239.646, 214.056, 109.924, 160.179, ...</td>\n",
       "      <td>[2023-03-10T10:32:26.000000000, 2023-03-10T10:...</td>\n",
       "      <td>[787.955, 453.691, 131.533, 306.643, 380.248, ...</td>\n",
       "      <td>[2023-03-10T10:32:26.000000000, 2023-03-10T10:...</td>\n",
       "      <td>[0.8815044790108325, 0.8833988643958598, 0.893...</td>\n",
       "      <td>2.0</td>\n",
       "      <td>[0.0, 0.06909652367344479, 0.2668156136292335,...</td>\n",
       "      <td>[0.0, 0.06909424261898463, 0.4617004033497592,...</td>\n",
       "    </tr>\n",
       "    <tr>\n",
       "      <th>1</th>\n",
       "      <td>BAA-1103045</td>\n",
       "      <td>2023-03-10 12:12:45</td>\n",
       "      <td>2023-03-10 15:22:14</td>\n",
       "      <td>0 days 03:09:28</td>\n",
       "      <td>23.0</td>\n",
       "      <td>23.7</td>\n",
       "      <td>0 days 02:15:22</td>\n",
       "      <td>0 days 00:32:38</td>\n",
       "      <td>0 days 00:07:38</td>\n",
       "      <td>2.0</td>\n",
       "      <td>1.0</td>\n",
       "      <td>0.01</td>\n",
       "      <td>0.0025</td>\n",
       "      <td>9.0</td>\n",
       "      <td>9.0</td>\n",
       "      <td>24.0</td>\n",
       "      <td>14.0</td>\n",
       "      <td>637.378774</td>\n",
       "      <td>671.407613</td>\n",
       "      <td>3490.806286</td>\n",
       "      <td>7168.452099</td>\n",
       "      <td>0.487000</td>\n",
       "      <td>0.327491</td>\n",
       "      <td>0.513000</td>\n",
       "      <td>0.672509</td>\n",
       "      <td>0.672465</td>\n",
       "      <td>[129.145, 79.028, 191.036, 87.88, 123.836, 88....</td>\n",
       "      <td>[2023-03-10T13:06:52.000000000, 2023-03-10T13:...</td>\n",
       "      <td>[1549.34, 194.009, 117.725, 465.422, 329.508, ...</td>\n",
       "      <td>[2023-03-10T13:06:52.000000000, 2023-03-10T13:...</td>\n",
       "      <td>[0.40413871418162683, 0.3611177037993481, 0.32...</td>\n",
       "      <td>2.0</td>\n",
       "      <td>[0.0, 0.5122037205671914, 0.268011025453626, 0...</td>\n",
       "      <td>[0.0, 0.5121998496158439, 0.02782743102960722,...</td>\n",
       "    </tr>\n",
       "    <tr>\n",
       "      <th>2</th>\n",
       "      <td>BAA-1103048</td>\n",
       "      <td>2023-03-10 13:08:24</td>\n",
       "      <td>2023-03-10 16:16:31</td>\n",
       "      <td>0 days 03:08:06</td>\n",
       "      <td>22.5</td>\n",
       "      <td>24.6</td>\n",
       "      <td>0 days 01:28:08</td>\n",
       "      <td>0 days 00:01:32</td>\n",
       "      <td>0 days 01:39:59</td>\n",
       "      <td>2.0</td>\n",
       "      <td>1.0</td>\n",
       "      <td>0.01</td>\n",
       "      <td>0.0025</td>\n",
       "      <td>1.0</td>\n",
       "      <td>68.0</td>\n",
       "      <td>1.0</td>\n",
       "      <td>33.0</td>\n",
       "      <td>89.789376</td>\n",
       "      <td>5115.579789</td>\n",
       "      <td>271.891680</td>\n",
       "      <td>13906.200532</td>\n",
       "      <td>0.017249</td>\n",
       "      <td>0.019177</td>\n",
       "      <td>0.982751</td>\n",
       "      <td>0.980823</td>\n",
       "      <td>1.111744</td>\n",
       "      <td>[193.265]</td>\n",
       "      <td>[2023-03-10T14:48:23.000000000]</td>\n",
       "      <td>[522.37, 274.443, 115.277, 253.721, 96.886, 95...</td>\n",
       "      <td>[2023-03-10T14:48:23.000000000, 2023-03-10T14:...</td>\n",
       "      <td>[0.9945817950119978, 0.9947954694754996, 0.995...</td>\n",
       "      <td>3.0</td>\n",
       "      <td>[0.0, 0.009501453253348757, 0.0056203811282433...</td>\n",
       "      <td>[0.0, 0.00950388191824924, 0.00182721496743799...</td>\n",
       "    </tr>\n",
       "    <tr>\n",
       "      <th>3</th>\n",
       "      <td>BAA-1103047</td>\n",
       "      <td>2023-03-10 15:27:05</td>\n",
       "      <td>2023-03-10 19:10:44</td>\n",
       "      <td>0 days 03:43:38</td>\n",
       "      <td>19.8</td>\n",
       "      <td>21.0</td>\n",
       "      <td>0 days 03:17:44</td>\n",
       "      <td>NaN</td>\n",
       "      <td>0 days 00:06:35</td>\n",
       "      <td>1.0</td>\n",
       "      <td>2.0</td>\n",
       "      <td>0.01</td>\n",
       "      <td>0.0025</td>\n",
       "      <td>7.0</td>\n",
       "      <td>11.0</td>\n",
       "      <td>0.0</td>\n",
       "      <td>51.0</td>\n",
       "      <td>526.377751</td>\n",
       "      <td>825.287550</td>\n",
       "      <td>20.805117</td>\n",
       "      <td>24885.276616</td>\n",
       "      <td>0.389429</td>\n",
       "      <td>0.000835</td>\n",
       "      <td>0.610571</td>\n",
       "      <td>0.999165</td>\n",
       "      <td>0.002145</td>\n",
       "      <td>[]</td>\n",
       "      <td>[]</td>\n",
       "      <td>[137.334, 514.599, 162.643, 254.303, 297.185, ...</td>\n",
       "      <td>[2023-03-10T15:53:00.000000000, 2023-03-10T15:...</td>\n",
       "      <td>[0.22612623407040333, 0.2995549748907851, 0.36...</td>\n",
       "      <td>1.0</td>\n",
       "      <td>[0.0, 0.201008772572165, 0.10048828173618965, ...</td>\n",
       "      <td>[0.0, 0.20101029450617944, 1.7568496640593205e...</td>\n",
       "    </tr>\n",
       "    <tr>\n",
       "      <th>4</th>\n",
       "      <td>BAA-1103049</td>\n",
       "      <td>2023-03-10 16:22:29</td>\n",
       "      <td>2023-03-10 19:21:50</td>\n",
       "      <td>0 days 02:59:20</td>\n",
       "      <td>20.9</td>\n",
       "      <td>22.6</td>\n",
       "      <td>0 days 02:34:42</td>\n",
       "      <td>0 days 02:17:23</td>\n",
       "      <td>0 days 00:03:20</td>\n",
       "      <td>1.0</td>\n",
       "      <td>2.0</td>\n",
       "      <td>0.01</td>\n",
       "      <td>0.0025</td>\n",
       "      <td>8.0</td>\n",
       "      <td>10.0</td>\n",
       "      <td>67.0</td>\n",
       "      <td>1.0</td>\n",
       "      <td>600.211219</td>\n",
       "      <td>756.873967</td>\n",
       "      <td>11424.822884</td>\n",
       "      <td>2429.829679</td>\n",
       "      <td>0.442280</td>\n",
       "      <td>0.824620</td>\n",
       "      <td>0.557720</td>\n",
       "      <td>0.175380</td>\n",
       "      <td>1.864476</td>\n",
       "      <td>[93.197, 114.719, 123.426, 118.123, 163.986, 1...</td>\n",
       "      <td>[2023-03-10T16:47:08.000000000, 2023-03-10T16:...</td>\n",
       "      <td>[1578.329]</td>\n",
       "      <td>[2023-03-10T16:47:08.000000000]</td>\n",
       "      <td>[0.6702724079895558, 0.6987034819223695, 0.722...</td>\n",
       "      <td>1.0</td>\n",
       "      <td>[0.0, 0.40752862309470156, 0.45704937673077456...</td>\n",
       "      <td>[0.0, 0.40752980054290106, 0.5055215290913712,...</td>\n",
       "    </tr>\n",
       "    <tr>\n",
       "      <th>5</th>\n",
       "      <td>BAA-1103048</td>\n",
       "      <td>2023-03-23 07:56:44</td>\n",
       "      <td>2023-03-23 11:08:34</td>\n",
       "      <td>0 days 03:11:49</td>\n",
       "      <td>24.8</td>\n",
       "      <td>24.3</td>\n",
       "      <td>0 days 02:01:38</td>\n",
       "      <td>NaN</td>\n",
       "      <td>0 days 00:39:29</td>\n",
       "      <td>2.0</td>\n",
       "      <td>1.0</td>\n",
       "      <td>0.01</td>\n",
       "      <td>0.0033</td>\n",
       "      <td>1.0</td>\n",
       "      <td>12.0</td>\n",
       "      <td>0.0</td>\n",
       "      <td>35.0</td>\n",
       "      <td>217.358402</td>\n",
       "      <td>2400.518119</td>\n",
       "      <td>113.245374</td>\n",
       "      <td>13620.374854</td>\n",
       "      <td>0.083029</td>\n",
       "      <td>0.008246</td>\n",
       "      <td>0.916971</td>\n",
       "      <td>0.991754</td>\n",
       "      <td>0.099313</td>\n",
       "      <td>[]</td>\n",
       "      <td>[]</td>\n",
       "      <td>[265.051, 436.068, 255.756, 334.965, 386.051, ...</td>\n",
       "      <td>[2023-03-23T09:06:56.000000000, 2023-03-23T09:...</td>\n",
       "      <td>[0.8857331583210366, 0.8955956240117702, 0.901...</td>\n",
       "      <td>2.0</td>\n",
       "      <td>[0.0, 0.1266859884464668, 0.08837536432592485,...</td>\n",
       "      <td>[0.0, 0.12668434433999118, 0.04963030024361057...</td>\n",
       "    </tr>\n",
       "    <tr>\n",
       "      <th>6</th>\n",
       "      <td>BAA-1103045</td>\n",
       "      <td>2023-03-23 10:16:38</td>\n",
       "      <td>2023-03-23 13:19:43</td>\n",
       "      <td>0 days 03:03:03</td>\n",
       "      <td>23.6</td>\n",
       "      <td>25.1</td>\n",
       "      <td>0 days 02:42:35</td>\n",
       "      <td>0 days 00:03:59</td>\n",
       "      <td>0 days 00:05:06</td>\n",
       "      <td>2.0</td>\n",
       "      <td>1.0</td>\n",
       "      <td>0.01</td>\n",
       "      <td>0.0033</td>\n",
       "      <td>6.0</td>\n",
       "      <td>7.0</td>\n",
       "      <td>67.0</td>\n",
       "      <td>4.0</td>\n",
       "      <td>1200.147839</td>\n",
       "      <td>1406.658801</td>\n",
       "      <td>12398.231456</td>\n",
       "      <td>2206.132481</td>\n",
       "      <td>0.460390</td>\n",
       "      <td>0.848940</td>\n",
       "      <td>0.539610</td>\n",
       "      <td>0.151060</td>\n",
       "      <td>1.843959</td>\n",
       "      <td>[120.184, 128.872, 158.416, 225.21, 77.384, 10...</td>\n",
       "      <td>[2023-03-23T10:37:08.000000000, 2023-03-23T10:...</td>\n",
       "      <td>[350.323, 255.706, 440.952, 935.67]</td>\n",
       "      <td>[2023-03-23T10:37:08.000000000, 2023-03-23T10:...</td>\n",
       "      <td>[0.5467665117106025, 0.5915735648541067, 0.628...</td>\n",
       "      <td>2.0</td>\n",
       "      <td>[0.0, 0.48718061979794414, 0.3546886074251283,...</td>\n",
       "      <td>[0.0, 0.48717738373193664, 0.2242810293976725,...</td>\n",
       "    </tr>\n",
       "    <tr>\n",
       "      <th>7</th>\n",
       "      <td>BAA-1103049</td>\n",
       "      <td>2023-03-23 11:15:29</td>\n",
       "      <td>2023-03-23 14:23:41</td>\n",
       "      <td>0 days 03:08:11</td>\n",
       "      <td>22.0</td>\n",
       "      <td>24.4</td>\n",
       "      <td>0 days 02:46:11</td>\n",
       "      <td>0 days 02:30:49</td>\n",
       "      <td>0 days 00:12:57</td>\n",
       "      <td>2.0</td>\n",
       "      <td>1.0</td>\n",
       "      <td>0.01</td>\n",
       "      <td>0.0033</td>\n",
       "      <td>1.0</td>\n",
       "      <td>12.0</td>\n",
       "      <td>9.0</td>\n",
       "      <td>64.0</td>\n",
       "      <td>203.326224</td>\n",
       "      <td>2400.495108</td>\n",
       "      <td>1815.099979</td>\n",
       "      <td>25128.522524</td>\n",
       "      <td>0.078088</td>\n",
       "      <td>0.067367</td>\n",
       "      <td>0.921912</td>\n",
       "      <td>0.932633</td>\n",
       "      <td>0.862705</td>\n",
       "      <td>[323.36, 89.956, 100.945, 281.542, 317.752, 26...</td>\n",
       "      <td>[2023-03-23T11:37:30.000000000, 2023-03-23T14:...</td>\n",
       "      <td>[287.998, 580.596, 724.668, 76.437, 272.179, 7...</td>\n",
       "      <td>[2023-03-23T11:37:30.000000000, 2023-03-23T11:...</td>\n",
       "      <td>[0.8874033724380087, 0.8986480071542763, 0.907...</td>\n",
       "      <td>1.0</td>\n",
       "      <td>[0.0, 0.11194368517145097, 0.06307926689193422...</td>\n",
       "      <td>[0.0, 0.11194269347596233, 0.01479731539165762...</td>\n",
       "    </tr>\n",
       "    <tr>\n",
       "      <th>8</th>\n",
       "      <td>BAA-1103047</td>\n",
       "      <td>2023-03-23 13:29:36</td>\n",
       "      <td>2023-03-23 16:32:51</td>\n",
       "      <td>0 days 03:03:14</td>\n",
       "      <td>23.2</td>\n",
       "      <td>22.4</td>\n",
       "      <td>0 days 01:46:30</td>\n",
       "      <td>0 days 00:09:22</td>\n",
       "      <td>0 days 00:22:44</td>\n",
       "      <td>1.0</td>\n",
       "      <td>2.0</td>\n",
       "      <td>0.01</td>\n",
       "      <td>0.0033</td>\n",
       "      <td>5.0</td>\n",
       "      <td>8.0</td>\n",
       "      <td>14.0</td>\n",
       "      <td>8.0</td>\n",
       "      <td>1006.420319</td>\n",
       "      <td>1600.277402</td>\n",
       "      <td>1808.106134</td>\n",
       "      <td>3435.513642</td>\n",
       "      <td>0.386090</td>\n",
       "      <td>0.344820</td>\n",
       "      <td>0.613910</td>\n",
       "      <td>0.655180</td>\n",
       "      <td>0.893108</td>\n",
       "      <td>[80.512, 115.623, 92.681, 91.222, 124.364, 147...</td>\n",
       "      <td>[2023-03-23T14:46:21.000000000, 2023-03-23T14:...</td>\n",
       "      <td>[948.057, 450.369, 265.346, 354.936, 203.452, ...</td>\n",
       "      <td>[2023-03-23T14:46:21.000000000, 2023-03-23T15:...</td>\n",
       "      <td>[0.44317959750338587, 0.4987168650968184, 0.54...</td>\n",
       "      <td>4.0</td>\n",
       "      <td>[0.0, 0.21524198573427852, 0.4900212583057259,...</td>\n",
       "      <td>[0.0, 0.21524795798719143, 0.761422088340779, ...</td>\n",
       "    </tr>\n",
       "    <tr>\n",
       "      <th>9</th>\n",
       "      <td>BAA-1103050</td>\n",
       "      <td>2023-03-23 14:30:26</td>\n",
       "      <td>2023-03-23 17:29:18</td>\n",
       "      <td>0 days 02:58:51</td>\n",
       "      <td>23.5</td>\n",
       "      <td>24.9</td>\n",
       "      <td>0 days 02:42:59</td>\n",
       "      <td>0 days 00:00:24</td>\n",
       "      <td>0 days 00:08:34</td>\n",
       "      <td>2.0</td>\n",
       "      <td>1.0</td>\n",
       "      <td>0.01</td>\n",
       "      <td>0.0033</td>\n",
       "      <td>2.0</td>\n",
       "      <td>11.0</td>\n",
       "      <td>60.0</td>\n",
       "      <td>19.0</td>\n",
       "      <td>407.695618</td>\n",
       "      <td>2200.467144</td>\n",
       "      <td>10931.713071</td>\n",
       "      <td>7902.336427</td>\n",
       "      <td>0.156315</td>\n",
       "      <td>0.580423</td>\n",
       "      <td>0.843685</td>\n",
       "      <td>0.419577</td>\n",
       "      <td>3.713156</td>\n",
       "      <td>[112.835, 109.153, 146.757, 106.563, 247.758, ...</td>\n",
       "      <td>[2023-03-23T14:46:19.000000000, 2023-03-23T14:...</td>\n",
       "      <td>[777.252, 470.784, 199.692, 117.888, 433.435, ...</td>\n",
       "      <td>[2023-03-23T14:46:19.000000000, 2023-03-23T14:...</td>\n",
       "      <td>[0.9999241752352911, 0.9003446268909796, 0.818...</td>\n",
       "      <td>2.0</td>\n",
       "      <td>[0.0, 0.1463396112335383, 0.2863590759643062, ...</td>\n",
       "      <td>[0.0, 0.14633795309553957, 0.425921200220298, ...</td>\n",
       "    </tr>\n",
       "    <tr>\n",
       "      <th>10</th>\n",
       "      <td>BAA-1103047</td>\n",
       "      <td>2023-03-24 12:08:58</td>\n",
       "      <td>2023-03-24 15:12:50</td>\n",
       "      <td>0 days 03:03:51</td>\n",
       "      <td>22.2</td>\n",
       "      <td>22.3</td>\n",
       "      <td>0 days 02:36:31</td>\n",
       "      <td>0 days 00:09:36</td>\n",
       "      <td>0 days 00:14:18</td>\n",
       "      <td>2.0</td>\n",
       "      <td>1.0</td>\n",
       "      <td>0.01</td>\n",
       "      <td>0.0033</td>\n",
       "      <td>2.0</td>\n",
       "      <td>11.0</td>\n",
       "      <td>16.0</td>\n",
       "      <td>25.0</td>\n",
       "      <td>400.048257</td>\n",
       "      <td>2219.836368</td>\n",
       "      <td>2985.589558</td>\n",
       "      <td>9949.024883</td>\n",
       "      <td>0.152697</td>\n",
       "      <td>0.230822</td>\n",
       "      <td>0.847303</td>\n",
       "      <td>0.769178</td>\n",
       "      <td>1.511633</td>\n",
       "      <td>[177.05, 159.749, 331.876, 381.057, 93.813, 23...</td>\n",
       "      <td>[2023-03-24T12:36:19.000000000, 2023-03-24T12:...</td>\n",
       "      <td>[224.185, 421.919, 202.688, 360.764, 131.42, 1...</td>\n",
       "      <td>[2023-03-24T12:36:19.000000000, 2023-03-24T12:...</td>\n",
       "      <td>[0.8784913920107758, 0.8905589617526944, 0.900...</td>\n",
       "      <td>2.0</td>\n",
       "      <td>[0.0, 0.13594273691968606, 0.23915372850858171...</td>\n",
       "      <td>[0.0, 0.13594246465876442, 0.3398303114603256,...</td>\n",
       "    </tr>\n",
       "    <tr>\n",
       "      <th>11</th>\n",
       "      <td>BAA-1103049</td>\n",
       "      <td>2023-03-24 14:22:48</td>\n",
       "      <td>2023-03-24 18:31:16</td>\n",
       "      <td>0 days 04:08:27</td>\n",
       "      <td>21.7</td>\n",
       "      <td>22.3</td>\n",
       "      <td>0 days 03:52:55</td>\n",
       "      <td>0 days 00:03:43</td>\n",
       "      <td>0 days 00:15:33</td>\n",
       "      <td>2.0</td>\n",
       "      <td>1.0</td>\n",
       "      <td>0.01</td>\n",
       "      <td>0.0033</td>\n",
       "      <td>1.0</td>\n",
       "      <td>13.0</td>\n",
       "      <td>80.0</td>\n",
       "      <td>50.0</td>\n",
       "      <td>200.120008</td>\n",
       "      <td>2645.853437</td>\n",
       "      <td>15199.208963</td>\n",
       "      <td>18335.892579</td>\n",
       "      <td>0.070317</td>\n",
       "      <td>0.453233</td>\n",
       "      <td>0.929683</td>\n",
       "      <td>0.546767</td>\n",
       "      <td>6.445575</td>\n",
       "      <td>[112.688, 86.185, 109.07, 185.21, 124.301, 118...</td>\n",
       "      <td>[2023-03-24T14:38:21.000000000, 2023-03-24T14:...</td>\n",
       "      <td>[190.41, 311.403, 326.772, 348.249, 570.803, 6...</td>\n",
       "      <td>[2023-03-24T14:38:21.000000000, 2023-03-24T14:...</td>\n",
       "      <td>[0.999973587304184, 0.93898701728868, 0.944222...</td>\n",
       "      <td>1.0</td>\n",
       "      <td>[0.0, 0.26622925488397536, 0.31179241497014265...</td>\n",
       "      <td>[0.0, 0.2662307301228039, 0.35695261918155263,...</td>\n",
       "    </tr>\n",
       "    <tr>\n",
       "      <th>12</th>\n",
       "      <td>BAA-1103045</td>\n",
       "      <td>2023-03-24 15:19:57</td>\n",
       "      <td>2023-03-24 18:42:44</td>\n",
       "      <td>0 days 03:22:45</td>\n",
       "      <td>22.7</td>\n",
       "      <td>26.2</td>\n",
       "      <td>0 days 02:57:46</td>\n",
       "      <td>0 days 00:04:54</td>\n",
       "      <td>0 days 00:25:01</td>\n",
       "      <td>1.0</td>\n",
       "      <td>2.0</td>\n",
       "      <td>0.01</td>\n",
       "      <td>0.0033</td>\n",
       "      <td>1.0</td>\n",
       "      <td>20.0</td>\n",
       "      <td>110.0</td>\n",
       "      <td>15.0</td>\n",
       "      <td>200.096997</td>\n",
       "      <td>4170.712672</td>\n",
       "      <td>18370.676182</td>\n",
       "      <td>7622.551934</td>\n",
       "      <td>0.045780</td>\n",
       "      <td>0.706749</td>\n",
       "      <td>0.954220</td>\n",
       "      <td>0.293251</td>\n",
       "      <td>15.437830</td>\n",
       "      <td>[422.48, 114.034, 450.796, 143.947, 145.677, 2...</td>\n",
       "      <td>[2023-03-24T15:44:58.000000000, 2023-03-24T15:...</td>\n",
       "      <td>[1224.771, 390.33, 1008.743, 264.048, 573.551,...</td>\n",
       "      <td>[2023-03-24T15:44:58.000000000, 2023-03-24T15:...</td>\n",
       "      <td>[0.9239995244360355, 0.9310777935582731, 0.936...</td>\n",
       "      <td>2.0</td>\n",
       "      <td>[0.0, 0.049090633633184784, 0.1040064394852560...</td>\n",
       "      <td>[0.0, 0.04909058371835752, 0.15839239689910617...</td>\n",
       "    </tr>\n",
       "    <tr>\n",
       "      <th>13</th>\n",
       "      <td>BAA-1103049</td>\n",
       "      <td>2023-03-30 08:02:03</td>\n",
       "      <td>2023-03-30 11:22:13</td>\n",
       "      <td>0 days 03:20:09</td>\n",
       "      <td>21.8</td>\n",
       "      <td>24.7</td>\n",
       "      <td>0 days 03:11:04</td>\n",
       "      <td>0 days 00:01:26</td>\n",
       "      <td>0 days 00:04:53</td>\n",
       "      <td>1.0</td>\n",
       "      <td>2.0</td>\n",
       "      <td>0.01</td>\n",
       "      <td>0.0033</td>\n",
       "      <td>3.0</td>\n",
       "      <td>10.0</td>\n",
       "      <td>107.0</td>\n",
       "      <td>25.0</td>\n",
       "      <td>607.692900</td>\n",
       "      <td>2000.305716</td>\n",
       "      <td>19447.041090</td>\n",
       "      <td>12743.192634</td>\n",
       "      <td>0.233011</td>\n",
       "      <td>0.604129</td>\n",
       "      <td>0.766989</td>\n",
       "      <td>0.395871</td>\n",
       "      <td>2.592702</td>\n",
       "      <td>[94.34, 95.529, 84.026, 105.21, 156.639, 91.65...</td>\n",
       "      <td>[2023-03-30T08:11:09.000000000, 2023-03-30T08:...</td>\n",
       "      <td>[105.608, 164.627, 192.827, 677.626, 317.865, ...</td>\n",
       "      <td>[2023-03-30T08:11:09.000000000, 2023-03-30T08:...</td>\n",
       "      <td>[0.7530330104391987, 0.7770172030580567, 0.796...</td>\n",
       "      <td>1.0</td>\n",
       "      <td>[0.0, 0.20610351640509755, 0.2952945268765088,...</td>\n",
       "      <td>[0.0, 0.20610325554891845, 0.3841020213826001,...</td>\n",
       "    </tr>\n",
       "    <tr>\n",
       "      <th>14</th>\n",
       "      <td>BAA-1103050</td>\n",
       "      <td>2023-03-30 11:28:04</td>\n",
       "      <td>2023-03-30 14:33:37</td>\n",
       "      <td>0 days 03:05:32</td>\n",
       "      <td>22.3</td>\n",
       "      <td>25.6</td>\n",
       "      <td>0 days 02:59:20</td>\n",
       "      <td>0 days 00:03:30</td>\n",
       "      <td>0 days 00:02:43</td>\n",
       "      <td>1.0</td>\n",
       "      <td>2.0</td>\n",
       "      <td>0.01</td>\n",
       "      <td>0.0033</td>\n",
       "      <td>5.0</td>\n",
       "      <td>8.0</td>\n",
       "      <td>90.0</td>\n",
       "      <td>31.0</td>\n",
       "      <td>1009.463923</td>\n",
       "      <td>1600.251323</td>\n",
       "      <td>15976.007489</td>\n",
       "      <td>14055.964547</td>\n",
       "      <td>0.386810</td>\n",
       "      <td>0.531967</td>\n",
       "      <td>0.613190</td>\n",
       "      <td>0.468033</td>\n",
       "      <td>1.375266</td>\n",
       "      <td>[95.042, 76.382, 75.492, 280.737, 241.066, 181...</td>\n",
       "      <td>[2023-03-30T11:34:17.000000000, 2023-03-30T11:...</td>\n",
       "      <td>[835.703, 1106.855, 272.091, 389.03, 164.974, ...</td>\n",
       "      <td>[2023-03-30T11:34:17.000000000, 2023-03-30T11:...</td>\n",
       "      <td>[0.5530851608918871, 0.5975983843593273, 0.547...</td>\n",
       "      <td>1.0</td>\n",
       "      <td>[0.0, 0.31072622856681786, 0.1863327595898308,...</td>\n",
       "      <td>[0.0, 0.3107251062488528, 0.061882212876360684...</td>\n",
       "    </tr>\n",
       "    <tr>\n",
       "      <th>15</th>\n",
       "      <td>BAA-1103047</td>\n",
       "      <td>2023-03-30 11:46:20</td>\n",
       "      <td>2023-03-30 14:47:20</td>\n",
       "      <td>0 days 03:00:59</td>\n",
       "      <td>22.0</td>\n",
       "      <td>23.4</td>\n",
       "      <td>0 days 02:48:57</td>\n",
       "      <td>0 days 00:00:39</td>\n",
       "      <td>0 days 00:04:22</td>\n",
       "      <td>2.0</td>\n",
       "      <td>1.0</td>\n",
       "      <td>0.01</td>\n",
       "      <td>0.0033</td>\n",
       "      <td>3.0</td>\n",
       "      <td>10.0</td>\n",
       "      <td>37.0</td>\n",
       "      <td>35.0</td>\n",
       "      <td>600.155993</td>\n",
       "      <td>2007.307232</td>\n",
       "      <td>6891.746493</td>\n",
       "      <td>10055.383796</td>\n",
       "      <td>0.230169</td>\n",
       "      <td>0.406662</td>\n",
       "      <td>0.769831</td>\n",
       "      <td>0.593338</td>\n",
       "      <td>1.766799</td>\n",
       "      <td>[99.932, 255.852, 352.765, 289.605, 105.943, 2...</td>\n",
       "      <td>[2023-03-30T11:58:23.000000000, 2023-03-30T11:...</td>\n",
       "      <td>[377.048, 147.912, 295.887, 254.155, 227.369, ...</td>\n",
       "      <td>[2023-03-30T11:58:23.000000000, 2023-03-30T11:...</td>\n",
       "      <td>[0.7786303732613984, 0.7990626821721935, 0.817...</td>\n",
       "      <td>2.0</td>\n",
       "      <td>[0.0, 0.2069078122263922, 0.3408514168463321, ...</td>\n",
       "      <td>[0.0, 0.20690846504671956, 0.474728282721572, ...</td>\n",
       "    </tr>\n",
       "    <tr>\n",
       "      <th>16</th>\n",
       "      <td>BAA-1103048</td>\n",
       "      <td>2023-03-30 14:39:40</td>\n",
       "      <td>2023-03-30 17:55:12</td>\n",
       "      <td>0 days 03:15:31</td>\n",
       "      <td>21.6</td>\n",
       "      <td>23.8</td>\n",
       "      <td>0 days 02:18:31</td>\n",
       "      <td>0 days 00:02:04</td>\n",
       "      <td>0 days 00:57:01</td>\n",
       "      <td>2.0</td>\n",
       "      <td>1.0</td>\n",
       "      <td>0.01</td>\n",
       "      <td>0.0033</td>\n",
       "      <td>1.0</td>\n",
       "      <td>47.0</td>\n",
       "      <td>9.0</td>\n",
       "      <td>58.0</td>\n",
       "      <td>200.092395</td>\n",
       "      <td>9410.971291</td>\n",
       "      <td>1924.105171</td>\n",
       "      <td>22097.464535</td>\n",
       "      <td>0.020819</td>\n",
       "      <td>0.080099</td>\n",
       "      <td>0.979181</td>\n",
       "      <td>0.919901</td>\n",
       "      <td>3.847408</td>\n",
       "      <td>[147.455, 138.039, 333.771, 243.226, 149.914, ...</td>\n",
       "      <td>[2023-03-30T15:36:41.000000000, 2023-03-30T15:...</td>\n",
       "      <td>[351.66, 173.377, 106.157, 901.401, 159.078, 1...</td>\n",
       "      <td>[2023-03-30T15:36:41.000000000, 2023-03-30T15:...</td>\n",
       "      <td>[0.9973914348035696, 0.9976283139530882, 0.997...</td>\n",
       "      <td>3.0</td>\n",
       "      <td>[0.0, 0.0020559352684631983, 0.007043640704693...</td>\n",
       "      <td>[0.0, 0.0020563905528652787, 0.011969434511141...</td>\n",
       "    </tr>\n",
       "    <tr>\n",
       "      <th>17</th>\n",
       "      <td>BAA-1103045</td>\n",
       "      <td>2023-03-30 14:53:35</td>\n",
       "      <td>2023-03-30 18:03:35</td>\n",
       "      <td>0 days 03:09:59</td>\n",
       "      <td>22.0</td>\n",
       "      <td>25.4</td>\n",
       "      <td>0 days 03:00:18</td>\n",
       "      <td>0 days 00:01:48</td>\n",
       "      <td>0 days 00:04:29</td>\n",
       "      <td>2.0</td>\n",
       "      <td>1.0</td>\n",
       "      <td>0.01</td>\n",
       "      <td>0.0033</td>\n",
       "      <td>4.0</td>\n",
       "      <td>9.0</td>\n",
       "      <td>61.0</td>\n",
       "      <td>61.0</td>\n",
       "      <td>841.588625</td>\n",
       "      <td>1800.362126</td>\n",
       "      <td>9061.079597</td>\n",
       "      <td>22804.307733</td>\n",
       "      <td>0.318548</td>\n",
       "      <td>0.284355</td>\n",
       "      <td>0.681452</td>\n",
       "      <td>0.715645</td>\n",
       "      <td>0.892659</td>\n",
       "      <td>[81.824, 106.319, 98.097, 279.924, 153.476, 14...</td>\n",
       "      <td>[2023-03-30T15:03:17.000000000, 2023-03-30T15:...</td>\n",
       "      <td>[219.492, 368.053, 336.783, 539.447, 265.036, ...</td>\n",
       "      <td>[2023-03-30T15:03:17.000000000, 2023-03-30T15:...</td>\n",
       "      <td>[0.7452508456503405, 0.769764212272414, 0.7156...</td>\n",
       "      <td>1.0</td>\n",
       "      <td>[0.0, 0.2704168292130343, 0.16857762240911747,...</td>\n",
       "      <td>[0.0, 0.27040949930422925, 0.06716697518778254...</td>\n",
       "    </tr>\n",
       "    <tr>\n",
       "      <th>18</th>\n",
       "      <td>BAA-1103049</td>\n",
       "      <td>2023-03-31 08:29:33</td>\n",
       "      <td>2023-03-31 11:32:58</td>\n",
       "      <td>0 days 03:03:24</td>\n",
       "      <td>21.3</td>\n",
       "      <td>26.1</td>\n",
       "      <td>0 days 02:39:45</td>\n",
       "      <td>0 days 00:07:29</td>\n",
       "      <td>0 days 00:23:40</td>\n",
       "      <td>2.0</td>\n",
       "      <td>1.0</td>\n",
       "      <td>0.01</td>\n",
       "      <td>0.0033</td>\n",
       "      <td>1.0</td>\n",
       "      <td>35.0</td>\n",
       "      <td>96.0</td>\n",
       "      <td>37.0</td>\n",
       "      <td>200.084724</td>\n",
       "      <td>7003.974776</td>\n",
       "      <td>15732.332040</td>\n",
       "      <td>12788.315899</td>\n",
       "      <td>0.027774</td>\n",
       "      <td>0.551612</td>\n",
       "      <td>0.972226</td>\n",
       "      <td>0.448388</td>\n",
       "      <td>19.860815</td>\n",
       "      <td>[99.409, 171.763, 109.314, 166.116, 114.105, 1...</td>\n",
       "      <td>[2023-03-31T08:53:13.000000000, 2023-03-31T08:...</td>\n",
       "      <td>[401.006, 444.675, 779.655, 644.866, 82.369, 2...</td>\n",
       "      <td>[2023-03-31T08:53:13.000000000, 2023-03-31T09:...</td>\n",
       "      <td>[0.9994898315507248, 0.9995385406693613, 0.999...</td>\n",
       "      <td>3.0</td>\n",
       "      <td>[0.0, 0.0002596684439433197, 0.015270242901663...</td>\n",
       "      <td>[0.0, 0.0002592372128333199, 0.030282624019547...</td>\n",
       "    </tr>\n",
       "    <tr>\n",
       "      <th>19</th>\n",
       "      <td>BAA-1103047</td>\n",
       "      <td>2023-03-31 11:05:26</td>\n",
       "      <td>2023-03-31 14:08:08</td>\n",
       "      <td>0 days 03:02:41</td>\n",
       "      <td>20.7</td>\n",
       "      <td>23.5</td>\n",
       "      <td>0 days 02:52:59</td>\n",
       "      <td>0 days 00:01:04</td>\n",
       "      <td>0 days 00:03:54</td>\n",
       "      <td>2.0</td>\n",
       "      <td>1.0</td>\n",
       "      <td>0.01</td>\n",
       "      <td>0.0033</td>\n",
       "      <td>6.0</td>\n",
       "      <td>7.0</td>\n",
       "      <td>60.0</td>\n",
       "      <td>44.0</td>\n",
       "      <td>1202.741959</td>\n",
       "      <td>1400.209552</td>\n",
       "      <td>11131.690410</td>\n",
       "      <td>15937.000579</td>\n",
       "      <td>0.462069</td>\n",
       "      <td>0.411239</td>\n",
       "      <td>0.537931</td>\n",
       "      <td>0.588761</td>\n",
       "      <td>0.889995</td>\n",
       "      <td>[137.428, 236.078, 208.12, 107.797, 236.814, 1...</td>\n",
       "      <td>[2023-03-31T11:15:09.000000000, 2023-03-31T11:...</td>\n",
       "      <td>[694.536, 709.78, 138.543, 221.528, 121.565, 1...</td>\n",
       "      <td>[2023-03-31T11:15:09.000000000, 2023-03-31T11:...</td>\n",
       "      <td>[0.4467569296773307, 0.4988168039092523, 0.544...</td>\n",
       "      <td>1.0</td>\n",
       "      <td>[0.0, 0.4075263250363597, 0.43372334964917736,...</td>\n",
       "      <td>[0.0, 0.40752694096586195, 0.45984100990837873...</td>\n",
       "    </tr>\n",
       "    <tr>\n",
       "      <th>20</th>\n",
       "      <td>BAA-1103050</td>\n",
       "      <td>2023-03-31 11:38:54</td>\n",
       "      <td>2023-03-31 14:40:15</td>\n",
       "      <td>0 days 03:01:20</td>\n",
       "      <td>21.4</td>\n",
       "      <td>26.5</td>\n",
       "      <td>0 days 02:55:59</td>\n",
       "      <td>0 days 00:03:38</td>\n",
       "      <td>0 days 00:01:47</td>\n",
       "      <td>2.0</td>\n",
       "      <td>1.0</td>\n",
       "      <td>0.01</td>\n",
       "      <td>0.0033</td>\n",
       "      <td>3.0</td>\n",
       "      <td>10.0</td>\n",
       "      <td>120.0</td>\n",
       "      <td>22.0</td>\n",
       "      <td>798.715847</td>\n",
       "      <td>2000.491339</td>\n",
       "      <td>22790.671345</td>\n",
       "      <td>10599.302155</td>\n",
       "      <td>0.285336</td>\n",
       "      <td>0.682560</td>\n",
       "      <td>0.714664</td>\n",
       "      <td>0.317440</td>\n",
       "      <td>2.392125</td>\n",
       "      <td>[98.153, 165.683, 191.733, 131.557, 125.283, 2...</td>\n",
       "      <td>[2023-03-31T11:44:16.000000000, 2023-03-31T11:...</td>\n",
       "      <td>[215.733, 730.38, 206.815, 152.645, 170.323, 1...</td>\n",
       "      <td>[2023-03-31T11:44:16.000000000, 2023-03-31T11:...</td>\n",
       "      <td>[0.7749825320726428, 0.7014780625485, 0.673794...</td>\n",
       "      <td>1.0</td>\n",
       "      <td>[0.0, 0.22298256005434006, 0.29297508021736646...</td>\n",
       "      <td>[0.0, 0.22298256005434006, 0.36222935931048883...</td>\n",
       "    </tr>\n",
       "    <tr>\n",
       "      <th>21</th>\n",
       "      <td>BAA-1103045</td>\n",
       "      <td>2023-03-31 14:09:01</td>\n",
       "      <td>2023-03-31 17:50:38</td>\n",
       "      <td>0 days 03:41:36</td>\n",
       "      <td>21.5</td>\n",
       "      <td>26.8</td>\n",
       "      <td>0 days 03:33:26</td>\n",
       "      <td>0 days 00:03:40</td>\n",
       "      <td>0 days 00:03:06</td>\n",
       "      <td>1.0</td>\n",
       "      <td>2.0</td>\n",
       "      <td>0.01</td>\n",
       "      <td>0.0033</td>\n",
       "      <td>4.0</td>\n",
       "      <td>9.0</td>\n",
       "      <td>163.0</td>\n",
       "      <td>12.0</td>\n",
       "      <td>800.105718</td>\n",
       "      <td>1804.563956</td>\n",
       "      <td>28951.828703</td>\n",
       "      <td>5494.959461</td>\n",
       "      <td>0.307181</td>\n",
       "      <td>0.840480</td>\n",
       "      <td>0.692819</td>\n",
       "      <td>0.159520</td>\n",
       "      <td>2.736104</td>\n",
       "      <td>[83.876, 160.995, 549.006, 136.547, 127.971, 2...</td>\n",
       "      <td>[2023-03-31T14:17:12.000000000, 2023-03-31T14:...</td>\n",
       "      <td>[843.155, 179.841, 1629.103, 301.415, 290.422,...</td>\n",
       "      <td>[2023-03-31T14:17:12.000000000, 2023-03-31T14:...</td>\n",
       "      <td>[0.7397173231364991, 0.7003533032938715, 0.726...</td>\n",
       "      <td>1.0</td>\n",
       "      <td>[0.0, 0.2994818609618529, 0.4993973249902943, ...</td>\n",
       "      <td>[0.0, 0.2994801498683583, 0.6972274777722229, ...</td>\n",
       "    </tr>\n",
       "    <tr>\n",
       "      <th>22</th>\n",
       "      <td>BAA-1103048</td>\n",
       "      <td>2023-03-31 14:47:37</td>\n",
       "      <td>2023-03-31 17:43:19</td>\n",
       "      <td>0 days 02:55:42</td>\n",
       "      <td>21.1</td>\n",
       "      <td>24.6</td>\n",
       "      <td>0 days 02:00:07</td>\n",
       "      <td>0 days 00:00:39</td>\n",
       "      <td>0 days 00:55:35</td>\n",
       "      <td>2.0</td>\n",
       "      <td>1.0</td>\n",
       "      <td>0.01</td>\n",
       "      <td>0.0033</td>\n",
       "      <td>1.0</td>\n",
       "      <td>69.0</td>\n",
       "      <td>1.0</td>\n",
       "      <td>73.0</td>\n",
       "      <td>200.095463</td>\n",
       "      <td>13934.992040</td>\n",
       "      <td>322.924200</td>\n",
       "      <td>27743.154478</td>\n",
       "      <td>0.014156</td>\n",
       "      <td>0.011506</td>\n",
       "      <td>0.985844</td>\n",
       "      <td>0.988494</td>\n",
       "      <td>0.812793</td>\n",
       "      <td>[171.586]</td>\n",
       "      <td>[2023-03-31T15:43:12.000000000]</td>\n",
       "      <td>[237.337, 109.489, 227.523, 248.256, 337.788, ...</td>\n",
       "      <td>[2023-03-31T15:43:12.000000000, 2023-03-31T15:...</td>\n",
       "      <td>[0.9979065676126794, 0.997477944444402, 0.9977...</td>\n",
       "      <td>4.0</td>\n",
       "      <td>[0.0, 0.0014008221552576673, 0.010393322432521...</td>\n",
       "      <td>[0.0, 0.0014022729629474655, 0.019421767166743...</td>\n",
       "    </tr>\n",
       "  </tbody>\n",
       "</table>\n",
       "</div>"
      ],
      "text/plain": [
       "             id               enter                exit        duration  \\\n",
       "0   BAA-1103050 2023-03-10 09:41:48 2023-03-10 12:55:19 0 days 03:13:30   \n",
       "1   BAA-1103045 2023-03-10 12:12:45 2023-03-10 15:22:14 0 days 03:09:28   \n",
       "2   BAA-1103048 2023-03-10 13:08:24 2023-03-10 16:16:31 0 days 03:08:06   \n",
       "3   BAA-1103047 2023-03-10 15:27:05 2023-03-10 19:10:44 0 days 03:43:38   \n",
       "4   BAA-1103049 2023-03-10 16:22:29 2023-03-10 19:21:50 0 days 02:59:20   \n",
       "5   BAA-1103048 2023-03-23 07:56:44 2023-03-23 11:08:34 0 days 03:11:49   \n",
       "6   BAA-1103045 2023-03-23 10:16:38 2023-03-23 13:19:43 0 days 03:03:03   \n",
       "7   BAA-1103049 2023-03-23 11:15:29 2023-03-23 14:23:41 0 days 03:08:11   \n",
       "8   BAA-1103047 2023-03-23 13:29:36 2023-03-23 16:32:51 0 days 03:03:14   \n",
       "9   BAA-1103050 2023-03-23 14:30:26 2023-03-23 17:29:18 0 days 02:58:51   \n",
       "10  BAA-1103047 2023-03-24 12:08:58 2023-03-24 15:12:50 0 days 03:03:51   \n",
       "11  BAA-1103049 2023-03-24 14:22:48 2023-03-24 18:31:16 0 days 04:08:27   \n",
       "12  BAA-1103045 2023-03-24 15:19:57 2023-03-24 18:42:44 0 days 03:22:45   \n",
       "13  BAA-1103049 2023-03-30 08:02:03 2023-03-30 11:22:13 0 days 03:20:09   \n",
       "14  BAA-1103050 2023-03-30 11:28:04 2023-03-30 14:33:37 0 days 03:05:32   \n",
       "15  BAA-1103047 2023-03-30 11:46:20 2023-03-30 14:47:20 0 days 03:00:59   \n",
       "16  BAA-1103048 2023-03-30 14:39:40 2023-03-30 17:55:12 0 days 03:15:31   \n",
       "17  BAA-1103045 2023-03-30 14:53:35 2023-03-30 18:03:35 0 days 03:09:59   \n",
       "18  BAA-1103049 2023-03-31 08:29:33 2023-03-31 11:32:58 0 days 03:03:24   \n",
       "19  BAA-1103047 2023-03-31 11:05:26 2023-03-31 14:08:08 0 days 03:02:41   \n",
       "20  BAA-1103050 2023-03-31 11:38:54 2023-03-31 14:40:15 0 days 03:01:20   \n",
       "21  BAA-1103045 2023-03-31 14:09:01 2023-03-31 17:50:38 0 days 03:41:36   \n",
       "22  BAA-1103048 2023-03-31 14:47:37 2023-03-31 17:43:19 0 days 02:55:42   \n",
       "\n",
       "    weight_enter  weight_exit  post_thresh_dur post_thresh_both_p_sampled_dur  \\\n",
       "0           23.2         23.9  0 days 02:22:53                0 days 00:12:53   \n",
       "1           23.0         23.7  0 days 02:15:22                0 days 00:32:38   \n",
       "2           22.5         24.6  0 days 01:28:08                0 days 00:01:32   \n",
       "3           19.8         21.0  0 days 03:17:44                            NaN   \n",
       "4           20.9         22.6  0 days 02:34:42                0 days 02:17:23   \n",
       "5           24.8         24.3  0 days 02:01:38                            NaN   \n",
       "6           23.6         25.1  0 days 02:42:35                0 days 00:03:59   \n",
       "7           22.0         24.4  0 days 02:46:11                0 days 02:30:49   \n",
       "8           23.2         22.4  0 days 01:46:30                0 days 00:09:22   \n",
       "9           23.5         24.9  0 days 02:42:59                0 days 00:00:24   \n",
       "10          22.2         22.3  0 days 02:36:31                0 days 00:09:36   \n",
       "11          21.7         22.3  0 days 03:52:55                0 days 00:03:43   \n",
       "12          22.7         26.2  0 days 02:57:46                0 days 00:04:54   \n",
       "13          21.8         24.7  0 days 03:11:04                0 days 00:01:26   \n",
       "14          22.3         25.6  0 days 02:59:20                0 days 00:03:30   \n",
       "15          22.0         23.4  0 days 02:48:57                0 days 00:00:39   \n",
       "16          21.6         23.8  0 days 02:18:31                0 days 00:02:04   \n",
       "17          22.0         25.4  0 days 03:00:18                0 days 00:01:48   \n",
       "18          21.3         26.1  0 days 02:39:45                0 days 00:07:29   \n",
       "19          20.7         23.5  0 days 02:52:59                0 days 00:01:04   \n",
       "20          21.4         26.5  0 days 02:55:59                0 days 00:03:38   \n",
       "21          21.5         26.8  0 days 03:33:26                0 days 00:03:40   \n",
       "22          21.1         24.6  0 days 02:00:07                0 days 00:00:39   \n",
       "\n",
       "   pre_sampling_both_p_dur  easy_patch  hard_patch  post_easy_rate  \\\n",
       "0          0 days 00:17:40         2.0         1.0            0.01   \n",
       "1          0 days 00:07:38         2.0         1.0            0.01   \n",
       "2          0 days 01:39:59         2.0         1.0            0.01   \n",
       "3          0 days 00:06:35         1.0         2.0            0.01   \n",
       "4          0 days 00:03:20         1.0         2.0            0.01   \n",
       "5          0 days 00:39:29         2.0         1.0            0.01   \n",
       "6          0 days 00:05:06         2.0         1.0            0.01   \n",
       "7          0 days 00:12:57         2.0         1.0            0.01   \n",
       "8          0 days 00:22:44         1.0         2.0            0.01   \n",
       "9          0 days 00:08:34         2.0         1.0            0.01   \n",
       "10         0 days 00:14:18         2.0         1.0            0.01   \n",
       "11         0 days 00:15:33         2.0         1.0            0.01   \n",
       "12         0 days 00:25:01         1.0         2.0            0.01   \n",
       "13         0 days 00:04:53         1.0         2.0            0.01   \n",
       "14         0 days 00:02:43         1.0         2.0            0.01   \n",
       "15         0 days 00:04:22         2.0         1.0            0.01   \n",
       "16         0 days 00:57:01         2.0         1.0            0.01   \n",
       "17         0 days 00:04:29         2.0         1.0            0.01   \n",
       "18         0 days 00:23:40         2.0         1.0            0.01   \n",
       "19         0 days 00:03:54         2.0         1.0            0.01   \n",
       "20         0 days 00:01:47         2.0         1.0            0.01   \n",
       "21         0 days 00:03:06         1.0         2.0            0.01   \n",
       "22         0 days 00:55:35         2.0         1.0            0.01   \n",
       "\n",
       "    post_hard_rate  pre_easy_n_pel  pre_hard_n_pel  post_easy_n_pel  \\\n",
       "0           0.0025             1.0            17.0             21.0   \n",
       "1           0.0025             9.0             9.0             24.0   \n",
       "2           0.0025             1.0            68.0              1.0   \n",
       "3           0.0025             7.0            11.0              0.0   \n",
       "4           0.0025             8.0            10.0             67.0   \n",
       "5           0.0033             1.0            12.0              0.0   \n",
       "6           0.0033             6.0             7.0             67.0   \n",
       "7           0.0033             1.0            12.0              9.0   \n",
       "8           0.0033             5.0             8.0             14.0   \n",
       "9           0.0033             2.0            11.0             60.0   \n",
       "10          0.0033             2.0            11.0             16.0   \n",
       "11          0.0033             1.0            13.0             80.0   \n",
       "12          0.0033             1.0            20.0            110.0   \n",
       "13          0.0033             3.0            10.0            107.0   \n",
       "14          0.0033             5.0             8.0             90.0   \n",
       "15          0.0033             3.0            10.0             37.0   \n",
       "16          0.0033             1.0            47.0              9.0   \n",
       "17          0.0033             4.0             9.0             61.0   \n",
       "18          0.0033             1.0            35.0             96.0   \n",
       "19          0.0033             6.0             7.0             60.0   \n",
       "20          0.0033             3.0            10.0            120.0   \n",
       "21          0.0033             4.0             9.0            163.0   \n",
       "22          0.0033             1.0            69.0              1.0   \n",
       "\n",
       "    post_hard_n_pel  pre_easy_wheel_dist  pre_hard_wheel_dist  \\\n",
       "0              18.0            89.731081          1275.490836   \n",
       "1              14.0           637.378774           671.407613   \n",
       "2              33.0            89.789376          5115.579789   \n",
       "3              51.0           526.377751           825.287550   \n",
       "4               1.0           600.211219           756.873967   \n",
       "5              35.0           217.358402          2400.518119   \n",
       "6               4.0          1200.147839          1406.658801   \n",
       "7              64.0           203.326224          2400.495108   \n",
       "8               8.0          1006.420319          1600.277402   \n",
       "9              19.0           407.695618          2200.467144   \n",
       "10             25.0           400.048257          2219.836368   \n",
       "11             50.0           200.120008          2645.853437   \n",
       "12             15.0           200.096997          4170.712672   \n",
       "13             25.0           607.692900          2000.305716   \n",
       "14             31.0          1009.463923          1600.251323   \n",
       "15             35.0           600.155993          2007.307232   \n",
       "16             58.0           200.092395          9410.971291   \n",
       "17             61.0           841.588625          1800.362126   \n",
       "18             37.0           200.084724          7003.974776   \n",
       "19             44.0          1202.741959          1400.209552   \n",
       "20             22.0           798.715847          2000.491339   \n",
       "21             12.0           800.105718          1804.563956   \n",
       "22             73.0           200.095463         13934.992040   \n",
       "\n",
       "    post_easy_wheel_dist  post_hard_wheel_dist  pre_easy_pref  post_easy_pref  \\\n",
       "0            3207.803306           8580.920440       0.065726        0.272108   \n",
       "1            3490.806286           7168.452099       0.487000        0.327491   \n",
       "2             271.891680          13906.200532       0.017249        0.019177   \n",
       "3              20.805117          24885.276616       0.389429        0.000835   \n",
       "4           11424.822884           2429.829679       0.442280        0.824620   \n",
       "5             113.245374          13620.374854       0.083029        0.008246   \n",
       "6           12398.231456           2206.132481       0.460390        0.848940   \n",
       "7            1815.099979          25128.522524       0.078088        0.067367   \n",
       "8            1808.106134           3435.513642       0.386090        0.344820   \n",
       "9           10931.713071           7902.336427       0.156315        0.580423   \n",
       "10           2985.589558           9949.024883       0.152697        0.230822   \n",
       "11          15199.208963          18335.892579       0.070317        0.453233   \n",
       "12          18370.676182           7622.551934       0.045780        0.706749   \n",
       "13          19447.041090          12743.192634       0.233011        0.604129   \n",
       "14          15976.007489          14055.964547       0.386810        0.531967   \n",
       "15           6891.746493          10055.383796       0.230169        0.406662   \n",
       "16           1924.105171          22097.464535       0.020819        0.080099   \n",
       "17           9061.079597          22804.307733       0.318548        0.284355   \n",
       "18          15732.332040          12788.315899       0.027774        0.551612   \n",
       "19          11131.690410          15937.000579       0.462069        0.411239   \n",
       "20          22790.671345          10599.302155       0.285336        0.682560   \n",
       "21          28951.828703           5494.959461       0.307181        0.840480   \n",
       "22            322.924200          27743.154478       0.014156        0.011506   \n",
       "\n",
       "    pre_hard_pref  post_hard_pref  post_pre_easy_pref  \\\n",
       "0        0.934274        0.727892            4.140009   \n",
       "1        0.513000        0.672509            0.672465   \n",
       "2        0.982751        0.980823            1.111744   \n",
       "3        0.610571        0.999165            0.002145   \n",
       "4        0.557720        0.175380            1.864476   \n",
       "5        0.916971        0.991754            0.099313   \n",
       "6        0.539610        0.151060            1.843959   \n",
       "7        0.921912        0.932633            0.862705   \n",
       "8        0.613910        0.655180            0.893108   \n",
       "9        0.843685        0.419577            3.713156   \n",
       "10       0.847303        0.769178            1.511633   \n",
       "11       0.929683        0.546767            6.445575   \n",
       "12       0.954220        0.293251           15.437830   \n",
       "13       0.766989        0.395871            2.592702   \n",
       "14       0.613190        0.468033            1.375266   \n",
       "15       0.769831        0.593338            1.766799   \n",
       "16       0.979181        0.919901            3.847408   \n",
       "17       0.681452        0.715645            0.892659   \n",
       "18       0.972226        0.448388           19.860815   \n",
       "19       0.537931        0.588761            0.889995   \n",
       "20       0.714664        0.317440            2.392125   \n",
       "21       0.692819        0.159520            2.736104   \n",
       "22       0.985844        0.988494            0.812793   \n",
       "\n",
       "                                 post_easy_pel_thresh  \\\n",
       "0   [121.823, 239.646, 214.056, 109.924, 160.179, ...   \n",
       "1   [129.145, 79.028, 191.036, 87.88, 123.836, 88....   \n",
       "2                                           [193.265]   \n",
       "3                                                  []   \n",
       "4   [93.197, 114.719, 123.426, 118.123, 163.986, 1...   \n",
       "5                                                  []   \n",
       "6   [120.184, 128.872, 158.416, 225.21, 77.384, 10...   \n",
       "7   [323.36, 89.956, 100.945, 281.542, 317.752, 26...   \n",
       "8   [80.512, 115.623, 92.681, 91.222, 124.364, 147...   \n",
       "9   [112.835, 109.153, 146.757, 106.563, 247.758, ...   \n",
       "10  [177.05, 159.749, 331.876, 381.057, 93.813, 23...   \n",
       "11  [112.688, 86.185, 109.07, 185.21, 124.301, 118...   \n",
       "12  [422.48, 114.034, 450.796, 143.947, 145.677, 2...   \n",
       "13  [94.34, 95.529, 84.026, 105.21, 156.639, 91.65...   \n",
       "14  [95.042, 76.382, 75.492, 280.737, 241.066, 181...   \n",
       "15  [99.932, 255.852, 352.765, 289.605, 105.943, 2...   \n",
       "16  [147.455, 138.039, 333.771, 243.226, 149.914, ...   \n",
       "17  [81.824, 106.319, 98.097, 279.924, 153.476, 14...   \n",
       "18  [99.409, 171.763, 109.314, 166.116, 114.105, 1...   \n",
       "19  [137.428, 236.078, 208.12, 107.797, 236.814, 1...   \n",
       "20  [98.153, 165.683, 191.733, 131.557, 125.283, 2...   \n",
       "21  [83.876, 160.995, 549.006, 136.547, 127.971, 2...   \n",
       "22                                          [171.586]   \n",
       "\n",
       "                             post_easy_pel_thresh_idx  \\\n",
       "0   [2023-03-10T10:32:26.000000000, 2023-03-10T10:...   \n",
       "1   [2023-03-10T13:06:52.000000000, 2023-03-10T13:...   \n",
       "2                     [2023-03-10T14:48:23.000000000]   \n",
       "3                                                  []   \n",
       "4   [2023-03-10T16:47:08.000000000, 2023-03-10T16:...   \n",
       "5                                                  []   \n",
       "6   [2023-03-23T10:37:08.000000000, 2023-03-23T10:...   \n",
       "7   [2023-03-23T11:37:30.000000000, 2023-03-23T14:...   \n",
       "8   [2023-03-23T14:46:21.000000000, 2023-03-23T14:...   \n",
       "9   [2023-03-23T14:46:19.000000000, 2023-03-23T14:...   \n",
       "10  [2023-03-24T12:36:19.000000000, 2023-03-24T12:...   \n",
       "11  [2023-03-24T14:38:21.000000000, 2023-03-24T14:...   \n",
       "12  [2023-03-24T15:44:58.000000000, 2023-03-24T15:...   \n",
       "13  [2023-03-30T08:11:09.000000000, 2023-03-30T08:...   \n",
       "14  [2023-03-30T11:34:17.000000000, 2023-03-30T11:...   \n",
       "15  [2023-03-30T11:58:23.000000000, 2023-03-30T11:...   \n",
       "16  [2023-03-30T15:36:41.000000000, 2023-03-30T15:...   \n",
       "17  [2023-03-30T15:03:17.000000000, 2023-03-30T15:...   \n",
       "18  [2023-03-31T08:53:13.000000000, 2023-03-31T08:...   \n",
       "19  [2023-03-31T11:15:09.000000000, 2023-03-31T11:...   \n",
       "20  [2023-03-31T11:44:16.000000000, 2023-03-31T11:...   \n",
       "21  [2023-03-31T14:17:12.000000000, 2023-03-31T14:...   \n",
       "22                    [2023-03-31T15:43:12.000000000]   \n",
       "\n",
       "                                 post_hard_pel_thresh  \\\n",
       "0   [787.955, 453.691, 131.533, 306.643, 380.248, ...   \n",
       "1   [1549.34, 194.009, 117.725, 465.422, 329.508, ...   \n",
       "2   [522.37, 274.443, 115.277, 253.721, 96.886, 95...   \n",
       "3   [137.334, 514.599, 162.643, 254.303, 297.185, ...   \n",
       "4                                          [1578.329]   \n",
       "5   [265.051, 436.068, 255.756, 334.965, 386.051, ...   \n",
       "6                 [350.323, 255.706, 440.952, 935.67]   \n",
       "7   [287.998, 580.596, 724.668, 76.437, 272.179, 7...   \n",
       "8   [948.057, 450.369, 265.346, 354.936, 203.452, ...   \n",
       "9   [777.252, 470.784, 199.692, 117.888, 433.435, ...   \n",
       "10  [224.185, 421.919, 202.688, 360.764, 131.42, 1...   \n",
       "11  [190.41, 311.403, 326.772, 348.249, 570.803, 6...   \n",
       "12  [1224.771, 390.33, 1008.743, 264.048, 573.551,...   \n",
       "13  [105.608, 164.627, 192.827, 677.626, 317.865, ...   \n",
       "14  [835.703, 1106.855, 272.091, 389.03, 164.974, ...   \n",
       "15  [377.048, 147.912, 295.887, 254.155, 227.369, ...   \n",
       "16  [351.66, 173.377, 106.157, 901.401, 159.078, 1...   \n",
       "17  [219.492, 368.053, 336.783, 539.447, 265.036, ...   \n",
       "18  [401.006, 444.675, 779.655, 644.866, 82.369, 2...   \n",
       "19  [694.536, 709.78, 138.543, 221.528, 121.565, 1...   \n",
       "20  [215.733, 730.38, 206.815, 152.645, 170.323, 1...   \n",
       "21  [843.155, 179.841, 1629.103, 301.415, 290.422,...   \n",
       "22  [237.337, 109.489, 227.523, 248.256, 337.788, ...   \n",
       "\n",
       "                             post_hard_pel_thresh_idx  \\\n",
       "0   [2023-03-10T10:32:26.000000000, 2023-03-10T10:...   \n",
       "1   [2023-03-10T13:06:52.000000000, 2023-03-10T13:...   \n",
       "2   [2023-03-10T14:48:23.000000000, 2023-03-10T14:...   \n",
       "3   [2023-03-10T15:53:00.000000000, 2023-03-10T15:...   \n",
       "4                     [2023-03-10T16:47:08.000000000]   \n",
       "5   [2023-03-23T09:06:56.000000000, 2023-03-23T09:...   \n",
       "6   [2023-03-23T10:37:08.000000000, 2023-03-23T10:...   \n",
       "7   [2023-03-23T11:37:30.000000000, 2023-03-23T11:...   \n",
       "8   [2023-03-23T14:46:21.000000000, 2023-03-23T15:...   \n",
       "9   [2023-03-23T14:46:19.000000000, 2023-03-23T14:...   \n",
       "10  [2023-03-24T12:36:19.000000000, 2023-03-24T12:...   \n",
       "11  [2023-03-24T14:38:21.000000000, 2023-03-24T14:...   \n",
       "12  [2023-03-24T15:44:58.000000000, 2023-03-24T15:...   \n",
       "13  [2023-03-30T08:11:09.000000000, 2023-03-30T08:...   \n",
       "14  [2023-03-30T11:34:17.000000000, 2023-03-30T11:...   \n",
       "15  [2023-03-30T11:58:23.000000000, 2023-03-30T11:...   \n",
       "16  [2023-03-30T15:36:41.000000000, 2023-03-30T15:...   \n",
       "17  [2023-03-30T15:03:17.000000000, 2023-03-30T15:...   \n",
       "18  [2023-03-31T08:53:13.000000000, 2023-03-31T09:...   \n",
       "19  [2023-03-31T11:15:09.000000000, 2023-03-31T11:...   \n",
       "20  [2023-03-31T11:44:16.000000000, 2023-03-31T11:...   \n",
       "21  [2023-03-31T14:17:12.000000000, 2023-03-31T14:...   \n",
       "22  [2023-03-31T15:43:12.000000000, 2023-03-31T15:...   \n",
       "\n",
       "                                  init_pref_by_pel_ct  \\\n",
       "0   [0.8815044790108325, 0.8833988643958598, 0.893...   \n",
       "1   [0.40413871418162683, 0.3611177037993481, 0.32...   \n",
       "2   [0.9945817950119978, 0.9947954694754996, 0.995...   \n",
       "3   [0.22612623407040333, 0.2995549748907851, 0.36...   \n",
       "4   [0.6702724079895558, 0.6987034819223695, 0.722...   \n",
       "5   [0.8857331583210366, 0.8955956240117702, 0.901...   \n",
       "6   [0.5467665117106025, 0.5915735648541067, 0.628...   \n",
       "7   [0.8874033724380087, 0.8986480071542763, 0.907...   \n",
       "8   [0.44317959750338587, 0.4987168650968184, 0.54...   \n",
       "9   [0.9999241752352911, 0.9003446268909796, 0.818...   \n",
       "10  [0.8784913920107758, 0.8905589617526944, 0.900...   \n",
       "11  [0.999973587304184, 0.93898701728868, 0.944222...   \n",
       "12  [0.9239995244360355, 0.9310777935582731, 0.936...   \n",
       "13  [0.7530330104391987, 0.7770172030580567, 0.796...   \n",
       "14  [0.5530851608918871, 0.5975983843593273, 0.547...   \n",
       "15  [0.7786303732613984, 0.7990626821721935, 0.817...   \n",
       "16  [0.9973914348035696, 0.9976283139530882, 0.997...   \n",
       "17  [0.7452508456503405, 0.769764212272414, 0.7156...   \n",
       "18  [0.9994898315507248, 0.9995385406693613, 0.999...   \n",
       "19  [0.4467569296773307, 0.4988168039092523, 0.544...   \n",
       "20  [0.7749825320726428, 0.7014780625485, 0.673794...   \n",
       "21  [0.7397173231364991, 0.7003533032938715, 0.726...   \n",
       "22  [0.9979065676126794, 0.997477944444402, 0.9977...   \n",
       "\n",
       "    epoch_thresh_change_idx  \\\n",
       "0                       2.0   \n",
       "1                       2.0   \n",
       "2                       3.0   \n",
       "3                       1.0   \n",
       "4                       1.0   \n",
       "5                       2.0   \n",
       "6                       2.0   \n",
       "7                       1.0   \n",
       "8                       4.0   \n",
       "9                       2.0   \n",
       "10                      2.0   \n",
       "11                      1.0   \n",
       "12                      2.0   \n",
       "13                      1.0   \n",
       "14                      1.0   \n",
       "15                      2.0   \n",
       "16                      3.0   \n",
       "17                      1.0   \n",
       "18                      3.0   \n",
       "19                      1.0   \n",
       "20                      1.0   \n",
       "21                      1.0   \n",
       "22                      4.0   \n",
       "\n",
       "                                  easy_pref_epoch_cum  \\\n",
       "0   [0.0, 0.06909652367344479, 0.2668156136292335,...   \n",
       "1   [0.0, 0.5122037205671914, 0.268011025453626, 0...   \n",
       "2   [0.0, 0.009501453253348757, 0.0056203811282433...   \n",
       "3   [0.0, 0.201008772572165, 0.10048828173618965, ...   \n",
       "4   [0.0, 0.40752862309470156, 0.45704937673077456...   \n",
       "5   [0.0, 0.1266859884464668, 0.08837536432592485,...   \n",
       "6   [0.0, 0.48718061979794414, 0.3546886074251283,...   \n",
       "7   [0.0, 0.11194368517145097, 0.06307926689193422...   \n",
       "8   [0.0, 0.21524198573427852, 0.4900212583057259,...   \n",
       "9   [0.0, 0.1463396112335383, 0.2863590759643062, ...   \n",
       "10  [0.0, 0.13594273691968606, 0.23915372850858171...   \n",
       "11  [0.0, 0.26622925488397536, 0.31179241497014265...   \n",
       "12  [0.0, 0.049090633633184784, 0.1040064394852560...   \n",
       "13  [0.0, 0.20610351640509755, 0.2952945268765088,...   \n",
       "14  [0.0, 0.31072622856681786, 0.1863327595898308,...   \n",
       "15  [0.0, 0.2069078122263922, 0.3408514168463321, ...   \n",
       "16  [0.0, 0.0020559352684631983, 0.007043640704693...   \n",
       "17  [0.0, 0.2704168292130343, 0.16857762240911747,...   \n",
       "18  [0.0, 0.0002596684439433197, 0.015270242901663...   \n",
       "19  [0.0, 0.4075263250363597, 0.43372334964917736,...   \n",
       "20  [0.0, 0.22298256005434006, 0.29297508021736646...   \n",
       "21  [0.0, 0.2994818609618529, 0.4993973249902943, ...   \n",
       "22  [0.0, 0.0014008221552576673, 0.010393322432521...   \n",
       "\n",
       "                                      easy_pref_epoch  \n",
       "0   [0.0, 0.06909424261898463, 0.4617004033497592,...  \n",
       "1   [0.0, 0.5121998496158439, 0.02782743102960722,...  \n",
       "2   [0.0, 0.00950388191824924, 0.00182721496743799...  \n",
       "3   [0.0, 0.20101029450617944, 1.7568496640593205e...  \n",
       "4   [0.0, 0.40752980054290106, 0.5055215290913712,...  \n",
       "5   [0.0, 0.12668434433999118, 0.04963030024361057...  \n",
       "6   [0.0, 0.48717738373193664, 0.2242810293976725,...  \n",
       "7   [0.0, 0.11194269347596233, 0.01479731539165762...  \n",
       "8   [0.0, 0.21524795798719143, 0.761422088340779, ...  \n",
       "9   [0.0, 0.14633795309553957, 0.425921200220298, ...  \n",
       "10  [0.0, 0.13594246465876442, 0.3398303114603256,...  \n",
       "11  [0.0, 0.2662307301228039, 0.35695261918155263,...  \n",
       "12  [0.0, 0.04909058371835752, 0.15839239689910617...  \n",
       "13  [0.0, 0.20610325554891845, 0.3841020213826001,...  \n",
       "14  [0.0, 0.3107251062488528, 0.061882212876360684...  \n",
       "15  [0.0, 0.20690846504671956, 0.474728282721572, ...  \n",
       "16  [0.0, 0.0020563905528652787, 0.011969434511141...  \n",
       "17  [0.0, 0.27040949930422925, 0.06716697518778254...  \n",
       "18  [0.0, 0.0002592372128333199, 0.030282624019547...  \n",
       "19  [0.0, 0.40752694096586195, 0.45984100990837873...  \n",
       "20  [0.0, 0.22298256005434006, 0.36222935931048883...  \n",
       "21  [0.0, 0.2994801498683583, 0.6972274777722229, ...  \n",
       "22  [0.0, 0.0014022729629474655, 0.019421767166743...  "
      ]
     },
     "metadata": {},
     "output_type": "display_data"
    }
   ],
   "source": [
    "display(sessions.sort_values(by=[\"enter\"]))"
   ]
  },
  {
   "cell_type": "code",
   "execution_count": 144,
   "id": "053c53f0-9a98-4946-9a95-521916257579",
   "metadata": {
    "tags": []
   },
   "outputs": [],
   "source": [
    "cols_to_round = [\n",
    "    \"pre_easy_wheel_dist\",\n",
    "    \"pre_hard_wheel_dist\",\n",
    "    \"post_easy_wheel_dist\",\n",
    "    \"post_hard_wheel_dist\",\n",
    "    \"pre_easy_pref\",\n",
    "    \"post_easy_pref\",\n",
    "    \"pre_hard_pref\",\n",
    "    \"post_hard_pref\",\n",
    "]\n",
    "for col in cols_to_round:\n",
    "    sessions[col] = sessions[col].round(3)"
   ]
  },
  {
   "cell_type": "code",
   "execution_count": 145,
   "id": "86e21f0f-b5ea-4e20-a88f-aec20c8b7bbd",
   "metadata": {},
   "outputs": [],
   "source": [
    "sessions.to_pickle(Path(\n",
    "    \"/nfs/nhome/live/jbhagat/ProjectAeon/aeon_analysis/aeon_analysis/presocial/data\"\n",
    "    \"/presocial_data.pkl\"\n",
    "    )\n",
    ")"
   ]
  },
  {
   "cell_type": "code",
   "execution_count": 95,
   "id": "d0676fe7-13bd-4531-a627-b583aaaa4a96",
   "metadata": {},
   "outputs": [],
   "source": [
    "df = pd.read_pickle(\n",
    "    Path(\n",
    "        \"/nfs/nhome/live/jbhagat/ProjectAeon/aeon_analysis/aeon_analysis/presocial/data\"\n",
    "        \"/presocial_data.pkl\"\n",
    "    )\n",
    ")"
   ]
  },
  {
   "cell_type": "code",
   "execution_count": 100,
   "id": "bc653f02-56e6-4c99-87bc-7467da6d5505",
   "metadata": {},
   "outputs": [
    {
     "data": {
      "text/plain": [
       "RangeIndex(start=0, stop=18, step=1)"
      ]
     },
     "execution_count": 100,
     "metadata": {},
     "output_type": "execute_result"
    }
   ],
   "source": [
    "df.index"
   ]
  },
  {
   "cell_type": "code",
   "execution_count": null,
   "id": "a9db77ef-4fc6-43a5-bf1b-cc8d83abadbd",
   "metadata": {},
   "outputs": [],
   "source": []
  },
  {
   "cell_type": "code",
   "execution_count": 104,
   "id": "f4012d7d-7c2a-4e11-a91c-ceeb6d3bedbe",
   "metadata": {},
   "outputs": [],
   "source": [
    "mrkr_sz = 14\n",
    "color_dict = {\n",
    "    \"BAA-1103045\": \"rgb(31, 119, 180)\",\n",
    "    \"BAA-1103047\": \"rgb(255, 127, 14)\",\n",
    "    \"BAA-1103048\": \"rgb(44, 160, 44)\",\n",
    "    \"BAA-1103049\": \"rgb(214, 39, 40)\",\n",
    "    \"BAA-1103050\": \"rgb(148, 103, 189)\",\n",
    "}"
   ]
  },
  {
   "cell_type": "code",
   "execution_count": 112,
   "id": "97299294-785b-42e8-9cd0-2ce8216e0740",
   "metadata": {},
   "outputs": [],
   "source": [
    "patch_pref_epoch_session = go.Figure()\n",
    "sesh_subj_counter = DotMap(\n",
    "    {\n",
    "        \"BAA-1103045\": 0,\n",
    "        \"BAA-1103047\": 0,\n",
    "        \"BAA-1103048\": 0,\n",
    "        \"BAA-1103049\": 0,\n",
    "        \"BAA-1103050\": 0,\n",
    "    }\n",
    ")\n",
    "for i in df.index:\n",
    "    uid = df[\"id\"][i]\n",
    "    y = df[\"easy_pref_epoch\"][i]\n",
    "    sesh_subj_counter[uid] += 1\n",
    "    patch_pref_epoch_session.add_trace(\n",
    "        go.Scatter(\n",
    "            y=y,\n",
    "            name=f\"{uid}: {sesh_subj_counter[uid]}\",\n",
    "            mode=\"lines+markers\",\n",
    "            marker={\"size\": mrkr_sz},\n",
    "            line=dict(color=color_dict[uid]),\n",
    "        )\n",
    "    )"
   ]
  },
  {
   "cell_type": "code",
   "execution_count": 113,
   "id": "48619ef7-319e-41e6-bf52-bbb8e910edcf",
   "metadata": {},
   "outputs": [
    {
     "data": {
      "text/plain": [
       "DotMap(BAA-1103045=4, BAA-1103047=4, BAA-1103048=3, BAA-1103049=4, BAA-1103050=3, uid=DotMap(), _ipython_display_=DotMap(), _repr_mimebundle_=DotMap())"
      ]
     },
     "execution_count": 113,
     "metadata": {},
     "output_type": "execute_result"
    }
   ],
   "source": [
    "sesh_subj_counter"
   ]
  },
  {
   "cell_type": "code",
   "execution_count": 114,
   "id": "6582ec73-df63-4382-8b02-d5e808aedb45",
   "metadata": {},
   "outputs": [
    {
     "data": {
      "application/vnd.plotly.v1+json": {
       "config": {
        "plotlyServerURL": "https://plot.ly"
       },
       "data": [
        {
         "line": {
          "color": "rgb(148, 103, 189)"
         },
         "marker": {
          "size": 14
         },
         "mode": "lines+markers",
         "name": "BAA-1103050: 1",
         "type": "scatter",
         "visible": "legendonly",
         "y": [
          0,
          0.06909424261898463,
          0.4617004033497592,
          0.19057522489064946,
          0.0634500017975162,
          3.409458307622414e-05,
          0.48506159349229,
          5.768123733152251e-06,
          0.4726026674977939,
          0.5446873323737796
         ]
        },
        {
         "line": {
          "color": "rgb(31, 119, 180)"
         },
         "marker": {
          "size": 14
         },
         "mode": "lines+markers",
         "name": "BAA-1103045: 1",
         "type": "scatter",
         "visible": "legendonly",
         "y": [
          0,
          0.5121998496158439,
          0.02782743102960722,
          6.418724188679121e-06,
          0.6292967009327124,
          0.8877769618008653,
          0.07926258997491258,
          0,
          0.7349739233787923,
          0.2977038918788142
         ]
        },
        {
         "line": {
          "color": "rgb(44, 160, 44)"
         },
         "marker": {
          "size": 14
         },
         "mode": "lines+markers",
         "name": "BAA-1103048: 1",
         "type": "scatter",
         "visible": "legendonly",
         "y": [
          0,
          0.00950388191824924,
          0.0018272149674379901,
          0.11819301854590603,
          7.925625926187033e-07,
          0.005918507075169622,
          0.0005158043071634279,
          0.0005552664921694914,
          8.711820056179348e-05,
          0.005906069399905982
         ]
        },
        {
         "line": {
          "color": "rgb(255, 127, 14)"
         },
         "marker": {
          "size": 14
         },
         "mode": "lines+markers",
         "name": "BAA-1103047: 1",
         "type": "scatter",
         "visible": true,
         "y": [
          0,
          0.20101029450617944,
          1.7568496640593205e-06,
          -5.836488441945777e-07,
          5.84376347741548e-07,
          -1.1706353154959606e-06,
          2.9170864840179047e-06,
          0,
          -1.1722388061490072e-06,
          -1.167487118242888e-06
         ]
        },
        {
         "line": {
          "color": "rgb(214, 39, 40)"
         },
         "marker": {
          "size": 14
         },
         "mode": "lines+markers",
         "name": "BAA-1103049: 1",
         "type": "scatter",
         "visible": "legendonly",
         "y": [
          0,
          0.40752980054290106,
          0.5055215290913712,
          0.9997455781584907,
          0.8845762803634489,
          0.9965395886688532,
          0.9993327846894183,
          0.9994280056531265,
          0.9475767773657907,
          0.8605398731213009
         ]
        },
        {
         "line": {
          "color": "rgb(44, 160, 44)"
         },
         "marker": {
          "size": 14
         },
         "mode": "lines+markers",
         "name": "BAA-1103048: 2",
         "type": "scatter",
         "visible": "legendonly",
         "y": [
          0,
          0.12668434433999118,
          0.04963030024361057,
          4.9824486196728585e-05,
          -2.825590430641566e-06,
          0.01892018121526317,
          0.000542368823891909,
          3.0980912002942714e-05,
          6.615950590960616e-05,
          0.007360270021293649
         ]
        },
        {
         "line": {
          "color": "rgb(31, 119, 180)"
         },
         "marker": {
          "size": 14
         },
         "mode": "lines+markers",
         "name": "BAA-1103045: 2",
         "type": "scatter",
         "visible": "legendonly",
         "y": [
          0,
          0.48717738373193664,
          0.2242810293976725,
          0.8732620912745735,
          0.6574789987884687,
          0.9996297424268118,
          0.6585574621176659,
          0.9997940374281249,
          0.9981721948155824,
          1
         ]
        },
        {
         "line": {
          "color": "rgb(214, 39, 40)"
         },
         "marker": {
          "size": 14
         },
         "mode": "lines+markers",
         "name": "BAA-1103049: 2",
         "type": "scatter",
         "visible": "legendonly",
         "y": [
          0,
          0.11194269347596233,
          0.014797315391657625,
          2.7912660252265438e-05,
          0.00035176948899238525,
          0.0003806089118640722,
          2.8026716727223855e-05,
          0.023560442196424204,
          0.0003491034365261666,
          0.03488965940825005
         ]
        },
        {
         "line": {
          "color": "rgb(255, 127, 14)"
         },
         "marker": {
          "size": 14
         },
         "mode": "lines+markers",
         "name": "BAA-1103047: 2",
         "type": "scatter",
         "visible": "legendonly",
         "y": [
          0,
          0.21524795798719143,
          0.761422088340779,
          0.310529106057264,
          0.00037259366590782227,
          0.4751087972129187,
          0.05385762134324638,
          0.3577221578554761,
          0.06544253463064857,
          0.9899204034990949
         ]
        },
        {
         "line": {
          "color": "rgb(148, 103, 189)"
         },
         "marker": {
          "size": 14
         },
         "mode": "lines+markers",
         "name": "BAA-1103050: 2",
         "type": "scatter",
         "visible": "legendonly",
         "y": [
          0,
          0.14633795309553957,
          0.425921200220298,
          0.251158094996873,
          0.2663176086027764,
          0.684587921412276,
          0.6025600313549128,
          0.5338265328495755,
          0.5121487885337271,
          0.8603432795425621
         ]
        },
        {
         "line": {
          "color": "rgb(255, 127, 14)"
         },
         "marker": {
          "size": 14
         },
         "mode": "lines+markers",
         "name": "BAA-1103047: 3",
         "type": "scatter",
         "visible": "legendonly",
         "y": [
          0,
          0.13594246465876442,
          0.3398303114603256,
          0.22135192059944533,
          0.2544836865516982,
          0.0003157653863181266,
          0.04262776659566752,
          0.21435190921029795,
          0.2866608913538075,
          0.5044105480150547
         ]
        },
        {
         "line": {
          "color": "rgb(214, 39, 40)"
         },
         "marker": {
          "size": 14
         },
         "mode": "lines+markers",
         "name": "BAA-1103049: 3",
         "type": "scatter",
         "visible": "legendonly",
         "y": [
          0,
          0.2662307301228039,
          0.35695261918155263,
          0.5448325959300041,
          0.12703865529440184,
          0.46217595212896895,
          0.4370907253428371,
          0.6903373430297859,
          0.5334363613043767,
          0.1229720133940999
         ]
        },
        {
         "line": {
          "color": "rgb(31, 119, 180)"
         },
         "marker": {
          "size": 14
         },
         "mode": "lines+markers",
         "name": "BAA-1103045: 3",
         "type": "scatter",
         "visible": "legendonly",
         "y": [
          0,
          0.04909058371835752,
          0.15839239689910617,
          0.23909292168743349,
          0.5276161139809272,
          0.8795091831215794,
          0.9573450647447295,
          0.7406921666174264,
          0.8052136374369557,
          0.9964938209410744
         ]
        },
        {
         "line": {
          "color": "rgb(214, 39, 40)"
         },
         "marker": {
          "size": 14
         },
         "mode": "lines+markers",
         "name": "BAA-1103049: 4",
         "type": "scatter",
         "visible": "legendonly",
         "y": [
          0,
          0.20610325554891845,
          0.3841020213826001,
          0.8046734024670105,
          0.9651245661260253,
          0.5810780914890609,
          0.36819590989528617,
          0.9928146881704994,
          0.4410407642053877,
          0.46281565310149453
         ]
        },
        {
         "line": {
          "color": "rgb(148, 103, 189)"
         },
         "marker": {
          "size": 14
         },
         "mode": "lines+markers",
         "name": "BAA-1103050: 3",
         "type": "scatter",
         "visible": "legendonly",
         "y": [
          0,
          0.3107251062488528,
          0.061882212876360684,
          0.1240525324788705,
          0.5841025901129369,
          0.7737400255137349,
          0.6579524630947126,
          0.8006595893055988,
          0.6018887265807051,
          0.8273313188763111
         ]
        },
        {
         "line": {
          "color": "rgb(255, 127, 14)"
         },
         "marker": {
          "size": 14
         },
         "mode": "lines+markers",
         "name": "BAA-1103047: 4",
         "type": "scatter",
         "visible": "legendonly",
         "y": [
          0,
          0.20690846504671956,
          0.474728282721572,
          0.209986863695649,
          0.48974842078990827,
          0.5294049309716136,
          0.3077100738212666,
          0.18844966096639937,
          0.4575369937103098,
          0.470823221893868
         ]
        },
        {
         "line": {
          "color": "rgb(44, 160, 44)"
         },
         "marker": {
          "size": 14
         },
         "mode": "lines+markers",
         "name": "BAA-1103048: 3",
         "type": "scatter",
         "visible": "legendonly",
         "y": [
          0,
          0.0020563905528652787,
          0.0119694345111411,
          0.10017169680117625,
          0.0023618347217533547,
          0.026660799098887498,
          0.015897758866433298,
          1.8329361208007874e-05,
          0.4505134855481054,
          0.017742538370051675
         ]
        },
        {
         "line": {
          "color": "rgb(31, 119, 180)"
         },
         "marker": {
          "size": 14
         },
         "mode": "lines+markers",
         "name": "BAA-1103045: 4",
         "type": "scatter",
         "visible": "legendonly",
         "y": [
          0,
          0.27040949930422925,
          0.06716697518778254,
          0.450706764106353,
          0.24876147914966068,
          0.7544548926005831,
          0.12571177360941305,
          0.12077106479041619,
          0.4749292480619638,
          0.022207001887855536
         ]
        }
       ],
       "layout": {
        "autosize": true,
        "template": {
         "data": {
          "bar": [
           {
            "error_x": {
             "color": "#2a3f5f"
            },
            "error_y": {
             "color": "#2a3f5f"
            },
            "marker": {
             "line": {
              "color": "#E5ECF6",
              "width": 0.5
             },
             "pattern": {
              "fillmode": "overlay",
              "size": 10,
              "solidity": 0.2
             }
            },
            "type": "bar"
           }
          ],
          "barpolar": [
           {
            "marker": {
             "line": {
              "color": "#E5ECF6",
              "width": 0.5
             },
             "pattern": {
              "fillmode": "overlay",
              "size": 10,
              "solidity": 0.2
             }
            },
            "type": "barpolar"
           }
          ],
          "carpet": [
           {
            "aaxis": {
             "endlinecolor": "#2a3f5f",
             "gridcolor": "white",
             "linecolor": "white",
             "minorgridcolor": "white",
             "startlinecolor": "#2a3f5f"
            },
            "baxis": {
             "endlinecolor": "#2a3f5f",
             "gridcolor": "white",
             "linecolor": "white",
             "minorgridcolor": "white",
             "startlinecolor": "#2a3f5f"
            },
            "type": "carpet"
           }
          ],
          "choropleth": [
           {
            "colorbar": {
             "outlinewidth": 0,
             "ticks": ""
            },
            "type": "choropleth"
           }
          ],
          "contour": [
           {
            "colorbar": {
             "outlinewidth": 0,
             "ticks": ""
            },
            "colorscale": [
             [
              0,
              "#0d0887"
             ],
             [
              0.1111111111111111,
              "#46039f"
             ],
             [
              0.2222222222222222,
              "#7201a8"
             ],
             [
              0.3333333333333333,
              "#9c179e"
             ],
             [
              0.4444444444444444,
              "#bd3786"
             ],
             [
              0.5555555555555556,
              "#d8576b"
             ],
             [
              0.6666666666666666,
              "#ed7953"
             ],
             [
              0.7777777777777778,
              "#fb9f3a"
             ],
             [
              0.8888888888888888,
              "#fdca26"
             ],
             [
              1,
              "#f0f921"
             ]
            ],
            "type": "contour"
           }
          ],
          "contourcarpet": [
           {
            "colorbar": {
             "outlinewidth": 0,
             "ticks": ""
            },
            "type": "contourcarpet"
           }
          ],
          "heatmap": [
           {
            "colorbar": {
             "outlinewidth": 0,
             "ticks": ""
            },
            "colorscale": [
             [
              0,
              "#0d0887"
             ],
             [
              0.1111111111111111,
              "#46039f"
             ],
             [
              0.2222222222222222,
              "#7201a8"
             ],
             [
              0.3333333333333333,
              "#9c179e"
             ],
             [
              0.4444444444444444,
              "#bd3786"
             ],
             [
              0.5555555555555556,
              "#d8576b"
             ],
             [
              0.6666666666666666,
              "#ed7953"
             ],
             [
              0.7777777777777778,
              "#fb9f3a"
             ],
             [
              0.8888888888888888,
              "#fdca26"
             ],
             [
              1,
              "#f0f921"
             ]
            ],
            "type": "heatmap"
           }
          ],
          "heatmapgl": [
           {
            "colorbar": {
             "outlinewidth": 0,
             "ticks": ""
            },
            "colorscale": [
             [
              0,
              "#0d0887"
             ],
             [
              0.1111111111111111,
              "#46039f"
             ],
             [
              0.2222222222222222,
              "#7201a8"
             ],
             [
              0.3333333333333333,
              "#9c179e"
             ],
             [
              0.4444444444444444,
              "#bd3786"
             ],
             [
              0.5555555555555556,
              "#d8576b"
             ],
             [
              0.6666666666666666,
              "#ed7953"
             ],
             [
              0.7777777777777778,
              "#fb9f3a"
             ],
             [
              0.8888888888888888,
              "#fdca26"
             ],
             [
              1,
              "#f0f921"
             ]
            ],
            "type": "heatmapgl"
           }
          ],
          "histogram": [
           {
            "marker": {
             "pattern": {
              "fillmode": "overlay",
              "size": 10,
              "solidity": 0.2
             }
            },
            "type": "histogram"
           }
          ],
          "histogram2d": [
           {
            "colorbar": {
             "outlinewidth": 0,
             "ticks": ""
            },
            "colorscale": [
             [
              0,
              "#0d0887"
             ],
             [
              0.1111111111111111,
              "#46039f"
             ],
             [
              0.2222222222222222,
              "#7201a8"
             ],
             [
              0.3333333333333333,
              "#9c179e"
             ],
             [
              0.4444444444444444,
              "#bd3786"
             ],
             [
              0.5555555555555556,
              "#d8576b"
             ],
             [
              0.6666666666666666,
              "#ed7953"
             ],
             [
              0.7777777777777778,
              "#fb9f3a"
             ],
             [
              0.8888888888888888,
              "#fdca26"
             ],
             [
              1,
              "#f0f921"
             ]
            ],
            "type": "histogram2d"
           }
          ],
          "histogram2dcontour": [
           {
            "colorbar": {
             "outlinewidth": 0,
             "ticks": ""
            },
            "colorscale": [
             [
              0,
              "#0d0887"
             ],
             [
              0.1111111111111111,
              "#46039f"
             ],
             [
              0.2222222222222222,
              "#7201a8"
             ],
             [
              0.3333333333333333,
              "#9c179e"
             ],
             [
              0.4444444444444444,
              "#bd3786"
             ],
             [
              0.5555555555555556,
              "#d8576b"
             ],
             [
              0.6666666666666666,
              "#ed7953"
             ],
             [
              0.7777777777777778,
              "#fb9f3a"
             ],
             [
              0.8888888888888888,
              "#fdca26"
             ],
             [
              1,
              "#f0f921"
             ]
            ],
            "type": "histogram2dcontour"
           }
          ],
          "mesh3d": [
           {
            "colorbar": {
             "outlinewidth": 0,
             "ticks": ""
            },
            "type": "mesh3d"
           }
          ],
          "parcoords": [
           {
            "line": {
             "colorbar": {
              "outlinewidth": 0,
              "ticks": ""
             }
            },
            "type": "parcoords"
           }
          ],
          "pie": [
           {
            "automargin": true,
            "type": "pie"
           }
          ],
          "scatter": [
           {
            "fillpattern": {
             "fillmode": "overlay",
             "size": 10,
             "solidity": 0.2
            },
            "type": "scatter"
           }
          ],
          "scatter3d": [
           {
            "line": {
             "colorbar": {
              "outlinewidth": 0,
              "ticks": ""
             }
            },
            "marker": {
             "colorbar": {
              "outlinewidth": 0,
              "ticks": ""
             }
            },
            "type": "scatter3d"
           }
          ],
          "scattercarpet": [
           {
            "marker": {
             "colorbar": {
              "outlinewidth": 0,
              "ticks": ""
             }
            },
            "type": "scattercarpet"
           }
          ],
          "scattergeo": [
           {
            "marker": {
             "colorbar": {
              "outlinewidth": 0,
              "ticks": ""
             }
            },
            "type": "scattergeo"
           }
          ],
          "scattergl": [
           {
            "marker": {
             "colorbar": {
              "outlinewidth": 0,
              "ticks": ""
             }
            },
            "type": "scattergl"
           }
          ],
          "scattermapbox": [
           {
            "marker": {
             "colorbar": {
              "outlinewidth": 0,
              "ticks": ""
             }
            },
            "type": "scattermapbox"
           }
          ],
          "scatterpolar": [
           {
            "marker": {
             "colorbar": {
              "outlinewidth": 0,
              "ticks": ""
             }
            },
            "type": "scatterpolar"
           }
          ],
          "scatterpolargl": [
           {
            "marker": {
             "colorbar": {
              "outlinewidth": 0,
              "ticks": ""
             }
            },
            "type": "scatterpolargl"
           }
          ],
          "scatterternary": [
           {
            "marker": {
             "colorbar": {
              "outlinewidth": 0,
              "ticks": ""
             }
            },
            "type": "scatterternary"
           }
          ],
          "surface": [
           {
            "colorbar": {
             "outlinewidth": 0,
             "ticks": ""
            },
            "colorscale": [
             [
              0,
              "#0d0887"
             ],
             [
              0.1111111111111111,
              "#46039f"
             ],
             [
              0.2222222222222222,
              "#7201a8"
             ],
             [
              0.3333333333333333,
              "#9c179e"
             ],
             [
              0.4444444444444444,
              "#bd3786"
             ],
             [
              0.5555555555555556,
              "#d8576b"
             ],
             [
              0.6666666666666666,
              "#ed7953"
             ],
             [
              0.7777777777777778,
              "#fb9f3a"
             ],
             [
              0.8888888888888888,
              "#fdca26"
             ],
             [
              1,
              "#f0f921"
             ]
            ],
            "type": "surface"
           }
          ],
          "table": [
           {
            "cells": {
             "fill": {
              "color": "#EBF0F8"
             },
             "line": {
              "color": "white"
             }
            },
            "header": {
             "fill": {
              "color": "#C8D4E3"
             },
             "line": {
              "color": "white"
             }
            },
            "type": "table"
           }
          ]
         },
         "layout": {
          "annotationdefaults": {
           "arrowcolor": "#2a3f5f",
           "arrowhead": 0,
           "arrowwidth": 1
          },
          "autotypenumbers": "strict",
          "coloraxis": {
           "colorbar": {
            "outlinewidth": 0,
            "ticks": ""
           }
          },
          "colorscale": {
           "diverging": [
            [
             0,
             "#8e0152"
            ],
            [
             0.1,
             "#c51b7d"
            ],
            [
             0.2,
             "#de77ae"
            ],
            [
             0.3,
             "#f1b6da"
            ],
            [
             0.4,
             "#fde0ef"
            ],
            [
             0.5,
             "#f7f7f7"
            ],
            [
             0.6,
             "#e6f5d0"
            ],
            [
             0.7,
             "#b8e186"
            ],
            [
             0.8,
             "#7fbc41"
            ],
            [
             0.9,
             "#4d9221"
            ],
            [
             1,
             "#276419"
            ]
           ],
           "sequential": [
            [
             0,
             "#0d0887"
            ],
            [
             0.1111111111111111,
             "#46039f"
            ],
            [
             0.2222222222222222,
             "#7201a8"
            ],
            [
             0.3333333333333333,
             "#9c179e"
            ],
            [
             0.4444444444444444,
             "#bd3786"
            ],
            [
             0.5555555555555556,
             "#d8576b"
            ],
            [
             0.6666666666666666,
             "#ed7953"
            ],
            [
             0.7777777777777778,
             "#fb9f3a"
            ],
            [
             0.8888888888888888,
             "#fdca26"
            ],
            [
             1,
             "#f0f921"
            ]
           ],
           "sequentialminus": [
            [
             0,
             "#0d0887"
            ],
            [
             0.1111111111111111,
             "#46039f"
            ],
            [
             0.2222222222222222,
             "#7201a8"
            ],
            [
             0.3333333333333333,
             "#9c179e"
            ],
            [
             0.4444444444444444,
             "#bd3786"
            ],
            [
             0.5555555555555556,
             "#d8576b"
            ],
            [
             0.6666666666666666,
             "#ed7953"
            ],
            [
             0.7777777777777778,
             "#fb9f3a"
            ],
            [
             0.8888888888888888,
             "#fdca26"
            ],
            [
             1,
             "#f0f921"
            ]
           ]
          },
          "colorway": [
           "#636efa",
           "#EF553B",
           "#00cc96",
           "#ab63fa",
           "#FFA15A",
           "#19d3f3",
           "#FF6692",
           "#B6E880",
           "#FF97FF",
           "#FECB52"
          ],
          "font": {
           "color": "#2a3f5f"
          },
          "geo": {
           "bgcolor": "white",
           "lakecolor": "white",
           "landcolor": "#E5ECF6",
           "showlakes": true,
           "showland": true,
           "subunitcolor": "white"
          },
          "hoverlabel": {
           "align": "left"
          },
          "hovermode": "closest",
          "mapbox": {
           "style": "light"
          },
          "paper_bgcolor": "white",
          "plot_bgcolor": "#E5ECF6",
          "polar": {
           "angularaxis": {
            "gridcolor": "white",
            "linecolor": "white",
            "ticks": ""
           },
           "bgcolor": "#E5ECF6",
           "radialaxis": {
            "gridcolor": "white",
            "linecolor": "white",
            "ticks": ""
           }
          },
          "scene": {
           "xaxis": {
            "backgroundcolor": "#E5ECF6",
            "gridcolor": "white",
            "gridwidth": 2,
            "linecolor": "white",
            "showbackground": true,
            "ticks": "",
            "zerolinecolor": "white"
           },
           "yaxis": {
            "backgroundcolor": "#E5ECF6",
            "gridcolor": "white",
            "gridwidth": 2,
            "linecolor": "white",
            "showbackground": true,
            "ticks": "",
            "zerolinecolor": "white"
           },
           "zaxis": {
            "backgroundcolor": "#E5ECF6",
            "gridcolor": "white",
            "gridwidth": 2,
            "linecolor": "white",
            "showbackground": true,
            "ticks": "",
            "zerolinecolor": "white"
           }
          },
          "shapedefaults": {
           "line": {
            "color": "#2a3f5f"
           }
          },
          "ternary": {
           "aaxis": {
            "gridcolor": "white",
            "linecolor": "white",
            "ticks": ""
           },
           "baxis": {
            "gridcolor": "white",
            "linecolor": "white",
            "ticks": ""
           },
           "bgcolor": "#E5ECF6",
           "caxis": {
            "gridcolor": "white",
            "linecolor": "white",
            "ticks": ""
           }
          },
          "title": {
           "x": 0.05
          },
          "xaxis": {
           "automargin": true,
           "gridcolor": "white",
           "linecolor": "white",
           "ticks": "",
           "title": {
            "standoff": 15
           },
           "zerolinecolor": "white",
           "zerolinewidth": 2
          },
          "yaxis": {
           "automargin": true,
           "gridcolor": "white",
           "linecolor": "white",
           "ticks": "",
           "title": {
            "standoff": 15
           },
           "zerolinecolor": "white",
           "zerolinewidth": 2
          }
         }
        },
        "xaxis": {
         "autorange": true,
         "range": [
          -0.613769340787934,
          9.613769340787934
         ]
        },
        "yaxis": {
         "autorange": true,
         "range": [
          -0.024692892202290536,
          0.22570201446966381
         ],
         "type": "linear"
        }
       }
      },
      "image/png": "[encoded data removed]",
      "text/html": [
       "<div>                            <div id=\"5c74b8fe-35b5-4642-aa15-7f94cd16c443\" class=\"plotly-graph-div\" style=\"height:525px; width:100%;\"></div>            <script type=\"text/javascript\">                require([\"plotly\"], function(Plotly) {                    window.PLOTLYENV=window.PLOTLYENV || {};                                    if (document.getElementById(\"5c74b8fe-35b5-4642-aa15-7f94cd16c443\")) {                    Plotly.newPlot(                        \"5c74b8fe-35b5-4642-aa15-7f94cd16c443\",                        [{\"line\":{\"color\":\"rgb(148, 103, 189)\"},\"marker\":{\"size\":14},\"mode\":\"lines+markers\",\"name\":\"BAA-1103050: 1\",\"y\":[0.0,0.06909424261898463,0.4617004033497592,0.19057522489064946,0.0634500017975162,3.409458307622414e-05,0.48506159349229,5.768123733152251e-06,0.4726026674977939,0.5446873323737796],\"type\":\"scatter\"},{\"line\":{\"color\":\"rgb(31, 119, 180)\"},\"marker\":{\"size\":14},\"mode\":\"lines+markers\",\"name\":\"BAA-1103045: 1\",\"y\":[0.0,0.5121998496158439,0.02782743102960722,6.418724188679121e-06,0.6292967009327124,0.8877769618008653,0.07926258997491258,0.0,0.7349739233787923,0.2977038918788142],\"type\":\"scatter\"},{\"line\":{\"color\":\"rgb(44, 160, 44)\"},\"marker\":{\"size\":14},\"mode\":\"lines+markers\",\"name\":\"BAA-1103048: 1\",\"y\":[0.0,0.00950388191824924,0.0018272149674379901,0.11819301854590603,7.925625926187033e-07,0.005918507075169622,0.0005158043071634279,0.0005552664921694914,8.711820056179348e-05,0.005906069399905982],\"type\":\"scatter\"},{\"line\":{\"color\":\"rgb(255, 127, 14)\"},\"marker\":{\"size\":14},\"mode\":\"lines+markers\",\"name\":\"BAA-1103047: 1\",\"y\":[0.0,0.20101029450617944,1.7568496640593205e-06,-5.836488441945777e-07,5.84376347741548e-07,-1.1706353154959606e-06,2.9170864840179047e-06,0.0,-1.1722388061490072e-06,-1.167487118242888e-06],\"type\":\"scatter\"},{\"line\":{\"color\":\"rgb(214, 39, 40)\"},\"marker\":{\"size\":14},\"mode\":\"lines+markers\",\"name\":\"BAA-1103049: 1\",\"y\":[0.0,0.40752980054290106,0.5055215290913712,0.9997455781584907,0.8845762803634489,0.9965395886688532,0.9993327846894183,0.9994280056531265,0.9475767773657907,0.8605398731213009],\"type\":\"scatter\"},{\"line\":{\"color\":\"rgb(44, 160, 44)\"},\"marker\":{\"size\":14},\"mode\":\"lines+markers\",\"name\":\"BAA-1103048: 2\",\"y\":[0.0,0.12668434433999118,0.04963030024361057,4.9824486196728585e-05,-2.825590430641566e-06,0.01892018121526317,0.000542368823891909,3.0980912002942714e-05,6.615950590960616e-05,0.007360270021293649],\"type\":\"scatter\"},{\"line\":{\"color\":\"rgb(31, 119, 180)\"},\"marker\":{\"size\":14},\"mode\":\"lines+markers\",\"name\":\"BAA-1103045: 2\",\"y\":[0.0,0.48717738373193664,0.2242810293976725,0.8732620912745735,0.6574789987884687,0.9996297424268118,0.6585574621176659,0.9997940374281249,0.9981721948155824,1.0],\"type\":\"scatter\"},{\"line\":{\"color\":\"rgb(214, 39, 40)\"},\"marker\":{\"size\":14},\"mode\":\"lines+markers\",\"name\":\"BAA-1103049: 2\",\"y\":[0.0,0.11194269347596233,0.014797315391657625,2.7912660252265438e-05,0.00035176948899238525,0.0003806089118640722,2.8026716727223855e-05,0.023560442196424204,0.0003491034365261666,0.03488965940825005],\"type\":\"scatter\"},{\"line\":{\"color\":\"rgb(255, 127, 14)\"},\"marker\":{\"size\":14},\"mode\":\"lines+markers\",\"name\":\"BAA-1103047: 2\",\"y\":[0.0,0.21524795798719143,0.761422088340779,0.310529106057264,0.00037259366590782227,0.4751087972129187,0.05385762134324638,0.3577221578554761,0.06544253463064857,0.9899204034990949],\"type\":\"scatter\"},{\"line\":{\"color\":\"rgb(148, 103, 189)\"},\"marker\":{\"size\":14},\"mode\":\"lines+markers\",\"name\":\"BAA-1103050: 2\",\"y\":[0.0,0.14633795309553957,0.425921200220298,0.251158094996873,0.2663176086027764,0.684587921412276,0.6025600313549128,0.5338265328495755,0.5121487885337271,0.8603432795425621],\"type\":\"scatter\"},{\"line\":{\"color\":\"rgb(255, 127, 14)\"},\"marker\":{\"size\":14},\"mode\":\"lines+markers\",\"name\":\"BAA-1103047: 3\",\"y\":[0.0,0.13594246465876442,0.3398303114603256,0.22135192059944533,0.2544836865516982,0.0003157653863181266,0.04262776659566752,0.21435190921029795,0.2866608913538075,0.5044105480150547],\"type\":\"scatter\"},{\"line\":{\"color\":\"rgb(214, 39, 40)\"},\"marker\":{\"size\":14},\"mode\":\"lines+markers\",\"name\":\"BAA-1103049: 3\",\"y\":[0.0,0.2662307301228039,0.35695261918155263,0.5448325959300041,0.12703865529440184,0.46217595212896895,0.4370907253428371,0.6903373430297859,0.5334363613043767,0.1229720133940999],\"type\":\"scatter\"},{\"line\":{\"color\":\"rgb(31, 119, 180)\"},\"marker\":{\"size\":14},\"mode\":\"lines+markers\",\"name\":\"BAA-1103045: 3\",\"y\":[0.0,0.04909058371835752,0.15839239689910617,0.23909292168743349,0.5276161139809272,0.8795091831215794,0.9573450647447295,0.7406921666174264,0.8052136374369557,0.9964938209410744],\"type\":\"scatter\"},{\"line\":{\"color\":\"rgb(214, 39, 40)\"},\"marker\":{\"size\":14},\"mode\":\"lines+markers\",\"name\":\"BAA-1103049: 4\",\"y\":[0.0,0.20610325554891845,0.3841020213826001,0.8046734024670105,0.9651245661260253,0.5810780914890609,0.36819590989528617,0.9928146881704994,0.4410407642053877,0.46281565310149453],\"type\":\"scatter\"},{\"line\":{\"color\":\"rgb(148, 103, 189)\"},\"marker\":{\"size\":14},\"mode\":\"lines+markers\",\"name\":\"BAA-1103050: 3\",\"y\":[0.0,0.3107251062488528,0.061882212876360684,0.1240525324788705,0.5841025901129369,0.7737400255137349,0.6579524630947126,0.8006595893055988,0.6018887265807051,0.8273313188763111],\"type\":\"scatter\"},{\"line\":{\"color\":\"rgb(255, 127, 14)\"},\"marker\":{\"size\":14},\"mode\":\"lines+markers\",\"name\":\"BAA-1103047: 4\",\"y\":[0.0,0.20690846504671956,0.474728282721572,0.209986863695649,0.48974842078990827,0.5294049309716136,0.3077100738212666,0.18844966096639937,0.4575369937103098,0.470823221893868],\"type\":\"scatter\"},{\"line\":{\"color\":\"rgb(44, 160, 44)\"},\"marker\":{\"size\":14},\"mode\":\"lines+markers\",\"name\":\"BAA-1103048: 3\",\"y\":[0.0,0.0020563905528652787,0.0119694345111411,0.10017169680117625,0.0023618347217533547,0.026660799098887498,0.015897758866433298,1.8329361208007874e-05,0.4505134855481054,0.017742538370051675],\"type\":\"scatter\"},{\"line\":{\"color\":\"rgb(31, 119, 180)\"},\"marker\":{\"size\":14},\"mode\":\"lines+markers\",\"name\":\"BAA-1103045: 4\",\"y\":[0.0,0.27040949930422925,0.06716697518778254,0.450706764106353,0.24876147914966068,0.7544548926005831,0.12571177360941305,0.12077106479041619,0.4749292480619638,0.022207001887855536],\"type\":\"scatter\"}],                        {\"template\":{\"data\":{\"histogram2dcontour\":[{\"type\":\"histogram2dcontour\",\"colorbar\":{\"outlinewidth\":0,\"ticks\":\"\"},\"colorscale\":[[0.0,\"#0d0887\"],[0.1111111111111111,\"#46039f\"],[0.2222222222222222,\"#7201a8\"],[0.3333333333333333,\"#9c179e\"],[0.4444444444444444,\"#bd3786\"],[0.5555555555555556,\"#d8576b\"],[0.6666666666666666,\"#ed7953\"],[0.7777777777777778,\"#fb9f3a\"],[0.8888888888888888,\"#fdca26\"],[1.0,\"#f0f921\"]]}],\"choropleth\":[{\"type\":\"choropleth\",\"colorbar\":{\"outlinewidth\":0,\"ticks\":\"\"}}],\"histogram2d\":[{\"type\":\"histogram2d\",\"colorbar\":{\"outlinewidth\":0,\"ticks\":\"\"},\"colorscale\":[[0.0,\"#0d0887\"],[0.1111111111111111,\"#46039f\"],[0.2222222222222222,\"#7201a8\"],[0.3333333333333333,\"#9c179e\"],[0.4444444444444444,\"#bd3786\"],[0.5555555555555556,\"#d8576b\"],[0.6666666666666666,\"#ed7953\"],[0.7777777777777778,\"#fb9f3a\"],[0.8888888888888888,\"#fdca26\"],[1.0,\"#f0f921\"]]}],\"heatmap\":[{\"type\":\"heatmap\",\"colorbar\":{\"outlinewidth\":0,\"ticks\":\"\"},\"colorscale\":[[0.0,\"#0d0887\"],[0.1111111111111111,\"#46039f\"],[0.2222222222222222,\"#7201a8\"],[0.3333333333333333,\"#9c179e\"],[0.4444444444444444,\"#bd3786\"],[0.5555555555555556,\"#d8576b\"],[0.6666666666666666,\"#ed7953\"],[0.7777777777777778,\"#fb9f3a\"],[0.8888888888888888,\"#fdca26\"],[1.0,\"#f0f921\"]]}],\"heatmapgl\":[{\"type\":\"heatmapgl\",\"colorbar\":{\"outlinewidth\":0,\"ticks\":\"\"},\"colorscale\":[[0.0,\"#0d0887\"],[0.1111111111111111,\"#46039f\"],[0.2222222222222222,\"#7201a8\"],[0.3333333333333333,\"#9c179e\"],[0.4444444444444444,\"#bd3786\"],[0.5555555555555556,\"#d8576b\"],[0.6666666666666666,\"#ed7953\"],[0.7777777777777778,\"#fb9f3a\"],[0.8888888888888888,\"#fdca26\"],[1.0,\"#f0f921\"]]}],\"contourcarpet\":[{\"type\":\"contourcarpet\",\"colorbar\":{\"outlinewidth\":0,\"ticks\":\"\"}}],\"contour\":[{\"type\":\"contour\",\"colorbar\":{\"outlinewidth\":0,\"ticks\":\"\"},\"colorscale\":[[0.0,\"#0d0887\"],[0.1111111111111111,\"#46039f\"],[0.2222222222222222,\"#7201a8\"],[0.3333333333333333,\"#9c179e\"],[0.4444444444444444,\"#bd3786\"],[0.5555555555555556,\"#d8576b\"],[0.6666666666666666,\"#ed7953\"],[0.7777777777777778,\"#fb9f3a\"],[0.8888888888888888,\"#fdca26\"],[1.0,\"#f0f921\"]]}],\"surface\":[{\"type\":\"surface\",\"colorbar\":{\"outlinewidth\":0,\"ticks\":\"\"},\"colorscale\":[[0.0,\"#0d0887\"],[0.1111111111111111,\"#46039f\"],[0.2222222222222222,\"#7201a8\"],[0.3333333333333333,\"#9c179e\"],[0.4444444444444444,\"#bd3786\"],[0.5555555555555556,\"#d8576b\"],[0.6666666666666666,\"#ed7953\"],[0.7777777777777778,\"#fb9f3a\"],[0.8888888888888888,\"#fdca26\"],[1.0,\"#f0f921\"]]}],\"mesh3d\":[{\"type\":\"mesh3d\",\"colorbar\":{\"outlinewidth\":0,\"ticks\":\"\"}}],\"scatter\":[{\"fillpattern\":{\"fillmode\":\"overlay\",\"size\":10,\"solidity\":0.2},\"type\":\"scatter\"}],\"parcoords\":[{\"type\":\"parcoords\",\"line\":{\"colorbar\":{\"outlinewidth\":0,\"ticks\":\"\"}}}],\"scatterpolargl\":[{\"type\":\"scatterpolargl\",\"marker\":{\"colorbar\":{\"outlinewidth\":0,\"ticks\":\"\"}}}],\"bar\":[{\"error_x\":{\"color\":\"#2a3f5f\"},\"error_y\":{\"color\":\"#2a3f5f\"},\"marker\":{\"line\":{\"color\":\"#E5ECF6\",\"width\":0.5},\"pattern\":{\"fillmode\":\"overlay\",\"size\":10,\"solidity\":0.2}},\"type\":\"bar\"}],\"scattergeo\":[{\"type\":\"scattergeo\",\"marker\":{\"colorbar\":{\"outlinewidth\":0,\"ticks\":\"\"}}}],\"scatterpolar\":[{\"type\":\"scatterpolar\",\"marker\":{\"colorbar\":{\"outlinewidth\":0,\"ticks\":\"\"}}}],\"histogram\":[{\"marker\":{\"pattern\":{\"fillmode\":\"overlay\",\"size\":10,\"solidity\":0.2}},\"type\":\"histogram\"}],\"scattergl\":[{\"type\":\"scattergl\",\"marker\":{\"colorbar\":{\"outlinewidth\":0,\"ticks\":\"\"}}}],\"scatter3d\":[{\"type\":\"scatter3d\",\"line\":{\"colorbar\":{\"outlinewidth\":0,\"ticks\":\"\"}},\"marker\":{\"colorbar\":{\"outlinewidth\":0,\"ticks\":\"\"}}}],\"scattermapbox\":[{\"type\":\"scattermapbox\",\"marker\":{\"colorbar\":{\"outlinewidth\":0,\"ticks\":\"\"}}}],\"scatterternary\":[{\"type\":\"scatterternary\",\"marker\":{\"colorbar\":{\"outlinewidth\":0,\"ticks\":\"\"}}}],\"scattercarpet\":[{\"type\":\"scattercarpet\",\"marker\":{\"colorbar\":{\"outlinewidth\":0,\"ticks\":\"\"}}}],\"carpet\":[{\"aaxis\":{\"endlinecolor\":\"#2a3f5f\",\"gridcolor\":\"white\",\"linecolor\":\"white\",\"minorgridcolor\":\"white\",\"startlinecolor\":\"#2a3f5f\"},\"baxis\":{\"endlinecolor\":\"#2a3f5f\",\"gridcolor\":\"white\",\"linecolor\":\"white\",\"minorgridcolor\":\"white\",\"startlinecolor\":\"#2a3f5f\"},\"type\":\"carpet\"}],\"table\":[{\"cells\":{\"fill\":{\"color\":\"#EBF0F8\"},\"line\":{\"color\":\"white\"}},\"header\":{\"fill\":{\"color\":\"#C8D4E3\"},\"line\":{\"color\":\"white\"}},\"type\":\"table\"}],\"barpolar\":[{\"marker\":{\"line\":{\"color\":\"#E5ECF6\",\"width\":0.5},\"pattern\":{\"fillmode\":\"overlay\",\"size\":10,\"solidity\":0.2}},\"type\":\"barpolar\"}],\"pie\":[{\"automargin\":true,\"type\":\"pie\"}]},\"layout\":{\"autotypenumbers\":\"strict\",\"colorway\":[\"#636efa\",\"#EF553B\",\"#00cc96\",\"#ab63fa\",\"#FFA15A\",\"#19d3f3\",\"#FF6692\",\"#B6E880\",\"#FF97FF\",\"#FECB52\"],\"font\":{\"color\":\"#2a3f5f\"},\"hovermode\":\"closest\",\"hoverlabel\":{\"align\":\"left\"},\"paper_bgcolor\":\"white\",\"plot_bgcolor\":\"#E5ECF6\",\"polar\":{\"bgcolor\":\"#E5ECF6\",\"angularaxis\":{\"gridcolor\":\"white\",\"linecolor\":\"white\",\"ticks\":\"\"},\"radialaxis\":{\"gridcolor\":\"white\",\"linecolor\":\"white\",\"ticks\":\"\"}},\"ternary\":{\"bgcolor\":\"#E5ECF6\",\"aaxis\":{\"gridcolor\":\"white\",\"linecolor\":\"white\",\"ticks\":\"\"},\"baxis\":{\"gridcolor\":\"white\",\"linecolor\":\"white\",\"ticks\":\"\"},\"caxis\":{\"gridcolor\":\"white\",\"linecolor\":\"white\",\"ticks\":\"\"}},\"coloraxis\":{\"colorbar\":{\"outlinewidth\":0,\"ticks\":\"\"}},\"colorscale\":{\"sequential\":[[0.0,\"#0d0887\"],[0.1111111111111111,\"#46039f\"],[0.2222222222222222,\"#7201a8\"],[0.3333333333333333,\"#9c179e\"],[0.4444444444444444,\"#bd3786\"],[0.5555555555555556,\"#d8576b\"],[0.6666666666666666,\"#ed7953\"],[0.7777777777777778,\"#fb9f3a\"],[0.8888888888888888,\"#fdca26\"],[1.0,\"#f0f921\"]],\"sequentialminus\":[[0.0,\"#0d0887\"],[0.1111111111111111,\"#46039f\"],[0.2222222222222222,\"#7201a8\"],[0.3333333333333333,\"#9c179e\"],[0.4444444444444444,\"#bd3786\"],[0.5555555555555556,\"#d8576b\"],[0.6666666666666666,\"#ed7953\"],[0.7777777777777778,\"#fb9f3a\"],[0.8888888888888888,\"#fdca26\"],[1.0,\"#f0f921\"]],\"diverging\":[[0,\"#8e0152\"],[0.1,\"#c51b7d\"],[0.2,\"#de77ae\"],[0.3,\"#f1b6da\"],[0.4,\"#fde0ef\"],[0.5,\"#f7f7f7\"],[0.6,\"#e6f5d0\"],[0.7,\"#b8e186\"],[0.8,\"#7fbc41\"],[0.9,\"#4d9221\"],[1,\"#276419\"]]},\"xaxis\":{\"gridcolor\":\"white\",\"linecolor\":\"white\",\"ticks\":\"\",\"title\":{\"standoff\":15},\"zerolinecolor\":\"white\",\"automargin\":true,\"zerolinewidth\":2},\"yaxis\":{\"gridcolor\":\"white\",\"linecolor\":\"white\",\"ticks\":\"\",\"title\":{\"standoff\":15},\"zerolinecolor\":\"white\",\"automargin\":true,\"zerolinewidth\":2},\"scene\":{\"xaxis\":{\"backgroundcolor\":\"#E5ECF6\",\"gridcolor\":\"white\",\"linecolor\":\"white\",\"showbackground\":true,\"ticks\":\"\",\"zerolinecolor\":\"white\",\"gridwidth\":2},\"yaxis\":{\"backgroundcolor\":\"#E5ECF6\",\"gridcolor\":\"white\",\"linecolor\":\"white\",\"showbackground\":true,\"ticks\":\"\",\"zerolinecolor\":\"white\",\"gridwidth\":2},\"zaxis\":{\"backgroundcolor\":\"#E5ECF6\",\"gridcolor\":\"white\",\"linecolor\":\"white\",\"showbackground\":true,\"ticks\":\"\",\"zerolinecolor\":\"white\",\"gridwidth\":2}},\"shapedefaults\":{\"line\":{\"color\":\"#2a3f5f\"}},\"annotationdefaults\":{\"arrowcolor\":\"#2a3f5f\",\"arrowhead\":0,\"arrowwidth\":1},\"geo\":{\"bgcolor\":\"white\",\"landcolor\":\"#E5ECF6\",\"subunitcolor\":\"white\",\"showland\":true,\"showlakes\":true,\"lakecolor\":\"white\"},\"title\":{\"x\":0.05},\"mapbox\":{\"style\":\"light\"}}}},                        {\"responsive\": true}                    ).then(function(){\n",
       "                            \n",
       "var gd = document.getElementById('5c74b8fe-35b5-4642-aa15-7f94cd16c443');\n",
       "var x = new MutationObserver(function (mutations, observer) {{\n",
       "        var display = window.getComputedStyle(gd).display;\n",
       "        if (!display || display === 'none') {{\n",
       "            console.log([gd, 'removed!']);\n",
       "            Plotly.purge(gd);\n",
       "            observer.disconnect();\n",
       "        }}\n",
       "}});\n",
       "\n",
       "// Listen for the removal of the full notebook cells\n",
       "var notebookContainer = gd.closest('#notebook-container');\n",
       "if (notebookContainer) {{\n",
       "    x.observe(notebookContainer, {childList: true});\n",
       "}}\n",
       "\n",
       "// Listen for the clearing of the current output cell\n",
       "var outputEl = gd.closest('.output');\n",
       "if (outputEl) {{\n",
       "    x.observe(outputEl, {childList: true});\n",
       "}}\n",
       "\n",
       "                        })                };                });            </script>        </div>"
      ]
     },
     "metadata": {},
     "output_type": "display_data"
    }
   ],
   "source": [
    "patch_pref_epoch_session.show()"
   ]
  },
  {
   "cell_type": "code",
   "execution_count": 133,
   "id": "453d52d7-1175-40f3-bda7-783b82e2412f",
   "metadata": {},
   "outputs": [
    {
     "data": {
      "application/vnd.plotly.v1+json": {
       "config": {
        "plotlyServerURL": "https://plot.ly"
       },
       "data": [
        {
         "line": {
          "color": "rgb(148, 103, 189)"
         },
         "marker": {
          "size": 14
         },
         "mode": "lines+markers",
         "name": "BAA-1103050: 1",
         "type": "scatter",
         "visible": "legendonly",
         "y": [
          0,
          0.06909652367344479,
          0.2668156136292335,
          0.2414909760935502,
          0.19654540259430012,
          0.15736746757372955,
          0.2121595836777797,
          0.18145700649171556,
          0.21776738440100143,
          0.25424352633903496
         ]
        },
        {
         "line": {
          "color": "black"
         },
         "marker": {
          "size": 14
         },
         "mode": "lines+markers",
         "showlegend": false,
         "type": "scatter",
         "visible": true,
         "x": [
          2,
          3
         ],
         "y": [
          0.2668156136292335,
          0.2414909760935502
         ]
        },
        {
         "line": {
          "color": "rgb(31, 119, 180)"
         },
         "marker": {
          "size": 14
         },
         "mode": "lines+markers",
         "name": "BAA-1103045: 1",
         "type": "scatter",
         "visible": "legendonly",
         "y": [
          0,
          0.5122037205671914,
          0.268011025453626,
          0.1783804066800561,
          0.29160394193206113,
          0.41216999767350654,
          0.3573988729792544,
          0.3059253833548782,
          0.35967710853348905,
          0.3528066733616379
         ]
        },
        {
         "line": {
          "color": "black"
         },
         "marker": {
          "size": 14
         },
         "mode": "lines+markers",
         "showlegend": false,
         "type": "scatter",
         "visible": true,
         "x": [
          2,
          3
         ],
         "y": [
          0.268011025453626,
          0.1783804066800561
         ]
        },
        {
         "line": {
          "color": "rgb(44, 160, 44)"
         },
         "marker": {
          "size": 14
         },
         "mode": "lines+markers",
         "name": "BAA-1103048: 1",
         "type": "scatter",
         "visible": "legendonly",
         "y": [
          0,
          0.009501453253348757,
          0.0056203811282433,
          0.043108050586180696,
          0.032299980625257706,
          0.027001013629771205,
          0.022567698268778042,
          0.01942663860050034,
          0.016985994945989763,
          0.015762468381666457
         ]
        },
        {
         "line": {
          "color": "black"
         },
         "marker": {
          "size": 14
         },
         "mode": "lines+markers",
         "showlegend": false,
         "type": "scatter",
         "visible": true,
         "x": [
          3,
          4
         ],
         "y": [
          0.043108050586180696,
          0.032299980625257706
         ]
        },
        {
         "line": {
          "color": "rgb(255, 127, 14)"
         },
         "marker": {
          "size": 14
         },
         "mode": "lines+markers",
         "name": "BAA-1103047: 1",
         "type": "scatter",
         "visible": "legendonly",
         "y": [
          0,
          0.201008772572165,
          0.10048828173618965,
          0.06691301419309648,
          0.05017098461050778,
          0.04014279420184598,
          0.03343814027368693,
          0.028654660702906138,
          0.025081010704845034,
          0.022289804156674402
         ]
        },
        {
         "line": {
          "color": "black"
         },
         "marker": {
          "size": 14
         },
         "mode": "lines+markers",
         "showlegend": false,
         "type": "scatter",
         "visible": true,
         "x": [
          1,
          2
         ],
         "y": [
          0.201008772572165,
          0.10048828173618965
         ]
        },
        {
         "line": {
          "color": "rgb(214, 39, 40)"
         },
         "marker": {
          "size": 14
         },
         "mode": "lines+markers",
         "name": "BAA-1103049: 1",
         "type": "scatter",
         "visible": true,
         "y": [
          0,
          0.40752862309470156,
          0.45704937673077456,
          0.6386268315488512,
          0.7006061647383435,
          0.7595881130845937,
          0.7997682382299477,
          0.8282442692981541,
          0.8432015120520379,
          0.8451222388177029
         ]
        },
        {
         "line": {
          "color": "black"
         },
         "marker": {
          "size": 14
         },
         "mode": "lines+markers",
         "showlegend": false,
         "type": "scatter",
         "visible": true,
         "x": [
          1,
          2
         ],
         "y": [
          0.40752862309470156,
          0.45704937673077456
         ]
        },
        {
         "line": {
          "color": "rgb(44, 160, 44)"
         },
         "marker": {
          "size": 14
         },
         "mode": "lines+markers",
         "name": "BAA-1103048: 2",
         "type": "scatter",
         "visible": "legendonly",
         "y": [
          0,
          0.1266859884464668,
          0.08837536432592485,
          0.058797622570469756,
          0.044067560664564395,
          0.03899646154556148,
          0.032549162004691615,
          0.02789569778205302,
          0.02438891220301592,
          0.022504894002781536
         ]
        },
        {
         "line": {
          "color": "black"
         },
         "marker": {
          "size": 14
         },
         "mode": "lines+markers",
         "showlegend": false,
         "type": "scatter",
         "visible": true,
         "x": [
          2,
          3
         ],
         "y": [
          0.08837536432592485,
          0.058797622570469756
         ]
        },
        {
         "line": {
          "color": "rgb(31, 119, 180)"
         },
         "marker": {
          "size": 14
         },
         "mode": "lines+markers",
         "name": "BAA-1103045: 2",
         "type": "scatter",
         "visible": "legendonly",
         "y": [
          0,
          0.48718061979794414,
          0.3546886074251283,
          0.5277678223769803,
          0.5602573532531343,
          0.6485491117030454,
          0.6502179696427356,
          0.7001778476295498,
          0.737329126225829,
          0.7665923980375637
         ]
        },
        {
         "line": {
          "color": "black"
         },
         "marker": {
          "size": 14
         },
         "mode": "lines+markers",
         "showlegend": false,
         "type": "scatter",
         "visible": true,
         "x": [
          2,
          3
         ],
         "y": [
          0.3546886074251283,
          0.5277678223769803
         ]
        },
        {
         "line": {
          "color": "rgb(214, 39, 40)"
         },
         "marker": {
          "size": 14
         },
         "mode": "lines+markers",
         "name": "BAA-1103049: 2",
         "type": "scatter",
         "visible": true,
         "y": [
          0,
          0.11194368517145097,
          0.06307926689193422,
          0.041921770034915734,
          0.03152950108253872,
          0.025295889589633243,
          0.02107603456360801,
          0.021432769761331724,
          0.01881050571515132,
          0.020604924037734496
         ]
        },
        {
         "line": {
          "color": "black"
         },
         "marker": {
          "size": 14
         },
         "mode": "lines+markers",
         "showlegend": false,
         "type": "scatter",
         "visible": true,
         "x": [
          1,
          2
         ],
         "y": [
          0.11194368517145097,
          0.06307926689193422
         ]
        },
        {
         "line": {
          "color": "rgb(255, 127, 14)"
         },
         "marker": {
          "size": 14
         },
         "mode": "lines+markers",
         "name": "BAA-1103047: 2",
         "type": "scatter",
         "visible": "legendonly",
         "y": [
          0,
          0.21524198573427852,
          0.4900212583057259,
          0.4292988369040925,
          0.3223817536024783,
          0.35311439336577904,
          0.30267000723528786,
          0.3104468493262018,
          0.2796093762248945,
          0.3581630331902255
         ]
        },
        {
         "line": {
          "color": "black"
         },
         "marker": {
          "size": 14
         },
         "mode": "lines+markers",
         "showlegend": false,
         "type": "scatter",
         "visible": true,
         "x": [
          4,
          5
         ],
         "y": [
          0.3223817536024783,
          0.35311439336577904
         ]
        },
        {
         "line": {
          "color": "rgb(148, 103, 189)"
         },
         "marker": {
          "size": 14
         },
         "mode": "lines+markers",
         "name": "BAA-1103050: 2",
         "type": "scatter",
         "visible": "legendonly",
         "y": [
          0,
          0.1463396112335383,
          0.2863590759643062,
          0.2745096677375334,
          0.2724503643482834,
          0.3549809744614569,
          0.39632735973783817,
          0.41591796040800205,
          0.4280358028212743,
          0.47608266491555484
         ]
        },
        {
         "line": {
          "color": "black"
         },
         "marker": {
          "size": 14
         },
         "mode": "lines+markers",
         "showlegend": false,
         "type": "scatter",
         "visible": true,
         "x": [
          2,
          3
         ],
         "y": [
          0.2863590759643062,
          0.2745096677375334
         ]
        },
        {
         "line": {
          "color": "rgb(255, 127, 14)"
         },
         "marker": {
          "size": 14
         },
         "mode": "lines+markers",
         "name": "BAA-1103047: 3",
         "type": "scatter",
         "visible": "legendonly",
         "y": [
          0,
          0.13594273691968606,
          0.23915372850858171,
          0.23322496474558121,
          0.23855732455750245,
          0.1913291072918134,
          0.16625347074691463,
          0.17310659847580284,
          0.187395267336643,
          0.22247965180364898
         ]
        },
        {
         "line": {
          "color": "black"
         },
         "marker": {
          "size": 14
         },
         "mode": "lines+markers",
         "showlegend": false,
         "type": "scatter",
         "visible": true,
         "x": [
          2,
          3
         ],
         "y": [
          0.23915372850858171,
          0.23322496474558121
         ]
        },
        {
         "line": {
          "color": "rgb(214, 39, 40)"
         },
         "marker": {
          "size": 14
         },
         "mode": "lines+markers",
         "name": "BAA-1103049: 3",
         "type": "scatter",
         "visible": true,
         "y": [
          0,
          0.26622925488397536,
          0.31179241497014265,
          0.3898929029739975,
          0.32424991984601986,
          0.35192686704034776,
          0.3661719600562283,
          0.41233151658606293,
          0.4275202391152752,
          0.39371656986142034
         ]
        },
        {
         "line": {
          "color": "black"
         },
         "marker": {
          "size": 14
         },
         "mode": "lines+markers",
         "showlegend": false,
         "type": "scatter",
         "visible": true,
         "x": [
          1,
          2
         ],
         "y": [
          0.26622925488397536,
          0.31179241497014265
         ]
        },
        {
         "line": {
          "color": "rgb(31, 119, 180)"
         },
         "marker": {
          "size": 14
         },
         "mode": "lines+markers",
         "name": "BAA-1103045: 3",
         "type": "scatter",
         "visible": "legendonly",
         "y": [
          0,
          0.049090633633184784,
          0.10400643948525604,
          0.14900225963957112,
          0.2438399804159016,
          0.37113297182855604,
          0.4689603431331456,
          0.5076962275431279,
          0.5449586065136603,
          0.595106459220147
         ]
        },
        {
         "line": {
          "color": "black"
         },
         "marker": {
          "size": 14
         },
         "mode": "lines+markers",
         "showlegend": false,
         "type": "scatter",
         "visible": true,
         "x": [
          2,
          3
         ],
         "y": [
          0.10400643948525604,
          0.14900225963957112
         ]
        },
        {
         "line": {
          "color": "rgb(214, 39, 40)"
         },
         "marker": {
          "size": 14
         },
         "mode": "lines+markers",
         "name": "BAA-1103049: 4",
         "type": "scatter",
         "visible": true,
         "y": [
          0,
          0.20610351640509755,
          0.2952945268765088,
          0.46556274610067744,
          0.5908806207946599,
          0.5889102642492158,
          0.5522879712983617,
          0.6153724704981963,
          0.5935626016919444,
          0.5789664936429466
         ]
        },
        {
         "line": {
          "color": "black"
         },
         "marker": {
          "size": 14
         },
         "mode": "lines+markers",
         "showlegend": false,
         "type": "scatter",
         "visible": true,
         "x": [
          1,
          2
         ],
         "y": [
          0.20610351640509755,
          0.2952945268765088
         ]
        },
        {
         "line": {
          "color": "rgb(148, 103, 189)"
         },
         "marker": {
          "size": 14
         },
         "mode": "lines+markers",
         "name": "BAA-1103050: 3",
         "type": "scatter",
         "visible": "legendonly",
         "y": [
          0,
          0.31072622856681786,
          0.1863327595898308,
          0.16557113587853892,
          0.2705892861519781,
          0.3718612229070113,
          0.41947330757142826,
          0.4741364345242716,
          0.4900736395529498,
          0.5277169112484743
         ]
        },
        {
         "line": {
          "color": "black"
         },
         "marker": {
          "size": 14
         },
         "mode": "lines+markers",
         "showlegend": false,
         "type": "scatter",
         "visible": true,
         "x": [
          1,
          2
         ],
         "y": [
          0.31072622856681786,
          0.1863327595898308
         ]
        },
        {
         "line": {
          "color": "rgb(255, 127, 14)"
         },
         "marker": {
          "size": 14
         },
         "mode": "lines+markers",
         "name": "BAA-1103047: 4",
         "type": "scatter",
         "visible": "legendonly",
         "y": [
          0,
          0.2069078122263922,
          0.3408514168463321,
          0.29687888614228164,
          0.34500749446093615,
          0.38172238772338724,
          0.36930149434632703,
          0.34355883547692345,
          0.35791876691750574,
          0.37044796844214506
         ]
        },
        {
         "line": {
          "color": "black"
         },
         "marker": {
          "size": 14
         },
         "mode": "lines+markers",
         "showlegend": false,
         "type": "scatter",
         "visible": true,
         "x": [
          2,
          3
         ],
         "y": [
          0.3408514168463321,
          0.29687888614228164
         ]
        },
        {
         "line": {
          "color": "rgb(44, 160, 44)"
         },
         "marker": {
          "size": 14
         },
         "mode": "lines+markers",
         "name": "BAA-1103048: 3",
         "type": "scatter",
         "visible": "legendonly",
         "y": [
          0,
          0.0020559352684631983,
          0.007043640704693895,
          0.03814107385486919,
          0.029174630708185552,
          0.028670725797848535,
          0.02653020817433019,
          0.022754667250497823,
          0.07632446706639125,
          0.06976946030979944
         ]
        },
        {
         "line": {
          "color": "black"
         },
         "marker": {
          "size": 14
         },
         "mode": "lines+markers",
         "showlegend": false,
         "type": "scatter",
         "visible": true,
         "x": [
          3,
          4
         ],
         "y": [
          0.03814107385486919,
          0.029174630708185552
         ]
        },
        {
         "line": {
          "color": "rgb(31, 119, 180)"
         },
         "marker": {
          "size": 14
         },
         "mode": "lines+markers",
         "name": "BAA-1103045: 4",
         "type": "scatter",
         "visible": "legendonly",
         "y": [
          0,
          0.2704168292130343,
          0.16857762240911747,
          0.26274104596237385,
          0.25923576704435425,
          0.3583774559723123,
          0.3194926063540012,
          0.29109823313111893,
          0.31408578505641993,
          0.28167035410695707
         ]
        },
        {
         "line": {
          "color": "black"
         },
         "marker": {
          "size": 14
         },
         "mode": "lines+markers",
         "showlegend": false,
         "type": "scatter",
         "visible": true,
         "x": [
          1,
          2
         ],
         "y": [
          0.2704168292130343,
          0.16857762240911747
         ]
        }
       ],
       "layout": {
        "autosize": true,
        "legend": {
         "title": {
          "text": "Session"
         }
        },
        "template": {
         "data": {
          "bar": [
           {
            "error_x": {
             "color": "#2a3f5f"
            },
            "error_y": {
             "color": "#2a3f5f"
            },
            "marker": {
             "line": {
              "color": "#E5ECF6",
              "width": 0.5
             },
             "pattern": {
              "fillmode": "overlay",
              "size": 10,
              "solidity": 0.2
             }
            },
            "type": "bar"
           }
          ],
          "barpolar": [
           {
            "marker": {
             "line": {
              "color": "#E5ECF6",
              "width": 0.5
             },
             "pattern": {
              "fillmode": "overlay",
              "size": 10,
              "solidity": 0.2
             }
            },
            "type": "barpolar"
           }
          ],
          "carpet": [
           {
            "aaxis": {
             "endlinecolor": "#2a3f5f",
             "gridcolor": "white",
             "linecolor": "white",
             "minorgridcolor": "white",
             "startlinecolor": "#2a3f5f"
            },
            "baxis": {
             "endlinecolor": "#2a3f5f",
             "gridcolor": "white",
             "linecolor": "white",
             "minorgridcolor": "white",
             "startlinecolor": "#2a3f5f"
            },
            "type": "carpet"
           }
          ],
          "choropleth": [
           {
            "colorbar": {
             "outlinewidth": 0,
             "ticks": ""
            },
            "type": "choropleth"
           }
          ],
          "contour": [
           {
            "colorbar": {
             "outlinewidth": 0,
             "ticks": ""
            },
            "colorscale": [
             [
              0,
              "#0d0887"
             ],
             [
              0.1111111111111111,
              "#46039f"
             ],
             [
              0.2222222222222222,
              "#7201a8"
             ],
             [
              0.3333333333333333,
              "#9c179e"
             ],
             [
              0.4444444444444444,
              "#bd3786"
             ],
             [
              0.5555555555555556,
              "#d8576b"
             ],
             [
              0.6666666666666666,
              "#ed7953"
             ],
             [
              0.7777777777777778,
              "#fb9f3a"
             ],
             [
              0.8888888888888888,
              "#fdca26"
             ],
             [
              1,
              "#f0f921"
             ]
            ],
            "type": "contour"
           }
          ],
          "contourcarpet": [
           {
            "colorbar": {
             "outlinewidth": 0,
             "ticks": ""
            },
            "type": "contourcarpet"
           }
          ],
          "heatmap": [
           {
            "colorbar": {
             "outlinewidth": 0,
             "ticks": ""
            },
            "colorscale": [
             [
              0,
              "#0d0887"
             ],
             [
              0.1111111111111111,
              "#46039f"
             ],
             [
              0.2222222222222222,
              "#7201a8"
             ],
             [
              0.3333333333333333,
              "#9c179e"
             ],
             [
              0.4444444444444444,
              "#bd3786"
             ],
             [
              0.5555555555555556,
              "#d8576b"
             ],
             [
              0.6666666666666666,
              "#ed7953"
             ],
             [
              0.7777777777777778,
              "#fb9f3a"
             ],
             [
              0.8888888888888888,
              "#fdca26"
             ],
             [
              1,
              "#f0f921"
             ]
            ],
            "type": "heatmap"
           }
          ],
          "heatmapgl": [
           {
            "colorbar": {
             "outlinewidth": 0,
             "ticks": ""
            },
            "colorscale": [
             [
              0,
              "#0d0887"
             ],
             [
              0.1111111111111111,
              "#46039f"
             ],
             [
              0.2222222222222222,
              "#7201a8"
             ],
             [
              0.3333333333333333,
              "#9c179e"
             ],
             [
              0.4444444444444444,
              "#bd3786"
             ],
             [
              0.5555555555555556,
              "#d8576b"
             ],
             [
              0.6666666666666666,
              "#ed7953"
             ],
             [
              0.7777777777777778,
              "#fb9f3a"
             ],
             [
              0.8888888888888888,
              "#fdca26"
             ],
             [
              1,
              "#f0f921"
             ]
            ],
            "type": "heatmapgl"
           }
          ],
          "histogram": [
           {
            "marker": {
             "pattern": {
              "fillmode": "overlay",
              "size": 10,
              "solidity": 0.2
             }
            },
            "type": "histogram"
           }
          ],
          "histogram2d": [
           {
            "colorbar": {
             "outlinewidth": 0,
             "ticks": ""
            },
            "colorscale": [
             [
              0,
              "#0d0887"
             ],
             [
              0.1111111111111111,
              "#46039f"
             ],
             [
              0.2222222222222222,
              "#7201a8"
             ],
             [
              0.3333333333333333,
              "#9c179e"
             ],
             [
              0.4444444444444444,
              "#bd3786"
             ],
             [
              0.5555555555555556,
              "#d8576b"
             ],
             [
              0.6666666666666666,
              "#ed7953"
             ],
             [
              0.7777777777777778,
              "#fb9f3a"
             ],
             [
              0.8888888888888888,
              "#fdca26"
             ],
             [
              1,
              "#f0f921"
             ]
            ],
            "type": "histogram2d"
           }
          ],
          "histogram2dcontour": [
           {
            "colorbar": {
             "outlinewidth": 0,
             "ticks": ""
            },
            "colorscale": [
             [
              0,
              "#0d0887"
             ],
             [
              0.1111111111111111,
              "#46039f"
             ],
             [
              0.2222222222222222,
              "#7201a8"
             ],
             [
              0.3333333333333333,
              "#9c179e"
             ],
             [
              0.4444444444444444,
              "#bd3786"
             ],
             [
              0.5555555555555556,
              "#d8576b"
             ],
             [
              0.6666666666666666,
              "#ed7953"
             ],
             [
              0.7777777777777778,
              "#fb9f3a"
             ],
             [
              0.8888888888888888,
              "#fdca26"
             ],
             [
              1,
              "#f0f921"
             ]
            ],
            "type": "histogram2dcontour"
           }
          ],
          "mesh3d": [
           {
            "colorbar": {
             "outlinewidth": 0,
             "ticks": ""
            },
            "type": "mesh3d"
           }
          ],
          "parcoords": [
           {
            "line": {
             "colorbar": {
              "outlinewidth": 0,
              "ticks": ""
             }
            },
            "type": "parcoords"
           }
          ],
          "pie": [
           {
            "automargin": true,
            "type": "pie"
           }
          ],
          "scatter": [
           {
            "fillpattern": {
             "fillmode": "overlay",
             "size": 10,
             "solidity": 0.2
            },
            "type": "scatter"
           }
          ],
          "scatter3d": [
           {
            "line": {
             "colorbar": {
              "outlinewidth": 0,
              "ticks": ""
             }
            },
            "marker": {
             "colorbar": {
              "outlinewidth": 0,
              "ticks": ""
             }
            },
            "type": "scatter3d"
           }
          ],
          "scattercarpet": [
           {
            "marker": {
             "colorbar": {
              "outlinewidth": 0,
              "ticks": ""
             }
            },
            "type": "scattercarpet"
           }
          ],
          "scattergeo": [
           {
            "marker": {
             "colorbar": {
              "outlinewidth": 0,
              "ticks": ""
             }
            },
            "type": "scattergeo"
           }
          ],
          "scattergl": [
           {
            "marker": {
             "colorbar": {
              "outlinewidth": 0,
              "ticks": ""
             }
            },
            "type": "scattergl"
           }
          ],
          "scattermapbox": [
           {
            "marker": {
             "colorbar": {
              "outlinewidth": 0,
              "ticks": ""
             }
            },
            "type": "scattermapbox"
           }
          ],
          "scatterpolar": [
           {
            "marker": {
             "colorbar": {
              "outlinewidth": 0,
              "ticks": ""
             }
            },
            "type": "scatterpolar"
           }
          ],
          "scatterpolargl": [
           {
            "marker": {
             "colorbar": {
              "outlinewidth": 0,
              "ticks": ""
             }
            },
            "type": "scatterpolargl"
           }
          ],
          "scatterternary": [
           {
            "marker": {
             "colorbar": {
              "outlinewidth": 0,
              "ticks": ""
             }
            },
            "type": "scatterternary"
           }
          ],
          "surface": [
           {
            "colorbar": {
             "outlinewidth": 0,
             "ticks": ""
            },
            "colorscale": [
             [
              0,
              "#0d0887"
             ],
             [
              0.1111111111111111,
              "#46039f"
             ],
             [
              0.2222222222222222,
              "#7201a8"
             ],
             [
              0.3333333333333333,
              "#9c179e"
             ],
             [
              0.4444444444444444,
              "#bd3786"
             ],
             [
              0.5555555555555556,
              "#d8576b"
             ],
             [
              0.6666666666666666,
              "#ed7953"
             ],
             [
              0.7777777777777778,
              "#fb9f3a"
             ],
             [
              0.8888888888888888,
              "#fdca26"
             ],
             [
              1,
              "#f0f921"
             ]
            ],
            "type": "surface"
           }
          ],
          "table": [
           {
            "cells": {
             "fill": {
              "color": "#EBF0F8"
             },
             "line": {
              "color": "white"
             }
            },
            "header": {
             "fill": {
              "color": "#C8D4E3"
             },
             "line": {
              "color": "white"
             }
            },
            "type": "table"
           }
          ]
         },
         "layout": {
          "annotationdefaults": {
           "arrowcolor": "#2a3f5f",
           "arrowhead": 0,
           "arrowwidth": 1
          },
          "autotypenumbers": "strict",
          "coloraxis": {
           "colorbar": {
            "outlinewidth": 0,
            "ticks": ""
           }
          },
          "colorscale": {
           "diverging": [
            [
             0,
             "#8e0152"
            ],
            [
             0.1,
             "#c51b7d"
            ],
            [
             0.2,
             "#de77ae"
            ],
            [
             0.3,
             "#f1b6da"
            ],
            [
             0.4,
             "#fde0ef"
            ],
            [
             0.5,
             "#f7f7f7"
            ],
            [
             0.6,
             "#e6f5d0"
            ],
            [
             0.7,
             "#b8e186"
            ],
            [
             0.8,
             "#7fbc41"
            ],
            [
             0.9,
             "#4d9221"
            ],
            [
             1,
             "#276419"
            ]
           ],
           "sequential": [
            [
             0,
             "#0d0887"
            ],
            [
             0.1111111111111111,
             "#46039f"
            ],
            [
             0.2222222222222222,
             "#7201a8"
            ],
            [
             0.3333333333333333,
             "#9c179e"
            ],
            [
             0.4444444444444444,
             "#bd3786"
            ],
            [
             0.5555555555555556,
             "#d8576b"
            ],
            [
             0.6666666666666666,
             "#ed7953"
            ],
            [
             0.7777777777777778,
             "#fb9f3a"
            ],
            [
             0.8888888888888888,
             "#fdca26"
            ],
            [
             1,
             "#f0f921"
            ]
           ],
           "sequentialminus": [
            [
             0,
             "#0d0887"
            ],
            [
             0.1111111111111111,
             "#46039f"
            ],
            [
             0.2222222222222222,
             "#7201a8"
            ],
            [
             0.3333333333333333,
             "#9c179e"
            ],
            [
             0.4444444444444444,
             "#bd3786"
            ],
            [
             0.5555555555555556,
             "#d8576b"
            ],
            [
             0.6666666666666666,
             "#ed7953"
            ],
            [
             0.7777777777777778,
             "#fb9f3a"
            ],
            [
             0.8888888888888888,
             "#fdca26"
            ],
            [
             1,
             "#f0f921"
            ]
           ]
          },
          "colorway": [
           "#636efa",
           "#EF553B",
           "#00cc96",
           "#ab63fa",
           "#FFA15A",
           "#19d3f3",
           "#FF6692",
           "#B6E880",
           "#FF97FF",
           "#FECB52"
          ],
          "font": {
           "color": "#2a3f5f"
          },
          "geo": {
           "bgcolor": "white",
           "lakecolor": "white",
           "landcolor": "#E5ECF6",
           "showlakes": true,
           "showland": true,
           "subunitcolor": "white"
          },
          "hoverlabel": {
           "align": "left"
          },
          "hovermode": "closest",
          "mapbox": {
           "style": "light"
          },
          "paper_bgcolor": "white",
          "plot_bgcolor": "#E5ECF6",
          "polar": {
           "angularaxis": {
            "gridcolor": "white",
            "linecolor": "white",
            "ticks": ""
           },
           "bgcolor": "#E5ECF6",
           "radialaxis": {
            "gridcolor": "white",
            "linecolor": "white",
            "ticks": ""
           }
          },
          "scene": {
           "xaxis": {
            "backgroundcolor": "#E5ECF6",
            "gridcolor": "white",
            "gridwidth": 2,
            "linecolor": "white",
            "showbackground": true,
            "ticks": "",
            "zerolinecolor": "white"
           },
           "yaxis": {
            "backgroundcolor": "#E5ECF6",
            "gridcolor": "white",
            "gridwidth": 2,
            "linecolor": "white",
            "showbackground": true,
            "ticks": "",
            "zerolinecolor": "white"
           },
           "zaxis": {
            "backgroundcolor": "#E5ECF6",
            "gridcolor": "white",
            "gridwidth": 2,
            "linecolor": "white",
            "showbackground": true,
            "ticks": "",
            "zerolinecolor": "white"
           }
          },
          "shapedefaults": {
           "line": {
            "color": "#2a3f5f"
           }
          },
          "ternary": {
           "aaxis": {
            "gridcolor": "white",
            "linecolor": "white",
            "ticks": ""
           },
           "baxis": {
            "gridcolor": "white",
            "linecolor": "white",
            "ticks": ""
           },
           "bgcolor": "#E5ECF6",
           "caxis": {
            "gridcolor": "white",
            "linecolor": "white",
            "ticks": ""
           }
          },
          "title": {
           "x": 0.05
          },
          "xaxis": {
           "automargin": true,
           "gridcolor": "white",
           "linecolor": "white",
           "ticks": "",
           "title": {
            "standoff": 15
           },
           "zerolinecolor": "white",
           "zerolinewidth": 2
          },
          "yaxis": {
           "automargin": true,
           "gridcolor": "white",
           "linecolor": "white",
           "ticks": "",
           "title": {
            "standoff": 15
           },
           "zerolinecolor": "white",
           "zerolinewidth": 2
          }
         }
        },
        "title": {
         "text": "Cumulative Patch Preference by Quantile within Session"
        },
        "xaxis": {
         "autorange": true,
         "range": [
          -0.613769340787934,
          9.613769340787934
         ],
         "title": {
          "text": "Quantile"
         },
         "type": "linear"
        },
        "yaxis": {
         "autorange": true,
         "range": [
          -0.10381259334957942,
          0.9489348321672822
         ],
         "title": {
          "text": "Easy Patch Preference"
         },
         "type": "linear"
        }
       }
      },
      "image/png": "[encoded data removed]",
      "text/html": [
       "<div>                            <div id=\"69c8e3ce-0ec2-49f2-8afa-c4e09ff48569\" class=\"plotly-graph-div\" style=\"height:525px; width:100%;\"></div>            <script type=\"text/javascript\">                require([\"plotly\"], function(Plotly) {                    window.PLOTLYENV=window.PLOTLYENV || {};                                    if (document.getElementById(\"69c8e3ce-0ec2-49f2-8afa-c4e09ff48569\")) {                    Plotly.newPlot(                        \"69c8e3ce-0ec2-49f2-8afa-c4e09ff48569\",                        [{\"line\":{\"color\":\"rgb(148, 103, 189)\"},\"marker\":{\"size\":14},\"mode\":\"lines+markers\",\"name\":\"BAA-1103050: 1\",\"y\":[0.0,0.06909652367344479,0.2668156136292335,0.2414909760935502,0.19654540259430012,0.15736746757372955,0.2121595836777797,0.18145700649171556,0.21776738440100143,0.25424352633903496],\"type\":\"scatter\"},{\"line\":{\"color\":\"black\"},\"marker\":{\"size\":14},\"mode\":\"lines+markers\",\"showlegend\":false,\"x\":[2,3],\"y\":[0.2668156136292335,0.2414909760935502],\"type\":\"scatter\"},{\"line\":{\"color\":\"rgb(31, 119, 180)\"},\"marker\":{\"size\":14},\"mode\":\"lines+markers\",\"name\":\"BAA-1103045: 1\",\"y\":[0.0,0.5122037205671914,0.268011025453626,0.1783804066800561,0.29160394193206113,0.41216999767350654,0.3573988729792544,0.3059253833548782,0.35967710853348905,0.3528066733616379],\"type\":\"scatter\"},{\"line\":{\"color\":\"black\"},\"marker\":{\"size\":14},\"mode\":\"lines+markers\",\"showlegend\":false,\"x\":[2,3],\"y\":[0.268011025453626,0.1783804066800561],\"type\":\"scatter\"},{\"line\":{\"color\":\"rgb(44, 160, 44)\"},\"marker\":{\"size\":14},\"mode\":\"lines+markers\",\"name\":\"BAA-1103048: 1\",\"y\":[0.0,0.009501453253348757,0.0056203811282433,0.043108050586180696,0.032299980625257706,0.027001013629771205,0.022567698268778042,0.01942663860050034,0.016985994945989763,0.015762468381666457],\"type\":\"scatter\"},{\"line\":{\"color\":\"black\"},\"marker\":{\"size\":14},\"mode\":\"lines+markers\",\"showlegend\":false,\"x\":[3,4],\"y\":[0.043108050586180696,0.032299980625257706],\"type\":\"scatter\"},{\"line\":{\"color\":\"rgb(255, 127, 14)\"},\"marker\":{\"size\":14},\"mode\":\"lines+markers\",\"name\":\"BAA-1103047: 1\",\"y\":[0.0,0.201008772572165,0.10048828173618965,0.06691301419309648,0.05017098461050778,0.04014279420184598,0.03343814027368693,0.028654660702906138,0.025081010704845034,0.022289804156674402],\"type\":\"scatter\"},{\"line\":{\"color\":\"black\"},\"marker\":{\"size\":14},\"mode\":\"lines+markers\",\"showlegend\":false,\"x\":[1,2],\"y\":[0.201008772572165,0.10048828173618965],\"type\":\"scatter\"},{\"line\":{\"color\":\"rgb(214, 39, 40)\"},\"marker\":{\"size\":14},\"mode\":\"lines+markers\",\"name\":\"BAA-1103049: 1\",\"y\":[0.0,0.40752862309470156,0.45704937673077456,0.6386268315488512,0.7006061647383435,0.7595881130845937,0.7997682382299477,0.8282442692981541,0.8432015120520379,0.8451222388177029],\"type\":\"scatter\"},{\"line\":{\"color\":\"black\"},\"marker\":{\"size\":14},\"mode\":\"lines+markers\",\"showlegend\":false,\"x\":[1,2],\"y\":[0.40752862309470156,0.45704937673077456],\"type\":\"scatter\"},{\"line\":{\"color\":\"rgb(44, 160, 44)\"},\"marker\":{\"size\":14},\"mode\":\"lines+markers\",\"name\":\"BAA-1103048: 2\",\"y\":[0.0,0.1266859884464668,0.08837536432592485,0.058797622570469756,0.044067560664564395,0.03899646154556148,0.032549162004691615,0.02789569778205302,0.02438891220301592,0.022504894002781536],\"type\":\"scatter\"},{\"line\":{\"color\":\"black\"},\"marker\":{\"size\":14},\"mode\":\"lines+markers\",\"showlegend\":false,\"x\":[2,3],\"y\":[0.08837536432592485,0.058797622570469756],\"type\":\"scatter\"},{\"line\":{\"color\":\"rgb(31, 119, 180)\"},\"marker\":{\"size\":14},\"mode\":\"lines+markers\",\"name\":\"BAA-1103045: 2\",\"y\":[0.0,0.48718061979794414,0.3546886074251283,0.5277678223769803,0.5602573532531343,0.6485491117030454,0.6502179696427356,0.7001778476295498,0.737329126225829,0.7665923980375637],\"type\":\"scatter\"},{\"line\":{\"color\":\"black\"},\"marker\":{\"size\":14},\"mode\":\"lines+markers\",\"showlegend\":false,\"x\":[2,3],\"y\":[0.3546886074251283,0.5277678223769803],\"type\":\"scatter\"},{\"line\":{\"color\":\"rgb(214, 39, 40)\"},\"marker\":{\"size\":14},\"mode\":\"lines+markers\",\"name\":\"BAA-1103049: 2\",\"y\":[0.0,0.11194368517145097,0.06307926689193422,0.041921770034915734,0.03152950108253872,0.025295889589633243,0.02107603456360801,0.021432769761331724,0.01881050571515132,0.020604924037734496],\"type\":\"scatter\"},{\"line\":{\"color\":\"black\"},\"marker\":{\"size\":14},\"mode\":\"lines+markers\",\"showlegend\":false,\"x\":[1,2],\"y\":[0.11194368517145097,0.06307926689193422],\"type\":\"scatter\"},{\"line\":{\"color\":\"rgb(255, 127, 14)\"},\"marker\":{\"size\":14},\"mode\":\"lines+markers\",\"name\":\"BAA-1103047: 2\",\"y\":[0.0,0.21524198573427852,0.4900212583057259,0.4292988369040925,0.3223817536024783,0.35311439336577904,0.30267000723528786,0.3104468493262018,0.2796093762248945,0.3581630331902255],\"type\":\"scatter\"},{\"line\":{\"color\":\"black\"},\"marker\":{\"size\":14},\"mode\":\"lines+markers\",\"showlegend\":false,\"x\":[4,5],\"y\":[0.3223817536024783,0.35311439336577904],\"type\":\"scatter\"},{\"line\":{\"color\":\"rgb(148, 103, 189)\"},\"marker\":{\"size\":14},\"mode\":\"lines+markers\",\"name\":\"BAA-1103050: 2\",\"y\":[0.0,0.1463396112335383,0.2863590759643062,0.2745096677375334,0.2724503643482834,0.3549809744614569,0.39632735973783817,0.41591796040800205,0.4280358028212743,0.47608266491555484],\"type\":\"scatter\"},{\"line\":{\"color\":\"black\"},\"marker\":{\"size\":14},\"mode\":\"lines+markers\",\"showlegend\":false,\"x\":[2,3],\"y\":[0.2863590759643062,0.2745096677375334],\"type\":\"scatter\"},{\"line\":{\"color\":\"rgb(255, 127, 14)\"},\"marker\":{\"size\":14},\"mode\":\"lines+markers\",\"name\":\"BAA-1103047: 3\",\"y\":[0.0,0.13594273691968606,0.23915372850858171,0.23322496474558121,0.23855732455750245,0.1913291072918134,0.16625347074691463,0.17310659847580284,0.187395267336643,0.22247965180364898],\"type\":\"scatter\"},{\"line\":{\"color\":\"black\"},\"marker\":{\"size\":14},\"mode\":\"lines+markers\",\"showlegend\":false,\"x\":[2,3],\"y\":[0.23915372850858171,0.23322496474558121],\"type\":\"scatter\"},{\"line\":{\"color\":\"rgb(214, 39, 40)\"},\"marker\":{\"size\":14},\"mode\":\"lines+markers\",\"name\":\"BAA-1103049: 3\",\"y\":[0.0,0.26622925488397536,0.31179241497014265,0.3898929029739975,0.32424991984601986,0.35192686704034776,0.3661719600562283,0.41233151658606293,0.4275202391152752,0.39371656986142034],\"type\":\"scatter\"},{\"line\":{\"color\":\"black\"},\"marker\":{\"size\":14},\"mode\":\"lines+markers\",\"showlegend\":false,\"x\":[1,2],\"y\":[0.26622925488397536,0.31179241497014265],\"type\":\"scatter\"},{\"line\":{\"color\":\"rgb(31, 119, 180)\"},\"marker\":{\"size\":14},\"mode\":\"lines+markers\",\"name\":\"BAA-1103045: 3\",\"y\":[0.0,0.049090633633184784,0.10400643948525604,0.14900225963957112,0.2438399804159016,0.37113297182855604,0.4689603431331456,0.5076962275431279,0.5449586065136603,0.595106459220147],\"type\":\"scatter\"},{\"line\":{\"color\":\"black\"},\"marker\":{\"size\":14},\"mode\":\"lines+markers\",\"showlegend\":false,\"x\":[2,3],\"y\":[0.10400643948525604,0.14900225963957112],\"type\":\"scatter\"},{\"line\":{\"color\":\"rgb(214, 39, 40)\"},\"marker\":{\"size\":14},\"mode\":\"lines+markers\",\"name\":\"BAA-1103049: 4\",\"y\":[0.0,0.20610351640509755,0.2952945268765088,0.46556274610067744,0.5908806207946599,0.5889102642492158,0.5522879712983617,0.6153724704981963,0.5935626016919444,0.5789664936429466],\"type\":\"scatter\"},{\"line\":{\"color\":\"black\"},\"marker\":{\"size\":14},\"mode\":\"lines+markers\",\"showlegend\":false,\"x\":[1,2],\"y\":[0.20610351640509755,0.2952945268765088],\"type\":\"scatter\"},{\"line\":{\"color\":\"rgb(148, 103, 189)\"},\"marker\":{\"size\":14},\"mode\":\"lines+markers\",\"name\":\"BAA-1103050: 3\",\"y\":[0.0,0.31072622856681786,0.1863327595898308,0.16557113587853892,0.2705892861519781,0.3718612229070113,0.41947330757142826,0.4741364345242716,0.4900736395529498,0.5277169112484743],\"type\":\"scatter\"},{\"line\":{\"color\":\"black\"},\"marker\":{\"size\":14},\"mode\":\"lines+markers\",\"showlegend\":false,\"x\":[1,2],\"y\":[0.31072622856681786,0.1863327595898308],\"type\":\"scatter\"},{\"line\":{\"color\":\"rgb(255, 127, 14)\"},\"marker\":{\"size\":14},\"mode\":\"lines+markers\",\"name\":\"BAA-1103047: 4\",\"y\":[0.0,0.2069078122263922,0.3408514168463321,0.29687888614228164,0.34500749446093615,0.38172238772338724,0.36930149434632703,0.34355883547692345,0.35791876691750574,0.37044796844214506],\"type\":\"scatter\"},{\"line\":{\"color\":\"black\"},\"marker\":{\"size\":14},\"mode\":\"lines+markers\",\"showlegend\":false,\"x\":[2,3],\"y\":[0.3408514168463321,0.29687888614228164],\"type\":\"scatter\"},{\"line\":{\"color\":\"rgb(44, 160, 44)\"},\"marker\":{\"size\":14},\"mode\":\"lines+markers\",\"name\":\"BAA-1103048: 3\",\"y\":[0.0,0.0020559352684631983,0.007043640704693895,0.03814107385486919,0.029174630708185552,0.028670725797848535,0.02653020817433019,0.022754667250497823,0.07632446706639125,0.06976946030979944],\"type\":\"scatter\"},{\"line\":{\"color\":\"black\"},\"marker\":{\"size\":14},\"mode\":\"lines+markers\",\"showlegend\":false,\"x\":[3,4],\"y\":[0.03814107385486919,0.029174630708185552],\"type\":\"scatter\"},{\"line\":{\"color\":\"rgb(31, 119, 180)\"},\"marker\":{\"size\":14},\"mode\":\"lines+markers\",\"name\":\"BAA-1103045: 4\",\"y\":[0.0,0.2704168292130343,0.16857762240911747,0.26274104596237385,0.25923576704435425,0.3583774559723123,0.3194926063540012,0.29109823313111893,0.31408578505641993,0.28167035410695707],\"type\":\"scatter\"},{\"line\":{\"color\":\"black\"},\"marker\":{\"size\":14},\"mode\":\"lines+markers\",\"showlegend\":false,\"x\":[1,2],\"y\":[0.2704168292130343,0.16857762240911747],\"type\":\"scatter\"}],                        {\"template\":{\"data\":{\"histogram2dcontour\":[{\"type\":\"histogram2dcontour\",\"colorbar\":{\"outlinewidth\":0,\"ticks\":\"\"},\"colorscale\":[[0.0,\"#0d0887\"],[0.1111111111111111,\"#46039f\"],[0.2222222222222222,\"#7201a8\"],[0.3333333333333333,\"#9c179e\"],[0.4444444444444444,\"#bd3786\"],[0.5555555555555556,\"#d8576b\"],[0.6666666666666666,\"#ed7953\"],[0.7777777777777778,\"#fb9f3a\"],[0.8888888888888888,\"#fdca26\"],[1.0,\"#f0f921\"]]}],\"choropleth\":[{\"type\":\"choropleth\",\"colorbar\":{\"outlinewidth\":0,\"ticks\":\"\"}}],\"histogram2d\":[{\"type\":\"histogram2d\",\"colorbar\":{\"outlinewidth\":0,\"ticks\":\"\"},\"colorscale\":[[0.0,\"#0d0887\"],[0.1111111111111111,\"#46039f\"],[0.2222222222222222,\"#7201a8\"],[0.3333333333333333,\"#9c179e\"],[0.4444444444444444,\"#bd3786\"],[0.5555555555555556,\"#d8576b\"],[0.6666666666666666,\"#ed7953\"],[0.7777777777777778,\"#fb9f3a\"],[0.8888888888888888,\"#fdca26\"],[1.0,\"#f0f921\"]]}],\"heatmap\":[{\"type\":\"heatmap\",\"colorbar\":{\"outlinewidth\":0,\"ticks\":\"\"},\"colorscale\":[[0.0,\"#0d0887\"],[0.1111111111111111,\"#46039f\"],[0.2222222222222222,\"#7201a8\"],[0.3333333333333333,\"#9c179e\"],[0.4444444444444444,\"#bd3786\"],[0.5555555555555556,\"#d8576b\"],[0.6666666666666666,\"#ed7953\"],[0.7777777777777778,\"#fb9f3a\"],[0.8888888888888888,\"#fdca26\"],[1.0,\"#f0f921\"]]}],\"heatmapgl\":[{\"type\":\"heatmapgl\",\"colorbar\":{\"outlinewidth\":0,\"ticks\":\"\"},\"colorscale\":[[0.0,\"#0d0887\"],[0.1111111111111111,\"#46039f\"],[0.2222222222222222,\"#7201a8\"],[0.3333333333333333,\"#9c179e\"],[0.4444444444444444,\"#bd3786\"],[0.5555555555555556,\"#d8576b\"],[0.6666666666666666,\"#ed7953\"],[0.7777777777777778,\"#fb9f3a\"],[0.8888888888888888,\"#fdca26\"],[1.0,\"#f0f921\"]]}],\"contourcarpet\":[{\"type\":\"contourcarpet\",\"colorbar\":{\"outlinewidth\":0,\"ticks\":\"\"}}],\"contour\":[{\"type\":\"contour\",\"colorbar\":{\"outlinewidth\":0,\"ticks\":\"\"},\"colorscale\":[[0.0,\"#0d0887\"],[0.1111111111111111,\"#46039f\"],[0.2222222222222222,\"#7201a8\"],[0.3333333333333333,\"#9c179e\"],[0.4444444444444444,\"#bd3786\"],[0.5555555555555556,\"#d8576b\"],[0.6666666666666666,\"#ed7953\"],[0.7777777777777778,\"#fb9f3a\"],[0.8888888888888888,\"#fdca26\"],[1.0,\"#f0f921\"]]}],\"surface\":[{\"type\":\"surface\",\"colorbar\":{\"outlinewidth\":0,\"ticks\":\"\"},\"colorscale\":[[0.0,\"#0d0887\"],[0.1111111111111111,\"#46039f\"],[0.2222222222222222,\"#7201a8\"],[0.3333333333333333,\"#9c179e\"],[0.4444444444444444,\"#bd3786\"],[0.5555555555555556,\"#d8576b\"],[0.6666666666666666,\"#ed7953\"],[0.7777777777777778,\"#fb9f3a\"],[0.8888888888888888,\"#fdca26\"],[1.0,\"#f0f921\"]]}],\"mesh3d\":[{\"type\":\"mesh3d\",\"colorbar\":{\"outlinewidth\":0,\"ticks\":\"\"}}],\"scatter\":[{\"fillpattern\":{\"fillmode\":\"overlay\",\"size\":10,\"solidity\":0.2},\"type\":\"scatter\"}],\"parcoords\":[{\"type\":\"parcoords\",\"line\":{\"colorbar\":{\"outlinewidth\":0,\"ticks\":\"\"}}}],\"scatterpolargl\":[{\"type\":\"scatterpolargl\",\"marker\":{\"colorbar\":{\"outlinewidth\":0,\"ticks\":\"\"}}}],\"bar\":[{\"error_x\":{\"color\":\"#2a3f5f\"},\"error_y\":{\"color\":\"#2a3f5f\"},\"marker\":{\"line\":{\"color\":\"#E5ECF6\",\"width\":0.5},\"pattern\":{\"fillmode\":\"overlay\",\"size\":10,\"solidity\":0.2}},\"type\":\"bar\"}],\"scattergeo\":[{\"type\":\"scattergeo\",\"marker\":{\"colorbar\":{\"outlinewidth\":0,\"ticks\":\"\"}}}],\"scatterpolar\":[{\"type\":\"scatterpolar\",\"marker\":{\"colorbar\":{\"outlinewidth\":0,\"ticks\":\"\"}}}],\"histogram\":[{\"marker\":{\"pattern\":{\"fillmode\":\"overlay\",\"size\":10,\"solidity\":0.2}},\"type\":\"histogram\"}],\"scattergl\":[{\"type\":\"scattergl\",\"marker\":{\"colorbar\":{\"outlinewidth\":0,\"ticks\":\"\"}}}],\"scatter3d\":[{\"type\":\"scatter3d\",\"line\":{\"colorbar\":{\"outlinewidth\":0,\"ticks\":\"\"}},\"marker\":{\"colorbar\":{\"outlinewidth\":0,\"ticks\":\"\"}}}],\"scattermapbox\":[{\"type\":\"scattermapbox\",\"marker\":{\"colorbar\":{\"outlinewidth\":0,\"ticks\":\"\"}}}],\"scatterternary\":[{\"type\":\"scatterternary\",\"marker\":{\"colorbar\":{\"outlinewidth\":0,\"ticks\":\"\"}}}],\"scattercarpet\":[{\"type\":\"scattercarpet\",\"marker\":{\"colorbar\":{\"outlinewidth\":0,\"ticks\":\"\"}}}],\"carpet\":[{\"aaxis\":{\"endlinecolor\":\"#2a3f5f\",\"gridcolor\":\"white\",\"linecolor\":\"white\",\"minorgridcolor\":\"white\",\"startlinecolor\":\"#2a3f5f\"},\"baxis\":{\"endlinecolor\":\"#2a3f5f\",\"gridcolor\":\"white\",\"linecolor\":\"white\",\"minorgridcolor\":\"white\",\"startlinecolor\":\"#2a3f5f\"},\"type\":\"carpet\"}],\"table\":[{\"cells\":{\"fill\":{\"color\":\"#EBF0F8\"},\"line\":{\"color\":\"white\"}},\"header\":{\"fill\":{\"color\":\"#C8D4E3\"},\"line\":{\"color\":\"white\"}},\"type\":\"table\"}],\"barpolar\":[{\"marker\":{\"line\":{\"color\":\"#E5ECF6\",\"width\":0.5},\"pattern\":{\"fillmode\":\"overlay\",\"size\":10,\"solidity\":0.2}},\"type\":\"barpolar\"}],\"pie\":[{\"automargin\":true,\"type\":\"pie\"}]},\"layout\":{\"autotypenumbers\":\"strict\",\"colorway\":[\"#636efa\",\"#EF553B\",\"#00cc96\",\"#ab63fa\",\"#FFA15A\",\"#19d3f3\",\"#FF6692\",\"#B6E880\",\"#FF97FF\",\"#FECB52\"],\"font\":{\"color\":\"#2a3f5f\"},\"hovermode\":\"closest\",\"hoverlabel\":{\"align\":\"left\"},\"paper_bgcolor\":\"white\",\"plot_bgcolor\":\"#E5ECF6\",\"polar\":{\"bgcolor\":\"#E5ECF6\",\"angularaxis\":{\"gridcolor\":\"white\",\"linecolor\":\"white\",\"ticks\":\"\"},\"radialaxis\":{\"gridcolor\":\"white\",\"linecolor\":\"white\",\"ticks\":\"\"}},\"ternary\":{\"bgcolor\":\"#E5ECF6\",\"aaxis\":{\"gridcolor\":\"white\",\"linecolor\":\"white\",\"ticks\":\"\"},\"baxis\":{\"gridcolor\":\"white\",\"linecolor\":\"white\",\"ticks\":\"\"},\"caxis\":{\"gridcolor\":\"white\",\"linecolor\":\"white\",\"ticks\":\"\"}},\"coloraxis\":{\"colorbar\":{\"outlinewidth\":0,\"ticks\":\"\"}},\"colorscale\":{\"sequential\":[[0.0,\"#0d0887\"],[0.1111111111111111,\"#46039f\"],[0.2222222222222222,\"#7201a8\"],[0.3333333333333333,\"#9c179e\"],[0.4444444444444444,\"#bd3786\"],[0.5555555555555556,\"#d8576b\"],[0.6666666666666666,\"#ed7953\"],[0.7777777777777778,\"#fb9f3a\"],[0.8888888888888888,\"#fdca26\"],[1.0,\"#f0f921\"]],\"sequentialminus\":[[0.0,\"#0d0887\"],[0.1111111111111111,\"#46039f\"],[0.2222222222222222,\"#7201a8\"],[0.3333333333333333,\"#9c179e\"],[0.4444444444444444,\"#bd3786\"],[0.5555555555555556,\"#d8576b\"],[0.6666666666666666,\"#ed7953\"],[0.7777777777777778,\"#fb9f3a\"],[0.8888888888888888,\"#fdca26\"],[1.0,\"#f0f921\"]],\"diverging\":[[0,\"#8e0152\"],[0.1,\"#c51b7d\"],[0.2,\"#de77ae\"],[0.3,\"#f1b6da\"],[0.4,\"#fde0ef\"],[0.5,\"#f7f7f7\"],[0.6,\"#e6f5d0\"],[0.7,\"#b8e186\"],[0.8,\"#7fbc41\"],[0.9,\"#4d9221\"],[1,\"#276419\"]]},\"xaxis\":{\"gridcolor\":\"white\",\"linecolor\":\"white\",\"ticks\":\"\",\"title\":{\"standoff\":15},\"zerolinecolor\":\"white\",\"automargin\":true,\"zerolinewidth\":2},\"yaxis\":{\"gridcolor\":\"white\",\"linecolor\":\"white\",\"ticks\":\"\",\"title\":{\"standoff\":15},\"zerolinecolor\":\"white\",\"automargin\":true,\"zerolinewidth\":2},\"scene\":{\"xaxis\":{\"backgroundcolor\":\"#E5ECF6\",\"gridcolor\":\"white\",\"linecolor\":\"white\",\"showbackground\":true,\"ticks\":\"\",\"zerolinecolor\":\"white\",\"gridwidth\":2},\"yaxis\":{\"backgroundcolor\":\"#E5ECF6\",\"gridcolor\":\"white\",\"linecolor\":\"white\",\"showbackground\":true,\"ticks\":\"\",\"zerolinecolor\":\"white\",\"gridwidth\":2},\"zaxis\":{\"backgroundcolor\":\"#E5ECF6\",\"gridcolor\":\"white\",\"linecolor\":\"white\",\"showbackground\":true,\"ticks\":\"\",\"zerolinecolor\":\"white\",\"gridwidth\":2}},\"shapedefaults\":{\"line\":{\"color\":\"#2a3f5f\"}},\"annotationdefaults\":{\"arrowcolor\":\"#2a3f5f\",\"arrowhead\":0,\"arrowwidth\":1},\"geo\":{\"bgcolor\":\"white\",\"landcolor\":\"#E5ECF6\",\"subunitcolor\":\"white\",\"showland\":true,\"showlakes\":true,\"lakecolor\":\"white\"},\"title\":{\"x\":0.05},\"mapbox\":{\"style\":\"light\"}}},\"title\":{\"text\":\"Cumulative Patch Preference by Quantile within Session\"},\"xaxis\":{\"title\":{\"text\":\"Quantile\"}},\"yaxis\":{\"title\":{\"text\":\"Easy Patch Preference\"}},\"legend\":{\"title\":{\"text\":\"Session\"}}},                        {\"responsive\": true}                    ).then(function(){\n",
       "                            \n",
       "var gd = document.getElementById('69c8e3ce-0ec2-49f2-8afa-c4e09ff48569');\n",
       "var x = new MutationObserver(function (mutations, observer) {{\n",
       "        var display = window.getComputedStyle(gd).display;\n",
       "        if (!display || display === 'none') {{\n",
       "            console.log([gd, 'removed!']);\n",
       "            Plotly.purge(gd);\n",
       "            observer.disconnect();\n",
       "        }}\n",
       "}});\n",
       "\n",
       "// Listen for the removal of the full notebook cells\n",
       "var notebookContainer = gd.closest('#notebook-container');\n",
       "if (notebookContainer) {{\n",
       "    x.observe(notebookContainer, {childList: true});\n",
       "}}\n",
       "\n",
       "// Listen for the clearing of the current output cell\n",
       "var outputEl = gd.closest('.output');\n",
       "if (outputEl) {{\n",
       "    x.observe(outputEl, {childList: true});\n",
       "}}\n",
       "\n",
       "                        })                };                });            </script>        </div>"
      ]
     },
     "metadata": {},
     "output_type": "display_data"
    }
   ],
   "source": [
    "cum_patch_pref_epoch_session = go.Figure()\n",
    "sesh_subj_counter = DotMap(\n",
    "    {\n",
    "        \"BAA-1103045\": 0,\n",
    "        \"BAA-1103047\": 0,\n",
    "        \"BAA-1103048\": 0,\n",
    "        \"BAA-1103049\": 0,\n",
    "        \"BAA-1103050\": 0,\n",
    "    }\n",
    ")\n",
    "for i in df.index:\n",
    "    uid = df[\"id\"][i]\n",
    "    y = df[\"easy_pref_epoch_cum\"][i]\n",
    "    sesh_subj_counter[uid] += 1\n",
    "    cum_patch_pref_epoch_session.add_trace(\n",
    "        go.Scatter(\n",
    "            y=y,\n",
    "            name=f\"{uid}: {sesh_subj_counter[uid]}\",\n",
    "            mode=\"lines+markers\",\n",
    "            marker={\"size\": mrkr_sz},\n",
    "            line=dict(color=color_dict[uid]),\n",
    "        )\n",
    "    )\n",
    "    zidx = int(df[\"epoch_thresh_change_idx\"][i])\n",
    "    cum_patch_pref_epoch_session.add_trace(\n",
    "        go.Scatter(\n",
    "            x=np.array((zidx, zidx + 1)),\n",
    "            y=y[zidx : zidx + 2],\n",
    "            mode=\"lines+markers\",\n",
    "            marker={\"size\": mrkr_sz},\n",
    "            line=dict(color=\"black\"),\n",
    "            name=f\"{uid}: {sesh_subj_counter[uid]}: thresh change\",\n",
    "        )\n",
    "    )\n",
    "cum_patch_pref_epoch_session.update_layout(\n",
    "    title=\"Cumulative Patch Preference by Quantile within Session\",\n",
    "    xaxis_title=\"Quantile\",\n",
    "    yaxis_title=\"Easy Patch Preference\",\n",
    "    legend_title=\"Session\",\n",
    ")\n",
    "cum_patch_pref_epoch_session.show()"
   ]
  },
  {
   "cell_type": "code",
   "execution_count": 131,
   "id": "a69d1339-ea68-41dd-8964-01199c688896",
   "metadata": {},
   "outputs": [
    {
     "data": {
      "text/plain": [
       "array([1, 2])"
      ]
     },
     "execution_count": 131,
     "metadata": {},
     "output_type": "execute_result"
    }
   ],
   "source": [
    "np.array((zidx, zidx + 1))"
   ]
  },
  {
   "cell_type": "code",
   "execution_count": 124,
   "id": "74d0d943-5f24-48d4-b235-d79db2a06687",
   "metadata": {},
   "outputs": [
    {
     "data": {
      "text/plain": [
       "2.0"
      ]
     },
     "execution_count": 124,
     "metadata": {},
     "output_type": "execute_result"
    }
   ],
   "source": [
    "zidx"
   ]
  },
  {
   "cell_type": "code",
   "execution_count": null,
   "id": "a1b81ab7-166a-4f62-bf75-2d57a36a84ca",
   "metadata": {},
   "outputs": [],
   "source": [
    "import dash\n",
    "from dash import Dash, dash_table, dcc, html\n",
    "\n",
    "bg_col = \"#050505\"\n",
    "txt_col = \"#f2f2f2\"\n",
    "plt_bg_col = \"#0d0d0d\"\n",
    "tab_bg_col = \"#003399\"\n",
    "tab_txt_col = \"#f2f2f2\"\n",
    "table_max_height = \"400px\"\n",
    "table_min_width = \"1200px\"\n",
    "mrkr_sz = 14\n",
    "color_dict = {\n",
    "    \"BAA-1103045\": \"rgb(31, 119, 180)\",\n",
    "    \"BAA-1103047\": \"rgb(255, 127, 14)\",\n",
    "    \"BAA-1103048\": \"rgb(44, 160, 44)\",\n",
    "    \"BAA-1103049\": \"rgb(214, 39, 40)\",\n",
    "    \"BAA-1103050\": \"rgb(148, 103, 189)\",\n",
    "}\n",
    "# Set all relevant app.layout children names (for future color theme updates)\n",
    "fig_names = [\n",
    "    \"weight_enter_session\",\n",
    "    \"weight_diff_session\",\n",
    "    \"weight_enter_subject\",\n",
    "    \"weight_diff_subject\",\n",
    "    \"duration_session\",\n",
    "    \"post_thresh_dur_session\",\n",
    "    \"pre_sampling_both_p_dur_session\",\n",
    "    \"duration_subject\",\n",
    "    \"post_thresh_dur_subject\",\n",
    "    \"pre_sampling_both_p_dur_subject\",\n",
    "    \"hard_patch_session\",\n",
    "    \"hard_patch_subject\",\n",
    "    \"wheel_session_abs\",\n",
    "    \"wheel_session_norm\",\n",
    "    \"wheel_subject_abs\",\n",
    "    \"wheel_subject_norm\",\n",
    "    \"pellet_session_abs\",\n",
    "    \"pellet_session_norm\",\n",
    "    \"pellet_subject_abs\",\n",
    "    \"pellet_subject_norm\",\n",
    "    \"prob_pels_session\",\n",
    "    \"prob_pels_subject\",\n",
    "]\n",
    "tab_names = []"
   ]
  },
  {
   "cell_type": "code",
   "execution_count": null,
   "id": "ba0c652d-6ae7-4de2-af48-0f24cf9c3c8a",
   "metadata": {
    "tags": []
   },
   "outputs": [],
   "source": [
    "\n",
    "\n",
    "data_table = dash_table.DataTable(\n",
    "    id=\"data_table\",\n",
    "    data=df.to_dict(\"records\"),\n",
    "    columns=[{\"name\": i, \"id\": i} for i in df.columns],\n",
    "    style_table={\n",
    "        \"overflowX\": \"auto\",\n",
    "        \"overflowY\": \"auto\",\n",
    "        \"maxHeight\": table_max_height,\n",
    "        \"minWidth\": table_min_width,\n",
    "    },\n",
    "    fixed_columns={\"headers\": True, \"data\": 2},\n",
    "    fixed_rows={\"headers\": True},\n",
    "    style_header={\"fontWeight\": \"bold\", \"backgroundColor\": plt_bg_col},\n",
    "    style_cell={\n",
    "        \"backgroundColor\": plt_bg_col,\n",
    "        \"color\": txt_col,\n",
    "        \"textAlign\": \"left\",\n",
    "        \"whiteSpace\": \"normal\",\n",
    "        \"height\": \"auto\",\n",
    "        \"minWidth\": 60,\n",
    "    },\n",
    ")"
   ]
  },
  {
   "cell_type": "code",
   "execution_count": null,
   "id": "fc4a6d11-e949-4f0d-9778-3bb84fd1b42c",
   "metadata": {
    "tags": []
   },
   "outputs": [],
   "source": [
    "display(data_table)"
   ]
  },
  {
   "cell_type": "code",
   "execution_count": null,
   "id": "9305c03a-69b7-4bf0-b5df-2953d921f92b",
   "metadata": {},
   "outputs": [],
   "source": [
    "import dash"
   ]
  },
  {
   "cell_type": "code",
   "execution_count": null,
   "id": "60948865-c62a-44c6-9e5f-4eac0fdd7dbe",
   "metadata": {},
   "outputs": [],
   "source": [
    "dash"
   ]
  },
  {
   "cell_type": "code",
   "execution_count": null,
   "id": "b9913ea3-d3af-4ff6-a1fa-04c732c35d47",
   "metadata": {},
   "outputs": [],
   "source": [
    "dash.dash"
   ]
  },
  {
   "cell_type": "code",
   "execution_count": null,
   "id": "08c2e257-8396-41fd-a40f-4d20e2f4ce25",
   "metadata": {},
   "outputs": [],
   "source": [
    "from dash.dependencies import Input, Output, State, ClientsideFunction\n"
   ]
  },
  {
   "cell_type": "code",
   "execution_count": null,
   "id": "5105fc7d-6030-4876-b93e-9120688edf77",
   "metadata": {},
   "outputs": [],
   "source": [
    "import seaborn as sns\n"
   ]
  },
  {
   "cell_type": "code",
   "execution_count": null,
   "id": "e487f25d-9a9b-46d3-9828-c7a40b4adeb8",
   "metadata": {},
   "outputs": [],
   "source": [
    "clear dash"
   ]
  },
  {
   "cell_type": "code",
   "execution_count": null,
   "id": "a24073ca-346d-46a8-8087-cd8fcec4ebcd",
   "metadata": {},
   "outputs": [],
   "source": [
    "s = list(sessions.itertuples())[-1]"
   ]
  },
  {
   "cell_type": "code",
   "execution_count": null,
   "id": "4cb2cd90-ed2b-44ef-9353-ebbd5ee0cf83",
   "metadata": {},
   "outputs": [],
   "source": [
    "s"
   ]
  },
  {
   "cell_type": "code",
   "execution_count": null,
   "id": "ef708fd8-0a71-4172-ab5d-505fc116454d",
   "metadata": {},
   "outputs": [],
   "source": [
    "    root = str(roots[0]) if np.any([s.id.endswith(sid) for sid in in_b2_210]) else str(roots[1])  # get root for current session\n",
    "    harp_reader = reader.Harp(pattern=\"Patch1_35\", columns=[\"TriggerPellet\"])\n",
    "    new_pellet_trig_bitmask = api.load(root, harp_reader, start=s.enter, end=s.exit).iloc[0, 0]\n",
    "    new_pellet_trig_reader_p1 = reader.BitmaskEvent(\"Patch1_35\", new_pellet_trig_bitmask, \"TriggerPellet\")\n",
    "    new_pellet_trig_reader_p2 = reader.BitmaskEvent(\"Patch2_35\", new_pellet_trig_bitmask, \"TriggerPellet\")\n",
    "    p1 = api.load(root, new_pellet_trig_reader_p1, start=s.enter, end=s.exit)\n",
    "    p2 = api.load(root, new_pellet_trig_reader_p2, start=s.enter, end=s.exit)"
   ]
  },
  {
   "cell_type": "code",
   "execution_count": null,
   "id": "a0cb5e23-f2fb-4e5a-90f1-8cd5b38b1031",
   "metadata": {},
   "outputs": [],
   "source": []
  }
 ],
 "metadata": {
  "kernelspec": {
   "display_name": "Python 3 (ipyflow)",
   "language": "python",
   "name": "ipyflow"
  },
  "language_info": {
   "codemirror_mode": {
    "name": "ipython",
    "version": 3
   },
   "file_extension": ".py",
   "mimetype": "text/x-python",
   "name": "python",
   "nbconvert_exporter": "python",
   "pygments_lexer": "ipython3",
   "version": "3.9.13"
  }
 },
 "nbformat": 4,
 "nbformat_minor": 5
}
